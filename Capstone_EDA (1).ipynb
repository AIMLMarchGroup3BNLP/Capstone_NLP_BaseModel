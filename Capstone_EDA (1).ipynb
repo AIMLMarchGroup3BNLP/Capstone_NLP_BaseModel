{
 "cells": [
  {
   "cell_type": "code",
   "execution_count": 1,
   "metadata": {
    "colab": {
     "base_uri": "https://localhost:8080/",
     "height": 122
    },
    "colab_type": "code",
    "id": "iak7MPOOT2BS",
    "outputId": "d4665576-b316-401f-df8f-81d58b617541"
   },
   "outputs": [
    {
     "name": "stdout",
     "output_type": "stream",
     "text": [
      "Go to this URL in a browser: https://accounts.google.com/o/oauth2/auth?client_id=947318989803-6bn6qk8qdgf4n4g3pfee6491hc0brc4i.apps.googleusercontent.com&redirect_uri=urn%3aietf%3awg%3aoauth%3a2.0%3aoob&response_type=code&scope=email%20https%3a%2f%2fwww.googleapis.com%2fauth%2fdocs.test%20https%3a%2f%2fwww.googleapis.com%2fauth%2fdrive%20https%3a%2f%2fwww.googleapis.com%2fauth%2fdrive.photos.readonly%20https%3a%2f%2fwww.googleapis.com%2fauth%2fpeopleapi.readonly\n",
      "\n",
      "Enter your authorization code:\n",
      "··········\n",
      "Mounted at /content/drive\n"
     ]
    }
   ],
   "source": [
    "from google.colab import drive\n",
    "drive.mount('/content/drive')"
   ]
  },
  {
   "cell_type": "code",
   "execution_count": 8,
   "metadata": {
    "colab": {},
    "colab_type": "code",
    "id": "x6ZyBsy_T3U_"
   },
   "outputs": [
    {
     "name": "stderr",
     "output_type": "stream",
     "text": [
      "UsageError: Line magic function `%` not found.\n"
     ]
    }
   ],
   "source": [
    "import numpy as np\n",
    "import pandas as pd\n",
    "import seaborn as sns\n",
    "import matplotlib.pyplot as plt\n",
    "% matplotlib inline\n",
    "import nltk\n",
    "import contractions\n",
    "import re"
   ]
  },
  {
   "cell_type": "code",
   "execution_count": 41,
   "metadata": {},
   "outputs": [],
   "source": [
    "df = pd.read_excel('Input_Data_Synthetic.xlsx',encoding='latin-1')"
   ]
  },
  {
   "cell_type": "code",
   "execution_count": 0,
   "metadata": {
    "colab": {},
    "colab_type": "code",
    "id": "LjJ5f8kOW3vf"
   },
   "outputs": [],
   "source": [
    "df = pd.read_excel('/content/drive/My Drive/Capstone Project/Input_Data.xlsx')"
   ]
  },
  {
   "cell_type": "code",
   "execution_count": 0,
   "metadata": {
    "colab": {},
    "colab_type": "code",
    "id": "i3gM5D78WpbP"
   },
   "outputs": [],
   "source": [
    "df.to_csv('/content/drive/My Drive/Capstone Project/Input_Data.csv')"
   ]
  },
  {
   "cell_type": "code",
   "execution_count": 0,
   "metadata": {
    "colab": {},
    "colab_type": "code",
    "id": "4KB421BDWqyZ"
   },
   "outputs": [],
   "source": [
    "df = pd.read_csv('/content/drive/My Drive/Capstone Project/Input_Data.csv',encoding='latin-1')\n",
    "df.drop('Unnamed: 0',inplace=True,axis=1)"
   ]
  },
  {
   "cell_type": "code",
   "execution_count": 26,
   "metadata": {
    "colab": {
     "base_uri": "https://localhost:8080/",
     "height": 204
    },
    "colab_type": "code",
    "id": "K39OY4zLaBeV",
    "outputId": "cac8a022-23c8-4677-9ab9-0d806cf6791c"
   },
   "outputs": [
    {
     "data": {
      "text/html": [
       "<div>\n",
       "<style scoped>\n",
       "    .dataframe tbody tr th:only-of-type {\n",
       "        vertical-align: middle;\n",
       "    }\n",
       "\n",
       "    .dataframe tbody tr th {\n",
       "        vertical-align: top;\n",
       "    }\n",
       "\n",
       "    .dataframe thead th {\n",
       "        text-align: right;\n",
       "    }\n",
       "</style>\n",
       "<table border=\"1\" class=\"dataframe\">\n",
       "  <thead>\n",
       "    <tr style=\"text-align: right;\">\n",
       "      <th></th>\n",
       "      <th>Short description</th>\n",
       "      <th>Description</th>\n",
       "      <th>Caller</th>\n",
       "      <th>Assignment group</th>\n",
       "      <th>Cat_Short_Description</th>\n",
       "      <th>Cat_Description</th>\n",
       "    </tr>\n",
       "  </thead>\n",
       "  <tbody>\n",
       "    <tr>\n",
       "      <td>0</td>\n",
       "      <td>login issue</td>\n",
       "      <td>-verified user details.(employee# &amp; manager na...</td>\n",
       "      <td>spxjnwir pjlcoqds</td>\n",
       "      <td>GRP_0</td>\n",
       "      <td>English</td>\n",
       "      <td>English</td>\n",
       "    </tr>\n",
       "    <tr>\n",
       "      <td>1</td>\n",
       "      <td>outlook</td>\n",
       "      <td>\\r\\n\\r\\nreceived from: hmjdrvpb.komuaywn@gmail...</td>\n",
       "      <td>hmjdrvpb komuaywn</td>\n",
       "      <td>GRP_0</td>\n",
       "      <td>English</td>\n",
       "      <td>English</td>\n",
       "    </tr>\n",
       "    <tr>\n",
       "      <td>2</td>\n",
       "      <td>cant log in to vpn</td>\n",
       "      <td>\\r\\n\\r\\nreceived from: eylqgodm.ybqkwiam@gmail...</td>\n",
       "      <td>eylqgodm ybqkwiam</td>\n",
       "      <td>GRP_0</td>\n",
       "      <td>English</td>\n",
       "      <td>English</td>\n",
       "    </tr>\n",
       "    <tr>\n",
       "      <td>3</td>\n",
       "      <td>unable to access hr_tool page</td>\n",
       "      <td>unable to access hr_tool page</td>\n",
       "      <td>xbkucsvz gcpydteq</td>\n",
       "      <td>GRP_0</td>\n",
       "      <td>English</td>\n",
       "      <td>English</td>\n",
       "    </tr>\n",
       "    <tr>\n",
       "      <td>4</td>\n",
       "      <td>skype error</td>\n",
       "      <td>skype error</td>\n",
       "      <td>owlgqjme qhcozdfx</td>\n",
       "      <td>GRP_0</td>\n",
       "      <td>English</td>\n",
       "      <td>English</td>\n",
       "    </tr>\n",
       "  </tbody>\n",
       "</table>\n",
       "</div>"
      ],
      "text/plain": [
       "               Short description  \\\n",
       "0                    login issue   \n",
       "1                        outlook   \n",
       "2             cant log in to vpn   \n",
       "3  unable to access hr_tool page   \n",
       "4                   skype error    \n",
       "\n",
       "                                         Description             Caller  \\\n",
       "0  -verified user details.(employee# & manager na...  spxjnwir pjlcoqds   \n",
       "1  \\r\\n\\r\\nreceived from: hmjdrvpb.komuaywn@gmail...  hmjdrvpb komuaywn   \n",
       "2  \\r\\n\\r\\nreceived from: eylqgodm.ybqkwiam@gmail...  eylqgodm ybqkwiam   \n",
       "3                      unable to access hr_tool page  xbkucsvz gcpydteq   \n",
       "4                                       skype error   owlgqjme qhcozdfx   \n",
       "\n",
       "  Assignment group Cat_Short_Description Cat_Description  \n",
       "0            GRP_0               English         English  \n",
       "1            GRP_0               English         English  \n",
       "2            GRP_0               English         English  \n",
       "3            GRP_0               English         English  \n",
       "4            GRP_0               English         English  "
      ]
     },
     "execution_count": 26,
     "metadata": {},
     "output_type": "execute_result"
    }
   ],
   "source": [
    "df.head()"
   ]
  },
  {
   "cell_type": "code",
   "execution_count": 7,
   "metadata": {
    "colab": {
     "base_uri": "https://localhost:8080/",
     "height": 221
    },
    "colab_type": "code",
    "id": "qr-9GU--aIid",
    "outputId": "1ead7bb4-09a7-4681-a1ec-efd24a050002"
   },
   "outputs": [
    {
     "name": "stdout",
     "output_type": "stream",
     "text": [
      "(8500, 4)\n",
      "34000\n",
      "<class 'pandas.core.frame.DataFrame'>\n",
      "RangeIndex: 8500 entries, 0 to 8499\n",
      "Data columns (total 4 columns):\n",
      "Short description    8492 non-null object\n",
      "Description          8499 non-null object\n",
      "Caller               8500 non-null object\n",
      "Assignment group     8500 non-null object\n",
      "dtypes: object(4)\n",
      "memory usage: 265.8+ KB\n",
      "None\n"
     ]
    }
   ],
   "source": [
    "print(df.shape)\n",
    "print(df.size)\n",
    "print(df.info())"
   ]
  },
  {
   "cell_type": "code",
   "execution_count": 8,
   "metadata": {
    "colab": {
     "base_uri": "https://localhost:8080/",
     "height": 68
    },
    "colab_type": "code",
    "id": "hhUAan0FcQ14",
    "outputId": "23e29f52-b8f4-4093-a066-f87e2f90f938"
   },
   "outputs": [
    {
     "name": "stdout",
     "output_type": "stream",
     "text": [
      "8500\n",
      "7482\n"
     ]
    },
    {
     "data": {
      "text/plain": [
       "7482"
      ]
     },
     "execution_count": 8,
     "metadata": {
      "tags": []
     },
     "output_type": "execute_result"
    }
   ],
   "source": [
    "print(len(df['Short description']))\n",
    "print(len(set(df['Short description'])))\n",
    "len(df['Short description'].unique())"
   ]
  },
  {
   "cell_type": "code",
   "execution_count": 9,
   "metadata": {
    "colab": {
     "base_uri": "https://localhost:8080/",
     "height": 68
    },
    "colab_type": "code",
    "id": "3ST_7Rf7ey2f",
    "outputId": "b081db6f-963b-4533-a076-0d1df22e4cff"
   },
   "outputs": [
    {
     "name": "stdout",
     "output_type": "stream",
     "text": [
      "8500\n",
      "7818\n"
     ]
    },
    {
     "data": {
      "text/plain": [
       "7818"
      ]
     },
     "execution_count": 9,
     "metadata": {
      "tags": []
     },
     "output_type": "execute_result"
    }
   ],
   "source": [
    "print(len(df['Description']))\n",
    "print(len(set(df['Description'])))\n",
    "len(df['Description'].unique())"
   ]
  },
  {
   "cell_type": "code",
   "execution_count": 10,
   "metadata": {
    "colab": {
     "base_uri": "https://localhost:8080/",
     "height": 68
    },
    "colab_type": "code",
    "id": "D-DDLI3Shqsk",
    "outputId": "af55c94f-6b8a-4b9a-d4c0-fa19a9de079a"
   },
   "outputs": [
    {
     "name": "stdout",
     "output_type": "stream",
     "text": [
      "8500\n",
      "2950\n"
     ]
    },
    {
     "data": {
      "text/plain": [
       "2950"
      ]
     },
     "execution_count": 10,
     "metadata": {
      "tags": []
     },
     "output_type": "execute_result"
    }
   ],
   "source": [
    "print(len(df['Caller']))\n",
    "print(len(set(df['Caller'])))\n",
    "len(df['Caller'].unique())"
   ]
  },
  {
   "cell_type": "code",
   "execution_count": 11,
   "metadata": {
    "colab": {
     "base_uri": "https://localhost:8080/",
     "height": 187
    },
    "colab_type": "code",
    "id": "4rL2KticfFyI",
    "outputId": "fdf675d8-1338-4b68-a008-445889be726c"
   },
   "outputs": [
    {
     "name": "stdout",
     "output_type": "stream",
     "text": [
      "['GRP_0' 'GRP_1' 'GRP_3' 'GRP_4' 'GRP_5' 'GRP_6' 'GRP_7' 'GRP_8' 'GRP_9'\n",
      " 'GRP_10' 'GRP_11' 'GRP_12' 'GRP_13' 'GRP_14' 'GRP_15' 'GRP_16' 'GRP_17'\n",
      " 'GRP_18' 'GRP_19' 'GRP_2' 'GRP_20' 'GRP_21' 'GRP_22' 'GRP_23' 'GRP_24'\n",
      " 'GRP_25' 'GRP_26' 'GRP_27' 'GRP_28' 'GRP_29' 'GRP_30' 'GRP_31' 'GRP_33'\n",
      " 'GRP_34' 'GRP_35' 'GRP_36' 'GRP_37' 'GRP_38' 'GRP_39' 'GRP_40' 'GRP_41'\n",
      " 'GRP_42' 'GRP_43' 'GRP_44' 'GRP_45' 'GRP_46' 'GRP_47' 'GRP_48' 'GRP_49'\n",
      " 'GRP_50' 'GRP_51' 'GRP_52' 'GRP_53' 'GRP_54' 'GRP_55' 'GRP_56' 'GRP_57'\n",
      " 'GRP_58' 'GRP_59' 'GRP_60' 'GRP_61' 'GRP_32' 'GRP_62' 'GRP_63' 'GRP_64'\n",
      " 'GRP_65' 'GRP_66' 'GRP_67' 'GRP_68' 'GRP_69' 'GRP_70' 'GRP_71' 'GRP_72'\n",
      " 'GRP_73']\n"
     ]
    }
   ],
   "source": [
    "unique_group = df['Assignment group'].unique()\n",
    "print(unique_group)"
   ]
  },
  {
   "cell_type": "code",
   "execution_count": 12,
   "metadata": {
    "colab": {
     "base_uri": "https://localhost:8080/",
     "height": 51
    },
    "colab_type": "code",
    "id": "mC5NDDXMUEPY",
    "outputId": "b315d586-219e-4ce0-c38e-5f963e749809"
   },
   "outputs": [
    {
     "data": {
      "text/plain": [
       "0    74\n",
       "dtype: int64"
      ]
     },
     "execution_count": 12,
     "metadata": {
      "tags": []
     },
     "output_type": "execute_result"
    }
   ],
   "source": [
    "unique_group = pd.DataFrame(unique_group)\n",
    "unique_group.count()"
   ]
  },
  {
   "cell_type": "code",
   "execution_count": 0,
   "metadata": {
    "colab": {},
    "colab_type": "code",
    "id": "grnAwDAch-X-"
   },
   "outputs": [],
   "source": [
    "null_value = (df.isna().sum()/df.count().round(2))*100"
   ]
  },
  {
   "cell_type": "code",
   "execution_count": 14,
   "metadata": {
    "colab": {
     "base_uri": "https://localhost:8080/",
     "height": 394
    },
    "colab_type": "code",
    "id": "xktd515LjgEv",
    "outputId": "bddea7ee-9aa1-42fb-f927-9d374a209d7b"
   },
   "outputs": [
    {
     "data": {
      "text/plain": [
       "Text(0.5, 0, 'Table Features')"
      ]
     },
     "execution_count": 14,
     "metadata": {
      "tags": []
     },
     "output_type": "execute_result"
    },
    {
     "data": {
      "image/png": "[encoded data removed]",
      "text/plain": [
       "<Figure size 432x288 with 1 Axes>"
      ]
     },
     "metadata": {
      "tags": []
     },
     "output_type": "display_data"
    }
   ],
   "source": [
    "null_value.plot(kind='bar')\n",
    "plt.title('% of Null Values')\n",
    "plt.ylabel('%')\n",
    "plt.xlabel('Table Features')"
   ]
  },
  {
   "cell_type": "code",
   "execution_count": 0,
   "metadata": {
    "colab": {},
    "colab_type": "code",
    "id": "enVce4fOkjH_"
   },
   "outputs": [],
   "source": [
    "group_freq = df.groupby(df['Assignment group'])['Assignment group'].count().sort_values(ascending=False)\n",
    "group_freq = pd.DataFrame(group_freq)"
   ]
  },
  {
   "cell_type": "code",
   "execution_count": 16,
   "metadata": {
    "colab": {
     "base_uri": "https://localhost:8080/",
     "height": 450
    },
    "colab_type": "code",
    "id": "Z_JCB6PtG_wH",
    "outputId": "bc63ae12-d35e-4d9e-d1d1-ff05ca0ce4c8"
   },
   "outputs": [
    {
     "data": {
      "text/html": [
       "<div>\n",
       "<style scoped>\n",
       "    .dataframe tbody tr th:only-of-type {\n",
       "        vertical-align: middle;\n",
       "    }\n",
       "\n",
       "    .dataframe tbody tr th {\n",
       "        vertical-align: top;\n",
       "    }\n",
       "\n",
       "    .dataframe thead th {\n",
       "        text-align: right;\n",
       "    }\n",
       "</style>\n",
       "<table border=\"1\" class=\"dataframe\">\n",
       "  <thead>\n",
       "    <tr style=\"text-align: right;\">\n",
       "      <th></th>\n",
       "      <th>Assignment group</th>\n",
       "    </tr>\n",
       "    <tr>\n",
       "      <th>Assignment group</th>\n",
       "      <th></th>\n",
       "    </tr>\n",
       "  </thead>\n",
       "  <tbody>\n",
       "    <tr>\n",
       "      <th>GRP_0</th>\n",
       "      <td>3976</td>\n",
       "    </tr>\n",
       "    <tr>\n",
       "      <th>GRP_8</th>\n",
       "      <td>661</td>\n",
       "    </tr>\n",
       "    <tr>\n",
       "      <th>GRP_24</th>\n",
       "      <td>289</td>\n",
       "    </tr>\n",
       "    <tr>\n",
       "      <th>GRP_12</th>\n",
       "      <td>257</td>\n",
       "    </tr>\n",
       "    <tr>\n",
       "      <th>GRP_9</th>\n",
       "      <td>252</td>\n",
       "    </tr>\n",
       "    <tr>\n",
       "      <th>...</th>\n",
       "      <td>...</td>\n",
       "    </tr>\n",
       "    <tr>\n",
       "      <th>GRP_67</th>\n",
       "      <td>1</td>\n",
       "    </tr>\n",
       "    <tr>\n",
       "      <th>GRP_61</th>\n",
       "      <td>1</td>\n",
       "    </tr>\n",
       "    <tr>\n",
       "      <th>GRP_73</th>\n",
       "      <td>1</td>\n",
       "    </tr>\n",
       "    <tr>\n",
       "      <th>GRP_35</th>\n",
       "      <td>1</td>\n",
       "    </tr>\n",
       "    <tr>\n",
       "      <th>GRP_70</th>\n",
       "      <td>1</td>\n",
       "    </tr>\n",
       "  </tbody>\n",
       "</table>\n",
       "<p>74 rows × 1 columns</p>\n",
       "</div>"
      ],
      "text/plain": [
       "                  Assignment group\n",
       "Assignment group                  \n",
       "GRP_0                         3976\n",
       "GRP_8                          661\n",
       "GRP_24                         289\n",
       "GRP_12                         257\n",
       "GRP_9                          252\n",
       "...                            ...\n",
       "GRP_67                           1\n",
       "GRP_61                           1\n",
       "GRP_73                           1\n",
       "GRP_35                           1\n",
       "GRP_70                           1\n",
       "\n",
       "[74 rows x 1 columns]"
      ]
     },
     "execution_count": 16,
     "metadata": {
      "tags": []
     },
     "output_type": "execute_result"
    }
   ],
   "source": [
    "group_freq"
   ]
  },
  {
   "cell_type": "code",
   "execution_count": 0,
   "metadata": {
    "colab": {},
    "colab_type": "code",
    "id": "Q9kma0ECGYze"
   },
   "outputs": [],
   "source": [
    "group_freq[\"cumpercentage\"] = group_freq[\"Assignment group\"].cumsum()/group_freq[\"Assignment group\"].sum()*100"
   ]
  },
  {
   "cell_type": "code",
   "execution_count": 0,
   "metadata": {
    "colab": {},
    "colab_type": "code",
    "id": "p0Mk4EfCHaYg"
   },
   "outputs": [],
   "source": [
    "from matplotlib.ticker import PercentFormatter"
   ]
  },
  {
   "cell_type": "code",
   "execution_count": 19,
   "metadata": {
    "colab": {
     "base_uri": "https://localhost:8080/",
     "height": 616
    },
    "colab_type": "code",
    "id": "kTD8-MN2HFo3",
    "outputId": "1a77212d-25e3-4310-e8c4-962166a3c9ab"
   },
   "outputs": [
    {
     "data": {
      "image/png": "[encoded data removed]",
      "text/plain": [
       "<Figure size 1296x720 with 2 Axes>"
      ]
     },
     "metadata": {
      "tags": []
     },
     "output_type": "display_data"
    }
   ],
   "source": [
    "fig, ax = plt.subplots(figsize=(18,10))\n",
    "plt.xticks(rotation='vertical')\n",
    "plt.tick_params(labelsize=9)\n",
    "#import matplotlib \n",
    "#matplotlib.rc('xtick', labelsize=10) \n",
    "#matplotlib.rc('ytick', labelsize=10) \n",
    "ax.bar(group_freq.index, group_freq[\"Assignment group\"], color=\"C0\")\n",
    "ax2 = ax.twinx()\n",
    "ax2.plot(group_freq.index, group_freq[\"cumpercentage\"], color=\"C1\", marker=\"D\", ms=5)\n",
    "ax2.yaxis.set_major_formatter(PercentFormatter())\n",
    "\n",
    "ax.tick_params(axis=\"y\", colors=\"C0\")\n",
    "ax2.tick_params(axis=\"y\", colors=\"C1\")\n",
    "\n",
    "plt.show()"
   ]
  },
  {
   "cell_type": "code",
   "execution_count": 20,
   "metadata": {
    "colab": {
     "base_uri": "https://localhost:8080/",
     "height": 51
    },
    "colab_type": "code",
    "id": "r6nWj2svfQ4j",
    "outputId": "5a6269da-4548-4314-92fe-dcce41ddfb7b"
   },
   "outputs": [
    {
     "data": {
      "text/plain": [
       "0    2950\n",
       "dtype: int64"
      ]
     },
     "execution_count": 20,
     "metadata": {
      "tags": []
     },
     "output_type": "execute_result"
    }
   ],
   "source": [
    "a = df['Caller'].unique()\n",
    "a = pd.DataFrame(a)\n",
    "a.count()"
   ]
  },
  {
   "cell_type": "code",
   "execution_count": 0,
   "metadata": {
    "colab": {},
    "colab_type": "code",
    "id": "kk9oqgFZjVCN"
   },
   "outputs": [],
   "source": [
    "caller_freq = df.groupby(df['Caller'])['Caller'].count().sort_values(ascending=False)\n",
    "caller_freq = pd.DataFrame(caller_freq)\n",
    "caller_freq[\"cumpercentage\"] = (caller_freq[\"Caller\"].cumsum()/caller_freq[\"Caller\"].sum()*100).round(2)"
   ]
  },
  {
   "cell_type": "code",
   "execution_count": 22,
   "metadata": {
    "colab": {
     "base_uri": "https://localhost:8080/",
     "height": 450
    },
    "colab_type": "code",
    "id": "fjtL7g9cRrdG",
    "outputId": "de8f9c62-49da-4ab2-8eb3-718a7d107f2a"
   },
   "outputs": [
    {
     "data": {
      "text/html": [
       "<div>\n",
       "<style scoped>\n",
       "    .dataframe tbody tr th:only-of-type {\n",
       "        vertical-align: middle;\n",
       "    }\n",
       "\n",
       "    .dataframe tbody tr th {\n",
       "        vertical-align: top;\n",
       "    }\n",
       "\n",
       "    .dataframe thead th {\n",
       "        text-align: right;\n",
       "    }\n",
       "</style>\n",
       "<table border=\"1\" class=\"dataframe\">\n",
       "  <thead>\n",
       "    <tr style=\"text-align: right;\">\n",
       "      <th></th>\n",
       "      <th>Caller</th>\n",
       "      <th>cumpercentage</th>\n",
       "    </tr>\n",
       "    <tr>\n",
       "      <th>Caller</th>\n",
       "      <th></th>\n",
       "      <th></th>\n",
       "    </tr>\n",
       "  </thead>\n",
       "  <tbody>\n",
       "    <tr>\n",
       "      <th>bpctwhsn kzqsbmtp</th>\n",
       "      <td>810</td>\n",
       "      <td>9.53</td>\n",
       "    </tr>\n",
       "    <tr>\n",
       "      <th>ZkBogxib QsEJzdZO</th>\n",
       "      <td>151</td>\n",
       "      <td>11.31</td>\n",
       "    </tr>\n",
       "    <tr>\n",
       "      <th>fumkcsji sarmtlhy</th>\n",
       "      <td>134</td>\n",
       "      <td>12.88</td>\n",
       "    </tr>\n",
       "    <tr>\n",
       "      <th>rbozivdq gmlhrtvp</th>\n",
       "      <td>87</td>\n",
       "      <td>13.91</td>\n",
       "    </tr>\n",
       "    <tr>\n",
       "      <th>rkupnshb gsmzfojw</th>\n",
       "      <td>71</td>\n",
       "      <td>14.74</td>\n",
       "    </tr>\n",
       "    <tr>\n",
       "      <th>...</th>\n",
       "      <td>...</td>\n",
       "      <td>...</td>\n",
       "    </tr>\n",
       "    <tr>\n",
       "      <th>dcsaiweo qvstjlem</th>\n",
       "      <td>1</td>\n",
       "      <td>88.78</td>\n",
       "    </tr>\n",
       "    <tr>\n",
       "      <th>xwyrvcbj bmqfszjg</th>\n",
       "      <td>1</td>\n",
       "      <td>88.79</td>\n",
       "    </tr>\n",
       "    <tr>\n",
       "      <th>xwlcqfsr lbcqfnie</th>\n",
       "      <td>1</td>\n",
       "      <td>88.80</td>\n",
       "    </tr>\n",
       "    <tr>\n",
       "      <th>dcxjngaf zquoewhp</th>\n",
       "      <td>1</td>\n",
       "      <td>88.81</td>\n",
       "    </tr>\n",
       "    <tr>\n",
       "      <th>deqmzotr zhrjngbi</th>\n",
       "      <td>1</td>\n",
       "      <td>88.82</td>\n",
       "    </tr>\n",
       "  </tbody>\n",
       "</table>\n",
       "<p>2000 rows × 2 columns</p>\n",
       "</div>"
      ],
      "text/plain": [
       "                   Caller  cumpercentage\n",
       "Caller                                  \n",
       "bpctwhsn kzqsbmtp     810           9.53\n",
       "ZkBogxib QsEJzdZO     151          11.31\n",
       "fumkcsji sarmtlhy     134          12.88\n",
       "rbozivdq gmlhrtvp      87          13.91\n",
       "rkupnshb gsmzfojw      71          14.74\n",
       "...                   ...            ...\n",
       "dcsaiweo qvstjlem       1          88.78\n",
       "xwyrvcbj bmqfszjg       1          88.79\n",
       "xwlcqfsr lbcqfnie       1          88.80\n",
       "dcxjngaf zquoewhp       1          88.81\n",
       "deqmzotr zhrjngbi       1          88.82\n",
       "\n",
       "[2000 rows x 2 columns]"
      ]
     },
     "execution_count": 22,
     "metadata": {
      "tags": []
     },
     "output_type": "execute_result"
    }
   ],
   "source": [
    "caller_freq.head(2000)"
   ]
  },
  {
   "cell_type": "code",
   "execution_count": 0,
   "metadata": {
    "colab": {},
    "colab_type": "code",
    "id": "7LdvsKi_YKkJ"
   },
   "outputs": [],
   "source": [
    "df['Description'] = df['Description'].astype(str)\n",
    "df['Short description'] = df['Short description'].astype(str)\n",
    "df['Caller'] = df['Caller'].astype(str)"
   ]
  },
  {
   "cell_type": "code",
   "execution_count": 24,
   "metadata": {
    "colab": {
     "base_uri": "https://localhost:8080/",
     "height": 204
    },
    "colab_type": "code",
    "id": "yc6B_zNaYM4l",
    "outputId": "d3cdbecd-3929-4a1b-eb63-9961843f6bbe"
   },
   "outputs": [
    {
     "data": {
      "text/html": [
       "<div>\n",
       "<style scoped>\n",
       "    .dataframe tbody tr th:only-of-type {\n",
       "        vertical-align: middle;\n",
       "    }\n",
       "\n",
       "    .dataframe tbody tr th {\n",
       "        vertical-align: top;\n",
       "    }\n",
       "\n",
       "    .dataframe thead th {\n",
       "        text-align: right;\n",
       "    }\n",
       "</style>\n",
       "<table border=\"1\" class=\"dataframe\">\n",
       "  <thead>\n",
       "    <tr style=\"text-align: right;\">\n",
       "      <th></th>\n",
       "      <th>Short description</th>\n",
       "      <th>Description</th>\n",
       "      <th>Caller</th>\n",
       "      <th>Assignment group</th>\n",
       "      <th>Desc_word_count</th>\n",
       "      <th>Short_desc_word_count</th>\n",
       "    </tr>\n",
       "  </thead>\n",
       "  <tbody>\n",
       "    <tr>\n",
       "      <th>0</th>\n",
       "      <td>login issue</td>\n",
       "      <td>-verified user details.(employee# &amp; manager na...</td>\n",
       "      <td>spxjnwir pjlcoqds</td>\n",
       "      <td>GRP_0</td>\n",
       "      <td>33</td>\n",
       "      <td>2</td>\n",
       "    </tr>\n",
       "    <tr>\n",
       "      <th>1</th>\n",
       "      <td>outlook</td>\n",
       "      <td>\\r\\n\\r\\nreceived from: hmjdrvpb.komuaywn@gmail...</td>\n",
       "      <td>hmjdrvpb komuaywn</td>\n",
       "      <td>GRP_0</td>\n",
       "      <td>25</td>\n",
       "      <td>1</td>\n",
       "    </tr>\n",
       "    <tr>\n",
       "      <th>2</th>\n",
       "      <td>cant log in to vpn</td>\n",
       "      <td>\\r\\n\\r\\nreceived from: eylqgodm.ybqkwiam@gmail...</td>\n",
       "      <td>eylqgodm ybqkwiam</td>\n",
       "      <td>GRP_0</td>\n",
       "      <td>11</td>\n",
       "      <td>5</td>\n",
       "    </tr>\n",
       "    <tr>\n",
       "      <th>3</th>\n",
       "      <td>unable to access hr_tool page</td>\n",
       "      <td>unable to access hr_tool page</td>\n",
       "      <td>xbkucsvz gcpydteq</td>\n",
       "      <td>GRP_0</td>\n",
       "      <td>5</td>\n",
       "      <td>5</td>\n",
       "    </tr>\n",
       "    <tr>\n",
       "      <th>4</th>\n",
       "      <td>skype error</td>\n",
       "      <td>skype error</td>\n",
       "      <td>owlgqjme qhcozdfx</td>\n",
       "      <td>GRP_0</td>\n",
       "      <td>2</td>\n",
       "      <td>2</td>\n",
       "    </tr>\n",
       "  </tbody>\n",
       "</table>\n",
       "</div>"
      ],
      "text/plain": [
       "               Short description  ... Short_desc_word_count\n",
       "0                    login issue  ...                     2\n",
       "1                        outlook  ...                     1\n",
       "2             cant log in to vpn  ...                     5\n",
       "3  unable to access hr_tool page  ...                     5\n",
       "4                   skype error   ...                     2\n",
       "\n",
       "[5 rows x 6 columns]"
      ]
     },
     "execution_count": 24,
     "metadata": {
      "tags": []
     },
     "output_type": "execute_result"
    }
   ],
   "source": [
    "df['Desc_word_count'] = df['Description'].str.split().map(len)\n",
    "df['Short_desc_word_count'] = df['Short description'].str.split().map(len)\n",
    "df.head()"
   ]
  },
  {
   "cell_type": "code",
   "execution_count": 25,
   "metadata": {
    "colab": {
     "base_uri": "https://localhost:8080/",
     "height": 170
    },
    "colab_type": "code",
    "id": "AHcdXdDwYQAC",
    "outputId": "f8c7edc8-b880-421f-a3ad-6848e0eeea87"
   },
   "outputs": [
    {
     "data": {
      "text/plain": [
       "count    8500.000000\n",
       "mean       27.300588\n",
       "std        65.045347\n",
       "min         0.000000\n",
       "25%         6.000000\n",
       "50%        11.000000\n",
       "75%        28.000000\n",
       "max      1625.000000\n",
       "Name: Desc_word_count, dtype: float64"
      ]
     },
     "execution_count": 25,
     "metadata": {
      "tags": []
     },
     "output_type": "execute_result"
    }
   ],
   "source": [
    "df['Desc_word_count'].describe()"
   ]
  },
  {
   "cell_type": "code",
   "execution_count": 26,
   "metadata": {
    "colab": {
     "base_uri": "https://localhost:8080/",
     "height": 170
    },
    "colab_type": "code",
    "id": "O0ipR30uYTHY",
    "outputId": "a96fdb2f-be12-4043-9825-dcc597932561"
   },
   "outputs": [
    {
     "data": {
      "text/plain": [
       "count    8500.000000\n",
       "mean        6.934471\n",
       "std         4.117559\n",
       "min         1.000000\n",
       "25%         4.000000\n",
       "50%         6.000000\n",
       "75%         9.000000\n",
       "max        28.000000\n",
       "Name: Short_desc_word_count, dtype: float64"
      ]
     },
     "execution_count": 26,
     "metadata": {
      "tags": []
     },
     "output_type": "execute_result"
    }
   ],
   "source": [
    "df['Short_desc_word_count'].describe()"
   ]
  },
  {
   "cell_type": "code",
   "execution_count": 27,
   "metadata": {
    "colab": {
     "base_uri": "https://localhost:8080/",
     "height": 102
    },
    "colab_type": "code",
    "id": "yz9V2gMcW579",
    "outputId": "893d87ac-a2ff-4dd6-e6d3-24107b773f93"
   },
   "outputs": [
    {
     "name": "stdout",
     "output_type": "stream",
     "text": [
      "[nltk_data] Downloading package stopwords to /root/nltk_data...\n",
      "[nltk_data]   Unzipping corpora/stopwords.zip.\n",
      "[nltk_data] Downloading package punkt to /root/nltk_data...\n",
      "[nltk_data]   Unzipping tokenizers/punkt.zip.\n"
     ]
    },
    {
     "data": {
      "text/plain": [
       "True"
      ]
     },
     "execution_count": 27,
     "metadata": {
      "tags": []
     },
     "output_type": "execute_result"
    }
   ],
   "source": [
    "from nltk.corpus import stopwords\n",
    "from nltk.tokenize import word_tokenize\n",
    "nltk.download('stopwords')\n",
    "nltk.download('punkt')"
   ]
  },
  {
   "cell_type": "code",
   "execution_count": 0,
   "metadata": {
    "colab": {},
    "colab_type": "code",
    "id": "SZz1LF6eW6ZD"
   },
   "outputs": [],
   "source": [
    "stop_words = set(stopwords.words('english'))#stop words stored in 'a'"
   ]
  },
  {
   "cell_type": "code",
   "execution_count": 0,
   "metadata": {
    "colab": {},
    "colab_type": "code",
    "id": "Pw2LOka2W6Wx"
   },
   "outputs": [],
   "source": [
    "df['Desc_no_stp_wrd'] = df['Description'].apply(lambda x: len([x for x in x.split() if x in stop_words]))\n",
    "df['Short_no_stp_wrd'] = df['Short description'].apply(lambda x: len([x for x in x.split() if x in stop_words]))\n",
    "df['Desc_no_dgt'] = df['Description'].apply(lambda x: len([x for x in x if x.isdigit()]))\n",
    "df['Shrt_Desc_no_dgt'] = df['Short description'].apply(lambda x: len([x for x in x if x.isdigit()]))"
   ]
  },
  {
   "cell_type": "code",
   "execution_count": 34,
   "metadata": {
    "colab": {
     "base_uri": "https://localhost:8080/",
     "height": 119
    },
    "colab_type": "code",
    "id": "eNQvrJ94W55G",
    "outputId": "37212922-923f-43d3-93f2-37f1d702b85d"
   },
   "outputs": [
    {
     "name": "stdout",
     "output_type": "stream",
     "text": [
      "232055\n",
      "58943\n",
      "115672\n",
      "28483\n",
      "60725\n",
      "13159\n"
     ]
    }
   ],
   "source": [
    "print(df['Desc_word_count'].sum())\n",
    "print(df['Short_desc_word_count'].sum())\n",
    "\n",
    "print(df['Desc_no_dgt'].sum())\n",
    "print(df['Shrt_Desc_no_dgt'].sum())\n",
    "\n",
    "print(df['Desc_no_stp_wrd'].sum())\n",
    "print(df['Short_no_stp_wrd'].sum())\n"
   ]
  },
  {
   "cell_type": "code",
   "execution_count": 0,
   "metadata": {
    "colab": {},
    "colab_type": "code",
    "id": "LxXMKhQh_Wkk"
   },
   "outputs": [],
   "source": [
    "import re"
   ]
  },
  {
   "cell_type": "code",
   "execution_count": 0,
   "metadata": {
    "colab": {},
    "colab_type": "code",
    "id": "GD7ya7kVnkRh"
   },
   "outputs": [],
   "source": [
    "df1.drop(['Desc_word_count','Short_desc_word_count','Desc_no_stp_wrd','Short_no_stp_wrd','Desc_no_dgt','Shrt_Desc_no_dgt'],axis=1,inplace=True)"
   ]
  },
  {
   "cell_type": "code",
   "execution_count": 0,
   "metadata": {
    "colab": {},
    "colab_type": "code",
    "id": "JiXHeweqFyjP"
   },
   "outputs": [],
   "source": [
    "df1['Description'] = df1['Description'].astype(str)\n",
    "df1['Short description'] = df1['Short description'].astype(str)\n",
    "df1['Caller'] = df1['Caller'].astype(str)"
   ]
  },
  {
   "cell_type": "code",
   "execution_count": 41,
   "metadata": {
    "colab": {
     "base_uri": "https://localhost:8080/",
     "height": 170
    },
    "colab_type": "code",
    "id": "7y24U0p3GPNk",
    "outputId": "cd3348d8-e162-4ff7-cdfe-2decd93b01e4"
   },
   "outputs": [
    {
     "name": "stdout",
     "output_type": "stream",
     "text": [
      "<class 'pandas.core.frame.DataFrame'>\n",
      "RangeIndex: 8500 entries, 0 to 8499\n",
      "Data columns (total 4 columns):\n",
      "Short description    8500 non-null object\n",
      "Description          8500 non-null object\n",
      "Caller               8500 non-null object\n",
      "Assignment group     8500 non-null object\n",
      "dtypes: object(4)\n",
      "memory usage: 265.8+ KB\n"
     ]
    }
   ],
   "source": [
    "df1.info()"
   ]
  },
  {
   "cell_type": "code",
   "execution_count": 42,
   "metadata": {
    "colab": {
     "base_uri": "https://localhost:8080/",
     "height": 34
    },
    "colab_type": "code",
    "id": "hqWdHjWUwFul",
    "outputId": "7700e01d-8a00-4044-91ce-f300d463ab4a"
   },
   "outputs": [
    {
     "data": {
      "text/plain": [
       "'an mehreren pc`s lassen sich verschiedene prgramdntyme nicht Ã\\x83Â¶ffnen. bereich cnc.'"
      ]
     },
     "execution_count": 42,
     "metadata": {
      "tags": []
     },
     "output_type": "execute_result"
    }
   ],
   "source": [
    "df1['Description'][8499]"
   ]
  },
  {
   "cell_type": "code",
   "execution_count": 0,
   "metadata": {
    "colab": {},
    "colab_type": "code",
    "id": "bmbM7UYQHWQ6"
   },
   "outputs": [],
   "source": [
    "# df1['Description'] = df1['Description'].apply(lambda x: re.sub(r\"\\W\", ' ', x)) # Removed all punctuations or non word characters marks\n",
    "# df1['Description'] = df1['Description'].apply(lambda x: x.lower()) #Converted to lower case\n",
    "# df1['Description'] = df1['Description'].apply(lambda x: re.sub(r'\\s+[a-z]\\s+', ' ', x)) # Removed all single characters\n",
    "# df1['Description'] = df1['Description'].apply(lambda x: re.sub(r\"^[a-z]\\s+\", ' ', x)) # Removed all single characters from start of the sentence\n",
    "# df1['Description'] = df1['Description'].apply(lambda x: re.sub(r\"[!';:@#$%^&*()~?<>,\\.:+-=`\"\"'\\'_]\", ' ', x)) # Removed all the special characters\n",
    "# df1['Description'] = df1['Description'].apply(lambda x: re.sub(r\"\\s+\", ' ', x))# Removed extra (one or more) spaces\n",
    "# df1['Description'] = df1['Description'].apply(lambda x: re.sub(r\"\\d\", '', x)) # Removed digits\n",
    "# df1['Description'] = df1['Description'].apply(lambda x: re.sub(r\"\\s+[a-zA-Z]\\s+\", '', x))\n",
    "# df1['Description'] = df1['Description'].apply(lambda x: re.sub(r\"^\\s\", '', x)) # Removed all the space at starta and end of sentences\n",
    "# df1['Description'] = df1['Description'].apply(lambda x: re.sub(r\"\\s$\", '', x)) ## Removed all the space at starta and end of sentences\n",
    "# df1['Description'] = df1['Description'].apply(lambda x: re.sub(\"([^\\x00-\\x7F])+\", '', x))"
   ]
  },
  {
   "cell_type": "code",
   "execution_count": 44,
   "metadata": {
    "colab": {
     "base_uri": "https://localhost:8080/",
     "height": 34
    },
    "colab_type": "code",
    "id": "V_SlB16DwJMq",
    "outputId": "a1a61a84-64ac-4f7a-8755-af60bc2807a1"
   },
   "outputs": [
    {
     "data": {
      "text/plain": [
       "'an mehreren pc lassen sich verschiedene prgramdntyme nicht   ffnen bereich cnc'"
      ]
     },
     "execution_count": 44,
     "metadata": {
      "tags": []
     },
     "output_type": "execute_result"
    }
   ],
   "source": [
    "df1['Description'][8499]"
   ]
  },
  {
   "cell_type": "code",
   "execution_count": 0,
   "metadata": {
    "colab": {},
    "colab_type": "code",
    "id": "J1t_KXakZlu3"
   },
   "outputs": [],
   "source": [
    "# df1['Description'] = df1['Description'].apply(lambda x: re.sub(r\"that's\",\"that is\",x))\n",
    "# df1['Description'] = df1['Description'].apply(lambda x: re.sub(r\"there's\",\"there is\",x))\n",
    "# df1['Description'] = df1['Description'].apply(lambda x: re.sub(r\"what's\",\"what is\",x))\n",
    "# df1['Description'] = df1['Description'].apply(lambda x: re.sub(r\"where's\",\"where is\",x))\n",
    "# df1['Description'] = df1['Description'].apply(lambda x: re.sub(r\"it's\",\"it is\",x))\n",
    "# df1['Description'] = df1['Description'].apply(lambda x: re.sub(r\"who's\",\"who is\",x))\n",
    "# df1['Description'] = df1['Description'].apply(lambda x: re.sub(r\"i'm\",\"i am\",x))\n",
    "# df1['Description'] = df1['Description'].apply(lambda x: re.sub(r\"she's\",\"she is\",x))\n",
    "# df1['Description'] = df1['Description'].apply(lambda x: re.sub(r\"he's\",\"he is\",x))\n",
    "# df1['Description'] = df1['Description'].apply(lambda x: re.sub(r\"they're\",\"they are\",x))\n",
    "# df1['Description'] = df1['Description'].apply(lambda x: re.sub(r\"who're\",\"who are\", x))\n",
    "# df1['Description'] = df1['Description'].apply(lambda x: re.sub(r\"ain't\",\"am not\", x))\n",
    "# df1['Description'] = df1['Description'].apply(lambda x: re.sub(r\"wouldn't\",\"would not\",x))\n",
    "# df1['Description'] = df1['Description'].apply(lambda x: re.sub(r\"can't\",\"can not\",x))\n",
    "# df1['Description'] = df1['Description'].apply(lambda x: re.sub(r\"shouldn't\",\"should not\",x))\n",
    "# df1['Description'] = df1['Description'].apply(lambda x: re.sub(r\"couldn't\",\"could not\",x))\n",
    "# df1['Description'] = df1['Description'].apply(lambda x: re.sub(r\"won't\",\"will not\",x))\n",
    "# df1['Description'] = df1['Description'].apply(lambda x: re.sub(r\"isn't\",\"is not\",x))"
   ]
  },
  {
   "cell_type": "code",
   "execution_count": 66,
   "metadata": {},
   "outputs": [],
   "source": [
    "def preprocess(text):\n",
    "    sentence     = str(text)\n",
    "    sentence_low = sentence.lower()                                            #Converted to lower case\n",
    "    rem_hyper    = sentence_low.replace('{html}',' ')                          #Remove hyperlink  \n",
    "    rem_url      = re.sub(r'http:\\S+', ' ',rem_hyper)                          #Remove Web link\n",
    "    rem_mail     = re.sub(r\"\\S*@\\S*.com\\s?\",' ',rem_url)                       #Remove mail Id\n",
    "    txt_expand   = contractions.fix(rem_mail)                                  #Expand text\n",
    "    rem_special  = re.sub(r\"[!';:@#$%^&*()~?<>,\\.:+-=`\"\"'\\'_]\",' ',txt_expand) # Removed all the special characters \n",
    "    rem_num      = re.sub(r'\\d', '', rem_special)                              #Remove digit\n",
    "    rem_single   = re.sub(r\"\\s+[a-zA-Z]\\s+\", ' ',rem_num)                      #Remove single char\n",
    "    rem_spa      = re.sub(r\"\\s+\", ' ',rem_single)                              #Remove extra spaces\n",
    "    clean_text   = rem_spa\n",
    "    return clean_text"
   ]
  },
  {
   "cell_type": "code",
   "execution_count": 28,
   "metadata": {},
   "outputs": [
    {
     "data": {
      "text/plain": [
       "\"ticket_no1550391- employment status - new non-employee [enter user's name]\""
      ]
     },
     "execution_count": 28,
     "metadata": {},
     "output_type": "execute_result"
    }
   ],
   "source": [
    "df['Short description'][7]  #before pre-process"
   ]
  },
  {
   "cell_type": "markdown",
   "metadata": {},
   "source": [
    "### Text Cleaning"
   ]
  },
  {
   "cell_type": "code",
   "execution_count": 67,
   "metadata": {},
   "outputs": [],
   "source": [
    "df['Short description'] = df['Short description'].map(lambda x:preprocess(x))\n",
    "df['Description'] = df['Description'].map(lambda x:preprocess(x))"
   ]
  },
  {
   "cell_type": "code",
   "execution_count": 72,
   "metadata": {},
   "outputs": [
    {
     "data": {
      "text/plain": [
       "'ticket no employment status new non employee [enter user name]'"
      ]
     },
     "execution_count": 72,
     "metadata": {},
     "output_type": "execute_result"
    }
   ],
   "source": [
    "df['Short description'][7]  #after process"
   ]
  },
  {
   "cell_type": "code",
   "execution_count": 71,
   "metadata": {},
   "outputs": [
    {
     "data": {
      "text/plain": [
       "' received from dear sir refer below snapshot of pdf output of engineering tool batch number is not appearing in pdf output [cid image jpg sid ] why batch number is important in case of variation in tool life from batch to batch customer raises the complaint we send ccif with engineering tool in engineering tool software we enter batch number but when download pdf it does not show batch number without batch number analysis cannot be done that is why it is very important to capture batch number in engineering tool pdf output for your necessary action '"
      ]
     },
     "execution_count": 71,
     "metadata": {},
     "output_type": "execute_result"
    }
   ],
   "source": [
    "df['Description'][3726]"
   ]
  },
  {
   "cell_type": "code",
   "execution_count": 46,
   "metadata": {
    "colab": {
     "base_uri": "https://localhost:8080/",
     "height": 419
    },
    "colab_type": "code",
    "id": "NOrZmB9mLS1e",
    "outputId": "9a631dfb-4764-4ef1-967e-e3229ad76cbe"
   },
   "outputs": [
    {
     "data": {
      "text/html": [
       "<div>\n",
       "<style scoped>\n",
       "    .dataframe tbody tr th:only-of-type {\n",
       "        vertical-align: middle;\n",
       "    }\n",
       "\n",
       "    .dataframe tbody tr th {\n",
       "        vertical-align: top;\n",
       "    }\n",
       "\n",
       "    .dataframe thead th {\n",
       "        text-align: right;\n",
       "    }\n",
       "</style>\n",
       "<table border=\"1\" class=\"dataframe\">\n",
       "  <thead>\n",
       "    <tr style=\"text-align: right;\">\n",
       "      <th></th>\n",
       "      <th>Short description</th>\n",
       "      <th>Description</th>\n",
       "      <th>Caller</th>\n",
       "      <th>Assignment group</th>\n",
       "    </tr>\n",
       "  </thead>\n",
       "  <tbody>\n",
       "    <tr>\n",
       "      <th>0</th>\n",
       "      <td>login issue</td>\n",
       "      <td>verified user details employee manager name ch...</td>\n",
       "      <td>spxjnwir pjlcoqds</td>\n",
       "      <td>GRP_0</td>\n",
       "    </tr>\n",
       "    <tr>\n",
       "      <th>1</th>\n",
       "      <td>outlook</td>\n",
       "      <td>received from hmjdrvpb komuaywn gmail com hell...</td>\n",
       "      <td>hmjdrvpb komuaywn</td>\n",
       "      <td>GRP_0</td>\n",
       "    </tr>\n",
       "    <tr>\n",
       "      <th>2</th>\n",
       "      <td>cant log in to vpn</td>\n",
       "      <td>received from eylqgodm ybqkwiam gmail com hi c...</td>\n",
       "      <td>eylqgodm ybqkwiam</td>\n",
       "      <td>GRP_0</td>\n",
       "    </tr>\n",
       "    <tr>\n",
       "      <th>3</th>\n",
       "      <td>unable to access hr_tool page</td>\n",
       "      <td>unable to access hr tool page</td>\n",
       "      <td>xbkucsvz gcpydteq</td>\n",
       "      <td>GRP_0</td>\n",
       "    </tr>\n",
       "    <tr>\n",
       "      <th>4</th>\n",
       "      <td>skype error</td>\n",
       "      <td>skype error</td>\n",
       "      <td>owlgqjme qhcozdfx</td>\n",
       "      <td>GRP_0</td>\n",
       "    </tr>\n",
       "    <tr>\n",
       "      <th>...</th>\n",
       "      <td>...</td>\n",
       "      <td>...</td>\n",
       "      <td>...</td>\n",
       "      <td>...</td>\n",
       "    </tr>\n",
       "    <tr>\n",
       "      <th>95</th>\n",
       "      <td>job SID_26cold failed in job_scheduler at: 10/...</td>\n",
       "      <td>received from monitoring tool company com job ...</td>\n",
       "      <td>bpctwhsn kzqsbmtp</td>\n",
       "      <td>GRP_5</td>\n",
       "    </tr>\n",
       "    <tr>\n",
       "      <th>96</th>\n",
       "      <td>job SID_35cold failed in job_scheduler at: 10/...</td>\n",
       "      <td>received from monitoring tool company com job ...</td>\n",
       "      <td>bpctwhsn kzqsbmtp</td>\n",
       "      <td>GRP_5</td>\n",
       "    </tr>\n",
       "    <tr>\n",
       "      <th>97</th>\n",
       "      <td>amssm00345: c:\\ label:sys-amssm00345 94ef9088 ...</td>\n",
       "      <td>amssm label sys amssm ef on server is over spa...</td>\n",
       "      <td>jyoqwxhz clhxsoqy</td>\n",
       "      <td>GRP_12</td>\n",
       "    </tr>\n",
       "    <tr>\n",
       "      <th>98</th>\n",
       "      <td>unable to view payslips from hr_tool e time</td>\n",
       "      <td>unable to view payslips from hr tool time</td>\n",
       "      <td>vzrbocfl wxtpoyez</td>\n",
       "      <td>GRP_0</td>\n",
       "    </tr>\n",
       "    <tr>\n",
       "      <th>99</th>\n",
       "      <td>password expiry tomorrow</td>\n",
       "      <td>received from ecprjbod litmjwsy gmail com my s...</td>\n",
       "      <td>ecprjbod litmjwsy</td>\n",
       "      <td>GRP_0</td>\n",
       "    </tr>\n",
       "  </tbody>\n",
       "</table>\n",
       "<p>100 rows × 4 columns</p>\n",
       "</div>"
      ],
      "text/plain": [
       "                                    Short description  ... Assignment group\n",
       "0                                         login issue  ...            GRP_0\n",
       "1                                             outlook  ...            GRP_0\n",
       "2                                  cant log in to vpn  ...            GRP_0\n",
       "3                       unable to access hr_tool page  ...            GRP_0\n",
       "4                                        skype error   ...            GRP_0\n",
       "..                                                ...  ...              ...\n",
       "95  job SID_26cold failed in job_scheduler at: 10/...  ...            GRP_5\n",
       "96  job SID_35cold failed in job_scheduler at: 10/...  ...            GRP_5\n",
       "97  amssm00345: c:\\ label:sys-amssm00345 94ef9088 ...  ...           GRP_12\n",
       "98        unable to view payslips from hr_tool e time  ...            GRP_0\n",
       "99                           password expiry tomorrow  ...            GRP_0\n",
       "\n",
       "[100 rows x 4 columns]"
      ]
     },
     "execution_count": 46,
     "metadata": {
      "tags": []
     },
     "output_type": "execute_result"
    }
   ],
   "source": [
    "df1.head(100)"
   ]
  },
  {
   "cell_type": "code",
   "execution_count": 47,
   "metadata": {
    "colab": {
     "base_uri": "https://localhost:8080/",
     "height": 54
    },
    "colab_type": "code",
    "id": "64X35M7oHpgI",
    "outputId": "4fe68fc0-157b-48ac-8fcc-d371bfa639b1"
   },
   "outputs": [
    {
     "data": {
      "text/plain": [
       "'received from hmjdrvpb komuaywn gmail com hello team my meetings skype meetings etc are not appearing in my outlook calendar can somebody please advise how to correct this kind'"
      ]
     },
     "execution_count": 47,
     "metadata": {
      "tags": []
     },
     "output_type": "execute_result"
    }
   ],
   "source": [
    "  df1['Description'][1]"
   ]
  },
  {
   "cell_type": "code",
   "execution_count": 48,
   "metadata": {
    "colab": {
     "base_uri": "https://localhost:8080/",
     "height": 54
    },
    "colab_type": "code",
    "id": "5yJJGYxvHWpC",
    "outputId": "8602c43d-26e0-4f6d-87da-aa97b9b6c334"
   },
   "outputs": [
    {
     "data": {
      "text/plain": [
       "'\\r\\n\\r\\nreceived from: hmjdrvpb.komuaywn@gmail.com\\r\\n\\r\\nhello team,\\r\\n\\r\\nmy meetings/skype meetings etc are not appearing in my outlook calendar, can somebody please advise how to correct this?\\r\\n\\r\\nkind '"
      ]
     },
     "execution_count": 48,
     "metadata": {
      "tags": []
     },
     "output_type": "execute_result"
    }
   ],
   "source": [
    "df['Description'][1]"
   ]
  },
  {
   "cell_type": "code",
   "execution_count": 51,
   "metadata": {
    "colab": {
     "base_uri": "https://localhost:8080/",
     "height": 419
    },
    "colab_type": "code",
    "id": "Xy6GNmXlgTl4",
    "outputId": "d7c1394f-afd8-4ed6-d9a5-7c61d5f83e2e"
   },
   "outputs": [
    {
     "data": {
      "text/html": [
       "<div>\n",
       "<style scoped>\n",
       "    .dataframe tbody tr th:only-of-type {\n",
       "        vertical-align: middle;\n",
       "    }\n",
       "\n",
       "    .dataframe tbody tr th {\n",
       "        vertical-align: top;\n",
       "    }\n",
       "\n",
       "    .dataframe thead th {\n",
       "        text-align: right;\n",
       "    }\n",
       "</style>\n",
       "<table border=\"1\" class=\"dataframe\">\n",
       "  <thead>\n",
       "    <tr style=\"text-align: right;\">\n",
       "      <th></th>\n",
       "      <th>Short description</th>\n",
       "      <th>Description</th>\n",
       "      <th>Caller</th>\n",
       "      <th>Assignment group</th>\n",
       "    </tr>\n",
       "  </thead>\n",
       "  <tbody>\n",
       "    <tr>\n",
       "      <th>0</th>\n",
       "      <td>login issue</td>\n",
       "      <td>verified user details employee manager name ch...</td>\n",
       "      <td>spxjnwir pjlcoqds</td>\n",
       "      <td>GRP_0</td>\n",
       "    </tr>\n",
       "    <tr>\n",
       "      <th>1</th>\n",
       "      <td>outlook</td>\n",
       "      <td>received from hmjdrvpb komuaywn gmail com hell...</td>\n",
       "      <td>hmjdrvpb komuaywn</td>\n",
       "      <td>GRP_0</td>\n",
       "    </tr>\n",
       "    <tr>\n",
       "      <th>2</th>\n",
       "      <td>cant log in to vpn</td>\n",
       "      <td>received from eylqgodm ybqkwiam gmail com hi c...</td>\n",
       "      <td>eylqgodm ybqkwiam</td>\n",
       "      <td>GRP_0</td>\n",
       "    </tr>\n",
       "    <tr>\n",
       "      <th>3</th>\n",
       "      <td>unable to access hr_tool page</td>\n",
       "      <td>unable to access hr tool page</td>\n",
       "      <td>xbkucsvz gcpydteq</td>\n",
       "      <td>GRP_0</td>\n",
       "    </tr>\n",
       "    <tr>\n",
       "      <th>4</th>\n",
       "      <td>skype error</td>\n",
       "      <td>skype error</td>\n",
       "      <td>owlgqjme qhcozdfx</td>\n",
       "      <td>GRP_0</td>\n",
       "    </tr>\n",
       "    <tr>\n",
       "      <th>...</th>\n",
       "      <td>...</td>\n",
       "      <td>...</td>\n",
       "      <td>...</td>\n",
       "      <td>...</td>\n",
       "    </tr>\n",
       "    <tr>\n",
       "      <th>95</th>\n",
       "      <td>job SID_26cold failed in job_scheduler at: 10/...</td>\n",
       "      <td>received from monitoring tool company com job ...</td>\n",
       "      <td>bpctwhsn kzqsbmtp</td>\n",
       "      <td>GRP_5</td>\n",
       "    </tr>\n",
       "    <tr>\n",
       "      <th>96</th>\n",
       "      <td>job SID_35cold failed in job_scheduler at: 10/...</td>\n",
       "      <td>received from monitoring tool company com job ...</td>\n",
       "      <td>bpctwhsn kzqsbmtp</td>\n",
       "      <td>GRP_5</td>\n",
       "    </tr>\n",
       "    <tr>\n",
       "      <th>97</th>\n",
       "      <td>amssm00345: c:\\ label:sys-amssm00345 94ef9088 ...</td>\n",
       "      <td>amssm label sys amssm ef on server is over spa...</td>\n",
       "      <td>jyoqwxhz clhxsoqy</td>\n",
       "      <td>GRP_12</td>\n",
       "    </tr>\n",
       "    <tr>\n",
       "      <th>98</th>\n",
       "      <td>unable to view payslips from hr_tool e time</td>\n",
       "      <td>unable to view payslips from hr tool time</td>\n",
       "      <td>vzrbocfl wxtpoyez</td>\n",
       "      <td>GRP_0</td>\n",
       "    </tr>\n",
       "    <tr>\n",
       "      <th>99</th>\n",
       "      <td>password expiry tomorrow</td>\n",
       "      <td>received from ecprjbod litmjwsy gmail com my s...</td>\n",
       "      <td>ecprjbod litmjwsy</td>\n",
       "      <td>GRP_0</td>\n",
       "    </tr>\n",
       "  </tbody>\n",
       "</table>\n",
       "<p>100 rows × 4 columns</p>\n",
       "</div>"
      ],
      "text/plain": [
       "                                    Short description  ... Assignment group\n",
       "0                                         login issue  ...            GRP_0\n",
       "1                                             outlook  ...            GRP_0\n",
       "2                                  cant log in to vpn  ...            GRP_0\n",
       "3                       unable to access hr_tool page  ...            GRP_0\n",
       "4                                        skype error   ...            GRP_0\n",
       "..                                                ...  ...              ...\n",
       "95  job SID_26cold failed in job_scheduler at: 10/...  ...            GRP_5\n",
       "96  job SID_35cold failed in job_scheduler at: 10/...  ...            GRP_5\n",
       "97  amssm00345: c:\\ label:sys-amssm00345 94ef9088 ...  ...           GRP_12\n",
       "98        unable to view payslips from hr_tool e time  ...            GRP_0\n",
       "99                           password expiry tomorrow  ...            GRP_0\n",
       "\n",
       "[100 rows x 4 columns]"
      ]
     },
     "execution_count": 51,
     "metadata": {
      "tags": []
     },
     "output_type": "execute_result"
    }
   ],
   "source": [
    "df1.head(100)"
   ]
  },
  {
   "cell_type": "code",
   "execution_count": 52,
   "metadata": {
    "colab": {
     "base_uri": "https://localhost:8080/",
     "height": 173
    },
    "colab_type": "code",
    "id": "dHjRmXgVi9wq",
    "outputId": "9c1c8513-f17f-41cf-c1bf-b93ec5d62aac"
   },
   "outputs": [
    {
     "data": {
      "text/html": [
       "<div>\n",
       "<style scoped>\n",
       "    .dataframe tbody tr th:only-of-type {\n",
       "        vertical-align: middle;\n",
       "    }\n",
       "\n",
       "    .dataframe tbody tr th {\n",
       "        vertical-align: top;\n",
       "    }\n",
       "\n",
       "    .dataframe thead th {\n",
       "        text-align: right;\n",
       "    }\n",
       "</style>\n",
       "<table border=\"1\" class=\"dataframe\">\n",
       "  <thead>\n",
       "    <tr style=\"text-align: right;\">\n",
       "      <th></th>\n",
       "      <th>Short description</th>\n",
       "      <th>Description</th>\n",
       "      <th>Caller</th>\n",
       "      <th>Assignment group</th>\n",
       "    </tr>\n",
       "  </thead>\n",
       "  <tbody>\n",
       "    <tr>\n",
       "      <th>count</th>\n",
       "      <td>8500</td>\n",
       "      <td>8500</td>\n",
       "      <td>8500</td>\n",
       "      <td>8500</td>\n",
       "    </tr>\n",
       "    <tr>\n",
       "      <th>unique</th>\n",
       "      <td>7482</td>\n",
       "      <td>6681</td>\n",
       "      <td>2950</td>\n",
       "      <td>74</td>\n",
       "    </tr>\n",
       "    <tr>\n",
       "      <th>top</th>\n",
       "      <td>password reset</td>\n",
       "      <td>received from monitoring tool company com job ...</td>\n",
       "      <td>bpctwhsn kzqsbmtp</td>\n",
       "      <td>GRP_0</td>\n",
       "    </tr>\n",
       "    <tr>\n",
       "      <th>freq</th>\n",
       "      <td>38</td>\n",
       "      <td>430</td>\n",
       "      <td>810</td>\n",
       "      <td>3976</td>\n",
       "    </tr>\n",
       "  </tbody>\n",
       "</table>\n",
       "</div>"
      ],
      "text/plain": [
       "       Short description  ... Assignment group\n",
       "count               8500  ...             8500\n",
       "unique              7482  ...               74\n",
       "top       password reset  ...            GRP_0\n",
       "freq                  38  ...             3976\n",
       "\n",
       "[4 rows x 4 columns]"
      ]
     },
     "execution_count": 52,
     "metadata": {
      "tags": []
     },
     "output_type": "execute_result"
    }
   ],
   "source": [
    "df1.describe()"
   ]
  },
  {
   "cell_type": "code",
   "execution_count": 53,
   "metadata": {
    "colab": {
     "base_uri": "https://localhost:8080/",
     "height": 102
    },
    "colab_type": "code",
    "id": "om4eSS43gXBi",
    "outputId": "69d5e557-6e42-4204-8a18-63df4e89d868"
   },
   "outputs": [
    {
     "name": "stdout",
     "output_type": "stream",
     "text": [
      "[nltk_data] Downloading package stopwords to /root/nltk_data...\n",
      "[nltk_data]   Package stopwords is already up-to-date!\n",
      "[nltk_data] Downloading package punkt to /root/nltk_data...\n",
      "[nltk_data]   Package punkt is already up-to-date!\n"
     ]
    },
    {
     "data": {
      "text/plain": [
       "True"
      ]
     },
     "execution_count": 53,
     "metadata": {
      "tags": []
     },
     "output_type": "execute_result"
    }
   ],
   "source": [
    "from nltk.corpus import stopwords\n",
    "from nltk.tokenize import word_tokenize\n",
    "nltk.download('stopwords')\n",
    "nltk.download('punkt')"
   ]
  },
  {
   "cell_type": "code",
   "execution_count": 0,
   "metadata": {
    "colab": {},
    "colab_type": "code",
    "id": "5zSdk6uZiaub"
   },
   "outputs": [],
   "source": [
    "stop_words = set(stopwords.words('english'))#stop words stored in 'a'"
   ]
  },
  {
   "cell_type": "code",
   "execution_count": 55,
   "metadata": {
    "colab": {
     "base_uri": "https://localhost:8080/",
     "height": 54
    },
    "colab_type": "code",
    "id": "gqqazJ5bnfM3",
    "outputId": "c9485790-0bd4-49cf-faf1-eee1f949f329"
   },
   "outputs": [
    {
     "data": {
      "text/plain": [
       "'verified user details employee manager name checked the user name in ad and reset the password advised the user to login and check caller confirmed that he was able to login issue resolved'"
      ]
     },
     "execution_count": 55,
     "metadata": {
      "tags": []
     },
     "output_type": "execute_result"
    }
   ],
   "source": [
    "df1['Description'][0]"
   ]
  },
  {
   "cell_type": "code",
   "execution_count": 56,
   "metadata": {
    "colab": {
     "base_uri": "https://localhost:8080/",
     "height": 54
    },
    "colab_type": "code",
    "id": "zGON4uJvoj5l",
    "outputId": "41395621-e40f-4a5a-e9af-09c86732a373"
   },
   "outputs": [
    {
     "name": "stdout",
     "output_type": "stream",
     "text": [
      "{'weren', 'needn', 'no', 'are', 'so', 'he', \"you're\", 'was', 'again', 'a', 'themselves', \"won't\", 'they', 'ain', \"shan't\", 'himself', \"couldn't\", 'she', 'from', 'just', 'is', 'hadn', 'couldn', \"you'd\", 'haven', 'its', 'below', 'herself', 'it', 'their', 'any', 'at', \"that'll\", \"should've\", 'under', 'while', 'after', 'i', 'aren', 'few', 'then', 'there', 'if', 'only', \"weren't\", 'out', 'your', 'of', 'for', \"aren't\", 'shan', 'doing', 'who', 'with', 'have', 'did', 'both', 'do', 'wasn', 'theirs', 'above', 'each', 'too', 'once', 'which', 'during', 'than', 'our', 'these', 'her', 'him', 'when', 'am', \"isn't\", 'further', 'or', 'own', 'me', \"don't\", 'doesn', 'we', 'because', 'some', 'ourselves', 'yourself', 'as', \"mustn't\", 'were', 'into', 'whom', 'very', 'hasn', \"needn't\", 'my', 'same', \"haven't\", 's', 'before', 'all', 't', 've', 'isn', \"shouldn't\", 'now', 'those', 'mustn', 'o', \"you'll\", 'ours', 'should', 'until', 'that', 'through', 'has', 'won', 'here', 'an', 'in', 'being', 'what', 'can', 'mightn', 'other', 'more', 'shouldn', 'm', 're', 'this', \"mightn't\", 'his', 'such', \"she's\", 'yours', 'does', 'over', 'not', 'yourselves', 'nor', 'll', 'where', \"you've\", 'didn', 'why', 'how', 'itself', 'about', 'by', 'hers', \"hadn't\", 'but', 'off', 'had', 'wouldn', 'on', 'will', 'to', \"it's\", 'been', 'you', 'don', 'between', 'y', 'd', 'having', 'the', 'myself', 'be', 'and', 'up', \"wasn't\", 'them', \"hasn't\", 'most', 'down', \"wouldn't\", \"didn't\", 'against', \"doesn't\", 'ma'}\n"
     ]
    }
   ],
   "source": [
    "print(stop_words)"
   ]
  },
  {
   "cell_type": "code",
   "execution_count": 0,
   "metadata": {
    "colab": {},
    "colab_type": "code",
    "id": "8atgKfmyqKCo"
   },
   "outputs": [],
   "source": [
    "df2 = df1.copy(deep=True)"
   ]
  },
  {
   "cell_type": "code",
   "execution_count": 58,
   "metadata": {
    "colab": {
     "base_uri": "https://localhost:8080/",
     "height": 204
    },
    "colab_type": "code",
    "id": "p0RKMdFvaeMF",
    "outputId": "fd87cb33-2f19-4610-91c4-609980d8c01c"
   },
   "outputs": [
    {
     "data": {
      "text/html": [
       "<div>\n",
       "<style scoped>\n",
       "    .dataframe tbody tr th:only-of-type {\n",
       "        vertical-align: middle;\n",
       "    }\n",
       "\n",
       "    .dataframe tbody tr th {\n",
       "        vertical-align: top;\n",
       "    }\n",
       "\n",
       "    .dataframe thead th {\n",
       "        text-align: right;\n",
       "    }\n",
       "</style>\n",
       "<table border=\"1\" class=\"dataframe\">\n",
       "  <thead>\n",
       "    <tr style=\"text-align: right;\">\n",
       "      <th></th>\n",
       "      <th>Short description</th>\n",
       "      <th>Description</th>\n",
       "      <th>Caller</th>\n",
       "      <th>Assignment group</th>\n",
       "    </tr>\n",
       "  </thead>\n",
       "  <tbody>\n",
       "    <tr>\n",
       "      <th>0</th>\n",
       "      <td>login issue</td>\n",
       "      <td>verified user details employee manager name ch...</td>\n",
       "      <td>spxjnwir pjlcoqds</td>\n",
       "      <td>GRP_0</td>\n",
       "    </tr>\n",
       "    <tr>\n",
       "      <th>1</th>\n",
       "      <td>outlook</td>\n",
       "      <td>received from hmjdrvpb komuaywn gmail com hell...</td>\n",
       "      <td>hmjdrvpb komuaywn</td>\n",
       "      <td>GRP_0</td>\n",
       "    </tr>\n",
       "    <tr>\n",
       "      <th>2</th>\n",
       "      <td>cant log in to vpn</td>\n",
       "      <td>received from eylqgodm ybqkwiam gmail com hi c...</td>\n",
       "      <td>eylqgodm ybqkwiam</td>\n",
       "      <td>GRP_0</td>\n",
       "    </tr>\n",
       "    <tr>\n",
       "      <th>3</th>\n",
       "      <td>unable to access hr_tool page</td>\n",
       "      <td>unable to access hr tool page</td>\n",
       "      <td>xbkucsvz gcpydteq</td>\n",
       "      <td>GRP_0</td>\n",
       "    </tr>\n",
       "    <tr>\n",
       "      <th>4</th>\n",
       "      <td>skype error</td>\n",
       "      <td>skype error</td>\n",
       "      <td>owlgqjme qhcozdfx</td>\n",
       "      <td>GRP_0</td>\n",
       "    </tr>\n",
       "  </tbody>\n",
       "</table>\n",
       "</div>"
      ],
      "text/plain": [
       "               Short description  ... Assignment group\n",
       "0                    login issue  ...            GRP_0\n",
       "1                        outlook  ...            GRP_0\n",
       "2             cant log in to vpn  ...            GRP_0\n",
       "3  unable to access hr_tool page  ...            GRP_0\n",
       "4                   skype error   ...            GRP_0\n",
       "\n",
       "[5 rows x 4 columns]"
      ]
     },
     "execution_count": 58,
     "metadata": {
      "tags": []
     },
     "output_type": "execute_result"
    }
   ],
   "source": [
    "df2.head()"
   ]
  },
  {
   "cell_type": "code",
   "execution_count": 0,
   "metadata": {
    "colab": {},
    "colab_type": "code",
    "id": "gWrPnpUktlgu"
   },
   "outputs": [],
   "source": [
    "#df2.drop(['Desc_word_count','Short_desc_word_count'],axis=1,inplace=True)"
   ]
  },
  {
   "cell_type": "code",
   "execution_count": 0,
   "metadata": {
    "colab": {},
    "colab_type": "code",
    "id": "vE-mMUMutHRz"
   },
   "outputs": [],
   "source": [
    "df2['Description'] = df2['Description'].astype(str)\n",
    "df2['Short description'] = df2['Short description'].astype(str)\n",
    "df2['Caller'] = df2['Caller'].astype(str)"
   ]
  },
  {
   "cell_type": "code",
   "execution_count": 61,
   "metadata": {
    "colab": {
     "base_uri": "https://localhost:8080/",
     "height": 102
    },
    "colab_type": "code",
    "id": "L-_iHqm9rIbh",
    "outputId": "3b64c793-5130-465e-a32d-7231b6ec6ddd"
   },
   "outputs": [
    {
     "name": "stdout",
     "output_type": "stream",
     "text": [
      "[nltk_data] Downloading package stopwords to /root/nltk_data...\n",
      "[nltk_data]   Package stopwords is already up-to-date!\n",
      "[nltk_data] Downloading package punkt to /root/nltk_data...\n",
      "[nltk_data]   Package punkt is already up-to-date!\n"
     ]
    },
    {
     "data": {
      "text/plain": [
       "True"
      ]
     },
     "execution_count": 61,
     "metadata": {
      "tags": []
     },
     "output_type": "execute_result"
    }
   ],
   "source": [
    "from nltk.corpus import stopwords\n",
    "from nltk.tokenize import word_tokenize\n",
    "nltk.download('stopwords')\n",
    "nltk.download('punkt')"
   ]
  },
  {
   "cell_type": "code",
   "execution_count": 0,
   "metadata": {
    "colab": {},
    "colab_type": "code",
    "id": "BqzHf7xxrIQw"
   },
   "outputs": [],
   "source": [
    "stop_words = set(stopwords.words('english'))#stop words stored in 'a'"
   ]
  },
  {
   "cell_type": "markdown",
   "metadata": {
    "colab_type": "text",
    "id": "-Qc-z5uBrirZ"
   },
   "source": []
  },
  {
   "cell_type": "code",
   "execution_count": 0,
   "metadata": {
    "colab": {},
    "colab_type": "code",
    "id": "5Sa5VuvXrjOl"
   },
   "outputs": [],
   "source": [
    "from nltk.tokenize import word_tokenize\n",
    "df2['Description'] = [word_tokenize(i) for i in df2['Description']]\n",
    "df2['Short description'] = [word_tokenize(i) for i in df2['Short description']]"
   ]
  },
  {
   "cell_type": "code",
   "execution_count": 64,
   "metadata": {
    "colab": {
     "base_uri": "https://localhost:8080/",
     "height": 204
    },
    "colab_type": "code",
    "id": "lYfOr7bCrpql",
    "outputId": "e89e624c-c4af-4f79-fa21-f3553293648d"
   },
   "outputs": [
    {
     "data": {
      "text/html": [
       "<div>\n",
       "<style scoped>\n",
       "    .dataframe tbody tr th:only-of-type {\n",
       "        vertical-align: middle;\n",
       "    }\n",
       "\n",
       "    .dataframe tbody tr th {\n",
       "        vertical-align: top;\n",
       "    }\n",
       "\n",
       "    .dataframe thead th {\n",
       "        text-align: right;\n",
       "    }\n",
       "</style>\n",
       "<table border=\"1\" class=\"dataframe\">\n",
       "  <thead>\n",
       "    <tr style=\"text-align: right;\">\n",
       "      <th></th>\n",
       "      <th>Short description</th>\n",
       "      <th>Description</th>\n",
       "      <th>Caller</th>\n",
       "      <th>Assignment group</th>\n",
       "    </tr>\n",
       "  </thead>\n",
       "  <tbody>\n",
       "    <tr>\n",
       "      <th>0</th>\n",
       "      <td>[login, issue]</td>\n",
       "      <td>[verified, user, details, employee, manager, n...</td>\n",
       "      <td>spxjnwir pjlcoqds</td>\n",
       "      <td>GRP_0</td>\n",
       "    </tr>\n",
       "    <tr>\n",
       "      <th>1</th>\n",
       "      <td>[outlook]</td>\n",
       "      <td>[received, from, hmjdrvpb, komuaywn, gmail, co...</td>\n",
       "      <td>hmjdrvpb komuaywn</td>\n",
       "      <td>GRP_0</td>\n",
       "    </tr>\n",
       "    <tr>\n",
       "      <th>2</th>\n",
       "      <td>[cant, log, in, to, vpn]</td>\n",
       "      <td>[received, from, eylqgodm, ybqkwiam, gmail, co...</td>\n",
       "      <td>eylqgodm ybqkwiam</td>\n",
       "      <td>GRP_0</td>\n",
       "    </tr>\n",
       "    <tr>\n",
       "      <th>3</th>\n",
       "      <td>[unable, to, access, hr_tool, page]</td>\n",
       "      <td>[unable, to, access, hr, tool, page]</td>\n",
       "      <td>xbkucsvz gcpydteq</td>\n",
       "      <td>GRP_0</td>\n",
       "    </tr>\n",
       "    <tr>\n",
       "      <th>4</th>\n",
       "      <td>[skype, error]</td>\n",
       "      <td>[skype, error]</td>\n",
       "      <td>owlgqjme qhcozdfx</td>\n",
       "      <td>GRP_0</td>\n",
       "    </tr>\n",
       "  </tbody>\n",
       "</table>\n",
       "</div>"
      ],
      "text/plain": [
       "                     Short description  ... Assignment group\n",
       "0                       [login, issue]  ...            GRP_0\n",
       "1                            [outlook]  ...            GRP_0\n",
       "2             [cant, log, in, to, vpn]  ...            GRP_0\n",
       "3  [unable, to, access, hr_tool, page]  ...            GRP_0\n",
       "4                       [skype, error]  ...            GRP_0\n",
       "\n",
       "[5 rows x 4 columns]"
      ]
     },
     "execution_count": 64,
     "metadata": {
      "tags": []
     },
     "output_type": "execute_result"
    }
   ],
   "source": [
    "df2.head()"
   ]
  },
  {
   "cell_type": "code",
   "execution_count": 0,
   "metadata": {
    "colab": {},
    "colab_type": "code",
    "id": "PCCWwUqfrp70"
   },
   "outputs": [],
   "source": [
    "df2['Description']= df2['Description'].apply(lambda x: [item for item in x if item not in stop_words])\n",
    "df2['Short description']= df2['Short description'].apply(lambda x: [item for item in x if item not in stop_words])  "
   ]
  },
  {
   "cell_type": "code",
   "execution_count": 66,
   "metadata": {
    "colab": {
     "base_uri": "https://localhost:8080/",
     "height": 204
    },
    "colab_type": "code",
    "id": "3R36ktpXrqDu",
    "outputId": "b2ab0df0-10c0-4142-bb9e-15f93fd9948e"
   },
   "outputs": [
    {
     "data": {
      "text/html": [
       "<div>\n",
       "<style scoped>\n",
       "    .dataframe tbody tr th:only-of-type {\n",
       "        vertical-align: middle;\n",
       "    }\n",
       "\n",
       "    .dataframe tbody tr th {\n",
       "        vertical-align: top;\n",
       "    }\n",
       "\n",
       "    .dataframe thead th {\n",
       "        text-align: right;\n",
       "    }\n",
       "</style>\n",
       "<table border=\"1\" class=\"dataframe\">\n",
       "  <thead>\n",
       "    <tr style=\"text-align: right;\">\n",
       "      <th></th>\n",
       "      <th>Short description</th>\n",
       "      <th>Description</th>\n",
       "      <th>Caller</th>\n",
       "      <th>Assignment group</th>\n",
       "    </tr>\n",
       "  </thead>\n",
       "  <tbody>\n",
       "    <tr>\n",
       "      <th>0</th>\n",
       "      <td>[login, issue]</td>\n",
       "      <td>[verified, user, details, employee, manager, n...</td>\n",
       "      <td>spxjnwir pjlcoqds</td>\n",
       "      <td>GRP_0</td>\n",
       "    </tr>\n",
       "    <tr>\n",
       "      <th>1</th>\n",
       "      <td>[outlook]</td>\n",
       "      <td>[received, hmjdrvpb, komuaywn, gmail, com, hel...</td>\n",
       "      <td>hmjdrvpb komuaywn</td>\n",
       "      <td>GRP_0</td>\n",
       "    </tr>\n",
       "    <tr>\n",
       "      <th>2</th>\n",
       "      <td>[cant, log, vpn]</td>\n",
       "      <td>[received, eylqgodm, ybqkwiam, gmail, com, hi,...</td>\n",
       "      <td>eylqgodm ybqkwiam</td>\n",
       "      <td>GRP_0</td>\n",
       "    </tr>\n",
       "    <tr>\n",
       "      <th>3</th>\n",
       "      <td>[unable, access, hr_tool, page]</td>\n",
       "      <td>[unable, access, hr, tool, page]</td>\n",
       "      <td>xbkucsvz gcpydteq</td>\n",
       "      <td>GRP_0</td>\n",
       "    </tr>\n",
       "    <tr>\n",
       "      <th>4</th>\n",
       "      <td>[skype, error]</td>\n",
       "      <td>[skype, error]</td>\n",
       "      <td>owlgqjme qhcozdfx</td>\n",
       "      <td>GRP_0</td>\n",
       "    </tr>\n",
       "  </tbody>\n",
       "</table>\n",
       "</div>"
      ],
      "text/plain": [
       "                 Short description  ... Assignment group\n",
       "0                   [login, issue]  ...            GRP_0\n",
       "1                        [outlook]  ...            GRP_0\n",
       "2                 [cant, log, vpn]  ...            GRP_0\n",
       "3  [unable, access, hr_tool, page]  ...            GRP_0\n",
       "4                   [skype, error]  ...            GRP_0\n",
       "\n",
       "[5 rows x 4 columns]"
      ]
     },
     "execution_count": 66,
     "metadata": {
      "tags": []
     },
     "output_type": "execute_result"
    }
   ],
   "source": [
    "df2.head()"
   ]
  },
  {
   "cell_type": "code",
   "execution_count": 69,
   "metadata": {
    "colab": {
     "base_uri": "https://localhost:8080/",
     "height": 204
    },
    "colab_type": "code",
    "id": "j4J_00UJsWP-",
    "outputId": "c8d65128-0830-4722-839f-0853df87f409"
   },
   "outputs": [
    {
     "name": "stdout",
     "output_type": "stream",
     "text": [
      "       Desc_word_count  Short_desc_word_count\n",
      "count      8500.000000            8500.000000\n",
      "mean         19.128588               5.980118\n",
      "std          39.741621               3.668516\n",
      "min           1.000000               1.000000\n",
      "25%           5.000000               3.000000\n",
      "50%          10.000000               5.000000\n",
      "75%          21.000000               7.000000\n",
      "max         822.000000              41.000000\n",
      "38.0\n",
      "62.04999999999927\n"
     ]
    }
   ],
   "source": [
    "df2['Desc_word_count'] = df2['Description'].str.split().map(len)\n",
    "df2['Short_desc_word_count'] = df2['Short description'].str.split().map(len)\n",
    "print(df2.describe())\n",
    "print(np.percentile(df2['Desc_word_count'],90))\n",
    "print(np.percentile(df2['Desc_word_count'],95))"
   ]
  },
  {
   "cell_type": "code",
   "execution_count": 0,
   "metadata": {
    "colab": {},
    "colab_type": "code",
    "id": "xGvinjZSawl3"
   },
   "outputs": [],
   "source": [
    "df2['Desc_no_stp_wrd'] = df2['Description'].apply(lambda x: len([x for x in x.split() if x in stop_words]))\n",
    "df2['Short_no_stp_wrd'] = df2['Short description'].apply(lambda x: len([x for x in x.split() if x in stop_words]))\n",
    "df2['Desc_no_dgt'] = df2['Description'].apply(lambda x: len([x for x in x if x.isdigit()]))\n",
    "df2['Shrt_Desc_no_dgt'] = df2['Short description'].apply(lambda x: len([x for x in x if x.isdigit()]))"
   ]
  },
  {
   "cell_type": "code",
   "execution_count": 73,
   "metadata": {
    "colab": {
     "base_uri": "https://localhost:8080/",
     "height": 119
    },
    "colab_type": "code",
    "id": "NwGVWq4pbCpd",
    "outputId": "e2cd79bf-8ec3-43e3-cbdf-e4abe2cb53f3"
   },
   "outputs": [
    {
     "name": "stdout",
     "output_type": "stream",
     "text": [
      "162593\n",
      "50831\n",
      "0\n",
      "31808\n",
      "0\n",
      "0\n"
     ]
    }
   ],
   "source": [
    "print(df2['Desc_word_count'].sum())\n",
    "print(df2['Short_desc_word_count'].sum())\n",
    "\n",
    "print(df2['Desc_no_dgt'].sum())\n",
    "print(df2['Shrt_Desc_no_dgt'].sum())\n",
    "\n",
    "print(df2['Desc_no_stp_wrd'].sum())\n",
    "print(df2['Short_no_stp_wrd'].sum())"
   ]
  },
  {
   "cell_type": "code",
   "execution_count": 74,
   "metadata": {
    "colab": {
     "base_uri": "https://localhost:8080/",
     "height": 204
    },
    "colab_type": "code",
    "id": "9t-i5YaKbFgU",
    "outputId": "825327be-b0bf-481a-a522-a9a72a0800cc"
   },
   "outputs": [
    {
     "name": "stdout",
     "output_type": "stream",
     "text": [
      "Collecting langdetect\n",
      "\u001b[?25l  Downloading https://files.pythonhosted.org/packages/59/59/4bc44158a767a6d66de18c4136c8aa90491d56cc951c10b74dd1e13213c9/langdetect-1.0.7.zip (998kB)\n",
      "\u001b[K     |████████████████████████████████| 1.0MB 2.8MB/s \n",
      "\u001b[?25hRequirement already satisfied: six in /usr/local/lib/python3.6/dist-packages (from langdetect) (1.12.0)\n",
      "Building wheels for collected packages: langdetect\n",
      "  Building wheel for langdetect (setup.py) ... \u001b[?25l\u001b[?25hdone\n",
      "  Created wheel for langdetect: filename=langdetect-1.0.7-cp36-none-any.whl size=993459 sha256=e3565f9e38a4c8a2fc76c03a156ca0ceb3e99c3a38036a12da8e7c00e4e3072e\n",
      "  Stored in directory: /root/.cache/pip/wheels/ec/0c/a9/1647275e7ef5014e7b83ff30105180e332867d65e7617ddafe\n",
      "Successfully built langdetect\n",
      "Installing collected packages: langdetect\n",
      "Successfully installed langdetect-1.0.7\n"
     ]
    }
   ],
   "source": [
    "!pip install langdetect"
   ]
  },
  {
   "cell_type": "code",
   "execution_count": 0,
   "metadata": {
    "colab": {},
    "colab_type": "code",
    "id": "OuyzV6j_bFeO"
   },
   "outputs": [],
   "source": [
    "from langdetect import detect"
   ]
  },
  {
   "cell_type": "code",
   "execution_count": 76,
   "metadata": {
    "colab": {
     "base_uri": "https://localhost:8080/",
     "height": 119
    },
    "colab_type": "code",
    "id": "qvOj5RpObCmb",
    "outputId": "804df470-87a6-481f-b485-ce0474a33f30"
   },
   "outputs": [
    {
     "name": "stdout",
     "output_type": "stream",
     "text": [
      "This row throws and error: +86  \n",
      "This row throws and error:  \n",
      "\n",
      "\n",
      "This row throws and error: \n",
      "\n"
     ]
    }
   ],
   "source": [
    "store = []\n",
    "for i in range(8500):\n",
    "  try:\n",
    "    desc = df['Description'][i]\n",
    "    temp = detect(desc)\n",
    "    store.append(temp)\n",
    "  except:\n",
    "    language = \"error\"\n",
    "    print(\"This row throws and error:\", df['Description'][i])\n",
    "  #print(temp)"
   ]
  },
  {
   "cell_type": "code",
   "execution_count": 77,
   "metadata": {
    "colab": {
     "base_uri": "https://localhost:8080/",
     "height": 204
    },
    "colab_type": "code",
    "id": "2m91p-nYcs72",
    "outputId": "612acba5-aee8-48af-e6e9-e465048f3b6e"
   },
   "outputs": [
    {
     "data": {
      "text/html": [
       "<div>\n",
       "<style scoped>\n",
       "    .dataframe tbody tr th:only-of-type {\n",
       "        vertical-align: middle;\n",
       "    }\n",
       "\n",
       "    .dataframe tbody tr th {\n",
       "        vertical-align: top;\n",
       "    }\n",
       "\n",
       "    .dataframe thead th {\n",
       "        text-align: right;\n",
       "    }\n",
       "</style>\n",
       "<table border=\"1\" class=\"dataframe\">\n",
       "  <thead>\n",
       "    <tr style=\"text-align: right;\">\n",
       "      <th></th>\n",
       "      <th>0</th>\n",
       "      <th>lang</th>\n",
       "    </tr>\n",
       "  </thead>\n",
       "  <tbody>\n",
       "    <tr>\n",
       "      <th>0</th>\n",
       "      <td>en</td>\n",
       "      <td>en</td>\n",
       "    </tr>\n",
       "    <tr>\n",
       "      <th>1</th>\n",
       "      <td>en</td>\n",
       "      <td>en</td>\n",
       "    </tr>\n",
       "    <tr>\n",
       "      <th>2</th>\n",
       "      <td>en</td>\n",
       "      <td>en</td>\n",
       "    </tr>\n",
       "    <tr>\n",
       "      <th>3</th>\n",
       "      <td>en</td>\n",
       "      <td>en</td>\n",
       "    </tr>\n",
       "    <tr>\n",
       "      <th>4</th>\n",
       "      <td>no</td>\n",
       "      <td>no</td>\n",
       "    </tr>\n",
       "  </tbody>\n",
       "</table>\n",
       "</div>"
      ],
      "text/plain": [
       "    0 lang\n",
       "0  en   en\n",
       "1  en   en\n",
       "2  en   en\n",
       "3  en   en\n",
       "4  no   no"
      ]
     },
     "execution_count": 77,
     "metadata": {
      "tags": []
     },
     "output_type": "execute_result"
    }
   ],
   "source": [
    "store1 = pd.DataFrame(store)\n",
    "store1['lang'] = store1\n",
    "store1.head(5)"
   ]
  },
  {
   "cell_type": "code",
   "execution_count": 78,
   "metadata": {
    "colab": {
     "base_uri": "https://localhost:8080/",
     "height": 544
    },
    "colab_type": "code",
    "id": "7S0IpIxTdBYO",
    "outputId": "e7280147-bc16-4cf8-9705-759a72a0bed3"
   },
   "outputs": [
    {
     "data": {
      "text/plain": [
       "lang\n",
       "en    6995\n",
       "de     402\n",
       "af     265\n",
       "it     149\n",
       "fr     108\n",
       "vi     100\n",
       "no      62\n",
       "sv      61\n",
       "nl      60\n",
       "es      55\n",
       "ca      50\n",
       "da      37\n",
       "pl      34\n",
       "ro      23\n",
       "pt      19\n",
       "sq      12\n",
       "tl      11\n",
       "cy      11\n",
       "sl      10\n",
       "hr       6\n",
       "et       5\n",
       "fi       5\n",
       "so       5\n",
       "id       4\n",
       "lt       3\n",
       "cs       2\n",
       "sk       1\n",
       "sw       1\n",
       "lv       1\n",
       "Name: lang, dtype: int64"
      ]
     },
     "execution_count": 78,
     "metadata": {
      "tags": []
     },
     "output_type": "execute_result"
    }
   ],
   "source": [
    "store1.groupby(store1['lang'])['lang'].count().sort_values(ascending=False)"
   ]
  },
  {
   "cell_type": "code",
   "execution_count": 0,
   "metadata": {
    "colab": {},
    "colab_type": "code",
    "id": "4Qhm22Y1ctDv"
   },
   "outputs": [],
   "source": [
    "df2['lang'] = pd.DataFrame(store)"
   ]
  },
  {
   "cell_type": "code",
   "execution_count": 0,
   "metadata": {
    "colab": {
     "base_uri": "https://localhost:8080/",
     "height": 297
    },
    "colab_type": "code",
    "id": "vPPl8rXpuYbj",
    "outputId": "6800d1cd-2046-4c19-8881-94c8638a7ee5"
   },
   "outputs": [
    {
     "data": {
      "text/plain": [
       "<matplotlib.axes._subplots.AxesSubplot at 0x7fb0ccb5f390>"
      ]
     },
     "execution_count": 99,
     "metadata": {
      "tags": []
     },
     "output_type": "execute_result"
    },
    {
     "data": {
      "image/png": "[encoded data removed]",
      "text/plain": [
       "<Figure size 432x288 with 1 Axes>"
      ]
     },
     "metadata": {
      "tags": []
     },
     "output_type": "display_data"
    }
   ],
   "source": [
    "sns.boxplot(df2['Desc_word_count'])"
   ]
  },
  {
   "cell_type": "code",
   "execution_count": 0,
   "metadata": {
    "colab": {
     "base_uri": "https://localhost:8080/",
     "height": 297
    },
    "colab_type": "code",
    "id": "3tSeLn6cub9t",
    "outputId": "73ce692c-c8b5-42e5-80df-454ceb1119a3"
   },
   "outputs": [
    {
     "data": {
      "text/plain": [
       "<matplotlib.axes._subplots.AxesSubplot at 0x7fb112828630>"
      ]
     },
     "execution_count": 56,
     "metadata": {
      "tags": []
     },
     "output_type": "execute_result"
    },
    {
     "data": {
      "image/png": "[encoded data removed]",
      "text/plain": [
       "<Figure size 432x288 with 1 Axes>"
      ]
     },
     "metadata": {
      "tags": []
     },
     "output_type": "display_data"
    }
   ],
   "source": [
    "sns.boxplot(df2['Short_desc_word_count'])"
   ]
  },
  {
   "cell_type": "code",
   "execution_count": 0,
   "metadata": {
    "colab": {
     "base_uri": "https://localhost:8080/",
     "height": 204
    },
    "colab_type": "code",
    "id": "FTO-ekB9w1l2",
    "outputId": "5a242557-c883-4383-dd94-313636195fcb"
   },
   "outputs": [
    {
     "data": {
      "text/html": [
       "<div>\n",
       "<style scoped>\n",
       "    .dataframe tbody tr th:only-of-type {\n",
       "        vertical-align: middle;\n",
       "    }\n",
       "\n",
       "    .dataframe tbody tr th {\n",
       "        vertical-align: top;\n",
       "    }\n",
       "\n",
       "    .dataframe thead th {\n",
       "        text-align: right;\n",
       "    }\n",
       "</style>\n",
       "<table border=\"1\" class=\"dataframe\">\n",
       "  <thead>\n",
       "    <tr style=\"text-align: right;\">\n",
       "      <th></th>\n",
       "      <th>Short description</th>\n",
       "      <th>Description</th>\n",
       "      <th>Caller</th>\n",
       "      <th>Assignment group</th>\n",
       "      <th>Desc_word_count</th>\n",
       "      <th>Short_desc_word_count</th>\n",
       "    </tr>\n",
       "  </thead>\n",
       "  <tbody>\n",
       "    <tr>\n",
       "      <th>0</th>\n",
       "      <td>['login', 'issue']</td>\n",
       "      <td>['verified', 'user', 'details', 'employee', 'm...</td>\n",
       "      <td>spxjnwir pjlcoqds</td>\n",
       "      <td>GRP_0</td>\n",
       "      <td>22</td>\n",
       "      <td>2</td>\n",
       "    </tr>\n",
       "    <tr>\n",
       "      <th>1</th>\n",
       "      <td>['outlook']</td>\n",
       "      <td>['received', 'hmjdrvpb', 'komuaywn', 'gmail', ...</td>\n",
       "      <td>hmjdrvpb komuaywn</td>\n",
       "      <td>GRP_0</td>\n",
       "      <td>19</td>\n",
       "      <td>1</td>\n",
       "    </tr>\n",
       "    <tr>\n",
       "      <th>2</th>\n",
       "      <td>['cant', 'log', 'vpn']</td>\n",
       "      <td>['received', 'eylqgodm', 'ybqkwiam', 'gmail', ...</td>\n",
       "      <td>eylqgodm ybqkwiam</td>\n",
       "      <td>GRP_0</td>\n",
       "      <td>9</td>\n",
       "      <td>3</td>\n",
       "    </tr>\n",
       "    <tr>\n",
       "      <th>3</th>\n",
       "      <td>['unable', 'access', 'hr_tool', 'page']</td>\n",
       "      <td>['unable', 'access', 'hr', 'tool', 'page']</td>\n",
       "      <td>xbkucsvz gcpydteq</td>\n",
       "      <td>GRP_0</td>\n",
       "      <td>5</td>\n",
       "      <td>4</td>\n",
       "    </tr>\n",
       "    <tr>\n",
       "      <th>4</th>\n",
       "      <td>['skype', 'error']</td>\n",
       "      <td>['skype', 'error']</td>\n",
       "      <td>owlgqjme qhcozdfx</td>\n",
       "      <td>GRP_0</td>\n",
       "      <td>2</td>\n",
       "      <td>2</td>\n",
       "    </tr>\n",
       "  </tbody>\n",
       "</table>\n",
       "</div>"
      ],
      "text/plain": [
       "                         Short description  ... Short_desc_word_count\n",
       "0                       ['login', 'issue']  ...                     2\n",
       "1                              ['outlook']  ...                     1\n",
       "2                   ['cant', 'log', 'vpn']  ...                     3\n",
       "3  ['unable', 'access', 'hr_tool', 'page']  ...                     4\n",
       "4                       ['skype', 'error']  ...                     2\n",
       "\n",
       "[5 rows x 6 columns]"
      ]
     },
     "execution_count": 57,
     "metadata": {
      "tags": []
     },
     "output_type": "execute_result"
    }
   ],
   "source": [
    "df2.head()"
   ]
  },
  {
   "cell_type": "code",
   "execution_count": 0,
   "metadata": {
    "colab": {},
    "colab_type": "code",
    "id": "BrUZrh5Ww1zN"
   },
   "outputs": [],
   "source": [
    "df3 = df2.copy(deep=True)\n",
    "df4 = df2.copy(deep=True)"
   ]
  },
  {
   "cell_type": "code",
   "execution_count": 0,
   "metadata": {
    "colab": {},
    "colab_type": "code",
    "id": "woBSXhqTw1jU"
   },
   "outputs": [],
   "source": [
    "df3.drop(['Desc_word_count','Short_desc_word_count','Short description','Caller'],axis=1,inplace=True)\n",
    "df4.drop(['Desc_word_count','Description','Short_desc_word_count','Caller'],axis=1,inplace=True)"
   ]
  },
  {
   "cell_type": "code",
   "execution_count": 0,
   "metadata": {
    "colab": {},
    "colab_type": "code",
    "id": "fwexY-ayw1d1"
   },
   "outputs": [],
   "source": [
    "from sklearn.feature_extraction.text import CountVectorizer"
   ]
  },
  {
   "cell_type": "code",
   "execution_count": 0,
   "metadata": {
    "colab": {},
    "colab_type": "code",
    "id": "i-KWrGp2w1ZQ"
   },
   "outputs": [],
   "source": [
    "cv = CountVectorizer()\n",
    "x = cv.fit_transform(df3['Description'])\n",
    "y = df3['Assignment group']"
   ]
  },
  {
   "cell_type": "code",
   "execution_count": 0,
   "metadata": {
    "colab": {},
    "colab_type": "code",
    "id": "AhMss_fLw1VW"
   },
   "outputs": [],
   "source": [
    "from sklearn.model_selection import train_test_split\n",
    "x_train, x_test, y_train, y_test = train_test_split(x, y, test_size = 0.2, random_state = 0)"
   ]
  },
  {
   "cell_type": "code",
   "execution_count": 0,
   "metadata": {
    "colab": {
     "base_uri": "https://localhost:8080/",
     "height": 51
    },
    "colab_type": "code",
    "id": "FucQr6C0w1Sv",
    "outputId": "432bb875-012e-4b6d-da58-3463622a1b91"
   },
   "outputs": [
    {
     "name": "stdout",
     "output_type": "stream",
     "text": [
      "0.6885294117647058\n",
      "0.6376470588235295\n"
     ]
    }
   ],
   "source": [
    "from sklearn.naive_bayes import MultinomialNB\n",
    "model = MultinomialNB()\n",
    "model.fit(x_train, y_train)\n",
    "print(model.score(x_train,y_train))\n",
    "print(model.score(x_test,y_test))\n",
    "y_pred = model.predict(x_test)"
   ]
  },
  {
   "cell_type": "code",
   "execution_count": 0,
   "metadata": {
    "colab": {
     "base_uri": "https://localhost:8080/",
     "height": 1000
    },
    "colab_type": "code",
    "id": "rH8--Ys90Zx6",
    "outputId": "74ca9860-d6bb-4417-e056-00bc147cd425"
   },
   "outputs": [
    {
     "name": "stdout",
     "output_type": "stream",
     "text": [
      "              precision    recall  f1-score   support\n",
      "\n",
      "       GRP_0       0.68      0.99      0.80       825\n",
      "       GRP_1       0.00      0.00      0.00         3\n",
      "      GRP_10       0.00      0.00      0.00        27\n",
      "      GRP_11       0.00      0.00      0.00         3\n",
      "      GRP_12       0.40      0.37      0.38        46\n",
      "      GRP_13       0.31      0.39      0.35        28\n",
      "      GRP_14       1.00      0.17      0.29        24\n",
      "      GRP_15       0.00      0.00      0.00         5\n",
      "      GRP_16       0.00      0.00      0.00        17\n",
      "      GRP_17       0.00      0.00      0.00        12\n",
      "      GRP_18       0.50      0.10      0.17        20\n",
      "      GRP_19       0.83      0.14      0.23        37\n",
      "       GRP_2       0.62      0.43      0.51        47\n",
      "      GRP_20       0.00      0.00      0.00         6\n",
      "      GRP_21       0.00      0.00      0.00         9\n",
      "      GRP_22       0.00      0.00      0.00         4\n",
      "      GRP_23       0.00      0.00      0.00         9\n",
      "      GRP_24       0.72      0.95      0.82        59\n",
      "      GRP_25       0.50      0.10      0.17        29\n",
      "      GRP_26       1.00      0.12      0.22         8\n",
      "      GRP_27       0.00      0.00      0.00         4\n",
      "      GRP_28       0.00      0.00      0.00        11\n",
      "      GRP_29       1.00      0.10      0.17        21\n",
      "       GRP_3       0.40      0.18      0.24        34\n",
      "      GRP_30       1.00      0.14      0.25         7\n",
      "      GRP_31       0.00      0.00      0.00        13\n",
      "      GRP_33       0.56      0.24      0.33        21\n",
      "      GRP_34       0.00      0.00      0.00        11\n",
      "      GRP_36       0.00      0.00      0.00         1\n",
      "      GRP_37       0.00      0.00      0.00         3\n",
      "      GRP_38       0.00      0.00      0.00         1\n",
      "      GRP_39       0.00      0.00      0.00         6\n",
      "       GRP_4       0.50      0.06      0.11        17\n",
      "      GRP_40       0.00      0.00      0.00         6\n",
      "      GRP_41       1.00      0.17      0.29         6\n",
      "      GRP_42       1.00      0.11      0.20         9\n",
      "      GRP_44       1.00      0.20      0.33         5\n",
      "      GRP_45       0.00      0.00      0.00         5\n",
      "      GRP_46       0.00      0.00      0.00         1\n",
      "      GRP_47       0.00      0.00      0.00         8\n",
      "      GRP_48       0.00      0.00      0.00         6\n",
      "      GRP_49       0.00      0.00      0.00         2\n",
      "       GRP_5       0.00      0.00      0.00        27\n",
      "      GRP_50       0.00      0.00      0.00         3\n",
      "      GRP_52       0.00      0.00      0.00         1\n",
      "      GRP_53       0.00      0.00      0.00         2\n",
      "      GRP_54       0.00      0.00      0.00         1\n",
      "      GRP_55       0.00      0.00      0.00         4\n",
      "      GRP_59       0.00      0.00      0.00         1\n",
      "       GRP_6       0.40      0.07      0.12        28\n",
      "      GRP_60       0.00      0.00      0.00         6\n",
      "      GRP_62       1.00      0.50      0.67         2\n",
      "      GRP_65       0.00      0.00      0.00         3\n",
      "      GRP_66       0.00      0.00      0.00         2\n",
      "      GRP_69       0.00      0.00      0.00         2\n",
      "       GRP_7       0.00      0.00      0.00        20\n",
      "       GRP_8       0.53      0.94      0.68       139\n",
      "       GRP_9       0.50      0.02      0.04        43\n",
      "\n",
      "    accuracy                           0.64      1700\n",
      "   macro avg       0.27      0.11      0.13      1700\n",
      "weighted avg       0.55      0.64      0.54      1700\n",
      "\n"
     ]
    },
    {
     "name": "stderr",
     "output_type": "stream",
     "text": [
      "/usr/local/lib/python3.6/dist-packages/sklearn/metrics/_classification.py:1272: UndefinedMetricWarning: Precision and F-score are ill-defined and being set to 0.0 in labels with no predicted samples. Use `zero_division` parameter to control this behavior.\n",
      "  _warn_prf(average, modifier, msg_start, len(result))\n"
     ]
    }
   ],
   "source": [
    "from sklearn.metrics import classification_report\n",
    "print(classification_report(y_test,y_pred))"
   ]
  },
  {
   "cell_type": "code",
   "execution_count": 0,
   "metadata": {
    "colab": {},
    "colab_type": "code",
    "id": "_Xa-iiQ0w1Oh"
   },
   "outputs": [],
   "source": [
    "cv = CountVectorizer()\n",
    "x1 = cv.fit_transform(df4['Short description'])\n",
    "y1 = df4['Assignment group']"
   ]
  },
  {
   "cell_type": "code",
   "execution_count": 0,
   "metadata": {
    "colab": {},
    "colab_type": "code",
    "id": "tEs6Dooz0hRs"
   },
   "outputs": [],
   "source": [
    "from sklearn.model_selection import train_test_split\n",
    "x1_train, x1_test, y1_train, y1_test = train_test_split(x, y, test_size = 0.2, random_state = 0)"
   ]
  },
  {
   "cell_type": "code",
   "execution_count": 0,
   "metadata": {
    "colab": {
     "base_uri": "https://localhost:8080/",
     "height": 51
    },
    "colab_type": "code",
    "id": "YU7GEtZn0hNs",
    "outputId": "4e22690f-85ec-4eaf-a904-0e094b7df50b"
   },
   "outputs": [
    {
     "name": "stdout",
     "output_type": "stream",
     "text": [
      "0.6885294117647058\n",
      "0.6376470588235295\n"
     ]
    }
   ],
   "source": [
    "from sklearn.naive_bayes import MultinomialNB\n",
    "model = MultinomialNB()\n",
    "model.fit(x1_train, y1_train)\n",
    "print(model.score(x1_train,y1_train))\n",
    "print(model.score(x1_test,y1_test))\n",
    "y_pred = model.predict(x1_test)"
   ]
  },
  {
   "cell_type": "code",
   "execution_count": 0,
   "metadata": {
    "colab": {
     "base_uri": "https://localhost:8080/",
     "height": 1000
    },
    "colab_type": "code",
    "id": "FB8R4bvV0hLd",
    "outputId": "06afd7f2-9b88-4c07-f164-ee6af6f3c054"
   },
   "outputs": [
    {
     "name": "stdout",
     "output_type": "stream",
     "text": [
      "              precision    recall  f1-score   support\n",
      "\n",
      "       GRP_0       0.68      0.99      0.80       825\n",
      "       GRP_1       0.00      0.00      0.00         3\n",
      "      GRP_10       0.00      0.00      0.00        27\n",
      "      GRP_11       0.00      0.00      0.00         3\n",
      "      GRP_12       0.40      0.37      0.38        46\n",
      "      GRP_13       0.31      0.39      0.35        28\n",
      "      GRP_14       1.00      0.17      0.29        24\n",
      "      GRP_15       0.00      0.00      0.00         5\n",
      "      GRP_16       0.00      0.00      0.00        17\n",
      "      GRP_17       0.00      0.00      0.00        12\n",
      "      GRP_18       0.50      0.10      0.17        20\n",
      "      GRP_19       0.83      0.14      0.23        37\n",
      "       GRP_2       0.62      0.43      0.51        47\n",
      "      GRP_20       0.00      0.00      0.00         6\n",
      "      GRP_21       0.00      0.00      0.00         9\n",
      "      GRP_22       0.00      0.00      0.00         4\n",
      "      GRP_23       0.00      0.00      0.00         9\n",
      "      GRP_24       0.72      0.95      0.82        59\n",
      "      GRP_25       0.50      0.10      0.17        29\n",
      "      GRP_26       1.00      0.12      0.22         8\n",
      "      GRP_27       0.00      0.00      0.00         4\n",
      "      GRP_28       0.00      0.00      0.00        11\n",
      "      GRP_29       1.00      0.10      0.17        21\n",
      "       GRP_3       0.40      0.18      0.24        34\n",
      "      GRP_30       1.00      0.14      0.25         7\n",
      "      GRP_31       0.00      0.00      0.00        13\n",
      "      GRP_33       0.56      0.24      0.33        21\n",
      "      GRP_34       0.00      0.00      0.00        11\n",
      "      GRP_36       0.00      0.00      0.00         1\n",
      "      GRP_37       0.00      0.00      0.00         3\n",
      "      GRP_38       0.00      0.00      0.00         1\n",
      "      GRP_39       0.00      0.00      0.00         6\n",
      "       GRP_4       0.50      0.06      0.11        17\n",
      "      GRP_40       0.00      0.00      0.00         6\n",
      "      GRP_41       1.00      0.17      0.29         6\n",
      "      GRP_42       1.00      0.11      0.20         9\n",
      "      GRP_44       1.00      0.20      0.33         5\n",
      "      GRP_45       0.00      0.00      0.00         5\n",
      "      GRP_46       0.00      0.00      0.00         1\n",
      "      GRP_47       0.00      0.00      0.00         8\n",
      "      GRP_48       0.00      0.00      0.00         6\n",
      "      GRP_49       0.00      0.00      0.00         2\n",
      "       GRP_5       0.00      0.00      0.00        27\n",
      "      GRP_50       0.00      0.00      0.00         3\n",
      "      GRP_52       0.00      0.00      0.00         1\n",
      "      GRP_53       0.00      0.00      0.00         2\n",
      "      GRP_54       0.00      0.00      0.00         1\n",
      "      GRP_55       0.00      0.00      0.00         4\n",
      "      GRP_59       0.00      0.00      0.00         1\n",
      "       GRP_6       0.40      0.07      0.12        28\n",
      "      GRP_60       0.00      0.00      0.00         6\n",
      "      GRP_62       1.00      0.50      0.67         2\n",
      "      GRP_65       0.00      0.00      0.00         3\n",
      "      GRP_66       0.00      0.00      0.00         2\n",
      "      GRP_69       0.00      0.00      0.00         2\n",
      "       GRP_7       0.00      0.00      0.00        20\n",
      "       GRP_8       0.53      0.94      0.68       139\n",
      "       GRP_9       0.50      0.02      0.04        43\n",
      "\n",
      "    accuracy                           0.64      1700\n",
      "   macro avg       0.27      0.11      0.13      1700\n",
      "weighted avg       0.55      0.64      0.54      1700\n",
      "\n"
     ]
    },
    {
     "name": "stderr",
     "output_type": "stream",
     "text": [
      "/usr/local/lib/python3.6/dist-packages/sklearn/metrics/_classification.py:1272: UndefinedMetricWarning: Precision and F-score are ill-defined and being set to 0.0 in labels with no predicted samples. Use `zero_division` parameter to control this behavior.\n",
      "  _warn_prf(average, modifier, msg_start, len(result))\n"
     ]
    }
   ],
   "source": [
    "from sklearn.metrics import classification_report\n",
    "print(classification_report(y1_test,y_pred))"
   ]
  },
  {
   "cell_type": "code",
   "execution_count": 0,
   "metadata": {
    "colab": {
     "base_uri": "https://localhost:8080/",
     "height": 69
    },
    "colab_type": "code",
    "id": "3Kvc_9TNxOhe",
    "outputId": "5471b9ac-94a6-4c93-d846-2e6a3a4cb84a"
   },
   "outputs": [
    {
     "name": "stdout",
     "output_type": "stream",
     "text": [
      "Requirement already satisfied: textblob in /usr/local/lib/python3.6/dist-packages (0.15.3)\n",
      "Requirement already satisfied: nltk>=3.1 in /usr/local/lib/python3.6/dist-packages (from textblob) (3.2.5)\n",
      "Requirement already satisfied: six in /usr/local/lib/python3.6/dist-packages (from nltk>=3.1->textblob) (1.12.0)\n"
     ]
    }
   ],
   "source": [
    "!pip install textblob"
   ]
  },
  {
   "cell_type": "code",
   "execution_count": 0,
   "metadata": {
    "colab": {
     "base_uri": "https://localhost:8080/",
     "height": 51
    },
    "colab_type": "code",
    "id": "4i_ir3VyKnYL",
    "outputId": "77d86dd4-807b-4eae-cea8-132cb1370722"
   },
   "outputs": [
    {
     "name": "stdout",
     "output_type": "stream",
     "text": [
      "de\n",
      "en\n"
     ]
    }
   ],
   "source": [
    "from textblob import TextBlob\n",
    "b = TextBlob('an mehreren pc lassen sich verschiedene prgramdntyme nicht ã ffnen bereich cnc')\n",
    "c = TextBlob('unable to access hr tool page\t')\n",
    "print(b.detect_language())\n",
    "print(c.detect_language())"
   ]
  },
  {
   "cell_type": "code",
   "execution_count": 0,
   "metadata": {
    "colab": {
     "base_uri": "https://localhost:8080/",
     "height": 527
    },
    "colab_type": "code",
    "id": "t2-ctWqyVqLD",
    "outputId": "7ecf7ed5-868f-4e86-bfad-fc8cbaeefaa1"
   },
   "outputs": [
    {
     "name": "stdout",
     "output_type": "stream",
     "text": [
      "Collecting polyglot\n",
      "\u001b[?25l  Downloading https://files.pythonhosted.org/packages/e7/98/e24e2489114c5112b083714277204d92d372f5bbe00d5507acf40370edb9/polyglot-16.7.4.tar.gz (126kB)\n",
      "\r",
      "\u001b[K     |██▋                             | 10kB 20.6MB/s eta 0:00:01\r",
      "\u001b[K     |█████▏                          | 20kB 3.2MB/s eta 0:00:01\r",
      "\u001b[K     |███████▉                        | 30kB 4.6MB/s eta 0:00:01\r",
      "\u001b[K     |██████████▍                     | 40kB 3.0MB/s eta 0:00:01\r",
      "\u001b[K     |█████████████                   | 51kB 3.7MB/s eta 0:00:01\r",
      "\u001b[K     |███████████████▋                | 61kB 4.4MB/s eta 0:00:01\r",
      "\u001b[K     |██████████████████▏             | 71kB 5.1MB/s eta 0:00:01\r",
      "\u001b[K     |████████████████████▊           | 81kB 5.7MB/s eta 0:00:01\r",
      "\u001b[K     |███████████████████████▍        | 92kB 6.4MB/s eta 0:00:01\r",
      "\u001b[K     |██████████████████████████      | 102kB 5.0MB/s eta 0:00:01\r",
      "\u001b[K     |████████████████████████████▌   | 112kB 5.0MB/s eta 0:00:01\r",
      "\u001b[K     |███████████████████████████████▏| 122kB 5.0MB/s eta 0:00:01\r",
      "\u001b[K     |████████████████████████████████| 133kB 5.0MB/s \n",
      "\u001b[?25hBuilding wheels for collected packages: polyglot\n",
      "  Building wheel for polyglot (setup.py) ... \u001b[?25l\u001b[?25hdone\n",
      "  Created wheel for polyglot: filename=polyglot-16.7.4-py2.py3-none-any.whl size=52557 sha256=a536803a637b5155eb69c1f3617bb8991ff9d221a66809e39cc1bd66fd343846\n",
      "  Stored in directory: /root/.cache/pip/wheels/5e/91/ef/f1369fdc1203b0a9347d4b24f149b83a305f39ab047986d9da\n",
      "Successfully built polyglot\n",
      "Installing collected packages: polyglot\n",
      "Successfully installed polyglot-16.7.4\n",
      "Collecting PyICU\n",
      "\u001b[?25l  Downloading https://files.pythonhosted.org/packages/95/0c/0fb09019efb65a29789ec5538f8e521b8f548da6935a3a474e19fbf2ea4d/PyICU-2.4.2.tar.gz (219kB)\n",
      "\u001b[K     |████████████████████████████████| 225kB 4.7MB/s \n",
      "\u001b[?25hBuilding wheels for collected packages: PyICU\n",
      "  Building wheel for PyICU (setup.py) ... \u001b[?25l\u001b[?25hdone\n",
      "  Created wheel for PyICU: filename=PyICU-2.4.2-cp36-cp36m-linux_x86_64.whl size=1245327 sha256=96bee6778f9900ab1a26a271c4d107b7d8e1ade56d912b822e2250c14791fdc9\n",
      "  Stored in directory: /root/.cache/pip/wheels/d6/78/89/08a15173ae1905de95ce9a5f55b17259ca5b462ed11a4c068c\n",
      "Successfully built PyICU\n",
      "Installing collected packages: PyICU\n",
      "Successfully installed PyICU-2.4.2\n",
      "Collecting pycld2\n",
      "\u001b[?25l  Downloading https://files.pythonhosted.org/packages/21/d2/8b0def84a53c88d0eb27c67b05269fbd16ad68df8c78849e7b5d65e6aec3/pycld2-0.41.tar.gz (41.4MB)\n",
      "\u001b[K     |████████████████████████████████| 41.4MB 102kB/s \n",
      "\u001b[?25hBuilding wheels for collected packages: pycld2\n",
      "  Building wheel for pycld2 (setup.py) ... \u001b[?25l\u001b[?25hdone\n",
      "  Created wheel for pycld2: filename=pycld2-0.41-cp36-cp36m-linux_x86_64.whl size=9833413 sha256=ae8184f6f37cff9c3583e2c8b268a57e41adb747f0423fe70e318f762b8c565e\n",
      "  Stored in directory: /root/.cache/pip/wheels/c6/8f/e9/08a1a8932a490175bd140206cd86a3dbcfc70498100de11079\n",
      "Successfully built pycld2\n",
      "Installing collected packages: pycld2\n",
      "Successfully installed pycld2-0.41\n"
     ]
    }
   ],
   "source": [
    "!pip install polyglot\n",
    "!pip install PyICU\n",
    "!pip install pycld2"
   ]
  },
  {
   "cell_type": "code",
   "execution_count": 0,
   "metadata": {
    "colab": {
     "base_uri": "https://localhost:8080/",
     "height": 68
    },
    "colab_type": "code",
    "id": "UVLaJ0V5VhWw",
    "outputId": "1586dbd7-b315-4240-e9a6-a6cc0cd46fe3"
   },
   "outputs": [
    {
     "name": "stdout",
     "output_type": "stream",
     "text": [
      "name: German      code: de       confidence:  53.0 read bytes:   855\n",
      "name: English     code: en       confidence:  46.0 read bytes:  1263\n",
      "name: un          code: un       confidence:   0.0 read bytes:     0\n"
     ]
    }
   ],
   "source": [
    "from polyglot.detect import Detector\n",
    "\n",
    "mixed_text = u\"\"\"\n",
    "an mehreren pc lassen sich verschiedene prgramdntyme nicht ã ffnen bereich cnc,\n",
    "officially the People's Republic of China (PRC), is a sovereign state\n",
    "located in East Asia\n",
    "\"\"\"\n",
    "for language in Detector(mixed_text).languages:\n",
    "        print(language)"
   ]
  },
  {
   "cell_type": "code",
   "execution_count": 0,
   "metadata": {
    "colab": {},
    "colab_type": "code",
    "id": "x75B1QJ0z_xX"
   },
   "outputs": [],
   "source": [
    "MAX_NB_WORDS = 20000"
   ]
  },
  {
   "cell_type": "markdown",
   "metadata": {
    "colab_type": "text",
    "id": "KQNhMLWyBnOZ"
   },
   "source": [
    "Encoding the data using Tokenizer"
   ]
  },
  {
   "cell_type": "code",
   "execution_count": 0,
   "metadata": {
    "colab": {
     "base_uri": "https://localhost:8080/",
     "height": 80
    },
    "colab_type": "code",
    "id": "FnwevkKu0V-A",
    "outputId": "5b4616ac-a008-44c5-ae5e-8b8d00d93721"
   },
   "outputs": [
    {
     "name": "stderr",
     "output_type": "stream",
     "text": [
      "Using TensorFlow backend.\n"
     ]
    },
    {
     "data": {
      "text/html": [
       "<p style=\"color: red;\">\n",
       "The default version of TensorFlow in Colab will soon switch to TensorFlow 2.x.<br>\n",
       "We recommend you <a href=\"https://www.tensorflow.org/guide/migrate\" target=\"_blank\">upgrade</a> now \n",
       "or ensure your notebook will continue to use TensorFlow 1.x via the <code>%tensorflow_version 1.x</code> magic:\n",
       "<a href=\"https://colab.research.google.com/notebooks/tensorflow_version.ipynb\" target=\"_blank\">more info</a>.</p>\n"
      ],
      "text/plain": [
       "<IPython.core.display.HTML object>"
      ]
     },
     "metadata": {
      "tags": []
     },
     "output_type": "display_data"
    }
   ],
   "source": [
    "from keras.preprocessing.text import Tokenizer\n",
    "tokenizer = Tokenizer(num_words=MAX_NB_WORDS,split=' ')\n",
    "Description_df = df1['Description']\n",
    "tokenizer.fit_on_texts(Description_df)"
   ]
  },
  {
   "cell_type": "markdown",
   "metadata": {
    "colab_type": "text",
    "id": "OaJqemupBupK"
   },
   "source": [
    "Removing Stopwords from Description column"
   ]
  },
  {
   "cell_type": "code",
   "execution_count": 0,
   "metadata": {
    "colab": {},
    "colab_type": "code",
    "id": "bBJinY7qnas_"
   },
   "outputs": [],
   "source": [
    "Description = []\n",
    "for sentence in Description_df:\n",
    "  word_tokens = word_tokenize(sentence)\n",
    "  filtered_sentence = [w for w in word_tokens if not w in stop_words] \n",
    "  filtered_sentence = []\n",
    "  for w in word_tokens:\n",
    "      if w not in stop_words:\n",
    "        filtered_sentence.append(w)\n",
    "  Description.append(filtered_sentence)"
   ]
  },
  {
   "cell_type": "code",
   "execution_count": 0,
   "metadata": {
    "colab": {
     "base_uri": "https://localhost:8080/",
     "height": 54
    },
    "colab_type": "code",
    "id": "QU563OpvnhWE",
    "outputId": "f53a9eab-03e1-45b6-ea3f-723ac03c6b07"
   },
   "outputs": [
    {
     "name": "stdout",
     "output_type": "stream",
     "text": [
      "['verified', 'user', 'details', 'employee', 'manager', 'name', 'checked', 'user', 'name', 'ad', 'reset', 'password', 'advised', 'user', 'login', 'check', 'caller', 'confirmed', 'able', 'login', 'issue', 'resolved']\n"
     ]
    }
   ],
   "source": [
    "print(Description[0])"
   ]
  },
  {
   "cell_type": "code",
   "execution_count": 0,
   "metadata": {
    "colab": {
     "base_uri": "https://localhost:8080/",
     "height": 34
    },
    "colab_type": "code",
    "id": "AQF0p-Aos0xa",
    "outputId": "0d467dfb-8102-481b-838d-b83bcdef7399"
   },
   "outputs": [
    {
     "data": {
      "text/plain": [
       "22"
      ]
     },
     "execution_count": 77,
     "metadata": {
      "tags": []
     },
     "output_type": "execute_result"
    }
   ],
   "source": [
    "len(Description[0])"
   ]
  },
  {
   "cell_type": "markdown",
   "metadata": {
    "colab_type": "text",
    "id": "5JNYKu96CDyJ"
   },
   "source": [
    "Getting the maximun word count present in Description Column"
   ]
  },
  {
   "cell_type": "code",
   "execution_count": 0,
   "metadata": {
    "colab": {
     "base_uri": "https://localhost:8080/",
     "height": 34
    },
    "colab_type": "code",
    "id": "kZ5JpaNQxBfY",
    "outputId": "cb009608-87f3-41ed-a46c-20e48484323a"
   },
   "outputs": [
    {
     "name": "stdout",
     "output_type": "stream",
     "text": [
      "822\n"
     ]
    }
   ],
   "source": [
    "MAX_SENT_LENGTH=0\n",
    "for desc in Description:\n",
    "  if MAX_SENT_LENGTH < len(desc):\n",
    "    MAX_SENT_LENGTH = len(desc)\n",
    "print(MAX_SENT_LENGTH)      "
   ]
  },
  {
   "cell_type": "markdown",
   "metadata": {
    "colab_type": "text",
    "id": "sPqRWWPWB5uS"
   },
   "source": [
    "Creating Data array to hold word index values"
   ]
  },
  {
   "cell_type": "code",
   "execution_count": 0,
   "metadata": {
    "colab": {
     "base_uri": "https://localhost:8080/",
     "height": 34
    },
    "colab_type": "code",
    "id": "r4qs7knuy_Xc",
    "outputId": "bdd4b102-a1b0-4b59-a062-097ee868d433"
   },
   "outputs": [
    {
     "data": {
      "text/plain": [
       "(8500, 25)"
      ]
     },
     "execution_count": 79,
     "metadata": {
      "tags": []
     },
     "output_type": "execute_result"
    }
   ],
   "source": [
    "import numpy as np\n",
    "data = np.zeros((len(Description),25))\n",
    "data.shape"
   ]
  },
  {
   "cell_type": "code",
   "execution_count": 0,
   "metadata": {
    "colab": {},
    "colab_type": "code",
    "id": "DAQ6pZXm9U4l"
   },
   "outputs": [],
   "source": [
    "data=data.astype('int32')"
   ]
  },
  {
   "cell_type": "markdown",
   "metadata": {
    "colab_type": "text",
    "id": "nq1muPw6COQ6"
   },
   "source": [
    "Replacing dummy array with word index values for each Description"
   ]
  },
  {
   "cell_type": "code",
   "execution_count": 0,
   "metadata": {
    "colab": {},
    "colab_type": "code",
    "id": "wqhKivU61-GP"
   },
   "outputs": [],
   "source": [
    "from keras.preprocessing.text import text_to_word_sequence\n",
    "x=0\n",
    "for description in Description:\n",
    "  tkn = tokenizer.texts_to_sequences(description)#converting text to sequence\n",
    "  if(len(tkn)>0):\n",
    "    token_indexed = np.concatenate(tkn,axis=0).tolist()#converting array of array to single array\n",
    "    token_indexed = np.pad(token_indexed,(0,25))#appending max word count for each description\n",
    "    token_indexed = token_indexed[0:25]#get the first 822 values from each token\n",
    "    data[x]= token_indexed\n",
    "    x=x+1"
   ]
  },
  {
   "cell_type": "code",
   "execution_count": 0,
   "metadata": {
    "colab": {
     "base_uri": "https://localhost:8080/",
     "height": 51
    },
    "colab_type": "code",
    "id": "27cXvKXs9PFr",
    "outputId": "bbd7da28-b1a5-4daf-8783-1815a88a4ff7"
   },
   "outputs": [
    {
     "name": "stdout",
     "output_type": "stream",
     "text": [
      "[197  25 207 262 109  50 377  25  50 301  36  24 534  25  65 101 365 295\n",
      "  87  65  38 283   0   0   0]\n"
     ]
    }
   ],
   "source": [
    "print(data[0])"
   ]
  },
  {
   "cell_type": "code",
   "execution_count": 0,
   "metadata": {
    "colab": {},
    "colab_type": "code",
    "id": "xMglI-Mz7Tl0"
   },
   "outputs": [],
   "source": []
  },
  {
   "cell_type": "markdown",
   "metadata": {
    "colab_type": "text",
    "id": "jVPtkjyOBIoK"
   },
   "source": [
    "Convert labels into one-hot vectors"
   ]
  },
  {
   "cell_type": "code",
   "execution_count": 0,
   "metadata": {
    "colab": {},
    "colab_type": "code",
    "id": "7e6RcpthBLpa"
   },
   "outputs": [],
   "source": [
    "assignment_group = pd.DataFrame(df1['Assignment group'])\n",
    "group = pd.get_dummies(assignment_group,columns=['Assignment group'])"
   ]
  },
  {
   "cell_type": "code",
   "execution_count": 0,
   "metadata": {
    "colab": {
     "base_uri": "https://localhost:8080/",
     "height": 241
    },
    "colab_type": "code",
    "id": "2zUBRXRiDHiQ",
    "outputId": "6d641822-990e-41eb-c94d-440dda4964a5"
   },
   "outputs": [
    {
     "data": {
      "text/html": [
       "<div>\n",
       "<style scoped>\n",
       "    .dataframe tbody tr th:only-of-type {\n",
       "        vertical-align: middle;\n",
       "    }\n",
       "\n",
       "    .dataframe tbody tr th {\n",
       "        vertical-align: top;\n",
       "    }\n",
       "\n",
       "    .dataframe thead th {\n",
       "        text-align: right;\n",
       "    }\n",
       "</style>\n",
       "<table border=\"1\" class=\"dataframe\">\n",
       "  <thead>\n",
       "    <tr style=\"text-align: right;\">\n",
       "      <th></th>\n",
       "      <th>Assignment group_GRP_0</th>\n",
       "      <th>Assignment group_GRP_1</th>\n",
       "      <th>Assignment group_GRP_10</th>\n",
       "      <th>Assignment group_GRP_11</th>\n",
       "      <th>Assignment group_GRP_12</th>\n",
       "      <th>Assignment group_GRP_13</th>\n",
       "      <th>Assignment group_GRP_14</th>\n",
       "      <th>Assignment group_GRP_15</th>\n",
       "      <th>Assignment group_GRP_16</th>\n",
       "      <th>Assignment group_GRP_17</th>\n",
       "      <th>Assignment group_GRP_18</th>\n",
       "      <th>Assignment group_GRP_19</th>\n",
       "      <th>Assignment group_GRP_2</th>\n",
       "      <th>Assignment group_GRP_20</th>\n",
       "      <th>Assignment group_GRP_21</th>\n",
       "      <th>Assignment group_GRP_22</th>\n",
       "      <th>Assignment group_GRP_23</th>\n",
       "      <th>Assignment group_GRP_24</th>\n",
       "      <th>Assignment group_GRP_25</th>\n",
       "      <th>Assignment group_GRP_26</th>\n",
       "      <th>Assignment group_GRP_27</th>\n",
       "      <th>Assignment group_GRP_28</th>\n",
       "      <th>Assignment group_GRP_29</th>\n",
       "      <th>Assignment group_GRP_3</th>\n",
       "      <th>Assignment group_GRP_30</th>\n",
       "      <th>Assignment group_GRP_31</th>\n",
       "      <th>Assignment group_GRP_32</th>\n",
       "      <th>Assignment group_GRP_33</th>\n",
       "      <th>Assignment group_GRP_34</th>\n",
       "      <th>Assignment group_GRP_35</th>\n",
       "      <th>Assignment group_GRP_36</th>\n",
       "      <th>Assignment group_GRP_37</th>\n",
       "      <th>Assignment group_GRP_38</th>\n",
       "      <th>Assignment group_GRP_39</th>\n",
       "      <th>Assignment group_GRP_4</th>\n",
       "      <th>Assignment group_GRP_40</th>\n",
       "      <th>Assignment group_GRP_41</th>\n",
       "      <th>Assignment group_GRP_42</th>\n",
       "      <th>Assignment group_GRP_43</th>\n",
       "      <th>Assignment group_GRP_44</th>\n",
       "      <th>Assignment group_GRP_45</th>\n",
       "      <th>Assignment group_GRP_46</th>\n",
       "      <th>Assignment group_GRP_47</th>\n",
       "      <th>Assignment group_GRP_48</th>\n",
       "      <th>Assignment group_GRP_49</th>\n",
       "      <th>Assignment group_GRP_5</th>\n",
       "      <th>Assignment group_GRP_50</th>\n",
       "      <th>Assignment group_GRP_51</th>\n",
       "      <th>Assignment group_GRP_52</th>\n",
       "      <th>Assignment group_GRP_53</th>\n",
       "      <th>Assignment group_GRP_54</th>\n",
       "      <th>Assignment group_GRP_55</th>\n",
       "      <th>Assignment group_GRP_56</th>\n",
       "      <th>Assignment group_GRP_57</th>\n",
       "      <th>Assignment group_GRP_58</th>\n",
       "      <th>Assignment group_GRP_59</th>\n",
       "      <th>Assignment group_GRP_6</th>\n",
       "      <th>Assignment group_GRP_60</th>\n",
       "      <th>Assignment group_GRP_61</th>\n",
       "      <th>Assignment group_GRP_62</th>\n",
       "      <th>Assignment group_GRP_63</th>\n",
       "      <th>Assignment group_GRP_64</th>\n",
       "      <th>Assignment group_GRP_65</th>\n",
       "      <th>Assignment group_GRP_66</th>\n",
       "      <th>Assignment group_GRP_67</th>\n",
       "      <th>Assignment group_GRP_68</th>\n",
       "      <th>Assignment group_GRP_69</th>\n",
       "      <th>Assignment group_GRP_7</th>\n",
       "      <th>Assignment group_GRP_70</th>\n",
       "      <th>Assignment group_GRP_71</th>\n",
       "      <th>Assignment group_GRP_72</th>\n",
       "      <th>Assignment group_GRP_73</th>\n",
       "      <th>Assignment group_GRP_8</th>\n",
       "      <th>Assignment group_GRP_9</th>\n",
       "    </tr>\n",
       "  </thead>\n",
       "  <tbody>\n",
       "    <tr>\n",
       "      <th>0</th>\n",
       "      <td>1</td>\n",
       "      <td>0</td>\n",
       "      <td>0</td>\n",
       "      <td>0</td>\n",
       "      <td>0</td>\n",
       "      <td>0</td>\n",
       "      <td>0</td>\n",
       "      <td>0</td>\n",
       "      <td>0</td>\n",
       "      <td>0</td>\n",
       "      <td>0</td>\n",
       "      <td>0</td>\n",
       "      <td>0</td>\n",
       "      <td>0</td>\n",
       "      <td>0</td>\n",
       "      <td>0</td>\n",
       "      <td>0</td>\n",
       "      <td>0</td>\n",
       "      <td>0</td>\n",
       "      <td>0</td>\n",
       "      <td>0</td>\n",
       "      <td>0</td>\n",
       "      <td>0</td>\n",
       "      <td>0</td>\n",
       "      <td>0</td>\n",
       "      <td>0</td>\n",
       "      <td>0</td>\n",
       "      <td>0</td>\n",
       "      <td>0</td>\n",
       "      <td>0</td>\n",
       "      <td>0</td>\n",
       "      <td>0</td>\n",
       "      <td>0</td>\n",
       "      <td>0</td>\n",
       "      <td>0</td>\n",
       "      <td>0</td>\n",
       "      <td>0</td>\n",
       "      <td>0</td>\n",
       "      <td>0</td>\n",
       "      <td>0</td>\n",
       "      <td>0</td>\n",
       "      <td>0</td>\n",
       "      <td>0</td>\n",
       "      <td>0</td>\n",
       "      <td>0</td>\n",
       "      <td>0</td>\n",
       "      <td>0</td>\n",
       "      <td>0</td>\n",
       "      <td>0</td>\n",
       "      <td>0</td>\n",
       "      <td>0</td>\n",
       "      <td>0</td>\n",
       "      <td>0</td>\n",
       "      <td>0</td>\n",
       "      <td>0</td>\n",
       "      <td>0</td>\n",
       "      <td>0</td>\n",
       "      <td>0</td>\n",
       "      <td>0</td>\n",
       "      <td>0</td>\n",
       "      <td>0</td>\n",
       "      <td>0</td>\n",
       "      <td>0</td>\n",
       "      <td>0</td>\n",
       "      <td>0</td>\n",
       "      <td>0</td>\n",
       "      <td>0</td>\n",
       "      <td>0</td>\n",
       "      <td>0</td>\n",
       "      <td>0</td>\n",
       "      <td>0</td>\n",
       "      <td>0</td>\n",
       "      <td>0</td>\n",
       "      <td>0</td>\n",
       "    </tr>\n",
       "    <tr>\n",
       "      <th>1</th>\n",
       "      <td>1</td>\n",
       "      <td>0</td>\n",
       "      <td>0</td>\n",
       "      <td>0</td>\n",
       "      <td>0</td>\n",
       "      <td>0</td>\n",
       "      <td>0</td>\n",
       "      <td>0</td>\n",
       "      <td>0</td>\n",
       "      <td>0</td>\n",
       "      <td>0</td>\n",
       "      <td>0</td>\n",
       "      <td>0</td>\n",
       "      <td>0</td>\n",
       "      <td>0</td>\n",
       "      <td>0</td>\n",
       "      <td>0</td>\n",
       "      <td>0</td>\n",
       "      <td>0</td>\n",
       "      <td>0</td>\n",
       "      <td>0</td>\n",
       "      <td>0</td>\n",
       "      <td>0</td>\n",
       "      <td>0</td>\n",
       "      <td>0</td>\n",
       "      <td>0</td>\n",
       "      <td>0</td>\n",
       "      <td>0</td>\n",
       "      <td>0</td>\n",
       "      <td>0</td>\n",
       "      <td>0</td>\n",
       "      <td>0</td>\n",
       "      <td>0</td>\n",
       "      <td>0</td>\n",
       "      <td>0</td>\n",
       "      <td>0</td>\n",
       "      <td>0</td>\n",
       "      <td>0</td>\n",
       "      <td>0</td>\n",
       "      <td>0</td>\n",
       "      <td>0</td>\n",
       "      <td>0</td>\n",
       "      <td>0</td>\n",
       "      <td>0</td>\n",
       "      <td>0</td>\n",
       "      <td>0</td>\n",
       "      <td>0</td>\n",
       "      <td>0</td>\n",
       "      <td>0</td>\n",
       "      <td>0</td>\n",
       "      <td>0</td>\n",
       "      <td>0</td>\n",
       "      <td>0</td>\n",
       "      <td>0</td>\n",
       "      <td>0</td>\n",
       "      <td>0</td>\n",
       "      <td>0</td>\n",
       "      <td>0</td>\n",
       "      <td>0</td>\n",
       "      <td>0</td>\n",
       "      <td>0</td>\n",
       "      <td>0</td>\n",
       "      <td>0</td>\n",
       "      <td>0</td>\n",
       "      <td>0</td>\n",
       "      <td>0</td>\n",
       "      <td>0</td>\n",
       "      <td>0</td>\n",
       "      <td>0</td>\n",
       "      <td>0</td>\n",
       "      <td>0</td>\n",
       "      <td>0</td>\n",
       "      <td>0</td>\n",
       "      <td>0</td>\n",
       "    </tr>\n",
       "    <tr>\n",
       "      <th>2</th>\n",
       "      <td>1</td>\n",
       "      <td>0</td>\n",
       "      <td>0</td>\n",
       "      <td>0</td>\n",
       "      <td>0</td>\n",
       "      <td>0</td>\n",
       "      <td>0</td>\n",
       "      <td>0</td>\n",
       "      <td>0</td>\n",
       "      <td>0</td>\n",
       "      <td>0</td>\n",
       "      <td>0</td>\n",
       "      <td>0</td>\n",
       "      <td>0</td>\n",
       "      <td>0</td>\n",
       "      <td>0</td>\n",
       "      <td>0</td>\n",
       "      <td>0</td>\n",
       "      <td>0</td>\n",
       "      <td>0</td>\n",
       "      <td>0</td>\n",
       "      <td>0</td>\n",
       "      <td>0</td>\n",
       "      <td>0</td>\n",
       "      <td>0</td>\n",
       "      <td>0</td>\n",
       "      <td>0</td>\n",
       "      <td>0</td>\n",
       "      <td>0</td>\n",
       "      <td>0</td>\n",
       "      <td>0</td>\n",
       "      <td>0</td>\n",
       "      <td>0</td>\n",
       "      <td>0</td>\n",
       "      <td>0</td>\n",
       "      <td>0</td>\n",
       "      <td>0</td>\n",
       "      <td>0</td>\n",
       "      <td>0</td>\n",
       "      <td>0</td>\n",
       "      <td>0</td>\n",
       "      <td>0</td>\n",
       "      <td>0</td>\n",
       "      <td>0</td>\n",
       "      <td>0</td>\n",
       "      <td>0</td>\n",
       "      <td>0</td>\n",
       "      <td>0</td>\n",
       "      <td>0</td>\n",
       "      <td>0</td>\n",
       "      <td>0</td>\n",
       "      <td>0</td>\n",
       "      <td>0</td>\n",
       "      <td>0</td>\n",
       "      <td>0</td>\n",
       "      <td>0</td>\n",
       "      <td>0</td>\n",
       "      <td>0</td>\n",
       "      <td>0</td>\n",
       "      <td>0</td>\n",
       "      <td>0</td>\n",
       "      <td>0</td>\n",
       "      <td>0</td>\n",
       "      <td>0</td>\n",
       "      <td>0</td>\n",
       "      <td>0</td>\n",
       "      <td>0</td>\n",
       "      <td>0</td>\n",
       "      <td>0</td>\n",
       "      <td>0</td>\n",
       "      <td>0</td>\n",
       "      <td>0</td>\n",
       "      <td>0</td>\n",
       "      <td>0</td>\n",
       "    </tr>\n",
       "    <tr>\n",
       "      <th>3</th>\n",
       "      <td>1</td>\n",
       "      <td>0</td>\n",
       "      <td>0</td>\n",
       "      <td>0</td>\n",
       "      <td>0</td>\n",
       "      <td>0</td>\n",
       "      <td>0</td>\n",
       "      <td>0</td>\n",
       "      <td>0</td>\n",
       "      <td>0</td>\n",
       "      <td>0</td>\n",
       "      <td>0</td>\n",
       "      <td>0</td>\n",
       "      <td>0</td>\n",
       "      <td>0</td>\n",
       "      <td>0</td>\n",
       "      <td>0</td>\n",
       "      <td>0</td>\n",
       "      <td>0</td>\n",
       "      <td>0</td>\n",
       "      <td>0</td>\n",
       "      <td>0</td>\n",
       "      <td>0</td>\n",
       "      <td>0</td>\n",
       "      <td>0</td>\n",
       "      <td>0</td>\n",
       "      <td>0</td>\n",
       "      <td>0</td>\n",
       "      <td>0</td>\n",
       "      <td>0</td>\n",
       "      <td>0</td>\n",
       "      <td>0</td>\n",
       "      <td>0</td>\n",
       "      <td>0</td>\n",
       "      <td>0</td>\n",
       "      <td>0</td>\n",
       "      <td>0</td>\n",
       "      <td>0</td>\n",
       "      <td>0</td>\n",
       "      <td>0</td>\n",
       "      <td>0</td>\n",
       "      <td>0</td>\n",
       "      <td>0</td>\n",
       "      <td>0</td>\n",
       "      <td>0</td>\n",
       "      <td>0</td>\n",
       "      <td>0</td>\n",
       "      <td>0</td>\n",
       "      <td>0</td>\n",
       "      <td>0</td>\n",
       "      <td>0</td>\n",
       "      <td>0</td>\n",
       "      <td>0</td>\n",
       "      <td>0</td>\n",
       "      <td>0</td>\n",
       "      <td>0</td>\n",
       "      <td>0</td>\n",
       "      <td>0</td>\n",
       "      <td>0</td>\n",
       "      <td>0</td>\n",
       "      <td>0</td>\n",
       "      <td>0</td>\n",
       "      <td>0</td>\n",
       "      <td>0</td>\n",
       "      <td>0</td>\n",
       "      <td>0</td>\n",
       "      <td>0</td>\n",
       "      <td>0</td>\n",
       "      <td>0</td>\n",
       "      <td>0</td>\n",
       "      <td>0</td>\n",
       "      <td>0</td>\n",
       "      <td>0</td>\n",
       "      <td>0</td>\n",
       "    </tr>\n",
       "    <tr>\n",
       "      <th>4</th>\n",
       "      <td>1</td>\n",
       "      <td>0</td>\n",
       "      <td>0</td>\n",
       "      <td>0</td>\n",
       "      <td>0</td>\n",
       "      <td>0</td>\n",
       "      <td>0</td>\n",
       "      <td>0</td>\n",
       "      <td>0</td>\n",
       "      <td>0</td>\n",
       "      <td>0</td>\n",
       "      <td>0</td>\n",
       "      <td>0</td>\n",
       "      <td>0</td>\n",
       "      <td>0</td>\n",
       "      <td>0</td>\n",
       "      <td>0</td>\n",
       "      <td>0</td>\n",
       "      <td>0</td>\n",
       "      <td>0</td>\n",
       "      <td>0</td>\n",
       "      <td>0</td>\n",
       "      <td>0</td>\n",
       "      <td>0</td>\n",
       "      <td>0</td>\n",
       "      <td>0</td>\n",
       "      <td>0</td>\n",
       "      <td>0</td>\n",
       "      <td>0</td>\n",
       "      <td>0</td>\n",
       "      <td>0</td>\n",
       "      <td>0</td>\n",
       "      <td>0</td>\n",
       "      <td>0</td>\n",
       "      <td>0</td>\n",
       "      <td>0</td>\n",
       "      <td>0</td>\n",
       "      <td>0</td>\n",
       "      <td>0</td>\n",
       "      <td>0</td>\n",
       "      <td>0</td>\n",
       "      <td>0</td>\n",
       "      <td>0</td>\n",
       "      <td>0</td>\n",
       "      <td>0</td>\n",
       "      <td>0</td>\n",
       "      <td>0</td>\n",
       "      <td>0</td>\n",
       "      <td>0</td>\n",
       "      <td>0</td>\n",
       "      <td>0</td>\n",
       "      <td>0</td>\n",
       "      <td>0</td>\n",
       "      <td>0</td>\n",
       "      <td>0</td>\n",
       "      <td>0</td>\n",
       "      <td>0</td>\n",
       "      <td>0</td>\n",
       "      <td>0</td>\n",
       "      <td>0</td>\n",
       "      <td>0</td>\n",
       "      <td>0</td>\n",
       "      <td>0</td>\n",
       "      <td>0</td>\n",
       "      <td>0</td>\n",
       "      <td>0</td>\n",
       "      <td>0</td>\n",
       "      <td>0</td>\n",
       "      <td>0</td>\n",
       "      <td>0</td>\n",
       "      <td>0</td>\n",
       "      <td>0</td>\n",
       "      <td>0</td>\n",
       "      <td>0</td>\n",
       "    </tr>\n",
       "  </tbody>\n",
       "</table>\n",
       "</div>"
      ],
      "text/plain": [
       "   Assignment group_GRP_0  ...  Assignment group_GRP_9\n",
       "0                       1  ...                       0\n",
       "1                       1  ...                       0\n",
       "2                       1  ...                       0\n",
       "3                       1  ...                       0\n",
       "4                       1  ...                       0\n",
       "\n",
       "[5 rows x 74 columns]"
      ]
     },
     "execution_count": 84,
     "metadata": {
      "tags": []
     },
     "output_type": "execute_result"
    }
   ],
   "source": [
    "group.head()"
   ]
  },
  {
   "cell_type": "code",
   "execution_count": 0,
   "metadata": {
    "colab": {
     "base_uri": "https://localhost:8080/",
     "height": 51
    },
    "colab_type": "code",
    "id": "fO-tuFwcCuhq",
    "outputId": "ef3a4fe0-ff4e-4477-99f2-f3cc69fef9c6"
   },
   "outputs": [
    {
     "name": "stdout",
     "output_type": "stream",
     "text": [
      "[1 0 0 0 0 0 0 0 0 0 0 0 0 0 0 0 0 0 0 0 0 0 0 0 0 0 0 0 0 0 0 0 0 0 0 0 0\n",
      " 0 0 0 0 0 0 0 0 0 0 0 0 0 0 0 0 0 0 0 0 0 0 0 0 0 0 0 0 0 0 0 0 0 0 0 0 0]\n"
     ]
    }
   ],
   "source": [
    "labels = np.array(group)\n",
    "print(labels[0])"
   ]
  },
  {
   "cell_type": "markdown",
   "metadata": {
    "colab_type": "text",
    "id": "T-uajKDYDoBx"
   },
   "source": [
    "Check the shape of data and label arrays"
   ]
  },
  {
   "cell_type": "code",
   "execution_count": 0,
   "metadata": {
    "colab": {
     "base_uri": "https://localhost:8080/",
     "height": 51
    },
    "colab_type": "code",
    "id": "g4ScwphtDisn",
    "outputId": "a69fb6a0-ab9c-4ba3-e63d-44412238a4cd"
   },
   "outputs": [
    {
     "name": "stdout",
     "output_type": "stream",
     "text": [
      "Shape of data tensor: (8500, 25)\n",
      "Shape of label tensor: (8500, 74)\n"
     ]
    }
   ],
   "source": [
    "print('Shape of data tensor:', data.shape)\n",
    "print('Shape of label tensor:', labels.shape)"
   ]
  },
  {
   "cell_type": "markdown",
   "metadata": {
    "colab_type": "text",
    "id": "L2qJyX0vD2GJ"
   },
   "source": [
    "Shuffling the data & labels"
   ]
  },
  {
   "cell_type": "code",
   "execution_count": 0,
   "metadata": {
    "colab": {},
    "colab_type": "code",
    "id": "oKs3tuQ9D45w"
   },
   "outputs": [],
   "source": [
    "indices = np.arange(data.shape[0])\n",
    "np.random.shuffle(indices)\n",
    "data = data[indices]\n",
    "labels = labels[indices]"
   ]
  },
  {
   "cell_type": "markdown",
   "metadata": {
    "colab_type": "text",
    "id": "xmu9cNdmEk1R"
   },
   "source": [
    "Creating training and testing set"
   ]
  },
  {
   "cell_type": "code",
   "execution_count": 0,
   "metadata": {
    "colab": {},
    "colab_type": "code",
    "id": "KQoHm9cVEHZh"
   },
   "outputs": [],
   "source": [
    "from sklearn.model_selection import train_test_split\n",
    "X_train, X_val, Y_train, Y_val = train_test_split(data,labels, test_size = 0.20, random_state = 42)"
   ]
  },
  {
   "cell_type": "code",
   "execution_count": 0,
   "metadata": {
    "colab": {
     "base_uri": "https://localhost:8080/",
     "height": 68
    },
    "colab_type": "code",
    "id": "GuFTxjz88Q36",
    "outputId": "843a5866-384a-4203-c74d-abc269b75b4a"
   },
   "outputs": [
    {
     "data": {
      "text/plain": [
       "array([  11, 1636, 1637,   12,    3, 1636, 1637, 4979,  230,  150,  621,\n",
       "       1636, 1637,   12,    3,  118, 1636, 1637,   12,    3,    0,    0,\n",
       "          0,    0,    0], dtype=int32)"
      ]
     },
     "execution_count": 89,
     "metadata": {
      "tags": []
     },
     "output_type": "execute_result"
    }
   ],
   "source": [
    "X_train[0]"
   ]
  },
  {
   "cell_type": "code",
   "execution_count": 0,
   "metadata": {
    "colab": {
     "base_uri": "https://localhost:8080/",
     "height": 85
    },
    "colab_type": "code",
    "id": "hPdlvzNBErgA",
    "outputId": "fb060676-3e4a-4684-d9ad-743a79acfc2a"
   },
   "outputs": [
    {
     "name": "stdout",
     "output_type": "stream",
     "text": [
      "(6800, 25)\n",
      "(6800, 74)\n",
      "(1700, 25)\n",
      "(1700, 74)\n"
     ]
    }
   ],
   "source": [
    "print(X_train.shape)\n",
    "print(Y_train.shape)\n",
    "print(X_val.shape)\n",
    "print(Y_val.shape)"
   ]
  },
  {
   "cell_type": "code",
   "execution_count": 0,
   "metadata": {
    "colab": {
     "base_uri": "https://localhost:8080/",
     "height": 68
    },
    "colab_type": "code",
    "id": "UB_QqeBDA8J-",
    "outputId": "e0bc7a39-ea5b-4771-ffb5-58d85aab4e9d"
   },
   "outputs": [
    {
     "data": {
      "text/plain": [
       "array([  11, 1636, 1637,   12,    3, 1636, 1637, 4979,  230,  150,  621,\n",
       "       1636, 1637,   12,    3,  118, 1636, 1637,   12,    3,    0,    0,\n",
       "          0,    0,    0], dtype=int32)"
      ]
     },
     "execution_count": 91,
     "metadata": {
      "tags": []
     },
     "output_type": "execute_result"
    }
   ],
   "source": [
    "X_train[0]"
   ]
  },
  {
   "cell_type": "code",
   "execution_count": 0,
   "metadata": {
    "colab": {},
    "colab_type": "code",
    "id": "jspxQrqph7eC"
   },
   "outputs": [],
   "source": [
    "from keras.datasets import imdb\n",
    "import numpy as np\n",
    "import pandas as pd\n",
    "from keras.models import Sequential\n",
    "from keras.layers import Dense\n",
    "from keras.layers import LSTM\n",
    "from keras.layers.embeddings import Embedding\n",
    "from keras.preprocessing import sequence\n",
    "# fix random seed for reproducibility\n",
    "np.random.seed(7)"
   ]
  },
  {
   "cell_type": "code",
   "execution_count": 0,
   "metadata": {
    "colab": {
     "base_uri": "https://localhost:8080/",
     "height": 921
    },
    "colab_type": "code",
    "id": "JDC4v26LfLFT",
    "outputId": "9d3b1e11-8a46-4056-983c-7b339147c63a"
   },
   "outputs": [
    {
     "name": "stdout",
     "output_type": "stream",
     "text": [
      "WARNING:tensorflow:From /usr/local/lib/python3.6/dist-packages/keras/backend/tensorflow_backend.py:66: The name tf.get_default_graph is deprecated. Please use tf.compat.v1.get_default_graph instead.\n",
      "\n",
      "WARNING:tensorflow:From /usr/local/lib/python3.6/dist-packages/keras/backend/tensorflow_backend.py:541: The name tf.placeholder is deprecated. Please use tf.compat.v1.placeholder instead.\n",
      "\n",
      "WARNING:tensorflow:From /usr/local/lib/python3.6/dist-packages/keras/backend/tensorflow_backend.py:4432: The name tf.random_uniform is deprecated. Please use tf.random.uniform instead.\n",
      "\n",
      "WARNING:tensorflow:From /usr/local/lib/python3.6/dist-packages/keras/optimizers.py:793: The name tf.train.Optimizer is deprecated. Please use tf.compat.v1.train.Optimizer instead.\n",
      "\n",
      "WARNING:tensorflow:From /usr/local/lib/python3.6/dist-packages/keras/backend/tensorflow_backend.py:3657: The name tf.log is deprecated. Please use tf.math.log instead.\n",
      "\n",
      "WARNING:tensorflow:From /usr/local/lib/python3.6/dist-packages/tensorflow_core/python/ops/nn_impl.py:183: where (from tensorflow.python.ops.array_ops) is deprecated and will be removed in a future version.\n",
      "Instructions for updating:\n",
      "Use tf.where in 2.0, which has the same broadcast rule as np.where\n",
      "Model: \"sequential_1\"\n",
      "_________________________________________________________________\n",
      "Layer (type)                 Output Shape              Param #   \n",
      "=================================================================\n",
      "embedding_1 (Embedding)      (None, 25, 32)            640000    \n",
      "_________________________________________________________________\n",
      "bidirectional_1 (Bidirection (None, 260)               169520    \n",
      "_________________________________________________________________\n",
      "dense_1 (Dense)              (None, 74)                19314     \n",
      "=================================================================\n",
      "Total params: 828,834\n",
      "Trainable params: 828,834\n",
      "Non-trainable params: 0\n",
      "_________________________________________________________________\n",
      "None\n",
      "WARNING:tensorflow:From /usr/local/lib/python3.6/dist-packages/keras/backend/tensorflow_backend.py:1033: The name tf.assign_add is deprecated. Please use tf.compat.v1.assign_add instead.\n",
      "\n",
      "WARNING:tensorflow:From /usr/local/lib/python3.6/dist-packages/keras/backend/tensorflow_backend.py:1020: The name tf.assign is deprecated. Please use tf.compat.v1.assign instead.\n",
      "\n",
      "WARNING:tensorflow:From /usr/local/lib/python3.6/dist-packages/keras/backend/tensorflow_backend.py:3005: The name tf.Session is deprecated. Please use tf.compat.v1.Session instead.\n",
      "\n",
      "Train on 6800 samples, validate on 1700 samples\n",
      "Epoch 1/3\n",
      "WARNING:tensorflow:From /usr/local/lib/python3.6/dist-packages/keras/backend/tensorflow_backend.py:190: The name tf.get_default_session is deprecated. Please use tf.compat.v1.get_default_session instead.\n",
      "\n",
      "WARNING:tensorflow:From /usr/local/lib/python3.6/dist-packages/keras/backend/tensorflow_backend.py:197: The name tf.ConfigProto is deprecated. Please use tf.compat.v1.ConfigProto instead.\n",
      "\n",
      "WARNING:tensorflow:From /usr/local/lib/python3.6/dist-packages/keras/backend/tensorflow_backend.py:207: The name tf.global_variables is deprecated. Please use tf.compat.v1.global_variables instead.\n",
      "\n",
      "WARNING:tensorflow:From /usr/local/lib/python3.6/dist-packages/keras/backend/tensorflow_backend.py:216: The name tf.is_variable_initialized is deprecated. Please use tf.compat.v1.is_variable_initialized instead.\n",
      "\n",
      "WARNING:tensorflow:From /usr/local/lib/python3.6/dist-packages/keras/backend/tensorflow_backend.py:223: The name tf.variables_initializer is deprecated. Please use tf.compat.v1.variables_initializer instead.\n",
      "\n",
      "6800/6800 [==============================] - 13s 2ms/step - loss: 0.0502 - acc: 0.9863 - val_loss: 0.0456 - val_acc: 0.9865\n",
      "Epoch 2/3\n",
      "6800/6800 [==============================] - 11s 2ms/step - loss: 0.0463 - acc: 0.9866 - val_loss: 0.0451 - val_acc: 0.9867\n",
      "Epoch 3/3\n",
      "6800/6800 [==============================] - 11s 2ms/step - loss: 0.0457 - acc: 0.9874 - val_loss: 0.0453 - val_acc: 0.9867\n"
     ]
    },
    {
     "data": {
      "text/plain": [
       "<keras.callbacks.History at 0x7fb0d38c5e80>"
      ]
     },
     "execution_count": 93,
     "metadata": {
      "tags": []
     },
     "output_type": "execute_result"
    }
   ],
   "source": [
    "from keras.layers import Bidirectional\n",
    "embedding_vecor_length = 32\n",
    "model = Sequential()\n",
    "model.add(Embedding(MAX_NB_WORDS, embedding_vecor_length, input_length=25))\n",
    "model.add(Bidirectional(LSTM(130)))\n",
    "model.add(Dense(74, activation='softmax'))\n",
    "model.compile(loss='binary_crossentropy', optimizer='adam', metrics=['accuracy'])\n",
    "print(model.summary())\n",
    "model.fit(X_train, Y_train, validation_data=(X_val, Y_val), epochs=3, batch_size=64)"
   ]
  },
  {
   "cell_type": "code",
   "execution_count": 0,
   "metadata": {
    "colab": {},
    "colab_type": "code",
    "id": "F8bkeoeRxI_9"
   },
   "outputs": [],
   "source": [
    "y_pred = model.predict(X_val)"
   ]
  },
  {
   "cell_type": "code",
   "execution_count": 0,
   "metadata": {
    "colab": {
     "base_uri": "https://localhost:8080/",
     "height": 136
    },
    "colab_type": "code",
    "id": "Fy_42G3d3gup",
    "outputId": "1e7afd36-1aec-442c-b95c-6757a86dc0a9"
   },
   "outputs": [
    {
     "data": {
      "text/plain": [
       "array([[0, 0, 0, ..., 0, 0, 0],\n",
       "       [0, 0, 0, ..., 0, 0, 0],\n",
       "       [0, 0, 0, ..., 0, 0, 0],\n",
       "       ...,\n",
       "       [0, 0, 0, ..., 0, 0, 0],\n",
       "       [0, 0, 0, ..., 0, 0, 0],\n",
       "       [1, 0, 0, ..., 0, 0, 0]])"
      ]
     },
     "execution_count": 95,
     "metadata": {
      "tags": []
     },
     "output_type": "execute_result"
    }
   ],
   "source": [
    "y_pred1 = np.where(y_pred > 0.5, 1, 0)\n",
    "y_pred1"
   ]
  },
  {
   "cell_type": "code",
   "execution_count": 0,
   "metadata": {
    "colab": {},
    "colab_type": "code",
    "id": "r6GAK8iJ3kSL"
   },
   "outputs": [],
   "source": [
    "from sklearn.metrics import precision_score, recall_score, f1_score, classification_report"
   ]
  },
  {
   "cell_type": "code",
   "execution_count": 0,
   "metadata": {
    "colab": {
     "base_uri": "https://localhost:8080/",
     "height": 1000
    },
    "colab_type": "code",
    "id": "OM-gngoC3p9Y",
    "outputId": "1a3cecdd-0f47-4875-c364-3fecc9b7bf5b"
   },
   "outputs": [
    {
     "name": "stdout",
     "output_type": "stream",
     "text": [
      "              precision    recall  f1-score   support\n",
      "\n",
      "           0       0.52      0.31      0.39       828\n",
      "           1       0.00      0.00      0.00        11\n",
      "           2       0.00      0.00      0.00        21\n",
      "           3       0.00      0.00      0.00         5\n",
      "           4       0.00      0.00      0.00        55\n",
      "           5       0.00      0.00      0.00        27\n",
      "           6       0.00      0.00      0.00        24\n",
      "           7       0.00      0.00      0.00         8\n",
      "           8       0.00      0.00      0.00        13\n",
      "           9       0.00      0.00      0.00        11\n",
      "          10       0.00      0.00      0.00        20\n",
      "          11       0.00      0.00      0.00        39\n",
      "          12       0.00      0.00      0.00        36\n",
      "          13       0.00      0.00      0.00         4\n",
      "          14       0.00      0.00      0.00         5\n",
      "          15       0.00      0.00      0.00         5\n",
      "          16       0.00      0.00      0.00         8\n",
      "          17       0.00      0.00      0.00        53\n",
      "          18       0.00      0.00      0.00        23\n",
      "          19       0.00      0.00      0.00        10\n",
      "          20       0.00      0.00      0.00         5\n",
      "          21       0.00      0.00      0.00        10\n",
      "          22       0.00      0.00      0.00        17\n",
      "          23       0.00      0.00      0.00        40\n",
      "          24       0.00      0.00      0.00         6\n",
      "          25       0.00      0.00      0.00        12\n",
      "          26       0.00      0.00      0.00         1\n",
      "          27       0.00      0.00      0.00        20\n",
      "          28       0.00      0.00      0.00         8\n",
      "          29       0.00      0.00      0.00         0\n",
      "          30       0.00      0.00      0.00         5\n",
      "          31       0.00      0.00      0.00         4\n",
      "          32       0.00      0.00      0.00         1\n",
      "          33       0.00      0.00      0.00         7\n",
      "          34       0.00      0.00      0.00        18\n",
      "          35       0.00      0.00      0.00         6\n",
      "          36       0.00      0.00      0.00        11\n",
      "          37       0.00      0.00      0.00        11\n",
      "          38       0.00      0.00      0.00         2\n",
      "          39       0.00      0.00      0.00         4\n",
      "          40       0.00      0.00      0.00         6\n",
      "          41       0.00      0.00      0.00         1\n",
      "          42       0.00      0.00      0.00         5\n",
      "          43       0.00      0.00      0.00         3\n",
      "          44       0.00      0.00      0.00         0\n",
      "          45       0.00      0.00      0.00        25\n",
      "          46       0.00      0.00      0.00         2\n",
      "          47       0.00      0.00      0.00         1\n",
      "          48       0.00      0.00      0.00         1\n",
      "          49       0.00      0.00      0.00         0\n",
      "          50       0.00      0.00      0.00         0\n",
      "          51       0.00      0.00      0.00         2\n",
      "          52       0.00      0.00      0.00         0\n",
      "          53       0.00      0.00      0.00         0\n",
      "          54       0.00      0.00      0.00         0\n",
      "          55       0.00      0.00      0.00         2\n",
      "          56       0.00      0.00      0.00        38\n",
      "          57       0.00      0.00      0.00         6\n",
      "          58       0.00      0.00      0.00         0\n",
      "          59       0.00      0.00      0.00         7\n",
      "          60       0.00      0.00      0.00         1\n",
      "          61       0.00      0.00      0.00         1\n",
      "          62       0.00      0.00      0.00         4\n",
      "          63       0.00      0.00      0.00         0\n",
      "          64       0.00      0.00      0.00         0\n",
      "          65       0.00      0.00      0.00         0\n",
      "          66       0.00      0.00      0.00         1\n",
      "          67       0.00      0.00      0.00        19\n",
      "          68       0.00      0.00      0.00         0\n",
      "          69       0.00      0.00      0.00         1\n",
      "          70       0.00      0.00      0.00         0\n",
      "          71       0.00      0.00      0.00         0\n",
      "          72       0.00      0.00      0.00       134\n",
      "          73       0.00      0.00      0.00        46\n",
      "\n",
      "   micro avg       0.52      0.15      0.23      1700\n",
      "   macro avg       0.01      0.00      0.01      1700\n",
      "weighted avg       0.25      0.15      0.19      1700\n",
      " samples avg       0.15      0.15      0.15      1700\n",
      "\n"
     ]
    },
    {
     "name": "stderr",
     "output_type": "stream",
     "text": [
      "/usr/local/lib/python3.6/dist-packages/sklearn/metrics/_classification.py:1272: UndefinedMetricWarning: Precision and F-score are ill-defined and being set to 0.0 in labels with no predicted samples. Use `zero_division` parameter to control this behavior.\n",
      "  _warn_prf(average, modifier, msg_start, len(result))\n",
      "/usr/local/lib/python3.6/dist-packages/sklearn/metrics/_classification.py:1272: UndefinedMetricWarning: Recall and F-score are ill-defined and being set to 0.0 in labels with no true samples. Use `zero_division` parameter to control this behavior.\n",
      "  _warn_prf(average, modifier, msg_start, len(result))\n",
      "/usr/local/lib/python3.6/dist-packages/sklearn/metrics/_classification.py:1272: UndefinedMetricWarning: Precision and F-score are ill-defined and being set to 0.0 in samples with no predicted labels. Use `zero_division` parameter to control this behavior.\n",
      "  _warn_prf(average, modifier, msg_start, len(result))\n"
     ]
    }
   ],
   "source": [
    "from sklearn.metrics import classification_report\n",
    "print(classification_report(Y_val,y_pred1))"
   ]
  },
  {
   "cell_type": "code",
   "execution_count": 0,
   "metadata": {
    "colab": {},
    "colab_type": "code",
    "id": "LHN0SUrU3rmj"
   },
   "outputs": [],
   "source": []
  }
 ],
 "metadata": {
  "colab": {
   "collapsed_sections": [],
   "name": "Capstone_EDA.ipynb",
   "provenance": []
  },
  "kernelspec": {
   "display_name": "Python 3",
   "language": "python",
   "name": "python3"
  },
  "language_info": {
   "codemirror_mode": {
    "name": "ipython",
    "version": 3
   },
   "file_extension": ".py",
   "mimetype": "text/x-python",
   "name": "python",
   "nbconvert_exporter": "python",
   "pygments_lexer": "ipython3",
   "version": "3.7.4"
  }
 },
 "nbformat": 4,
 "nbformat_minor": 1
}
