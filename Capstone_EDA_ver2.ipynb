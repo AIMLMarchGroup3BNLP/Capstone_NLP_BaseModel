{
  "nbformat": 4,
  "nbformat_minor": 0,
  "metadata": {
    "colab": {
      "name": "Capstone_EDA.ipynb",
      "provenance": [],
      "collapsed_sections": []
    },
    "kernelspec": {
      "display_name": "Python 3",
      "language": "python",
      "name": "python3"
    },
    "language_info": {
      "codemirror_mode": {
        "name": "ipython",
        "version": 3
      },
      "file_extension": ".py",
      "mimetype": "text/x-python",
      "name": "python",
      "nbconvert_exporter": "python",
      "pygments_lexer": "ipython3",
      "version": "3.7.3"
    }
  },
  "cells": [
    {
      "cell_type": "markdown",
      "metadata": {
        "id": "kbrbj0CpJPA1",
        "colab_type": "text"
      },
      "source": [
        ""
      ]
    },
    {
      "cell_type": "code",
      "metadata": {
        "id": "x1IXC7aiJNmk",
        "colab_type": "code",
        "colab": {}
      },
      "source": [
        "from google.colab import drive\n",
        "drive.mount('/content/drive')"
      ],
      "execution_count": 0,
      "outputs": []
    },
    {
      "cell_type": "code",
      "metadata": {
        "id": "8O8x1lcqcUP-",
        "colab_type": "code",
        "outputId": "70cef9cd-c930-4a59-8108-7d6cabf7586b",
        "colab": {
          "base_uri": "https://localhost:8080/",
          "height": 326
        }
      },
      "source": [
        "!pip install contractions"
      ],
      "execution_count": 2,
      "outputs": [
        {
          "output_type": "stream",
          "text": [
            "Collecting contractions\n",
            "  Downloading https://files.pythonhosted.org/packages/85/41/c3dfd5feb91a8d587ed1a59f553f07c05f95ad4e5d00ab78702fbf8fe48a/contractions-0.0.24-py2.py3-none-any.whl\n",
            "Collecting textsearch\n",
            "  Downloading https://files.pythonhosted.org/packages/42/a8/03407021f9555043de5492a2bd7a35c56cc03c2510092b5ec018cae1bbf1/textsearch-0.0.17-py2.py3-none-any.whl\n",
            "Collecting pyahocorasick\n",
            "\u001b[?25l  Downloading https://files.pythonhosted.org/packages/f4/9f/f0d8e8850e12829eea2e778f1c90e3c53a9a799b7f412082a5d21cd19ae1/pyahocorasick-1.4.0.tar.gz (312kB)\n",
            "\u001b[K     |████████████████████████████████| 317kB 3.9MB/s \n",
            "\u001b[?25hCollecting Unidecode\n",
            "\u001b[?25l  Downloading https://files.pythonhosted.org/packages/d0/42/d9edfed04228bacea2d824904cae367ee9efd05e6cce7ceaaedd0b0ad964/Unidecode-1.1.1-py2.py3-none-any.whl (238kB)\n",
            "\u001b[K     |████████████████████████████████| 245kB 8.4MB/s \n",
            "\u001b[?25hBuilding wheels for collected packages: pyahocorasick\n",
            "  Building wheel for pyahocorasick (setup.py) ... \u001b[?25l\u001b[?25hdone\n",
            "  Created wheel for pyahocorasick: filename=pyahocorasick-1.4.0-cp36-cp36m-linux_x86_64.whl size=81707 sha256=caf1cd3594b1cd5a969185076e70ed06d185f5248e21c598c57094f0ba0fb5e6\n",
            "  Stored in directory: /root/.cache/pip/wheels/0a/90/61/87a55f5b459792fbb2b7ba6b31721b06ff5cf6bde541b40994\n",
            "Successfully built pyahocorasick\n",
            "Installing collected packages: pyahocorasick, Unidecode, textsearch, contractions\n",
            "Successfully installed Unidecode-1.1.1 contractions-0.0.24 pyahocorasick-1.4.0 textsearch-0.0.17\n"
          ],
          "name": "stdout"
        }
      ]
    },
    {
      "cell_type": "code",
      "metadata": {
        "colab_type": "code",
        "id": "x6ZyBsy_T3U_",
        "colab": {}
      },
      "source": [
        "import numpy as np\n",
        "import pandas as pd\n",
        "import seaborn as sns\n",
        "import matplotlib.pyplot as plt\n",
        "% matplotlib inline\n",
        "import nltk\n",
        "import re\n",
        "import contractions"
      ],
      "execution_count": 0,
      "outputs": []
    },
    {
      "cell_type": "code",
      "metadata": {
        "colab_type": "code",
        "id": "LjJ5f8kOW3vf",
        "colab": {}
      },
      "source": [
        "df = pd.read_excel('/content/drive/My Drive/Capstone Project/Input_Data_Final.xlsx')"
      ],
      "execution_count": 0,
      "outputs": []
    },
    {
      "cell_type": "code",
      "metadata": {
        "id": "i3gM5D78WpbP",
        "colab_type": "code",
        "colab": {}
      },
      "source": [
        "df.to_csv('/content/drive/My Drive/Capstone Project/Input_Data_Final.csv')"
      ],
      "execution_count": 0,
      "outputs": []
    },
    {
      "cell_type": "code",
      "metadata": {
        "id": "4KB421BDWqyZ",
        "colab_type": "code",
        "colab": {}
      },
      "source": [
        "df = pd.read_csv('/content/drive/My Drive/Capstone Project/Input_Data_Final.csv',encoding='latin-1')\n",
        "df.drop('Unnamed: 0',inplace=True,axis=1)"
      ],
      "execution_count": 0,
      "outputs": []
    },
    {
      "cell_type": "code",
      "metadata": {
        "colab_type": "code",
        "id": "K39OY4zLaBeV",
        "outputId": "0ef4b248-142f-4a82-8cf1-7248f3ee7f06",
        "colab": {
          "base_uri": "https://localhost:8080/",
          "height": 272
        }
      },
      "source": [
        "df.head()"
      ],
      "execution_count": 7,
      "outputs": [
        {
          "output_type": "execute_result",
          "data": {
            "text/html": [
              "<div>\n",
              "<style scoped>\n",
              "    .dataframe tbody tr th:only-of-type {\n",
              "        vertical-align: middle;\n",
              "    }\n",
              "\n",
              "    .dataframe tbody tr th {\n",
              "        vertical-align: top;\n",
              "    }\n",
              "\n",
              "    .dataframe thead th {\n",
              "        text-align: right;\n",
              "    }\n",
              "</style>\n",
              "<table border=\"1\" class=\"dataframe\">\n",
              "  <thead>\n",
              "    <tr style=\"text-align: right;\">\n",
              "      <th></th>\n",
              "      <th>Short description</th>\n",
              "      <th>Description</th>\n",
              "      <th>Caller</th>\n",
              "      <th>Assignment group</th>\n",
              "      <th>Cat_Short_Description</th>\n",
              "      <th>Cat_Description</th>\n",
              "      <th>Final Category</th>\n",
              "    </tr>\n",
              "  </thead>\n",
              "  <tbody>\n",
              "    <tr>\n",
              "      <th>0</th>\n",
              "      <td>login issue</td>\n",
              "      <td>-verified user details.(employee# &amp; manager na...</td>\n",
              "      <td>spxjnwir pjlcoqds</td>\n",
              "      <td>GRP_0</td>\n",
              "      <td>English</td>\n",
              "      <td>English</td>\n",
              "      <td>English</td>\n",
              "    </tr>\n",
              "    <tr>\n",
              "      <th>1</th>\n",
              "      <td>outlook</td>\n",
              "      <td>\\r\\n\\r\\nreceived from: hmjdrvpb.komuaywn@gmail...</td>\n",
              "      <td>hmjdrvpb komuaywn</td>\n",
              "      <td>GRP_0</td>\n",
              "      <td>English</td>\n",
              "      <td>English</td>\n",
              "      <td>English</td>\n",
              "    </tr>\n",
              "    <tr>\n",
              "      <th>2</th>\n",
              "      <td>cant log in to vpn</td>\n",
              "      <td>\\r\\n\\r\\nreceived from: eylqgodm.ybqkwiam@gmail...</td>\n",
              "      <td>eylqgodm ybqkwiam</td>\n",
              "      <td>GRP_0</td>\n",
              "      <td>English</td>\n",
              "      <td>English</td>\n",
              "      <td>English</td>\n",
              "    </tr>\n",
              "    <tr>\n",
              "      <th>3</th>\n",
              "      <td>unable to access hr_tool page</td>\n",
              "      <td>unable to access hr_tool page</td>\n",
              "      <td>xbkucsvz gcpydteq</td>\n",
              "      <td>GRP_0</td>\n",
              "      <td>English</td>\n",
              "      <td>English</td>\n",
              "      <td>English</td>\n",
              "    </tr>\n",
              "    <tr>\n",
              "      <th>4</th>\n",
              "      <td>skype error</td>\n",
              "      <td>skype error</td>\n",
              "      <td>owlgqjme qhcozdfx</td>\n",
              "      <td>GRP_0</td>\n",
              "      <td>English</td>\n",
              "      <td>English</td>\n",
              "      <td>English</td>\n",
              "    </tr>\n",
              "  </tbody>\n",
              "</table>\n",
              "</div>"
            ],
            "text/plain": [
              "               Short description  ... Final Category\n",
              "0                    login issue  ...        English\n",
              "1                        outlook  ...        English\n",
              "2             cant log in to vpn  ...        English\n",
              "3  unable to access hr_tool page  ...        English\n",
              "4                   skype error   ...        English\n",
              "\n",
              "[5 rows x 7 columns]"
            ]
          },
          "metadata": {
            "tags": []
          },
          "execution_count": 7
        }
      ]
    },
    {
      "cell_type": "code",
      "metadata": {
        "colab_type": "code",
        "id": "qr-9GU--aIid",
        "outputId": "7d213b71-747c-4dc6-c85d-25da04dcb1aa",
        "colab": {
          "base_uri": "https://localhost:8080/",
          "height": 272
        }
      },
      "source": [
        "print(df.shape)\n",
        "print(df.size)\n",
        "print(df.info())"
      ],
      "execution_count": 8,
      "outputs": [
        {
          "output_type": "stream",
          "text": [
            "(8500, 7)\n",
            "59500\n",
            "<class 'pandas.core.frame.DataFrame'>\n",
            "RangeIndex: 8500 entries, 0 to 8499\n",
            "Data columns (total 7 columns):\n",
            "Short description        8492 non-null object\n",
            "Description              8499 non-null object\n",
            "Caller                   8500 non-null object\n",
            "Assignment group         8500 non-null object\n",
            "Cat_Short_Description    8500 non-null object\n",
            "Cat_Description          8500 non-null object\n",
            "Final Category           8500 non-null object\n",
            "dtypes: object(7)\n",
            "memory usage: 465.0+ KB\n",
            "None\n"
          ],
          "name": "stdout"
        }
      ]
    },
    {
      "cell_type": "markdown",
      "metadata": {
        "id": "ihGxAhTHJc8w",
        "colab_type": "text"
      },
      "source": [
        "Inference: Dataset contains total 8500 rows, attributes 'Short description' and 'Description' contains null values. Dataset contains total 7 coumns. "
      ]
    },
    {
      "cell_type": "code",
      "metadata": {
        "colab_type": "code",
        "id": "hhUAan0FcQ14",
        "outputId": "f2de3177-f257-4aea-ca0d-d8041d534ece",
        "colab": {
          "base_uri": "https://localhost:8080/",
          "height": 68
        }
      },
      "source": [
        "print(len(df['Short description']))\n",
        "print(len(set(df['Short description'])))\n",
        "len(df['Short description'].unique())"
      ],
      "execution_count": 9,
      "outputs": [
        {
          "output_type": "stream",
          "text": [
            "8500\n",
            "7482\n"
          ],
          "name": "stdout"
        },
        {
          "output_type": "execute_result",
          "data": {
            "text/plain": [
              "7482"
            ]
          },
          "metadata": {
            "tags": []
          },
          "execution_count": 9
        }
      ]
    },
    {
      "cell_type": "code",
      "metadata": {
        "colab_type": "code",
        "id": "3ST_7Rf7ey2f",
        "outputId": "a3a6db81-5e6e-4657-aecb-88a52d69b072",
        "colab": {
          "base_uri": "https://localhost:8080/",
          "height": 68
        }
      },
      "source": [
        "print(len(df['Description']))\n",
        "print(len(set(df['Description'])))\n",
        "len(df['Description'].unique())"
      ],
      "execution_count": 10,
      "outputs": [
        {
          "output_type": "stream",
          "text": [
            "8500\n",
            "7818\n"
          ],
          "name": "stdout"
        },
        {
          "output_type": "execute_result",
          "data": {
            "text/plain": [
              "7818"
            ]
          },
          "metadata": {
            "tags": []
          },
          "execution_count": 10
        }
      ]
    },
    {
      "cell_type": "code",
      "metadata": {
        "colab_type": "code",
        "id": "D-DDLI3Shqsk",
        "outputId": "e14a7c6b-788c-42f7-c19f-5715e34ddccf",
        "colab": {
          "base_uri": "https://localhost:8080/",
          "height": 68
        }
      },
      "source": [
        "print(len(df['Caller']))\n",
        "print(len(set(df['Caller'])))\n",
        "len(df['Caller'].unique())"
      ],
      "execution_count": 11,
      "outputs": [
        {
          "output_type": "stream",
          "text": [
            "8500\n",
            "2950\n"
          ],
          "name": "stdout"
        },
        {
          "output_type": "execute_result",
          "data": {
            "text/plain": [
              "2950"
            ]
          },
          "metadata": {
            "tags": []
          },
          "execution_count": 11
        }
      ]
    },
    {
      "cell_type": "code",
      "metadata": {
        "colab_type": "code",
        "id": "4rL2KticfFyI",
        "outputId": "ae5f48fb-9962-48db-84a3-fed9ec4979d5",
        "colab": {
          "base_uri": "https://localhost:8080/",
          "height": 187
        }
      },
      "source": [
        "unique_group = df['Assignment group'].unique()\n",
        "print(unique_group)"
      ],
      "execution_count": 12,
      "outputs": [
        {
          "output_type": "stream",
          "text": [
            "['GRP_0' 'GRP_1' 'GRP_3' 'GRP_4' 'GRP_5' 'GRP_6' 'GRP_7' 'GRP_8' 'GRP_9'\n",
            " 'GRP_10' 'GRP_11' 'GRP_12' 'GRP_13' 'GRP_14' 'GRP_15' 'GRP_16' 'GRP_17'\n",
            " 'GRP_18' 'GRP_19' 'GRP_2' 'GRP_20' 'GRP_21' 'GRP_22' 'GRP_23' 'GRP_24'\n",
            " 'GRP_25' 'GRP_26' 'GRP_27' 'GRP_28' 'GRP_29' 'GRP_30' 'GRP_31' 'GRP_33'\n",
            " 'GRP_34' 'GRP_35' 'GRP_36' 'GRP_37' 'GRP_38' 'GRP_39' 'GRP_40' 'GRP_41'\n",
            " 'GRP_42' 'GRP_43' 'GRP_44' 'GRP_45' 'GRP_46' 'GRP_47' 'GRP_48' 'GRP_49'\n",
            " 'GRP_50' 'GRP_51' 'GRP_52' 'GRP_53' 'GRP_54' 'GRP_55' 'GRP_56' 'GRP_57'\n",
            " 'GRP_58' 'GRP_59' 'GRP_60' 'GRP_61' 'GRP_32' 'GRP_62' 'GRP_63' 'GRP_64'\n",
            " 'GRP_65' 'GRP_66' 'GRP_67' 'GRP_68' 'GRP_69' 'GRP_70' 'GRP_71' 'GRP_72'\n",
            " 'GRP_73']\n"
          ],
          "name": "stdout"
        }
      ]
    },
    {
      "cell_type": "code",
      "metadata": {
        "id": "IC3lov8i7ciL",
        "colab_type": "code",
        "outputId": "5e8499b8-bb7e-47dc-f039-91abf936611c",
        "colab": {
          "base_uri": "https://localhost:8080/",
          "height": 51
        }
      },
      "source": [
        "unique_group = pd.DataFrame(unique_group)\n",
        "unique_group.count()"
      ],
      "execution_count": 13,
      "outputs": [
        {
          "output_type": "execute_result",
          "data": {
            "text/plain": [
              "0    74\n",
              "dtype: int64"
            ]
          },
          "metadata": {
            "tags": []
          },
          "execution_count": 13
        }
      ]
    },
    {
      "cell_type": "code",
      "metadata": {
        "id": "XKtgYR_U7U9d",
        "colab_type": "code",
        "outputId": "08dec1c3-b8f0-4bee-d2af-e4badf5b3c96",
        "colab": {
          "base_uri": "https://localhost:8080/",
          "height": 34
        }
      },
      "source": [
        "unique_group = df['Final Category'].unique()\n",
        "print(unique_group)"
      ],
      "execution_count": 14,
      "outputs": [
        {
          "output_type": "stream",
          "text": [
            "['English' 'German' 'Special Char' 'Spanish']\n"
          ],
          "name": "stdout"
        }
      ]
    },
    {
      "cell_type": "markdown",
      "metadata": {
        "id": "IN3vfJ0zKxAs",
        "colab_type": "text"
      },
      "source": [
        "Inference: There are total \n",
        "74 unique groups,\n",
        "2950 unique callers and \n",
        "4 unique languages into dataset."
      ]
    },
    {
      "cell_type": "code",
      "metadata": {
        "colab_type": "code",
        "id": "grnAwDAch-X-",
        "colab": {}
      },
      "source": [
        "null_value = (df.isna().sum()/df.count().round(2))*100"
      ],
      "execution_count": 0,
      "outputs": []
    },
    {
      "cell_type": "code",
      "metadata": {
        "colab_type": "code",
        "id": "xktd515LjgEv",
        "outputId": "394844ea-f18a-4316-cad6-35da4d7abac3",
        "colab": {
          "base_uri": "https://localhost:8080/",
          "height": 413
        }
      },
      "source": [
        "null_value.plot(kind='bar')\n",
        "plt.title('% of Null Values')\n",
        "plt.ylabel('%')\n",
        "plt.xlabel('Table Features')"
      ],
      "execution_count": 16,
      "outputs": [
        {
          "output_type": "execute_result",
          "data": {
            "text/plain": [
              "Text(0.5, 0, 'Table Features')"
            ]
          },
          "metadata": {
            "tags": []
          },
          "execution_count": 16
        },
        {
          "output_type": "display_data",
          "data": {
            "image/png": "[encoded data removed]",
            "text/plain": [
              "<Figure size 432x288 with 1 Axes>"
            ]
          },
          "metadata": {
            "tags": []
          }
        }
      ]
    },
    {
      "cell_type": "markdown",
      "metadata": {
        "id": "PbO_VguALA4N",
        "colab_type": "text"
      },
      "source": [
        "Inference: There are less than 0.8% of null values into dataset. "
      ]
    },
    {
      "cell_type": "code",
      "metadata": {
        "colab_type": "code",
        "id": "enVce4fOkjH_",
        "colab": {}
      },
      "source": [
        "group_freq = df.groupby(df['Assignment group'])['Assignment group'].count().sort_values(ascending=False)\n",
        "group_freq = pd.DataFrame(group_freq)"
      ],
      "execution_count": 0,
      "outputs": []
    },
    {
      "cell_type": "code",
      "metadata": {
        "id": "Z_JCB6PtG_wH",
        "colab_type": "code",
        "outputId": "b7f43a85-5525-4f9c-d9ed-a6dfe59b650b",
        "colab": {
          "base_uri": "https://localhost:8080/",
          "height": 450
        }
      },
      "source": [
        "group_freq"
      ],
      "execution_count": 18,
      "outputs": [
        {
          "output_type": "execute_result",
          "data": {
            "text/html": [
              "<div>\n",
              "<style scoped>\n",
              "    .dataframe tbody tr th:only-of-type {\n",
              "        vertical-align: middle;\n",
              "    }\n",
              "\n",
              "    .dataframe tbody tr th {\n",
              "        vertical-align: top;\n",
              "    }\n",
              "\n",
              "    .dataframe thead th {\n",
              "        text-align: right;\n",
              "    }\n",
              "</style>\n",
              "<table border=\"1\" class=\"dataframe\">\n",
              "  <thead>\n",
              "    <tr style=\"text-align: right;\">\n",
              "      <th></th>\n",
              "      <th>Assignment group</th>\n",
              "    </tr>\n",
              "    <tr>\n",
              "      <th>Assignment group</th>\n",
              "      <th></th>\n",
              "    </tr>\n",
              "  </thead>\n",
              "  <tbody>\n",
              "    <tr>\n",
              "      <th>GRP_0</th>\n",
              "      <td>3976</td>\n",
              "    </tr>\n",
              "    <tr>\n",
              "      <th>GRP_8</th>\n",
              "      <td>661</td>\n",
              "    </tr>\n",
              "    <tr>\n",
              "      <th>GRP_24</th>\n",
              "      <td>289</td>\n",
              "    </tr>\n",
              "    <tr>\n",
              "      <th>GRP_12</th>\n",
              "      <td>257</td>\n",
              "    </tr>\n",
              "    <tr>\n",
              "      <th>GRP_9</th>\n",
              "      <td>252</td>\n",
              "    </tr>\n",
              "    <tr>\n",
              "      <th>...</th>\n",
              "      <td>...</td>\n",
              "    </tr>\n",
              "    <tr>\n",
              "      <th>GRP_67</th>\n",
              "      <td>1</td>\n",
              "    </tr>\n",
              "    <tr>\n",
              "      <th>GRP_61</th>\n",
              "      <td>1</td>\n",
              "    </tr>\n",
              "    <tr>\n",
              "      <th>GRP_73</th>\n",
              "      <td>1</td>\n",
              "    </tr>\n",
              "    <tr>\n",
              "      <th>GRP_35</th>\n",
              "      <td>1</td>\n",
              "    </tr>\n",
              "    <tr>\n",
              "      <th>GRP_70</th>\n",
              "      <td>1</td>\n",
              "    </tr>\n",
              "  </tbody>\n",
              "</table>\n",
              "<p>74 rows × 1 columns</p>\n",
              "</div>"
            ],
            "text/plain": [
              "                  Assignment group\n",
              "Assignment group                  \n",
              "GRP_0                         3976\n",
              "GRP_8                          661\n",
              "GRP_24                         289\n",
              "GRP_12                         257\n",
              "GRP_9                          252\n",
              "...                            ...\n",
              "GRP_67                           1\n",
              "GRP_61                           1\n",
              "GRP_73                           1\n",
              "GRP_35                           1\n",
              "GRP_70                           1\n",
              "\n",
              "[74 rows x 1 columns]"
            ]
          },
          "metadata": {
            "tags": []
          },
          "execution_count": 18
        }
      ]
    },
    {
      "cell_type": "code",
      "metadata": {
        "id": "Q9kma0ECGYze",
        "colab_type": "code",
        "colab": {}
      },
      "source": [
        "group_freq[\"cumpercentage\"] = group_freq[\"Assignment group\"].cumsum()/group_freq[\"Assignment group\"].sum()*100"
      ],
      "execution_count": 0,
      "outputs": []
    },
    {
      "cell_type": "code",
      "metadata": {
        "id": "p0Mk4EfCHaYg",
        "colab_type": "code",
        "colab": {}
      },
      "source": [
        "from matplotlib.ticker import PercentFormatter"
      ],
      "execution_count": 0,
      "outputs": []
    },
    {
      "cell_type": "code",
      "metadata": {
        "id": "kTD8-MN2HFo3",
        "colab_type": "code",
        "outputId": "c90473d2-66e1-41eb-9061-67fbe329405a",
        "colab": {
          "base_uri": "https://localhost:8080/",
          "height": 616
        }
      },
      "source": [
        "fig, ax = plt.subplots(figsize=(18,10))\n",
        "plt.xticks(rotation='vertical')\n",
        "plt.tick_params(labelsize=9)\n",
        "#import matplotlib \n",
        "#matplotlib.rc('xtick', labelsize=10) \n",
        "#matplotlib.rc('ytick', labelsize=10) \n",
        "ax.bar(group_freq.index, group_freq[\"Assignment group\"], color=\"C0\")\n",
        "ax2 = ax.twinx()\n",
        "ax2.plot(group_freq.index, group_freq[\"cumpercentage\"], color=\"C1\", marker=\"D\", ms=5)\n",
        "ax2.yaxis.set_major_formatter(PercentFormatter())\n",
        "\n",
        "ax.tick_params(axis=\"y\", colors=\"C0\")\n",
        "ax2.tick_params(axis=\"y\", colors=\"C1\")\n",
        "\n",
        "plt.show()"
      ],
      "execution_count": 21,
      "outputs": [
        {
          "output_type": "display_data",
          "data": {
            "image/png": "[encoded data removed]",
            "text/plain": [
              "<Figure size 1296x720 with 2 Axes>"
            ]
          },
          "metadata": {
            "tags": []
          }
        }
      ]
    },
    {
      "cell_type": "code",
      "metadata": {
        "id": "2E4O5BhP7pKO",
        "colab_type": "code",
        "colab": {}
      },
      "source": [
        "group_freq_lang = df.groupby(df['Final Category'])['Final Category'].count().sort_values(ascending=False)\n",
        "group_freq_lang = pd.DataFrame(group_freq_lang)"
      ],
      "execution_count": 0,
      "outputs": []
    },
    {
      "cell_type": "code",
      "metadata": {
        "id": "gw9_yI-n7pSR",
        "colab_type": "code",
        "outputId": "b717ad28-10a0-4de3-f5b5-0191ae0e4267",
        "colab": {
          "base_uri": "https://localhost:8080/",
          "height": 204
        }
      },
      "source": [
        "group_freq_lang"
      ],
      "execution_count": 23,
      "outputs": [
        {
          "output_type": "execute_result",
          "data": {
            "text/html": [
              "<div>\n",
              "<style scoped>\n",
              "    .dataframe tbody tr th:only-of-type {\n",
              "        vertical-align: middle;\n",
              "    }\n",
              "\n",
              "    .dataframe tbody tr th {\n",
              "        vertical-align: top;\n",
              "    }\n",
              "\n",
              "    .dataframe thead th {\n",
              "        text-align: right;\n",
              "    }\n",
              "</style>\n",
              "<table border=\"1\" class=\"dataframe\">\n",
              "  <thead>\n",
              "    <tr style=\"text-align: right;\">\n",
              "      <th></th>\n",
              "      <th>Final Category</th>\n",
              "    </tr>\n",
              "    <tr>\n",
              "      <th>Final Category</th>\n",
              "      <th></th>\n",
              "    </tr>\n",
              "  </thead>\n",
              "  <tbody>\n",
              "    <tr>\n",
              "      <th>English</th>\n",
              "      <td>7985</td>\n",
              "    </tr>\n",
              "    <tr>\n",
              "      <th>German</th>\n",
              "      <td>451</td>\n",
              "    </tr>\n",
              "    <tr>\n",
              "      <th>Special Char</th>\n",
              "      <td>53</td>\n",
              "    </tr>\n",
              "    <tr>\n",
              "      <th>Spanish</th>\n",
              "      <td>11</td>\n",
              "    </tr>\n",
              "  </tbody>\n",
              "</table>\n",
              "</div>"
            ],
            "text/plain": [
              "                Final Category\n",
              "Final Category                \n",
              "English                   7985\n",
              "German                     451\n",
              "Special Char                53\n",
              "Spanish                     11"
            ]
          },
          "metadata": {
            "tags": []
          },
          "execution_count": 23
        }
      ]
    },
    {
      "cell_type": "code",
      "metadata": {
        "id": "VTXMhSTOAHmC",
        "colab_type": "code",
        "colab": {
          "base_uri": "https://localhost:8080/",
          "height": 235
        },
        "outputId": "447a3773-135f-49a9-f0f4-1ffa01f6569d"
      },
      "source": [
        "group_cat_freq_lang = df.groupby(df['Cat_Short_Description'])['Cat_Short_Description'].count().sort_values(ascending=False)\n",
        "group_cat_freq_lang = pd.DataFrame(group_freq_lang)\n",
        "group_cat_freq_lang"
      ],
      "execution_count": 37,
      "outputs": [
        {
          "output_type": "execute_result",
          "data": {
            "text/html": [
              "<div>\n",
              "<style scoped>\n",
              "    .dataframe tbody tr th:only-of-type {\n",
              "        vertical-align: middle;\n",
              "    }\n",
              "\n",
              "    .dataframe tbody tr th {\n",
              "        vertical-align: top;\n",
              "    }\n",
              "\n",
              "    .dataframe thead th {\n",
              "        text-align: right;\n",
              "    }\n",
              "</style>\n",
              "<table border=\"1\" class=\"dataframe\">\n",
              "  <thead>\n",
              "    <tr style=\"text-align: right;\">\n",
              "      <th></th>\n",
              "      <th>Cat_Short_Description</th>\n",
              "    </tr>\n",
              "    <tr>\n",
              "      <th>Cat_Short_Description</th>\n",
              "      <th></th>\n",
              "    </tr>\n",
              "  </thead>\n",
              "  <tbody>\n",
              "    <tr>\n",
              "      <th>English</th>\n",
              "      <td>8019</td>\n",
              "    </tr>\n",
              "    <tr>\n",
              "      <th>German</th>\n",
              "      <td>415</td>\n",
              "    </tr>\n",
              "    <tr>\n",
              "      <th>Special Char</th>\n",
              "      <td>53</td>\n",
              "    </tr>\n",
              "    <tr>\n",
              "      <th>Spanish</th>\n",
              "      <td>12</td>\n",
              "    </tr>\n",
              "    <tr>\n",
              "      <th>Null</th>\n",
              "      <td>1</td>\n",
              "    </tr>\n",
              "  </tbody>\n",
              "</table>\n",
              "</div>"
            ],
            "text/plain": [
              "                       Cat_Short_Description\n",
              "Cat_Short_Description                       \n",
              "English                                 8019\n",
              "German                                   415\n",
              "Special Char                              53\n",
              "Spanish                                   12\n",
              "Null                                       1"
            ]
          },
          "metadata": {
            "tags": []
          },
          "execution_count": 37
        }
      ]
    },
    {
      "cell_type": "code",
      "metadata": {
        "id": "M9c-eJ4UAarr",
        "colab_type": "code",
        "colab": {
          "base_uri": "https://localhost:8080/",
          "height": 235
        },
        "outputId": "15022624-396f-4e82-fa19-0eed3be2870d"
      },
      "source": [
        "group_cat_desc = df.groupby(df['Cat_Description'])['Cat_Description'].count().sort_values(ascending=False)\n",
        "group_cat_desc = pd.DataFrame(group_freq_lang)\n",
        "group_cat_desc"
      ],
      "execution_count": 38,
      "outputs": [
        {
          "output_type": "execute_result",
          "data": {
            "text/html": [
              "<div>\n",
              "<style scoped>\n",
              "    .dataframe tbody tr th:only-of-type {\n",
              "        vertical-align: middle;\n",
              "    }\n",
              "\n",
              "    .dataframe tbody tr th {\n",
              "        vertical-align: top;\n",
              "    }\n",
              "\n",
              "    .dataframe thead th {\n",
              "        text-align: right;\n",
              "    }\n",
              "</style>\n",
              "<table border=\"1\" class=\"dataframe\">\n",
              "  <thead>\n",
              "    <tr style=\"text-align: right;\">\n",
              "      <th></th>\n",
              "      <th>Cat_Short_Description</th>\n",
              "    </tr>\n",
              "    <tr>\n",
              "      <th>Cat_Short_Description</th>\n",
              "      <th></th>\n",
              "    </tr>\n",
              "  </thead>\n",
              "  <tbody>\n",
              "    <tr>\n",
              "      <th>English</th>\n",
              "      <td>8019</td>\n",
              "    </tr>\n",
              "    <tr>\n",
              "      <th>German</th>\n",
              "      <td>415</td>\n",
              "    </tr>\n",
              "    <tr>\n",
              "      <th>Special Char</th>\n",
              "      <td>53</td>\n",
              "    </tr>\n",
              "    <tr>\n",
              "      <th>Spanish</th>\n",
              "      <td>12</td>\n",
              "    </tr>\n",
              "    <tr>\n",
              "      <th>Null</th>\n",
              "      <td>1</td>\n",
              "    </tr>\n",
              "  </tbody>\n",
              "</table>\n",
              "</div>"
            ],
            "text/plain": [
              "                       Cat_Short_Description\n",
              "Cat_Short_Description                       \n",
              "English                                 8019\n",
              "German                                   415\n",
              "Special Char                              53\n",
              "Spanish                                   12\n",
              "Null                                       1"
            ]
          },
          "metadata": {
            "tags": []
          },
          "execution_count": 38
        }
      ]
    },
    {
      "cell_type": "code",
      "metadata": {
        "id": "WjiTCLvD71A9",
        "colab_type": "code",
        "colab": {}
      },
      "source": [
        "group_freq_lang[\"cumpercentage\"] = group_freq_lang[\"Final Category\"].cumsum()/group_freq_lang[\"Final Category\"].sum()*100"
      ],
      "execution_count": 0,
      "outputs": []
    },
    {
      "cell_type": "code",
      "metadata": {
        "id": "JVFeQhde71LG",
        "colab_type": "code",
        "outputId": "2177c289-19e6-4097-c044-cc530fc91a7b",
        "colab": {
          "base_uri": "https://localhost:8080/",
          "height": 312
        }
      },
      "source": [
        "fig, ax = plt.subplots(figsize=(8,4))\n",
        "plt.xticks(rotation='vertical')\n",
        "plt.tick_params(labelsize=9)\n",
        "#import matplotlib \n",
        "#matplotlib.rc('xtick', labelsize=10) \n",
        "#matplotlib.rc('ytick', labelsize=10) \n",
        "ax.bar(group_freq_lang.index, group_freq_lang[\"Final Category\"], color=\"C0\")\n",
        "ax2 = ax.twinx()\n",
        "ax2.plot(group_freq_lang.index, group_freq_lang[\"cumpercentage\"], color=\"C1\", marker=\"D\", ms=5)\n",
        "ax2.yaxis.set_major_formatter(PercentFormatter())\n",
        "\n",
        "ax.tick_params(axis=\"y\", colors=\"C0\")\n",
        "ax2.tick_params(axis=\"y\", colors=\"C1\")\n",
        "\n",
        "plt.show()"
      ],
      "execution_count": 25,
      "outputs": [
        {
          "output_type": "display_data",
          "data": {
            "image/png": "[encoded data removed]",
            "text/plain": [
              "<Figure size 576x288 with 2 Axes>"
            ]
          },
          "metadata": {
            "tags": []
          }
        }
      ]
    },
    {
      "cell_type": "code",
      "metadata": {
        "colab_type": "code",
        "id": "r6nWj2svfQ4j",
        "outputId": "8e71d2ec-235b-46d3-f896-59e866b605d7",
        "colab": {
          "base_uri": "https://localhost:8080/",
          "height": 51
        }
      },
      "source": [
        "a = df['Caller'].unique()\n",
        "a = pd.DataFrame(a)\n",
        "a.count()"
      ],
      "execution_count": 26,
      "outputs": [
        {
          "output_type": "execute_result",
          "data": {
            "text/plain": [
              "0    2950\n",
              "dtype: int64"
            ]
          },
          "metadata": {
            "tags": []
          },
          "execution_count": 26
        }
      ]
    },
    {
      "cell_type": "code",
      "metadata": {
        "colab_type": "code",
        "id": "kk9oqgFZjVCN",
        "colab": {}
      },
      "source": [
        "caller_freq = df.groupby(df['Caller'])['Caller'].count().sort_values(ascending=False)\n",
        "caller_freq = pd.DataFrame(caller_freq)\n",
        "caller_freq[\"cumpercentage\"] = (caller_freq[\"Caller\"].cumsum()/caller_freq[\"Caller\"].sum()*100).round(2)"
      ],
      "execution_count": 0,
      "outputs": []
    },
    {
      "cell_type": "code",
      "metadata": {
        "id": "fjtL7g9cRrdG",
        "colab_type": "code",
        "outputId": "caefd176-67f2-4bf3-d860-9aaf6056ef39",
        "colab": {
          "base_uri": "https://localhost:8080/",
          "height": 450
        }
      },
      "source": [
        "caller_freq.head(2000)"
      ],
      "execution_count": 28,
      "outputs": [
        {
          "output_type": "execute_result",
          "data": {
            "text/html": [
              "<div>\n",
              "<style scoped>\n",
              "    .dataframe tbody tr th:only-of-type {\n",
              "        vertical-align: middle;\n",
              "    }\n",
              "\n",
              "    .dataframe tbody tr th {\n",
              "        vertical-align: top;\n",
              "    }\n",
              "\n",
              "    .dataframe thead th {\n",
              "        text-align: right;\n",
              "    }\n",
              "</style>\n",
              "<table border=\"1\" class=\"dataframe\">\n",
              "  <thead>\n",
              "    <tr style=\"text-align: right;\">\n",
              "      <th></th>\n",
              "      <th>Caller</th>\n",
              "      <th>cumpercentage</th>\n",
              "    </tr>\n",
              "    <tr>\n",
              "      <th>Caller</th>\n",
              "      <th></th>\n",
              "      <th></th>\n",
              "    </tr>\n",
              "  </thead>\n",
              "  <tbody>\n",
              "    <tr>\n",
              "      <th>bpctwhsn kzqsbmtp</th>\n",
              "      <td>810</td>\n",
              "      <td>9.53</td>\n",
              "    </tr>\n",
              "    <tr>\n",
              "      <th>ZkBogxib QsEJzdZO</th>\n",
              "      <td>151</td>\n",
              "      <td>11.31</td>\n",
              "    </tr>\n",
              "    <tr>\n",
              "      <th>fumkcsji sarmtlhy</th>\n",
              "      <td>134</td>\n",
              "      <td>12.88</td>\n",
              "    </tr>\n",
              "    <tr>\n",
              "      <th>rbozivdq gmlhrtvp</th>\n",
              "      <td>87</td>\n",
              "      <td>13.91</td>\n",
              "    </tr>\n",
              "    <tr>\n",
              "      <th>rkupnshb gsmzfojw</th>\n",
              "      <td>71</td>\n",
              "      <td>14.74</td>\n",
              "    </tr>\n",
              "    <tr>\n",
              "      <th>...</th>\n",
              "      <td>...</td>\n",
              "      <td>...</td>\n",
              "    </tr>\n",
              "    <tr>\n",
              "      <th>dcsaiweo qvstjlem</th>\n",
              "      <td>1</td>\n",
              "      <td>88.78</td>\n",
              "    </tr>\n",
              "    <tr>\n",
              "      <th>xwyrvcbj bmqfszjg</th>\n",
              "      <td>1</td>\n",
              "      <td>88.79</td>\n",
              "    </tr>\n",
              "    <tr>\n",
              "      <th>xwlcqfsr lbcqfnie</th>\n",
              "      <td>1</td>\n",
              "      <td>88.80</td>\n",
              "    </tr>\n",
              "    <tr>\n",
              "      <th>dcxjngaf zquoewhp</th>\n",
              "      <td>1</td>\n",
              "      <td>88.81</td>\n",
              "    </tr>\n",
              "    <tr>\n",
              "      <th>deqmzotr zhrjngbi</th>\n",
              "      <td>1</td>\n",
              "      <td>88.82</td>\n",
              "    </tr>\n",
              "  </tbody>\n",
              "</table>\n",
              "<p>2000 rows × 2 columns</p>\n",
              "</div>"
            ],
            "text/plain": [
              "                   Caller  cumpercentage\n",
              "Caller                                  \n",
              "bpctwhsn kzqsbmtp     810           9.53\n",
              "ZkBogxib QsEJzdZO     151          11.31\n",
              "fumkcsji sarmtlhy     134          12.88\n",
              "rbozivdq gmlhrtvp      87          13.91\n",
              "rkupnshb gsmzfojw      71          14.74\n",
              "...                   ...            ...\n",
              "dcsaiweo qvstjlem       1          88.78\n",
              "xwyrvcbj bmqfszjg       1          88.79\n",
              "xwlcqfsr lbcqfnie       1          88.80\n",
              "dcxjngaf zquoewhp       1          88.81\n",
              "deqmzotr zhrjngbi       1          88.82\n",
              "\n",
              "[2000 rows x 2 columns]"
            ]
          },
          "metadata": {
            "tags": []
          },
          "execution_count": 28
        }
      ]
    },
    {
      "cell_type": "markdown",
      "metadata": {
        "id": "60FNJrNKgED2",
        "colab_type": "text"
      },
      "source": [
        "Bi-Variate Analysis"
      ]
    },
    {
      "cell_type": "code",
      "metadata": {
        "id": "P_5SIJM6f8sW",
        "colab_type": "code",
        "colab": {}
      },
      "source": [
        "grp_lang = pd.crosstab(df['Assignment group'],df['Final Category'],normalize='index').round(5)*100\n"
      ],
      "execution_count": 0,
      "outputs": []
    },
    {
      "cell_type": "code",
      "metadata": {
        "id": "RAQpE_19gGXG",
        "colab_type": "code",
        "outputId": "365bcd2c-4b55-4fb2-8f2b-db14fc6ec844",
        "colab": {
          "base_uri": "https://localhost:8080/",
          "height": 450
        }
      },
      "source": [
        "grp_lang"
      ],
      "execution_count": 30,
      "outputs": [
        {
          "output_type": "execute_result",
          "data": {
            "text/html": [
              "<div>\n",
              "<style scoped>\n",
              "    .dataframe tbody tr th:only-of-type {\n",
              "        vertical-align: middle;\n",
              "    }\n",
              "\n",
              "    .dataframe tbody tr th {\n",
              "        vertical-align: top;\n",
              "    }\n",
              "\n",
              "    .dataframe thead th {\n",
              "        text-align: right;\n",
              "    }\n",
              "</style>\n",
              "<table border=\"1\" class=\"dataframe\">\n",
              "  <thead>\n",
              "    <tr style=\"text-align: right;\">\n",
              "      <th>Final Category</th>\n",
              "      <th>English</th>\n",
              "      <th>German</th>\n",
              "      <th>Spanish</th>\n",
              "      <th>Special Char</th>\n",
              "    </tr>\n",
              "    <tr>\n",
              "      <th>Assignment group</th>\n",
              "      <th></th>\n",
              "      <th></th>\n",
              "      <th></th>\n",
              "      <th></th>\n",
              "    </tr>\n",
              "  </thead>\n",
              "  <tbody>\n",
              "    <tr>\n",
              "      <th>GRP_0</th>\n",
              "      <td>97.309</td>\n",
              "      <td>2.666</td>\n",
              "      <td>0.025</td>\n",
              "      <td>0.000</td>\n",
              "    </tr>\n",
              "    <tr>\n",
              "      <th>GRP_1</th>\n",
              "      <td>100.000</td>\n",
              "      <td>0.000</td>\n",
              "      <td>0.000</td>\n",
              "      <td>0.000</td>\n",
              "    </tr>\n",
              "    <tr>\n",
              "      <th>GRP_10</th>\n",
              "      <td>97.143</td>\n",
              "      <td>2.857</td>\n",
              "      <td>0.000</td>\n",
              "      <td>0.000</td>\n",
              "    </tr>\n",
              "    <tr>\n",
              "      <th>GRP_11</th>\n",
              "      <td>96.667</td>\n",
              "      <td>3.333</td>\n",
              "      <td>0.000</td>\n",
              "      <td>0.000</td>\n",
              "    </tr>\n",
              "    <tr>\n",
              "      <th>GRP_12</th>\n",
              "      <td>89.883</td>\n",
              "      <td>9.728</td>\n",
              "      <td>0.000</td>\n",
              "      <td>0.389</td>\n",
              "    </tr>\n",
              "    <tr>\n",
              "      <th>...</th>\n",
              "      <td>...</td>\n",
              "      <td>...</td>\n",
              "      <td>...</td>\n",
              "      <td>...</td>\n",
              "    </tr>\n",
              "    <tr>\n",
              "      <th>GRP_71</th>\n",
              "      <td>100.000</td>\n",
              "      <td>0.000</td>\n",
              "      <td>0.000</td>\n",
              "      <td>0.000</td>\n",
              "    </tr>\n",
              "    <tr>\n",
              "      <th>GRP_72</th>\n",
              "      <td>100.000</td>\n",
              "      <td>0.000</td>\n",
              "      <td>0.000</td>\n",
              "      <td>0.000</td>\n",
              "    </tr>\n",
              "    <tr>\n",
              "      <th>GRP_73</th>\n",
              "      <td>100.000</td>\n",
              "      <td>0.000</td>\n",
              "      <td>0.000</td>\n",
              "      <td>0.000</td>\n",
              "    </tr>\n",
              "    <tr>\n",
              "      <th>GRP_8</th>\n",
              "      <td>100.000</td>\n",
              "      <td>0.000</td>\n",
              "      <td>0.000</td>\n",
              "      <td>0.000</td>\n",
              "    </tr>\n",
              "    <tr>\n",
              "      <th>GRP_9</th>\n",
              "      <td>99.603</td>\n",
              "      <td>0.397</td>\n",
              "      <td>0.000</td>\n",
              "      <td>0.000</td>\n",
              "    </tr>\n",
              "  </tbody>\n",
              "</table>\n",
              "<p>74 rows × 4 columns</p>\n",
              "</div>"
            ],
            "text/plain": [
              "Final Category    English  German  Spanish  Special Char\n",
              "Assignment group                                        \n",
              "GRP_0              97.309   2.666    0.025         0.000\n",
              "GRP_1             100.000   0.000    0.000         0.000\n",
              "GRP_10             97.143   2.857    0.000         0.000\n",
              "GRP_11             96.667   3.333    0.000         0.000\n",
              "GRP_12             89.883   9.728    0.000         0.389\n",
              "...                   ...     ...      ...           ...\n",
              "GRP_71            100.000   0.000    0.000         0.000\n",
              "GRP_72            100.000   0.000    0.000         0.000\n",
              "GRP_73            100.000   0.000    0.000         0.000\n",
              "GRP_8             100.000   0.000    0.000         0.000\n",
              "GRP_9              99.603   0.397    0.000         0.000\n",
              "\n",
              "[74 rows x 4 columns]"
            ]
          },
          "metadata": {
            "tags": []
          },
          "execution_count": 30
        }
      ]
    },
    {
      "cell_type": "code",
      "metadata": {
        "id": "myfrYlD0gGdc",
        "colab_type": "code",
        "outputId": "a9540c91-db5f-43f6-dcc9-eb76a5675919",
        "colab": {
          "base_uri": "https://localhost:8080/",
          "height": 651
        }
      },
      "source": [
        "grp_lang.plot(kind='bar',stacked='True',figsize=(18,10))"
      ],
      "execution_count": 31,
      "outputs": [
        {
          "output_type": "execute_result",
          "data": {
            "text/plain": [
              "<matplotlib.axes._subplots.AxesSubplot at 0x7fe9dd2984e0>"
            ]
          },
          "metadata": {
            "tags": []
          },
          "execution_count": 31
        },
        {
          "output_type": "display_data",
          "data": {
            "image/png": "[encoded data removed]",
            "text/plain": [
              "<Figure size 1296x720 with 1 Axes>"
            ]
          },
          "metadata": {
            "tags": []
          }
        }
      ]
    },
    {
      "cell_type": "code",
      "metadata": {
        "id": "6nNywF6XCi2w",
        "colab_type": "code",
        "colab": {}
      },
      "source": [
        "group_freq[\"%_contri\"] = group_freq[\"Assignment group\"]/group_freq[\"Assignment group\"].sum()*100"
      ],
      "execution_count": 0,
      "outputs": []
    },
    {
      "cell_type": "code",
      "metadata": {
        "id": "7wgS5D1ul9wM",
        "colab_type": "code",
        "outputId": "32cd17df-663d-4191-fde5-51aa90ade4f0",
        "colab": {
          "base_uri": "https://localhost:8080/",
          "height": 630
        }
      },
      "source": [
        "plt.xticks(range(0, 74))\n",
        "group_freq[\"%_contri\"].plot(kind='line',figsize=(18,10))\n",
        "plt.xticks(rotation='vertical')\n",
        "plt.tick_params(labelsize=9)"
      ],
      "execution_count": 33,
      "outputs": [
        {
          "output_type": "display_data",
          "data": {
            "image/png": "[encoded data removed]",
            "text/plain": [
              "<Figure size 1296x720 with 1 Axes>"
            ]
          },
          "metadata": {
            "tags": []
          }
        }
      ]
    },
    {
      "cell_type": "code",
      "metadata": {
        "id": "ud5gbUFv5pR8",
        "colab_type": "code",
        "outputId": "a0a99731-b63a-46ac-93c7-b4089604c924",
        "colab": {
          "base_uri": "https://localhost:8080/",
          "height": 450
        }
      },
      "source": [
        "caller_grp = pd.crosstab(df['Final Category']=='German',df['Caller'])\n",
        "caller_grp.T"
      ],
      "execution_count": 34,
      "outputs": [
        {
          "output_type": "execute_result",
          "data": {
            "text/html": [
              "<div>\n",
              "<style scoped>\n",
              "    .dataframe tbody tr th:only-of-type {\n",
              "        vertical-align: middle;\n",
              "    }\n",
              "\n",
              "    .dataframe tbody tr th {\n",
              "        vertical-align: top;\n",
              "    }\n",
              "\n",
              "    .dataframe thead th {\n",
              "        text-align: right;\n",
              "    }\n",
              "</style>\n",
              "<table border=\"1\" class=\"dataframe\">\n",
              "  <thead>\n",
              "    <tr style=\"text-align: right;\">\n",
              "      <th>Final Category</th>\n",
              "      <th>False</th>\n",
              "      <th>True</th>\n",
              "    </tr>\n",
              "    <tr>\n",
              "      <th>Caller</th>\n",
              "      <th></th>\n",
              "      <th></th>\n",
              "    </tr>\n",
              "  </thead>\n",
              "  <tbody>\n",
              "    <tr>\n",
              "      <th>DEsowkrH sciejzNE</th>\n",
              "      <td>2</td>\n",
              "      <td>0</td>\n",
              "    </tr>\n",
              "    <tr>\n",
              "      <th>HdOuWxAt qfKdlJMx</th>\n",
              "      <td>1</td>\n",
              "      <td>0</td>\n",
              "    </tr>\n",
              "    <tr>\n",
              "      <th>ZkBogxib QsEJzdZO</th>\n",
              "      <td>151</td>\n",
              "      <td>0</td>\n",
              "    </tr>\n",
              "    <tr>\n",
              "      <th>abiuclvj brziktno</th>\n",
              "      <td>1</td>\n",
              "      <td>0</td>\n",
              "    </tr>\n",
              "    <tr>\n",
              "      <th>abtknpew ifcekjdb</th>\n",
              "      <td>1</td>\n",
              "      <td>0</td>\n",
              "    </tr>\n",
              "    <tr>\n",
              "      <th>...</th>\n",
              "      <td>...</td>\n",
              "      <td>...</td>\n",
              "    </tr>\n",
              "    <tr>\n",
              "      <th>zylaexnv pvkzbduh</th>\n",
              "      <td>3</td>\n",
              "      <td>0</td>\n",
              "    </tr>\n",
              "    <tr>\n",
              "      <th>zylwdbig wdkbztjp</th>\n",
              "      <td>1</td>\n",
              "      <td>0</td>\n",
              "    </tr>\n",
              "    <tr>\n",
              "      <th>zymdwqsi jzvbthil</th>\n",
              "      <td>1</td>\n",
              "      <td>0</td>\n",
              "    </tr>\n",
              "    <tr>\n",
              "      <th>zywoxerf paqxtrfk</th>\n",
              "      <td>9</td>\n",
              "      <td>0</td>\n",
              "    </tr>\n",
              "    <tr>\n",
              "      <th>zyxjagro vjgozhpn</th>\n",
              "      <td>2</td>\n",
              "      <td>0</td>\n",
              "    </tr>\n",
              "  </tbody>\n",
              "</table>\n",
              "<p>2950 rows × 2 columns</p>\n",
              "</div>"
            ],
            "text/plain": [
              "Final Category     False  True \n",
              "Caller                         \n",
              "DEsowkrH sciejzNE      2      0\n",
              "HdOuWxAt qfKdlJMx      1      0\n",
              "ZkBogxib QsEJzdZO    151      0\n",
              "abiuclvj brziktno      1      0\n",
              "abtknpew ifcekjdb      1      0\n",
              "...                  ...    ...\n",
              "zylaexnv pvkzbduh      3      0\n",
              "zylwdbig wdkbztjp      1      0\n",
              "zymdwqsi jzvbthil      1      0\n",
              "zywoxerf paqxtrfk      9      0\n",
              "zyxjagro vjgozhpn      2      0\n",
              "\n",
              "[2950 rows x 2 columns]"
            ]
          },
          "metadata": {
            "tags": []
          },
          "execution_count": 34
        }
      ]
    },
    {
      "cell_type": "code",
      "metadata": {
        "id": "DZzlMS7eH9WN",
        "colab_type": "code",
        "colab": {}
      },
      "source": [
        "a = df[df['Final Category']== 'German']"
      ],
      "execution_count": 0,
      "outputs": []
    },
    {
      "cell_type": "code",
      "metadata": {
        "id": "R_IL4ghGCFHq",
        "colab_type": "code",
        "colab": {
          "base_uri": "https://localhost:8080/",
          "height": 450
        },
        "outputId": "859da0c0-ae55-48be-be11-95c9005eab77"
      },
      "source": [
        "caller_freq = a.groupby(a['Caller'])['Caller'].count().sort_values(ascending=False)\n",
        "caller_freq = pd.DataFrame(caller_freq)\n",
        "caller_freq[\"cumpercentage\"] = (caller_freq[\"Caller\"].cumsum()/caller_freq[\"Caller\"].sum()*100).round(2)\n",
        "caller_freq"
      ],
      "execution_count": 64,
      "outputs": [
        {
          "output_type": "execute_result",
          "data": {
            "text/html": [
              "<div>\n",
              "<style scoped>\n",
              "    .dataframe tbody tr th:only-of-type {\n",
              "        vertical-align: middle;\n",
              "    }\n",
              "\n",
              "    .dataframe tbody tr th {\n",
              "        vertical-align: top;\n",
              "    }\n",
              "\n",
              "    .dataframe thead th {\n",
              "        text-align: right;\n",
              "    }\n",
              "</style>\n",
              "<table border=\"1\" class=\"dataframe\">\n",
              "  <thead>\n",
              "    <tr style=\"text-align: right;\">\n",
              "      <th></th>\n",
              "      <th>Caller</th>\n",
              "      <th>cumpercentage</th>\n",
              "    </tr>\n",
              "    <tr>\n",
              "      <th>Caller</th>\n",
              "      <th></th>\n",
              "      <th></th>\n",
              "    </tr>\n",
              "  </thead>\n",
              "  <tbody>\n",
              "    <tr>\n",
              "      <th>jionmpsf wnkpzcmv</th>\n",
              "      <td>16</td>\n",
              "      <td>3.55</td>\n",
              "    </tr>\n",
              "    <tr>\n",
              "      <th>vzqomdgt jwoqbuml</th>\n",
              "      <td>12</td>\n",
              "      <td>6.21</td>\n",
              "    </tr>\n",
              "    <tr>\n",
              "      <th>niptbwdq csenjruz</th>\n",
              "      <td>12</td>\n",
              "      <td>8.87</td>\n",
              "    </tr>\n",
              "    <tr>\n",
              "      <th>wrcktgbd wzrgyunp</th>\n",
              "      <td>8</td>\n",
              "      <td>10.64</td>\n",
              "    </tr>\n",
              "    <tr>\n",
              "      <th>xwirzvda okhyipgr</th>\n",
              "      <td>6</td>\n",
              "      <td>11.97</td>\n",
              "    </tr>\n",
              "    <tr>\n",
              "      <th>...</th>\n",
              "      <td>...</td>\n",
              "      <td>...</td>\n",
              "    </tr>\n",
              "    <tr>\n",
              "      <th>plfwoagd chtpiazu</th>\n",
              "      <td>1</td>\n",
              "      <td>99.11</td>\n",
              "    </tr>\n",
              "    <tr>\n",
              "      <th>pjrcbhln qznblemc</th>\n",
              "      <td>1</td>\n",
              "      <td>99.33</td>\n",
              "    </tr>\n",
              "    <tr>\n",
              "      <th>phedsjct lyphanue</th>\n",
              "      <td>1</td>\n",
              "      <td>99.56</td>\n",
              "    </tr>\n",
              "    <tr>\n",
              "      <th>ymoeqrsx rbctdsyi</th>\n",
              "      <td>1</td>\n",
              "      <td>99.78</td>\n",
              "    </tr>\n",
              "    <tr>\n",
              "      <th>agjzikpf nhfrbxek</th>\n",
              "      <td>1</td>\n",
              "      <td>100.00</td>\n",
              "    </tr>\n",
              "  </tbody>\n",
              "</table>\n",
              "<p>254 rows × 2 columns</p>\n",
              "</div>"
            ],
            "text/plain": [
              "                   Caller  cumpercentage\n",
              "Caller                                  \n",
              "jionmpsf wnkpzcmv      16           3.55\n",
              "vzqomdgt jwoqbuml      12           6.21\n",
              "niptbwdq csenjruz      12           8.87\n",
              "wrcktgbd wzrgyunp       8          10.64\n",
              "xwirzvda okhyipgr       6          11.97\n",
              "...                   ...            ...\n",
              "plfwoagd chtpiazu       1          99.11\n",
              "pjrcbhln qznblemc       1          99.33\n",
              "phedsjct lyphanue       1          99.56\n",
              "ymoeqrsx rbctdsyi       1          99.78\n",
              "agjzikpf nhfrbxek       1         100.00\n",
              "\n",
              "[254 rows x 2 columns]"
            ]
          },
          "metadata": {
            "tags": []
          },
          "execution_count": 64
        }
      ]
    },
    {
      "cell_type": "code",
      "metadata": {
        "id": "7hA2FOfpC3t3",
        "colab_type": "code",
        "colab": {
          "base_uri": "https://localhost:8080/",
          "height": 527
        },
        "outputId": "2e4090cf-fa74-46e5-ed2b-87422c3a3220"
      },
      "source": [
        "fig, ax = plt.subplots(figsize=(18,8))\n",
        "plt.xticks(rotation='vertical')\n",
        "plt.tick_params(labelsize=5)\n",
        "#import matplotlib \n",
        "#matplotlib.rc('xtick', labelsize=10) \n",
        "#matplotlib.rc('ytick', labelsize=10) \n",
        "ax.bar(caller_freq.index, caller_freq[\"Caller\"], color=\"C0\")\n",
        "ax2 = ax.twinx()\n",
        "ax2.plot(caller_freq.index, caller_freq[\"cumpercentage\"], color=\"C1\", marker=\"D\", ms=5)\n",
        "ax2.yaxis.set_major_formatter(PercentFormatter())\n",
        "\n",
        "ax.tick_params(axis=\"y\", colors=\"C0\")\n",
        "ax2.tick_params(axis=\"y\", colors=\"C1\")\n",
        "\n",
        "plt.show()"
      ],
      "execution_count": 65,
      "outputs": [
        {
          "output_type": "display_data",
          "data": {
            "image/png": "[encoded data removed]",
            "text/plain": [
              "<Figure size 1296x576 with 2 Axes>"
            ]
          },
          "metadata": {
            "tags": []
          }
        }
      ]
    },
    {
      "cell_type": "code",
      "metadata": {
        "id": "BFmu8x44GhGS",
        "colab_type": "code",
        "colab": {
          "base_uri": "https://localhost:8080/",
          "height": 886
        },
        "outputId": "bb33cdf9-9b0b-4c6e-cbc1-2fa6087c373c"
      },
      "source": [
        "caller_freq = a.groupby(a['Assignment group'])['Assignment group'].count().sort_values(ascending=False)\n",
        "caller_freq = pd.DataFrame(caller_freq)\n",
        "caller_freq[\"cumpercentage\"] = (caller_freq[\"Assignment group\"].cumsum()/caller_freq[\"Assignment group\"].sum()*100).round(2)\n",
        "caller_freq"
      ],
      "execution_count": 67,
      "outputs": [
        {
          "output_type": "execute_result",
          "data": {
            "text/html": [
              "<div>\n",
              "<style scoped>\n",
              "    .dataframe tbody tr th:only-of-type {\n",
              "        vertical-align: middle;\n",
              "    }\n",
              "\n",
              "    .dataframe tbody tr th {\n",
              "        vertical-align: top;\n",
              "    }\n",
              "\n",
              "    .dataframe thead th {\n",
              "        text-align: right;\n",
              "    }\n",
              "</style>\n",
              "<table border=\"1\" class=\"dataframe\">\n",
              "  <thead>\n",
              "    <tr style=\"text-align: right;\">\n",
              "      <th></th>\n",
              "      <th>Assignment group</th>\n",
              "      <th>cumpercentage</th>\n",
              "    </tr>\n",
              "    <tr>\n",
              "      <th>Assignment group</th>\n",
              "      <th></th>\n",
              "      <th></th>\n",
              "    </tr>\n",
              "  </thead>\n",
              "  <tbody>\n",
              "    <tr>\n",
              "      <th>GRP_24</th>\n",
              "      <td>165</td>\n",
              "      <td>36.59</td>\n",
              "    </tr>\n",
              "    <tr>\n",
              "      <th>GRP_0</th>\n",
              "      <td>106</td>\n",
              "      <td>60.09</td>\n",
              "    </tr>\n",
              "    <tr>\n",
              "      <th>GRP_33</th>\n",
              "      <td>66</td>\n",
              "      <td>74.72</td>\n",
              "    </tr>\n",
              "    <tr>\n",
              "      <th>GRP_42</th>\n",
              "      <td>28</td>\n",
              "      <td>80.93</td>\n",
              "    </tr>\n",
              "    <tr>\n",
              "      <th>GRP_12</th>\n",
              "      <td>25</td>\n",
              "      <td>86.47</td>\n",
              "    </tr>\n",
              "    <tr>\n",
              "      <th>GRP_25</th>\n",
              "      <td>17</td>\n",
              "      <td>90.24</td>\n",
              "    </tr>\n",
              "    <tr>\n",
              "      <th>GRP_34</th>\n",
              "      <td>11</td>\n",
              "      <td>92.68</td>\n",
              "    </tr>\n",
              "    <tr>\n",
              "      <th>GRP_28</th>\n",
              "      <td>7</td>\n",
              "      <td>94.24</td>\n",
              "    </tr>\n",
              "    <tr>\n",
              "      <th>GRP_10</th>\n",
              "      <td>4</td>\n",
              "      <td>95.12</td>\n",
              "    </tr>\n",
              "    <tr>\n",
              "      <th>GRP_49</th>\n",
              "      <td>3</td>\n",
              "      <td>95.79</td>\n",
              "    </tr>\n",
              "    <tr>\n",
              "      <th>GRP_32</th>\n",
              "      <td>2</td>\n",
              "      <td>96.23</td>\n",
              "    </tr>\n",
              "    <tr>\n",
              "      <th>GRP_16</th>\n",
              "      <td>2</td>\n",
              "      <td>96.67</td>\n",
              "    </tr>\n",
              "    <tr>\n",
              "      <th>GRP_2</th>\n",
              "      <td>2</td>\n",
              "      <td>97.12</td>\n",
              "    </tr>\n",
              "    <tr>\n",
              "      <th>GRP_52</th>\n",
              "      <td>1</td>\n",
              "      <td>97.34</td>\n",
              "    </tr>\n",
              "    <tr>\n",
              "      <th>GRP_18</th>\n",
              "      <td>1</td>\n",
              "      <td>97.56</td>\n",
              "    </tr>\n",
              "    <tr>\n",
              "      <th>GRP_11</th>\n",
              "      <td>1</td>\n",
              "      <td>97.78</td>\n",
              "    </tr>\n",
              "    <tr>\n",
              "      <th>GRP_14</th>\n",
              "      <td>1</td>\n",
              "      <td>98.00</td>\n",
              "    </tr>\n",
              "    <tr>\n",
              "      <th>GRP_17</th>\n",
              "      <td>1</td>\n",
              "      <td>98.23</td>\n",
              "    </tr>\n",
              "    <tr>\n",
              "      <th>GRP_23</th>\n",
              "      <td>1</td>\n",
              "      <td>98.45</td>\n",
              "    </tr>\n",
              "    <tr>\n",
              "      <th>GRP_19</th>\n",
              "      <td>1</td>\n",
              "      <td>98.67</td>\n",
              "    </tr>\n",
              "    <tr>\n",
              "      <th>GRP_20</th>\n",
              "      <td>1</td>\n",
              "      <td>98.89</td>\n",
              "    </tr>\n",
              "    <tr>\n",
              "      <th>GRP_5</th>\n",
              "      <td>1</td>\n",
              "      <td>99.11</td>\n",
              "    </tr>\n",
              "    <tr>\n",
              "      <th>GRP_59</th>\n",
              "      <td>1</td>\n",
              "      <td>99.33</td>\n",
              "    </tr>\n",
              "    <tr>\n",
              "      <th>GRP_29</th>\n",
              "      <td>1</td>\n",
              "      <td>99.56</td>\n",
              "    </tr>\n",
              "    <tr>\n",
              "      <th>GRP_45</th>\n",
              "      <td>1</td>\n",
              "      <td>99.78</td>\n",
              "    </tr>\n",
              "    <tr>\n",
              "      <th>GRP_9</th>\n",
              "      <td>1</td>\n",
              "      <td>100.00</td>\n",
              "    </tr>\n",
              "  </tbody>\n",
              "</table>\n",
              "</div>"
            ],
            "text/plain": [
              "                  Assignment group  cumpercentage\n",
              "Assignment group                                 \n",
              "GRP_24                         165          36.59\n",
              "GRP_0                          106          60.09\n",
              "GRP_33                          66          74.72\n",
              "GRP_42                          28          80.93\n",
              "GRP_12                          25          86.47\n",
              "GRP_25                          17          90.24\n",
              "GRP_34                          11          92.68\n",
              "GRP_28                           7          94.24\n",
              "GRP_10                           4          95.12\n",
              "GRP_49                           3          95.79\n",
              "GRP_32                           2          96.23\n",
              "GRP_16                           2          96.67\n",
              "GRP_2                            2          97.12\n",
              "GRP_52                           1          97.34\n",
              "GRP_18                           1          97.56\n",
              "GRP_11                           1          97.78\n",
              "GRP_14                           1          98.00\n",
              "GRP_17                           1          98.23\n",
              "GRP_23                           1          98.45\n",
              "GRP_19                           1          98.67\n",
              "GRP_20                           1          98.89\n",
              "GRP_5                            1          99.11\n",
              "GRP_59                           1          99.33\n",
              "GRP_29                           1          99.56\n",
              "GRP_45                           1          99.78\n",
              "GRP_9                            1         100.00"
            ]
          },
          "metadata": {
            "tags": []
          },
          "execution_count": 67
        }
      ]
    },
    {
      "cell_type": "code",
      "metadata": {
        "id": "bDXXZPCpGU60",
        "colab_type": "code",
        "colab": {
          "base_uri": "https://localhost:8080/",
          "height": 504
        },
        "outputId": "0ddf6aea-daa0-48b2-bb75-8362f6e6eefa"
      },
      "source": [
        "fig, ax = plt.subplots(figsize=(18,8))\n",
        "plt.xticks(rotation='vertical')\n",
        "plt.tick_params(labelsize=8)\n",
        "#import matplotlib \n",
        "#matplotlib.rc('xtick', labelsize=10) \n",
        "#matplotlib.rc('ytick', labelsize=10) \n",
        "ax.bar(caller_freq.index, caller_freq[\"Assignment group\"], color=\"C0\")\n",
        "ax2 = ax.twinx()\n",
        "ax2.plot(caller_freq.index, caller_freq[\"cumpercentage\"], color=\"C1\", marker=\"D\", ms=5)\n",
        "ax2.yaxis.set_major_formatter(PercentFormatter())\n",
        "\n",
        "ax.tick_params(axis=\"y\", colors=\"C0\")\n",
        "ax2.tick_params(axis=\"y\", colors=\"C1\")\n",
        "\n",
        "plt.show()"
      ],
      "execution_count": 69,
      "outputs": [
        {
          "output_type": "display_data",
          "data": {
            "image/png": "[encoded data removed]",
            "text/plain": [
              "<Figure size 1296x576 with 2 Axes>"
            ]
          },
          "metadata": {
            "tags": []
          }
        }
      ]
    },
    {
      "cell_type": "code",
      "metadata": {
        "id": "BjSrOm8ICRn3",
        "colab_type": "code",
        "colab": {}
      },
      "source": [
        "b = df[df['Final Category']== 'Special Char']"
      ],
      "execution_count": 0,
      "outputs": []
    },
    {
      "cell_type": "code",
      "metadata": {
        "id": "DEQfngR5HUpY",
        "colab_type": "code",
        "colab": {
          "base_uri": "https://localhost:8080/",
          "height": 1000
        },
        "outputId": "610b4197-96f8-471f-a510-56c2cbd0d80e"
      },
      "source": [
        "caller_freq = b.groupby(b['Caller'])['Caller'].count().sort_values(ascending=False)\n",
        "caller_freq = pd.DataFrame(caller_freq)\n",
        "caller_freq[\"cumpercentage\"] = (caller_freq[\"Caller\"].cumsum()/caller_freq[\"Caller\"].sum()*100).round(2)\n",
        "caller_freq"
      ],
      "execution_count": 73,
      "outputs": [
        {
          "output_type": "execute_result",
          "data": {
            "text/html": [
              "<div>\n",
              "<style scoped>\n",
              "    .dataframe tbody tr th:only-of-type {\n",
              "        vertical-align: middle;\n",
              "    }\n",
              "\n",
              "    .dataframe tbody tr th {\n",
              "        vertical-align: top;\n",
              "    }\n",
              "\n",
              "    .dataframe thead th {\n",
              "        text-align: right;\n",
              "    }\n",
              "</style>\n",
              "<table border=\"1\" class=\"dataframe\">\n",
              "  <thead>\n",
              "    <tr style=\"text-align: right;\">\n",
              "      <th></th>\n",
              "      <th>Caller</th>\n",
              "      <th>cumpercentage</th>\n",
              "    </tr>\n",
              "    <tr>\n",
              "      <th>Caller</th>\n",
              "      <th></th>\n",
              "      <th></th>\n",
              "    </tr>\n",
              "  </thead>\n",
              "  <tbody>\n",
              "    <tr>\n",
              "      <th>agyvbnwz mxsonkdc</th>\n",
              "      <td>3</td>\n",
              "      <td>5.66</td>\n",
              "    </tr>\n",
              "    <tr>\n",
              "      <th>kyagjxdh dmtjpbnz</th>\n",
              "      <td>3</td>\n",
              "      <td>11.32</td>\n",
              "    </tr>\n",
              "    <tr>\n",
              "      <th>xqyjztnm onfusvlz</th>\n",
              "      <td>2</td>\n",
              "      <td>15.09</td>\n",
              "    </tr>\n",
              "    <tr>\n",
              "      <th>hlrmufzx qcdzierm</th>\n",
              "      <td>2</td>\n",
              "      <td>18.87</td>\n",
              "    </tr>\n",
              "    <tr>\n",
              "      <th>zhpwcdea cboefuis</th>\n",
              "      <td>1</td>\n",
              "      <td>20.75</td>\n",
              "    </tr>\n",
              "    <tr>\n",
              "      <th>hbvwqine eakqyovu</th>\n",
              "      <td>1</td>\n",
              "      <td>22.64</td>\n",
              "    </tr>\n",
              "    <tr>\n",
              "      <th>kwpzbxvf cvuhoizx</th>\n",
              "      <td>1</td>\n",
              "      <td>24.53</td>\n",
              "    </tr>\n",
              "    <tr>\n",
              "      <th>ktghvuwr uwtakcmj</th>\n",
              "      <td>1</td>\n",
              "      <td>26.42</td>\n",
              "    </tr>\n",
              "    <tr>\n",
              "      <th>kclhqspo xvugztyc</th>\n",
              "      <td>1</td>\n",
              "      <td>28.30</td>\n",
              "    </tr>\n",
              "    <tr>\n",
              "      <th>kcldufqe xghvrzoi</th>\n",
              "      <td>1</td>\n",
              "      <td>30.19</td>\n",
              "    </tr>\n",
              "    <tr>\n",
              "      <th>jtplaoui uvsihfpn</th>\n",
              "      <td>1</td>\n",
              "      <td>32.08</td>\n",
              "    </tr>\n",
              "    <tr>\n",
              "      <th>igdnsjhz awnftgev</th>\n",
              "      <td>1</td>\n",
              "      <td>33.96</td>\n",
              "    </tr>\n",
              "    <tr>\n",
              "      <th>hdungfsc znuhyjkx</th>\n",
              "      <td>1</td>\n",
              "      <td>35.85</td>\n",
              "    </tr>\n",
              "    <tr>\n",
              "      <th>gdyicrel kvtlodsx</th>\n",
              "      <td>1</td>\n",
              "      <td>37.74</td>\n",
              "    </tr>\n",
              "    <tr>\n",
              "      <th>lszhkxoy blemoyjd</th>\n",
              "      <td>1</td>\n",
              "      <td>39.62</td>\n",
              "    </tr>\n",
              "    <tr>\n",
              "      <th>fupikdoa gjkytoeh</th>\n",
              "      <td>1</td>\n",
              "      <td>41.51</td>\n",
              "    </tr>\n",
              "    <tr>\n",
              "      <th>fcvqezmn frzyjknu</th>\n",
              "      <td>1</td>\n",
              "      <td>43.40</td>\n",
              "    </tr>\n",
              "    <tr>\n",
              "      <th>eokwmfay ewbltgha</th>\n",
              "      <td>1</td>\n",
              "      <td>45.28</td>\n",
              "    </tr>\n",
              "    <tr>\n",
              "      <th>dkxstwfq eljczgbn</th>\n",
              "      <td>1</td>\n",
              "      <td>47.17</td>\n",
              "    </tr>\n",
              "    <tr>\n",
              "      <th>cpdilmjx jwsqpiac</th>\n",
              "      <td>1</td>\n",
              "      <td>49.06</td>\n",
              "    </tr>\n",
              "    <tr>\n",
              "      <th>cnxbswhv qmtngeyh</th>\n",
              "      <td>1</td>\n",
              "      <td>50.94</td>\n",
              "    </tr>\n",
              "    <tr>\n",
              "      <th>cjnlsbkq ocxnrewb</th>\n",
              "      <td>1</td>\n",
              "      <td>52.83</td>\n",
              "    </tr>\n",
              "    <tr>\n",
              "      <th>basqoyjx frvwhbse</th>\n",
              "      <td>1</td>\n",
              "      <td>54.72</td>\n",
              "    </tr>\n",
              "    <tr>\n",
              "      <th>lhkqbmna ekhtivsd</th>\n",
              "      <td>1</td>\n",
              "      <td>56.60</td>\n",
              "    </tr>\n",
              "    <tr>\n",
              "      <th>molihtdq auprogsj</th>\n",
              "      <td>1</td>\n",
              "      <td>58.49</td>\n",
              "    </tr>\n",
              "    <tr>\n",
              "      <th>ycjxrsba ehftdorm</th>\n",
              "      <td>1</td>\n",
              "      <td>60.38</td>\n",
              "    </tr>\n",
              "    <tr>\n",
              "      <th>mpjoszqg wurpohmf</th>\n",
              "      <td>1</td>\n",
              "      <td>62.26</td>\n",
              "    </tr>\n",
              "    <tr>\n",
              "      <th>yamndlrz nzcvdmtr</th>\n",
              "      <td>1</td>\n",
              "      <td>64.15</td>\n",
              "    </tr>\n",
              "    <tr>\n",
              "      <th>wgmqlnzh vpebwoat</th>\n",
              "      <td>1</td>\n",
              "      <td>66.04</td>\n",
              "    </tr>\n",
              "    <tr>\n",
              "      <th>vrmpysoz qkiucpdx</th>\n",
              "      <td>1</td>\n",
              "      <td>67.92</td>\n",
              "    </tr>\n",
              "    <tr>\n",
              "      <th>vSMfFXAJ OUAhWpDS</th>\n",
              "      <td>1</td>\n",
              "      <td>69.81</td>\n",
              "    </tr>\n",
              "    <tr>\n",
              "      <th>uheflzgy cpaosbfz</th>\n",
              "      <td>1</td>\n",
              "      <td>71.70</td>\n",
              "    </tr>\n",
              "    <tr>\n",
              "      <th>tuqrvowp fxmzkvqo</th>\n",
              "      <td>1</td>\n",
              "      <td>73.58</td>\n",
              "    </tr>\n",
              "    <tr>\n",
              "      <th>tmufgokq qtzavows</th>\n",
              "      <td>1</td>\n",
              "      <td>75.47</td>\n",
              "    </tr>\n",
              "    <tr>\n",
              "      <th>sbkhjigv pbvlfcse</th>\n",
              "      <td>1</td>\n",
              "      <td>77.36</td>\n",
              "    </tr>\n",
              "    <tr>\n",
              "      <th>rtjwbuev gfpwdetq</th>\n",
              "      <td>1</td>\n",
              "      <td>79.25</td>\n",
              "    </tr>\n",
              "    <tr>\n",
              "      <th>rekpvblc ufysatml</th>\n",
              "      <td>1</td>\n",
              "      <td>81.13</td>\n",
              "    </tr>\n",
              "    <tr>\n",
              "      <th>pwfirvgu ydwlhuzi</th>\n",
              "      <td>1</td>\n",
              "      <td>83.02</td>\n",
              "    </tr>\n",
              "    <tr>\n",
              "      <th>pvfclkmn gebyipwr</th>\n",
              "      <td>1</td>\n",
              "      <td>84.91</td>\n",
              "    </tr>\n",
              "    <tr>\n",
              "      <th>pqaoenuv dqythubf</th>\n",
              "      <td>1</td>\n",
              "      <td>86.79</td>\n",
              "    </tr>\n",
              "    <tr>\n",
              "      <th>omatlyrd bvraipdt</th>\n",
              "      <td>1</td>\n",
              "      <td>88.68</td>\n",
              "    </tr>\n",
              "    <tr>\n",
              "      <th>nhrwdaep orvxhyiw</th>\n",
              "      <td>1</td>\n",
              "      <td>90.57</td>\n",
              "    </tr>\n",
              "    <tr>\n",
              "      <th>neovalui kabpfvic</th>\n",
              "      <td>1</td>\n",
              "      <td>92.45</td>\n",
              "    </tr>\n",
              "    <tr>\n",
              "      <th>ncwfeytj tumlheoi</th>\n",
              "      <td>1</td>\n",
              "      <td>94.34</td>\n",
              "    </tr>\n",
              "    <tr>\n",
              "      <th>napijrez xhpqkojc</th>\n",
              "      <td>1</td>\n",
              "      <td>96.23</td>\n",
              "    </tr>\n",
              "    <tr>\n",
              "      <th>mzerdtop xnlytczj</th>\n",
              "      <td>1</td>\n",
              "      <td>98.11</td>\n",
              "    </tr>\n",
              "    <tr>\n",
              "      <th>aeozwlch lkiocfbn</th>\n",
              "      <td>1</td>\n",
              "      <td>100.00</td>\n",
              "    </tr>\n",
              "  </tbody>\n",
              "</table>\n",
              "</div>"
            ],
            "text/plain": [
              "                   Caller  cumpercentage\n",
              "Caller                                  \n",
              "agyvbnwz mxsonkdc       3           5.66\n",
              "kyagjxdh dmtjpbnz       3          11.32\n",
              "xqyjztnm onfusvlz       2          15.09\n",
              "hlrmufzx qcdzierm       2          18.87\n",
              "zhpwcdea cboefuis       1          20.75\n",
              "hbvwqine eakqyovu       1          22.64\n",
              "kwpzbxvf cvuhoizx       1          24.53\n",
              "ktghvuwr uwtakcmj       1          26.42\n",
              "kclhqspo xvugztyc       1          28.30\n",
              "kcldufqe xghvrzoi       1          30.19\n",
              "jtplaoui uvsihfpn       1          32.08\n",
              "igdnsjhz awnftgev       1          33.96\n",
              "hdungfsc znuhyjkx       1          35.85\n",
              "gdyicrel kvtlodsx       1          37.74\n",
              "lszhkxoy blemoyjd       1          39.62\n",
              "fupikdoa gjkytoeh       1          41.51\n",
              "fcvqezmn frzyjknu       1          43.40\n",
              "eokwmfay ewbltgha       1          45.28\n",
              "dkxstwfq eljczgbn       1          47.17\n",
              "cpdilmjx jwsqpiac       1          49.06\n",
              "cnxbswhv qmtngeyh       1          50.94\n",
              "cjnlsbkq ocxnrewb       1          52.83\n",
              "basqoyjx frvwhbse       1          54.72\n",
              "lhkqbmna ekhtivsd       1          56.60\n",
              "molihtdq auprogsj       1          58.49\n",
              "ycjxrsba ehftdorm       1          60.38\n",
              "mpjoszqg wurpohmf       1          62.26\n",
              "yamndlrz nzcvdmtr       1          64.15\n",
              "wgmqlnzh vpebwoat       1          66.04\n",
              "vrmpysoz qkiucpdx       1          67.92\n",
              "vSMfFXAJ OUAhWpDS       1          69.81\n",
              "uheflzgy cpaosbfz       1          71.70\n",
              "tuqrvowp fxmzkvqo       1          73.58\n",
              "tmufgokq qtzavows       1          75.47\n",
              "sbkhjigv pbvlfcse       1          77.36\n",
              "rtjwbuev gfpwdetq       1          79.25\n",
              "rekpvblc ufysatml       1          81.13\n",
              "pwfirvgu ydwlhuzi       1          83.02\n",
              "pvfclkmn gebyipwr       1          84.91\n",
              "pqaoenuv dqythubf       1          86.79\n",
              "omatlyrd bvraipdt       1          88.68\n",
              "nhrwdaep orvxhyiw       1          90.57\n",
              "neovalui kabpfvic       1          92.45\n",
              "ncwfeytj tumlheoi       1          94.34\n",
              "napijrez xhpqkojc       1          96.23\n",
              "mzerdtop xnlytczj       1          98.11\n",
              "aeozwlch lkiocfbn       1         100.00"
            ]
          },
          "metadata": {
            "tags": []
          },
          "execution_count": 73
        }
      ]
    },
    {
      "cell_type": "code",
      "metadata": {
        "id": "__Qyf8YCH1hZ",
        "colab_type": "code",
        "colab": {
          "base_uri": "https://localhost:8080/",
          "height": 204
        },
        "outputId": "3a5e1882-5dbb-4684-be07-eab17918a63f"
      },
      "source": [
        "caller_freq = b.groupby(b['Assignment group'])['Assignment group'].count().sort_values(ascending=False)\n",
        "caller_freq = pd.DataFrame(caller_freq)\n",
        "caller_freq[\"cumpercentage\"] = (caller_freq[\"Assignment group\"].cumsum()/caller_freq[\"Assignment group\"].sum()*100).round(2)\n",
        "caller_freq"
      ],
      "execution_count": 74,
      "outputs": [
        {
          "output_type": "execute_result",
          "data": {
            "text/html": [
              "<div>\n",
              "<style scoped>\n",
              "    .dataframe tbody tr th:only-of-type {\n",
              "        vertical-align: middle;\n",
              "    }\n",
              "\n",
              "    .dataframe tbody tr th {\n",
              "        vertical-align: top;\n",
              "    }\n",
              "\n",
              "    .dataframe thead th {\n",
              "        text-align: right;\n",
              "    }\n",
              "</style>\n",
              "<table border=\"1\" class=\"dataframe\">\n",
              "  <thead>\n",
              "    <tr style=\"text-align: right;\">\n",
              "      <th></th>\n",
              "      <th>Assignment group</th>\n",
              "      <th>cumpercentage</th>\n",
              "    </tr>\n",
              "    <tr>\n",
              "      <th>Assignment group</th>\n",
              "      <th></th>\n",
              "      <th></th>\n",
              "    </tr>\n",
              "  </thead>\n",
              "  <tbody>\n",
              "    <tr>\n",
              "      <th>GRP_30</th>\n",
              "      <td>21</td>\n",
              "      <td>39.62</td>\n",
              "    </tr>\n",
              "    <tr>\n",
              "      <th>GRP_31</th>\n",
              "      <td>16</td>\n",
              "      <td>69.81</td>\n",
              "    </tr>\n",
              "    <tr>\n",
              "      <th>GRP_48</th>\n",
              "      <td>15</td>\n",
              "      <td>98.11</td>\n",
              "    </tr>\n",
              "    <tr>\n",
              "      <th>GRP_12</th>\n",
              "      <td>1</td>\n",
              "      <td>100.00</td>\n",
              "    </tr>\n",
              "  </tbody>\n",
              "</table>\n",
              "</div>"
            ],
            "text/plain": [
              "                  Assignment group  cumpercentage\n",
              "Assignment group                                 \n",
              "GRP_30                          21          39.62\n",
              "GRP_31                          16          69.81\n",
              "GRP_48                          15          98.11\n",
              "GRP_12                           1         100.00"
            ]
          },
          "metadata": {
            "tags": []
          },
          "execution_count": 74
        }
      ]
    },
    {
      "cell_type": "code",
      "metadata": {
        "id": "bhVOG1J3HU1k",
        "colab_type": "code",
        "colab": {
          "base_uri": "https://localhost:8080/",
          "height": 503
        },
        "outputId": "ad2cc31d-1786-4e24-e5ce-e99f797e3bea"
      },
      "source": [
        "fig, ax = plt.subplots(figsize=(18,8))\n",
        "plt.xticks(rotation='vertical')\n",
        "plt.tick_params(labelsize=8)\n",
        "#import matplotlib \n",
        "#matplotlib.rc('xtick', labelsize=10) \n",
        "#matplotlib.rc('ytick', labelsize=10) \n",
        "ax.bar(caller_freq.index, caller_freq[\"Assignment group\"], color=\"C0\")\n",
        "ax2 = ax.twinx()\n",
        "ax2.plot(caller_freq.index, caller_freq[\"cumpercentage\"], color=\"C1\", marker=\"D\", ms=5)\n",
        "ax2.yaxis.set_major_formatter(PercentFormatter())\n",
        "\n",
        "ax.tick_params(axis=\"y\", colors=\"C0\")\n",
        "ax2.tick_params(axis=\"y\", colors=\"C1\")\n",
        "\n",
        "plt.show()"
      ],
      "execution_count": 75,
      "outputs": [
        {
          "output_type": "display_data",
          "data": {
            "image/png": "[encoded data removed]",
            "text/plain": [
              "<Figure size 1296x576 with 2 Axes>"
            ]
          },
          "metadata": {
            "tags": []
          }
        }
      ]
    },
    {
      "cell_type": "code",
      "metadata": {
        "id": "7LdvsKi_YKkJ",
        "colab_type": "code",
        "colab": {}
      },
      "source": [
        "df['Description'] = df['Description'].astype(str)\n",
        "df['Short description'] = df['Short description'].astype(str)\n",
        "df['Caller'] = df['Caller'].astype(str)"
      ],
      "execution_count": 0,
      "outputs": []
    },
    {
      "cell_type": "code",
      "metadata": {
        "id": "Q4PRZQ6nFGVS",
        "colab_type": "code",
        "colab": {}
      },
      "source": [
        "df1 = df.copy(deep=True) # Removed non-englished row"
      ],
      "execution_count": 0,
      "outputs": []
    },
    {
      "cell_type": "code",
      "metadata": {
        "id": "_Aah6J84FQ-3",
        "colab_type": "code",
        "outputId": "56be9178-b8b4-4fee-e9a1-d44b4d555c4b",
        "colab": {
          "base_uri": "https://localhost:8080/",
          "height": 35
        }
      },
      "source": [
        "df1.shape"
      ],
      "execution_count": 0,
      "outputs": [
        {
          "output_type": "execute_result",
          "data": {
            "text/plain": [
              "(8500, 7)"
            ]
          },
          "metadata": {
            "tags": []
          },
          "execution_count": 94
        }
      ]
    },
    {
      "cell_type": "code",
      "metadata": {
        "id": "4GOCBuN1FgIx",
        "colab_type": "code",
        "outputId": "18ac6d8d-07ed-4e7d-b73c-b721c72513d1",
        "colab": {
          "base_uri": "https://localhost:8080/",
          "height": 35
        }
      },
      "source": [
        "df1.drop(df1[df1['Final Category'] == 'German'].index, inplace = True)\n",
        "df1.drop(df1[df1['Final Category'] == 'Spanish'].index, inplace = True)\n",
        "df1.drop(df1[df1['Final Category'] == 'Special Char'].index, inplace = True)\n",
        "df1.shape"
      ],
      "execution_count": 0,
      "outputs": [
        {
          "output_type": "execute_result",
          "data": {
            "text/plain": [
              "(7985, 7)"
            ]
          },
          "metadata": {
            "tags": []
          },
          "execution_count": 95
        }
      ]
    },
    {
      "cell_type": "code",
      "metadata": {
        "id": "yc6B_zNaYM4l",
        "colab_type": "code",
        "outputId": "e59b5988-3cf1-467a-e678-f7640d4a2499",
        "colab": {
          "base_uri": "https://localhost:8080/",
          "height": 343
        }
      },
      "source": [
        "df1['Desc_word_count'] = df1['Description'].str.split().map(len)\n",
        "df1['Short_desc_word_count'] = df1['Short description'].str.split().map(len)\n",
        "df1.head()"
      ],
      "execution_count": 0,
      "outputs": [
        {
          "output_type": "execute_result",
          "data": {
            "text/html": [
              "<div>\n",
              "<style scoped>\n",
              "    .dataframe tbody tr th:only-of-type {\n",
              "        vertical-align: middle;\n",
              "    }\n",
              "\n",
              "    .dataframe tbody tr th {\n",
              "        vertical-align: top;\n",
              "    }\n",
              "\n",
              "    .dataframe thead th {\n",
              "        text-align: right;\n",
              "    }\n",
              "</style>\n",
              "<table border=\"1\" class=\"dataframe\">\n",
              "  <thead>\n",
              "    <tr style=\"text-align: right;\">\n",
              "      <th></th>\n",
              "      <th>Short description</th>\n",
              "      <th>Description</th>\n",
              "      <th>Caller</th>\n",
              "      <th>Assignment group</th>\n",
              "      <th>Cat_Short_Description</th>\n",
              "      <th>Cat_Description</th>\n",
              "      <th>Final Category</th>\n",
              "      <th>Desc_word_count</th>\n",
              "      <th>Short_desc_word_count</th>\n",
              "    </tr>\n",
              "  </thead>\n",
              "  <tbody>\n",
              "    <tr>\n",
              "      <th>0</th>\n",
              "      <td>login issue</td>\n",
              "      <td>-verified user details.(employee# &amp; manager na...</td>\n",
              "      <td>spxjnwir pjlcoqds</td>\n",
              "      <td>GRP_0</td>\n",
              "      <td>English</td>\n",
              "      <td>English</td>\n",
              "      <td>English</td>\n",
              "      <td>33</td>\n",
              "      <td>2</td>\n",
              "    </tr>\n",
              "    <tr>\n",
              "      <th>1</th>\n",
              "      <td>outlook</td>\n",
              "      <td>\\r\\n\\r\\nreceived from: hmjdrvpb.komuaywn@gmail...</td>\n",
              "      <td>hmjdrvpb komuaywn</td>\n",
              "      <td>GRP_0</td>\n",
              "      <td>English</td>\n",
              "      <td>English</td>\n",
              "      <td>English</td>\n",
              "      <td>25</td>\n",
              "      <td>1</td>\n",
              "    </tr>\n",
              "    <tr>\n",
              "      <th>2</th>\n",
              "      <td>cant log in to vpn</td>\n",
              "      <td>\\r\\n\\r\\nreceived from: eylqgodm.ybqkwiam@gmail...</td>\n",
              "      <td>eylqgodm ybqkwiam</td>\n",
              "      <td>GRP_0</td>\n",
              "      <td>English</td>\n",
              "      <td>English</td>\n",
              "      <td>English</td>\n",
              "      <td>11</td>\n",
              "      <td>5</td>\n",
              "    </tr>\n",
              "    <tr>\n",
              "      <th>3</th>\n",
              "      <td>unable to access hr_tool page</td>\n",
              "      <td>unable to access hr_tool page</td>\n",
              "      <td>xbkucsvz gcpydteq</td>\n",
              "      <td>GRP_0</td>\n",
              "      <td>English</td>\n",
              "      <td>English</td>\n",
              "      <td>English</td>\n",
              "      <td>5</td>\n",
              "      <td>5</td>\n",
              "    </tr>\n",
              "    <tr>\n",
              "      <th>4</th>\n",
              "      <td>skype error</td>\n",
              "      <td>skype error</td>\n",
              "      <td>owlgqjme qhcozdfx</td>\n",
              "      <td>GRP_0</td>\n",
              "      <td>English</td>\n",
              "      <td>English</td>\n",
              "      <td>English</td>\n",
              "      <td>2</td>\n",
              "      <td>2</td>\n",
              "    </tr>\n",
              "  </tbody>\n",
              "</table>\n",
              "</div>"
            ],
            "text/plain": [
              "               Short description  ... Short_desc_word_count\n",
              "0                    login issue  ...                     2\n",
              "1                        outlook  ...                     1\n",
              "2             cant log in to vpn  ...                     5\n",
              "3  unable to access hr_tool page  ...                     5\n",
              "4                   skype error   ...                     2\n",
              "\n",
              "[5 rows x 9 columns]"
            ]
          },
          "metadata": {
            "tags": []
          },
          "execution_count": 96
        }
      ]
    },
    {
      "cell_type": "code",
      "metadata": {
        "id": "AHcdXdDwYQAC",
        "colab_type": "code",
        "outputId": "521f3470-c08d-4088-cf3b-110a0fc8d606",
        "colab": {
          "base_uri": "https://localhost:8080/",
          "height": 173
        }
      },
      "source": [
        "df1['Desc_word_count'].describe()"
      ],
      "execution_count": 0,
      "outputs": [
        {
          "output_type": "execute_result",
          "data": {
            "text/plain": [
              "count    7985.000000\n",
              "mean       27.692048\n",
              "std        66.401108\n",
              "min         0.000000\n",
              "25%         6.000000\n",
              "50%        11.000000\n",
              "75%        29.000000\n",
              "max      1625.000000\n",
              "Name: Desc_word_count, dtype: float64"
            ]
          },
          "metadata": {
            "tags": []
          },
          "execution_count": 97
        }
      ]
    },
    {
      "cell_type": "code",
      "metadata": {
        "id": "O0ipR30uYTHY",
        "colab_type": "code",
        "outputId": "3d4bd391-8834-487f-fbfa-f14cf2b7d003",
        "colab": {
          "base_uri": "https://localhost:8080/",
          "height": 173
        }
      },
      "source": [
        "df1['Short_desc_word_count'].describe()"
      ],
      "execution_count": 0,
      "outputs": [
        {
          "output_type": "execute_result",
          "data": {
            "text/plain": [
              "count    7985.00000\n",
              "mean        6.99712\n",
              "std         4.15049\n",
              "min         1.00000\n",
              "25%         4.00000\n",
              "50%         6.00000\n",
              "75%         9.00000\n",
              "max        28.00000\n",
              "Name: Short_desc_word_count, dtype: float64"
            ]
          },
          "metadata": {
            "tags": []
          },
          "execution_count": 98
        }
      ]
    },
    {
      "cell_type": "code",
      "metadata": {
        "id": "yz9V2gMcW579",
        "colab_type": "code",
        "outputId": "394ced21-e5f4-43f0-f1b7-22a0f936eebf",
        "colab": {
          "base_uri": "https://localhost:8080/",
          "height": 104
        }
      },
      "source": [
        "from nltk.corpus import stopwords\n",
        "from nltk.tokenize import word_tokenize\n",
        "nltk.download('stopwords')\n",
        "nltk.download('punkt')"
      ],
      "execution_count": 0,
      "outputs": [
        {
          "output_type": "stream",
          "text": [
            "[nltk_data] Downloading package stopwords to /root/nltk_data...\n",
            "[nltk_data]   Package stopwords is already up-to-date!\n",
            "[nltk_data] Downloading package punkt to /root/nltk_data...\n",
            "[nltk_data]   Package punkt is already up-to-date!\n"
          ],
          "name": "stdout"
        },
        {
          "output_type": "execute_result",
          "data": {
            "text/plain": [
              "True"
            ]
          },
          "metadata": {
            "tags": []
          },
          "execution_count": 99
        }
      ]
    },
    {
      "cell_type": "code",
      "metadata": {
        "id": "SZz1LF6eW6ZD",
        "colab_type": "code",
        "colab": {}
      },
      "source": [
        "stop_words = set(stopwords.words('english'))#stop words stored in 'a'"
      ],
      "execution_count": 0,
      "outputs": []
    },
    {
      "cell_type": "code",
      "metadata": {
        "id": "Pw2LOka2W6Wx",
        "colab_type": "code",
        "colab": {}
      },
      "source": [
        "df1['Desc_no_stp_wrd'] = df1['Description'].apply(lambda x: len([x for x in x.split() if x in stop_words]))\n",
        "df1['Short_no_stp_wrd'] = df1['Short description'].apply(lambda x: len([x for x in x.split() if x in stop_words]))\n",
        "df1['Desc_no_dgt'] = df1['Description'].apply(lambda x: len([x for x in x if x.isdigit()]))\n",
        "df1['Shrt_Desc_no_dgt'] = df1['Short description'].apply(lambda x: len([x for x in x if x.isdigit()]))"
      ],
      "execution_count": 0,
      "outputs": []
    },
    {
      "cell_type": "code",
      "metadata": {
        "id": "eNQvrJ94W55G",
        "colab_type": "code",
        "outputId": "3c58a7c7-cab0-42e3-f7ad-a96909e5313f",
        "colab": {
          "base_uri": "https://localhost:8080/",
          "height": 121
        }
      },
      "source": [
        "print(df1['Desc_word_count'].sum())\n",
        "print(df1['Short_desc_word_count'].sum())\n",
        "\n",
        "print(df1['Desc_no_dgt'].sum())\n",
        "print(df1['Shrt_Desc_no_dgt'].sum())\n",
        "\n",
        "print(df1['Desc_no_stp_wrd'].sum())\n",
        "print(df1['Short_no_stp_wrd'].sum())\n"
      ],
      "execution_count": 0,
      "outputs": [
        {
          "output_type": "stream",
          "text": [
            "221121\n",
            "55872\n",
            "113542\n",
            "27666\n",
            "59971\n",
            "13040\n"
          ],
          "name": "stdout"
        }
      ]
    },
    {
      "cell_type": "code",
      "metadata": {
        "colab_type": "code",
        "id": "LxXMKhQh_Wkk",
        "colab": {}
      },
      "source": [
        "import re"
      ],
      "execution_count": 0,
      "outputs": []
    },
    {
      "cell_type": "code",
      "metadata": {
        "id": "9HCWd9rRa1oE",
        "colab_type": "code",
        "colab": {}
      },
      "source": [
        "df2 = df1.copy(deep = 'True') #Used for preprocessing of text"
      ],
      "execution_count": 0,
      "outputs": []
    },
    {
      "cell_type": "code",
      "metadata": {
        "colab_type": "code",
        "id": "GD7ya7kVnkRh",
        "colab": {}
      },
      "source": [
        "df2.drop(['Desc_word_count','Short_desc_word_count','Desc_no_stp_wrd','Short_no_stp_wrd','Desc_no_dgt','Shrt_Desc_no_dgt','Cat_Short_Description','Cat_Description','Final Category'],axis=1,inplace=True)"
      ],
      "execution_count": 0,
      "outputs": []
    },
    {
      "cell_type": "code",
      "metadata": {
        "colab_type": "code",
        "id": "JiXHeweqFyjP",
        "colab": {}
      },
      "source": [
        "df2['Description'] = df2['Description'].astype(str)\n",
        "df2['Short description'] = df2['Short description'].astype(str)\n",
        "df2['Caller'] = df2['Caller'].astype(str)"
      ],
      "execution_count": 0,
      "outputs": []
    },
    {
      "cell_type": "code",
      "metadata": {
        "colab_type": "code",
        "id": "7y24U0p3GPNk",
        "outputId": "9e956999-c46d-43aa-e87f-a8042a60d252",
        "colab": {
          "base_uri": "https://localhost:8080/",
          "height": 173
        }
      },
      "source": [
        "df2.info()"
      ],
      "execution_count": 0,
      "outputs": [
        {
          "output_type": "stream",
          "text": [
            "<class 'pandas.core.frame.DataFrame'>\n",
            "Int64Index: 7985 entries, 0 to 8498\n",
            "Data columns (total 4 columns):\n",
            "Short description    7985 non-null object\n",
            "Description          7985 non-null object\n",
            "Caller               7985 non-null object\n",
            "Assignment group     7985 non-null object\n",
            "dtypes: object(4)\n",
            "memory usage: 311.9+ KB\n"
          ],
          "name": "stdout"
        }
      ]
    },
    {
      "cell_type": "code",
      "metadata": {
        "id": "hqWdHjWUwFul",
        "colab_type": "code",
        "outputId": "baad5399-bbee-4dba-d6f7-9991cc4b90dd",
        "colab": {
          "base_uri": "https://localhost:8080/",
          "height": 35
        }
      },
      "source": [
        "df2['Description'][7985]"
      ],
      "execution_count": 0,
      "outputs": [
        {
          "output_type": "execute_result",
          "data": {
            "text/plain": [
              "'ess password reset'"
            ]
          },
          "metadata": {
            "tags": []
          },
          "execution_count": 114
        }
      ]
    },
    {
      "cell_type": "code",
      "metadata": {
        "colab_type": "code",
        "id": "bmbM7UYQHWQ6",
        "colab": {}
      },
      "source": [
        "#df1['Description'] = df1['Description'].apply(lambda x: re.sub(r\"\\W\", ' ', x)) # Removed all punctuations or non word characters marks\n",
        "#df1['Description'] = df1['Description'].apply(lambda x: x.lower()) #Converted to lower case\n",
        "#df1['Description'] = df1['Description'].apply(lambda x: re.sub(r'\\s+[a-z]\\s+', ' ', x)) # Removed all single characters\n",
        "#df1['Description'] = df1['Description'].apply(lambda x: re.sub(r\"^[a-z]\\s+\", ' ', x)) # Removed all single characters from start of the sentence\n",
        "#df1['Description'] = df1['Description'].apply(lambda x: re.sub(r\"[!';:@#$%^&*()~?<>,\\.:+-=`\"\"'\\'_]\", ' ', x)) # Removed all the special characters\n",
        "#df1['Description'] = df1['Description'].apply(lambda x: re.sub(r\"\\s+\", ' ', x))# Removed extra (one or more) spaces\n",
        "#df1['Description'] = df1['Description'].apply(lambda x: re.sub(r\"\\d\", '', x)) # Removed digits\n",
        "#df1['Description'] = df1['Description'].apply(lambda x: re.sub(r\"\\s+[a-zA-Z]\\s+\", '', x))\n",
        "#df1['Description'] = df1['Description'].apply(lambda x: re.sub(r\"^\\s\", '', x)) # Removed all the space at starta and end of sentences\n",
        "#df1['Description'] = df1['Description'].apply(lambda x: re.sub(r\"\\s$\", '', x)) ## Removed all the space at starta and end of sentences\n",
        "#df1['Description'] = df1['Description'].apply(lambda x: re.sub(\"([^\\x00-\\x7F])+\", '', x))"
      ],
      "execution_count": 0,
      "outputs": []
    },
    {
      "cell_type": "code",
      "metadata": {
        "id": "qqf3mS1pbEXL",
        "colab_type": "code",
        "colab": {}
      },
      "source": [
        "def preprocess(text):\n",
        "    sentence     = str(text)\n",
        "    sentence_low = sentence.lower()                                            #Converted to lower case\n",
        "    rem_hyper    = sentence_low.replace('{html}',' ')                          #Remove hyperlink  \n",
        "    rem_url      = re.sub(r'http:\\S+', ' ',rem_hyper)                          #Remove Web link\n",
        "    rem_mail     = re.sub(r\"\\S*@\\S*.com\\s?\",' ',rem_url)                       #Remove mail Id\n",
        "    txt_expand   = contractions.fix(rem_mail)                                  #Expand text\n",
        "    rem_special  = re.sub(r\"[!';:@#$%^&*()~?<>,\\.:+-=`\"\"'\\'_]\",' ',txt_expand) # Removed all the special characters \n",
        "    rem_num      = re.sub(r'\\d', '', rem_special)                              #Remove digit\n",
        "    rem_single   = re.sub(r\"\\s+[a-zA-Z]\\s+\", ' ',rem_num)                      #Remove single char\n",
        "    rem_spa      = re.sub(r\"\\s+\", ' ',rem_single)                              #Remove extra spaces\n",
        "    clean_text   = rem_spa\n",
        "    return clean_text"
      ],
      "execution_count": 0,
      "outputs": []
    },
    {
      "cell_type": "code",
      "metadata": {
        "id": "9OCawlRobO2m",
        "colab_type": "code",
        "outputId": "f58fd109-6e4f-41a9-8664-74a5c01c0529",
        "colab": {
          "base_uri": "https://localhost:8080/",
          "height": 35
        }
      },
      "source": [
        "df2['Short description'][7]  #before pre-process"
      ],
      "execution_count": 0,
      "outputs": [
        {
          "output_type": "execute_result",
          "data": {
            "text/plain": [
              "\"ticket_no1550391- employment status - new non-employee [enter user's name]\""
            ]
          },
          "metadata": {
            "tags": []
          },
          "execution_count": 116
        }
      ]
    },
    {
      "cell_type": "code",
      "metadata": {
        "id": "ihlGQeUfbS1r",
        "colab_type": "code",
        "colab": {}
      },
      "source": [
        "df2['Short description'] = df2['Short description'].map(lambda x:preprocess(x))\n",
        "df2['Description'] = df2['Description'].map(lambda x:preprocess(x))"
      ],
      "execution_count": 0,
      "outputs": []
    },
    {
      "cell_type": "code",
      "metadata": {
        "id": "0Bfnyr95bS-d",
        "colab_type": "code",
        "outputId": "b0caeda5-3ac3-4e46-bf1b-22556838aa86",
        "colab": {
          "base_uri": "https://localhost:8080/",
          "height": 35
        }
      },
      "source": [
        "df2['Short description'][7]  #after process"
      ],
      "execution_count": 0,
      "outputs": [
        {
          "output_type": "execute_result",
          "data": {
            "text/plain": [
              "'ticket no employment status new non employee [enter user name]'"
            ]
          },
          "metadata": {
            "tags": []
          },
          "execution_count": 118
        }
      ]
    },
    {
      "cell_type": "code",
      "metadata": {
        "colab_type": "code",
        "id": "J1t_KXakZlu3",
        "colab": {}
      },
      "source": [
        "#df1['Description'] = df1['Description'].apply(lambda x: re.sub(r\"that's\",\"that is\",x))\n",
        "#df1['Description'] = df1['Description'].apply(lambda x: re.sub(r\"there's\",\"there is\",x))\n",
        "#df1['Description'] = df1['Description'].apply(lambda x: re.sub(r\"what's\",\"what is\",x))\n",
        "#df1['Description'] = df1['Description'].apply(lambda x: re.sub(r\"where's\",\"where is\",x))\n",
        "#df1['Description'] = df1['Description'].apply(lambda x: re.sub(r\"it's\",\"it is\",x))\n",
        "#df1['Description'] = df1['Description'].apply(lambda x: re.sub(r\"who's\",\"who is\",x))\n",
        "#df1['Description'] = df1['Description'].apply(lambda x: re.sub(r\"i'm\",\"i am\",x))\n",
        "#df1['Description'] = df1['Description'].apply(lambda x: re.sub(r\"she's\",\"she is\",x))\n",
        "#df1['Description'] = df1['Description'].apply(lambda x: re.sub(r\"he's\",\"he is\",x))\n",
        "#df1['Description'] = df1['Description'].apply(lambda x: re.sub(r\"they're\",\"they are\",x))\n",
        "#df1['Description'] = df1['Description'].apply(lambda x: re.sub(r\"who're\",\"who are\", x))\n",
        "#df1['Description'] = df1['Description'].apply(lambda x: re.sub(r\"ain't\",\"am not\", x))\n",
        "#df1['Description'] = df1['Description'].apply(lambda x: re.sub(r\"wouldn't\",\"would not\",x))\n",
        "#df1['Description'] = df1['Description'].apply(lambda x: re.sub(r\"can't\",\"can not\",x))\n",
        "#df1['Description'] = df1['Description'].apply(lambda x: re.sub(r\"shouldn't\",\"should not\",x))\n",
        "#df1['Description'] = df1['Description'].apply(lambda x: re.sub(r\"couldn't\",\"could not\",x))\n",
        "#df1['Description'] = df1['Description'].apply(lambda x: re.sub(r\"won't\",\"will not\",x))\n",
        "#df1['Description'] = df1['Description'].apply(lambda x: re.sub(r\"isn't\",\"is not\",x))"
      ],
      "execution_count": 0,
      "outputs": []
    },
    {
      "cell_type": "code",
      "metadata": {
        "colab_type": "code",
        "id": "NOrZmB9mLS1e",
        "outputId": "70cddaa5-8911-466e-9ae6-33d40897a420",
        "colab": {
          "base_uri": "https://localhost:8080/",
          "height": 355
        }
      },
      "source": [
        "df2.head(10)"
      ],
      "execution_count": 0,
      "outputs": [
        {
          "output_type": "execute_result",
          "data": {
            "text/html": [
              "<div>\n",
              "<style scoped>\n",
              "    .dataframe tbody tr th:only-of-type {\n",
              "        vertical-align: middle;\n",
              "    }\n",
              "\n",
              "    .dataframe tbody tr th {\n",
              "        vertical-align: top;\n",
              "    }\n",
              "\n",
              "    .dataframe thead th {\n",
              "        text-align: right;\n",
              "    }\n",
              "</style>\n",
              "<table border=\"1\" class=\"dataframe\">\n",
              "  <thead>\n",
              "    <tr style=\"text-align: right;\">\n",
              "      <th></th>\n",
              "      <th>Short description</th>\n",
              "      <th>Description</th>\n",
              "      <th>Caller</th>\n",
              "      <th>Assignment group</th>\n",
              "    </tr>\n",
              "  </thead>\n",
              "  <tbody>\n",
              "    <tr>\n",
              "      <th>0</th>\n",
              "      <td>login issue</td>\n",
              "      <td>verified user details employee manager name c...</td>\n",
              "      <td>spxjnwir pjlcoqds</td>\n",
              "      <td>GRP_0</td>\n",
              "    </tr>\n",
              "    <tr>\n",
              "      <th>1</th>\n",
              "      <td>outlook</td>\n",
              "      <td>received from hello team my meetings skype me...</td>\n",
              "      <td>hmjdrvpb komuaywn</td>\n",
              "      <td>GRP_0</td>\n",
              "    </tr>\n",
              "    <tr>\n",
              "      <th>2</th>\n",
              "      <td>can not log in to vpn</td>\n",
              "      <td>received from hi cannot log on to vpn best</td>\n",
              "      <td>eylqgodm ybqkwiam</td>\n",
              "      <td>GRP_0</td>\n",
              "    </tr>\n",
              "    <tr>\n",
              "      <th>3</th>\n",
              "      <td>unable to access hr tool page</td>\n",
              "      <td>unable to access hr tool page</td>\n",
              "      <td>xbkucsvz gcpydteq</td>\n",
              "      <td>GRP_0</td>\n",
              "    </tr>\n",
              "    <tr>\n",
              "      <th>4</th>\n",
              "      <td>skype error</td>\n",
              "      <td>skype error</td>\n",
              "      <td>owlgqjme qhcozdfx</td>\n",
              "      <td>GRP_0</td>\n",
              "    </tr>\n",
              "    <tr>\n",
              "      <th>5</th>\n",
              "      <td>unable to log in to engineering tool and skype</td>\n",
              "      <td>unable to log in to engineering tool and skype</td>\n",
              "      <td>eflahbxn ltdgrvkz</td>\n",
              "      <td>GRP_0</td>\n",
              "    </tr>\n",
              "    <tr>\n",
              "      <th>6</th>\n",
              "      <td>event critical hostname company com the value ...</td>\n",
              "      <td>event critical hostname company com the value ...</td>\n",
              "      <td>jyoqwxhz clhxsoqy</td>\n",
              "      <td>GRP_1</td>\n",
              "    </tr>\n",
              "    <tr>\n",
              "      <th>7</th>\n",
              "      <td>ticket no employment status new non employee [...</td>\n",
              "      <td>ticket no employment status new non employee [...</td>\n",
              "      <td>eqzibjhw ymebpoih</td>\n",
              "      <td>GRP_0</td>\n",
              "    </tr>\n",
              "    <tr>\n",
              "      <th>8</th>\n",
              "      <td>unable to disable add ins on outlook</td>\n",
              "      <td>unable to disable add ins on outlook</td>\n",
              "      <td>mdbegvct dbvichlg</td>\n",
              "      <td>GRP_0</td>\n",
              "    </tr>\n",
              "    <tr>\n",
              "      <th>9</th>\n",
              "      <td>ticket update on inplant</td>\n",
              "      <td>ticket update on inplant</td>\n",
              "      <td>fumkcsji sarmtlhy</td>\n",
              "      <td>GRP_0</td>\n",
              "    </tr>\n",
              "  </tbody>\n",
              "</table>\n",
              "</div>"
            ],
            "text/plain": [
              "                                   Short description  ... Assignment group\n",
              "0                                        login issue  ...            GRP_0\n",
              "1                                            outlook  ...            GRP_0\n",
              "2                              can not log in to vpn  ...            GRP_0\n",
              "3                      unable to access hr tool page  ...            GRP_0\n",
              "4                                       skype error   ...            GRP_0\n",
              "5     unable to log in to engineering tool and skype  ...            GRP_0\n",
              "6  event critical hostname company com the value ...  ...            GRP_1\n",
              "7  ticket no employment status new non employee [...  ...            GRP_0\n",
              "8               unable to disable add ins on outlook  ...            GRP_0\n",
              "9                          ticket update on inplant   ...            GRP_0\n",
              "\n",
              "[10 rows x 4 columns]"
            ]
          },
          "metadata": {
            "tags": []
          },
          "execution_count": 119
        }
      ]
    },
    {
      "cell_type": "code",
      "metadata": {
        "colab_type": "code",
        "id": "64X35M7oHpgI",
        "outputId": "0ed4adde-8cc5-4655-f776-1cc00033ac6d",
        "colab": {
          "base_uri": "https://localhost:8080/",
          "height": 55
        }
      },
      "source": [
        "  df2['Description'][1]"
      ],
      "execution_count": 0,
      "outputs": [
        {
          "output_type": "execute_result",
          "data": {
            "text/plain": [
              "' received from hello team my meetings skype meetings etc are not appearing in my outlook calendar can somebody please advise how to correct this kind '"
            ]
          },
          "metadata": {
            "tags": []
          },
          "execution_count": 120
        }
      ]
    },
    {
      "cell_type": "code",
      "metadata": {
        "colab_type": "code",
        "id": "5yJJGYxvHWpC",
        "outputId": "c9320f82-3022-4213-b357-e746aff5543a",
        "colab": {
          "base_uri": "https://localhost:8080/",
          "height": 55
        }
      },
      "source": [
        "df1['Description'][1]"
      ],
      "execution_count": 0,
      "outputs": [
        {
          "output_type": "execute_result",
          "data": {
            "text/plain": [
              "'\\r\\n\\r\\nreceived from: hmjdrvpb.komuaywn@gmail.com\\r\\n\\r\\nhello team,\\r\\n\\r\\nmy meetings/skype meetings etc are not appearing in my outlook calendar, can somebody please advise how to correct this?\\r\\n\\r\\nkind '"
            ]
          },
          "metadata": {
            "tags": []
          },
          "execution_count": 121
        }
      ]
    },
    {
      "cell_type": "code",
      "metadata": {
        "id": "dHjRmXgVi9wq",
        "colab_type": "code",
        "outputId": "4d894528-93b4-4982-c17e-a13f8b22edaa",
        "colab": {
          "base_uri": "https://localhost:8080/",
          "height": 171
        }
      },
      "source": [
        "df2.describe()"
      ],
      "execution_count": 0,
      "outputs": [
        {
          "output_type": "execute_result",
          "data": {
            "text/html": [
              "<div>\n",
              "<style scoped>\n",
              "    .dataframe tbody tr th:only-of-type {\n",
              "        vertical-align: middle;\n",
              "    }\n",
              "\n",
              "    .dataframe tbody tr th {\n",
              "        vertical-align: top;\n",
              "    }\n",
              "\n",
              "    .dataframe thead th {\n",
              "        text-align: right;\n",
              "    }\n",
              "</style>\n",
              "<table border=\"1\" class=\"dataframe\">\n",
              "  <thead>\n",
              "    <tr style=\"text-align: right;\">\n",
              "      <th></th>\n",
              "      <th>Short description</th>\n",
              "      <th>Description</th>\n",
              "      <th>Caller</th>\n",
              "      <th>Assignment group</th>\n",
              "    </tr>\n",
              "  </thead>\n",
              "  <tbody>\n",
              "    <tr>\n",
              "      <th>count</th>\n",
              "      <td>7985</td>\n",
              "      <td>7985</td>\n",
              "      <td>7985</td>\n",
              "      <td>7985</td>\n",
              "    </tr>\n",
              "    <tr>\n",
              "      <th>unique</th>\n",
              "      <td>5922</td>\n",
              "      <td>6243</td>\n",
              "      <td>2772</td>\n",
              "      <td>74</td>\n",
              "    </tr>\n",
              "    <tr>\n",
              "      <th>top</th>\n",
              "      <td>job job failed in job scheduler at</td>\n",
              "      <td>received from job job failed in job scheduler at</td>\n",
              "      <td>bpctwhsn kzqsbmtp</td>\n",
              "      <td>GRP_0</td>\n",
              "    </tr>\n",
              "    <tr>\n",
              "      <th>freq</th>\n",
              "      <td>469</td>\n",
              "      <td>462</td>\n",
              "      <td>810</td>\n",
              "      <td>3869</td>\n",
              "    </tr>\n",
              "  </tbody>\n",
              "</table>\n",
              "</div>"
            ],
            "text/plain": [
              "                          Short description  ... Assignment group\n",
              "count                                  7985  ...             7985\n",
              "unique                                 5922  ...               74\n",
              "top     job job failed in job scheduler at   ...            GRP_0\n",
              "freq                                    469  ...             3869\n",
              "\n",
              "[4 rows x 4 columns]"
            ]
          },
          "metadata": {
            "tags": []
          },
          "execution_count": 122
        }
      ]
    },
    {
      "cell_type": "code",
      "metadata": {
        "id": "LH5ui925fyGq",
        "colab_type": "code",
        "outputId": "c058ad28-9631-470c-c189-43c275c30e22",
        "colab": {
          "base_uri": "https://localhost:8080/",
          "height": 51
        }
      },
      "source": [
        "#!pip install langdetect\n",
        "#from langdetect import detect\n",
        "#df1['lang'] = \" \"\n",
        "#store = []\n",
        "#for i in range(8500):\n",
        "#  try:\n",
        "#    desc = df1['Description'][i]\n",
        "#    temp = detect(desc)\n",
        "#    store.append(temp)\n",
        "#  except:\n",
        "#    language = \"error\"\n",
        "#    print(\"This row throws and error:\", df1['Description'][i])\n",
        "  #print(temp)"
      ],
      "execution_count": 0,
      "outputs": [
        {
          "output_type": "stream",
          "text": [
            "Requirement already satisfied: langdetect in /usr/local/lib/python3.6/dist-packages (1.0.7)\n",
            "Requirement already satisfied: six in /usr/local/lib/python3.6/dist-packages (from langdetect) (1.12.0)\n"
          ],
          "name": "stdout"
        }
      ]
    },
    {
      "cell_type": "code",
      "metadata": {
        "id": "puT7oWqKf2wZ",
        "colab_type": "code",
        "outputId": "3b870aa3-3a02-4bd9-b823-4a034f227455",
        "colab": {
          "base_uri": "https://localhost:8080/",
          "height": 204
        }
      },
      "source": [
        "#store1 = pd.DataFrame(store)\n",
        "#store1['lang'] = store1\n",
        "#store1.head(5)"
      ],
      "execution_count": 0,
      "outputs": [
        {
          "output_type": "execute_result",
          "data": {
            "text/html": [
              "<div>\n",
              "<style scoped>\n",
              "    .dataframe tbody tr th:only-of-type {\n",
              "        vertical-align: middle;\n",
              "    }\n",
              "\n",
              "    .dataframe tbody tr th {\n",
              "        vertical-align: top;\n",
              "    }\n",
              "\n",
              "    .dataframe thead th {\n",
              "        text-align: right;\n",
              "    }\n",
              "</style>\n",
              "<table border=\"1\" class=\"dataframe\">\n",
              "  <thead>\n",
              "    <tr style=\"text-align: right;\">\n",
              "      <th></th>\n",
              "      <th>0</th>\n",
              "      <th>lang</th>\n",
              "    </tr>\n",
              "  </thead>\n",
              "  <tbody>\n",
              "    <tr>\n",
              "      <th>0</th>\n",
              "      <td>en</td>\n",
              "      <td>en</td>\n",
              "    </tr>\n",
              "    <tr>\n",
              "      <th>1</th>\n",
              "      <td>en</td>\n",
              "      <td>en</td>\n",
              "    </tr>\n",
              "    <tr>\n",
              "      <th>2</th>\n",
              "      <td>en</td>\n",
              "      <td>en</td>\n",
              "    </tr>\n",
              "    <tr>\n",
              "      <th>3</th>\n",
              "      <td>en</td>\n",
              "      <td>en</td>\n",
              "    </tr>\n",
              "    <tr>\n",
              "      <th>4</th>\n",
              "      <td>no</td>\n",
              "      <td>no</td>\n",
              "    </tr>\n",
              "  </tbody>\n",
              "</table>\n",
              "</div>"
            ],
            "text/plain": [
              "    0 lang\n",
              "0  en   en\n",
              "1  en   en\n",
              "2  en   en\n",
              "3  en   en\n",
              "4  no   no"
            ]
          },
          "metadata": {
            "tags": []
          },
          "execution_count": 264
        }
      ]
    },
    {
      "cell_type": "code",
      "metadata": {
        "id": "j4tes2Yuiu2n",
        "colab_type": "code",
        "outputId": "89b53cd8-c26f-4cc6-9f14-a350356e9f32",
        "colab": {
          "base_uri": "https://localhost:8080/",
          "height": 34
        }
      },
      "source": [
        "#df1['Description'][4]"
      ],
      "execution_count": 0,
      "outputs": [
        {
          "output_type": "execute_result",
          "data": {
            "text/plain": [
              "'skype error '"
            ]
          },
          "metadata": {
            "tags": []
          },
          "execution_count": 265
        }
      ]
    },
    {
      "cell_type": "code",
      "metadata": {
        "id": "I2_ZmOF4f2s6",
        "colab_type": "code",
        "outputId": "51e1d1e6-9c68-4c27-abdf-9fb2abd91828",
        "colab": {
          "base_uri": "https://localhost:8080/",
          "height": 544
        }
      },
      "source": [
        "#store1.groupby(store1['lang'])['lang'].count().sort_values(ascending=False)"
      ],
      "execution_count": 0,
      "outputs": [
        {
          "output_type": "execute_result",
          "data": {
            "text/plain": [
              "lang\n",
              "en    6988\n",
              "de     389\n",
              "af     274\n",
              "it     132\n",
              "fr     109\n",
              "vi     106\n",
              "no      68\n",
              "es      61\n",
              "nl      58\n",
              "sv      57\n",
              "ca      52\n",
              "da      41\n",
              "pt      39\n",
              "pl      31\n",
              "ro      17\n",
              "tl      15\n",
              "cy      13\n",
              "sl       8\n",
              "sq       8\n",
              "fi       6\n",
              "et       6\n",
              "hr       5\n",
              "id       4\n",
              "so       3\n",
              "cs       2\n",
              "lt       2\n",
              "sk       1\n",
              "sw       1\n",
              "lv       1\n",
              "Name: lang, dtype: int64"
            ]
          },
          "metadata": {
            "tags": []
          },
          "execution_count": 190
        }
      ]
    },
    {
      "cell_type": "code",
      "metadata": {
        "id": "8atgKfmyqKCo",
        "colab_type": "code",
        "colab": {}
      },
      "source": [
        "df3 = df2.copy(deep=True) # Takenized applied "
      ],
      "execution_count": 0,
      "outputs": []
    },
    {
      "cell_type": "code",
      "metadata": {
        "id": "p0RKMdFvaeMF",
        "colab_type": "code",
        "outputId": "c67f8f0d-c30b-48f1-8e52-9a5322edf7ad",
        "colab": {
          "base_uri": "https://localhost:8080/",
          "height": 202
        }
      },
      "source": [
        "df3.head()"
      ],
      "execution_count": 0,
      "outputs": [
        {
          "output_type": "execute_result",
          "data": {
            "text/html": [
              "<div>\n",
              "<style scoped>\n",
              "    .dataframe tbody tr th:only-of-type {\n",
              "        vertical-align: middle;\n",
              "    }\n",
              "\n",
              "    .dataframe tbody tr th {\n",
              "        vertical-align: top;\n",
              "    }\n",
              "\n",
              "    .dataframe thead th {\n",
              "        text-align: right;\n",
              "    }\n",
              "</style>\n",
              "<table border=\"1\" class=\"dataframe\">\n",
              "  <thead>\n",
              "    <tr style=\"text-align: right;\">\n",
              "      <th></th>\n",
              "      <th>Short description</th>\n",
              "      <th>Description</th>\n",
              "      <th>Caller</th>\n",
              "      <th>Assignment group</th>\n",
              "    </tr>\n",
              "  </thead>\n",
              "  <tbody>\n",
              "    <tr>\n",
              "      <th>0</th>\n",
              "      <td>login issue</td>\n",
              "      <td>verified user details employee manager name c...</td>\n",
              "      <td>spxjnwir pjlcoqds</td>\n",
              "      <td>GRP_0</td>\n",
              "    </tr>\n",
              "    <tr>\n",
              "      <th>1</th>\n",
              "      <td>outlook</td>\n",
              "      <td>received from hello team my meetings skype me...</td>\n",
              "      <td>hmjdrvpb komuaywn</td>\n",
              "      <td>GRP_0</td>\n",
              "    </tr>\n",
              "    <tr>\n",
              "      <th>2</th>\n",
              "      <td>can not log in to vpn</td>\n",
              "      <td>received from hi cannot log on to vpn best</td>\n",
              "      <td>eylqgodm ybqkwiam</td>\n",
              "      <td>GRP_0</td>\n",
              "    </tr>\n",
              "    <tr>\n",
              "      <th>3</th>\n",
              "      <td>unable to access hr tool page</td>\n",
              "      <td>unable to access hr tool page</td>\n",
              "      <td>xbkucsvz gcpydteq</td>\n",
              "      <td>GRP_0</td>\n",
              "    </tr>\n",
              "    <tr>\n",
              "      <th>4</th>\n",
              "      <td>skype error</td>\n",
              "      <td>skype error</td>\n",
              "      <td>owlgqjme qhcozdfx</td>\n",
              "      <td>GRP_0</td>\n",
              "    </tr>\n",
              "  </tbody>\n",
              "</table>\n",
              "</div>"
            ],
            "text/plain": [
              "               Short description  ... Assignment group\n",
              "0                    login issue  ...            GRP_0\n",
              "1                        outlook  ...            GRP_0\n",
              "2          can not log in to vpn  ...            GRP_0\n",
              "3  unable to access hr tool page  ...            GRP_0\n",
              "4                   skype error   ...            GRP_0\n",
              "\n",
              "[5 rows x 4 columns]"
            ]
          },
          "metadata": {
            "tags": []
          },
          "execution_count": 140
        }
      ]
    },
    {
      "cell_type": "code",
      "metadata": {
        "id": "gWrPnpUktlgu",
        "colab_type": "code",
        "colab": {}
      },
      "source": [
        "#df2.drop(['Desc_word_count','Short_desc_word_count'],axis=1,inplace=True)"
      ],
      "execution_count": 0,
      "outputs": []
    },
    {
      "cell_type": "code",
      "metadata": {
        "id": "vE-mMUMutHRz",
        "colab_type": "code",
        "colab": {}
      },
      "source": [
        "df3['Description'] = df3['Description'].astype(str)\n",
        "df3['Short description'] = df3['Short description'].astype(str)\n",
        "df3['Caller'] = df3['Caller'].astype(str)"
      ],
      "execution_count": 0,
      "outputs": []
    },
    {
      "cell_type": "code",
      "metadata": {
        "id": "L-_iHqm9rIbh",
        "colab_type": "code",
        "outputId": "1889814a-ef36-4350-fbd6-ea137a8257a5",
        "colab": {
          "base_uri": "https://localhost:8080/",
          "height": 104
        }
      },
      "source": [
        "from nltk.corpus import stopwords\n",
        "from nltk.tokenize import word_tokenize\n",
        "nltk.download('stopwords')\n",
        "nltk.download('punkt')"
      ],
      "execution_count": 0,
      "outputs": [
        {
          "output_type": "stream",
          "text": [
            "[nltk_data] Downloading package stopwords to /root/nltk_data...\n",
            "[nltk_data]   Package stopwords is already up-to-date!\n",
            "[nltk_data] Downloading package punkt to /root/nltk_data...\n",
            "[nltk_data]   Package punkt is already up-to-date!\n"
          ],
          "name": "stdout"
        },
        {
          "output_type": "execute_result",
          "data": {
            "text/plain": [
              "True"
            ]
          },
          "metadata": {
            "tags": []
          },
          "execution_count": 142
        }
      ]
    },
    {
      "cell_type": "code",
      "metadata": {
        "id": "BqzHf7xxrIQw",
        "colab_type": "code",
        "colab": {}
      },
      "source": [
        "stop_words = set(stopwords.words('english'))#stop words stored in 'a'"
      ],
      "execution_count": 0,
      "outputs": []
    },
    {
      "cell_type": "code",
      "metadata": {
        "id": "5Sa5VuvXrjOl",
        "colab_type": "code",
        "colab": {}
      },
      "source": [
        "from nltk.tokenize import word_tokenize\n",
        "df3['Description'] = [word_tokenize(i) for i in df3['Description']]\n",
        "df3['Short description'] = [word_tokenize(i) for i in df3['Short description']]"
      ],
      "execution_count": 0,
      "outputs": []
    },
    {
      "cell_type": "code",
      "metadata": {
        "id": "lYfOr7bCrpql",
        "colab_type": "code",
        "outputId": "8d8ba693-8baf-4949-e81f-429dddf74b91",
        "colab": {
          "base_uri": "https://localhost:8080/",
          "height": 202
        }
      },
      "source": [
        "df3.head()"
      ],
      "execution_count": 0,
      "outputs": [
        {
          "output_type": "execute_result",
          "data": {
            "text/html": [
              "<div>\n",
              "<style scoped>\n",
              "    .dataframe tbody tr th:only-of-type {\n",
              "        vertical-align: middle;\n",
              "    }\n",
              "\n",
              "    .dataframe tbody tr th {\n",
              "        vertical-align: top;\n",
              "    }\n",
              "\n",
              "    .dataframe thead th {\n",
              "        text-align: right;\n",
              "    }\n",
              "</style>\n",
              "<table border=\"1\" class=\"dataframe\">\n",
              "  <thead>\n",
              "    <tr style=\"text-align: right;\">\n",
              "      <th></th>\n",
              "      <th>Short description</th>\n",
              "      <th>Description</th>\n",
              "      <th>Caller</th>\n",
              "      <th>Assignment group</th>\n",
              "    </tr>\n",
              "  </thead>\n",
              "  <tbody>\n",
              "    <tr>\n",
              "      <th>0</th>\n",
              "      <td>[login, issue]</td>\n",
              "      <td>[verified, user, details, employee, manager, n...</td>\n",
              "      <td>spxjnwir pjlcoqds</td>\n",
              "      <td>GRP_0</td>\n",
              "    </tr>\n",
              "    <tr>\n",
              "      <th>1</th>\n",
              "      <td>[outlook]</td>\n",
              "      <td>[received, from, hello, team, my, meetings, sk...</td>\n",
              "      <td>hmjdrvpb komuaywn</td>\n",
              "      <td>GRP_0</td>\n",
              "    </tr>\n",
              "    <tr>\n",
              "      <th>2</th>\n",
              "      <td>[can, not, log, in, to, vpn]</td>\n",
              "      <td>[received, from, hi, can, not, log, on, to, vp...</td>\n",
              "      <td>eylqgodm ybqkwiam</td>\n",
              "      <td>GRP_0</td>\n",
              "    </tr>\n",
              "    <tr>\n",
              "      <th>3</th>\n",
              "      <td>[unable, to, access, hr, tool, page]</td>\n",
              "      <td>[unable, to, access, hr, tool, page]</td>\n",
              "      <td>xbkucsvz gcpydteq</td>\n",
              "      <td>GRP_0</td>\n",
              "    </tr>\n",
              "    <tr>\n",
              "      <th>4</th>\n",
              "      <td>[skype, error]</td>\n",
              "      <td>[skype, error]</td>\n",
              "      <td>owlgqjme qhcozdfx</td>\n",
              "      <td>GRP_0</td>\n",
              "    </tr>\n",
              "  </tbody>\n",
              "</table>\n",
              "</div>"
            ],
            "text/plain": [
              "                      Short description  ... Assignment group\n",
              "0                        [login, issue]  ...            GRP_0\n",
              "1                             [outlook]  ...            GRP_0\n",
              "2          [can, not, log, in, to, vpn]  ...            GRP_0\n",
              "3  [unable, to, access, hr, tool, page]  ...            GRP_0\n",
              "4                        [skype, error]  ...            GRP_0\n",
              "\n",
              "[5 rows x 4 columns]"
            ]
          },
          "metadata": {
            "tags": []
          },
          "execution_count": 145
        }
      ]
    },
    {
      "cell_type": "code",
      "metadata": {
        "id": "PCCWwUqfrp70",
        "colab_type": "code",
        "colab": {}
      },
      "source": [
        "df3['Description']= df3['Description'].apply(lambda x: [item for item in x if item not in stop_words])\n",
        "df3['Short description']= df3['Short description'].apply(lambda x: [item for item in x if item not in stop_words])  "
      ],
      "execution_count": 0,
      "outputs": []
    },
    {
      "cell_type": "code",
      "metadata": {
        "id": "3R36ktpXrqDu",
        "colab_type": "code",
        "outputId": "c7208620-3c57-40e7-800b-2f853481a5c8",
        "colab": {
          "base_uri": "https://localhost:8080/",
          "height": 202
        }
      },
      "source": [
        "df3.head()"
      ],
      "execution_count": 0,
      "outputs": [
        {
          "output_type": "execute_result",
          "data": {
            "text/html": [
              "<div>\n",
              "<style scoped>\n",
              "    .dataframe tbody tr th:only-of-type {\n",
              "        vertical-align: middle;\n",
              "    }\n",
              "\n",
              "    .dataframe tbody tr th {\n",
              "        vertical-align: top;\n",
              "    }\n",
              "\n",
              "    .dataframe thead th {\n",
              "        text-align: right;\n",
              "    }\n",
              "</style>\n",
              "<table border=\"1\" class=\"dataframe\">\n",
              "  <thead>\n",
              "    <tr style=\"text-align: right;\">\n",
              "      <th></th>\n",
              "      <th>Short description</th>\n",
              "      <th>Description</th>\n",
              "      <th>Caller</th>\n",
              "      <th>Assignment group</th>\n",
              "    </tr>\n",
              "  </thead>\n",
              "  <tbody>\n",
              "    <tr>\n",
              "      <th>0</th>\n",
              "      <td>[login, issue]</td>\n",
              "      <td>[verified, user, details, employee, manager, n...</td>\n",
              "      <td>spxjnwir pjlcoqds</td>\n",
              "      <td>GRP_0</td>\n",
              "    </tr>\n",
              "    <tr>\n",
              "      <th>1</th>\n",
              "      <td>[outlook]</td>\n",
              "      <td>[received, hello, team, meetings, skype, meeti...</td>\n",
              "      <td>hmjdrvpb komuaywn</td>\n",
              "      <td>GRP_0</td>\n",
              "    </tr>\n",
              "    <tr>\n",
              "      <th>2</th>\n",
              "      <td>[log, vpn]</td>\n",
              "      <td>[received, hi, log, vpn, best]</td>\n",
              "      <td>eylqgodm ybqkwiam</td>\n",
              "      <td>GRP_0</td>\n",
              "    </tr>\n",
              "    <tr>\n",
              "      <th>3</th>\n",
              "      <td>[unable, access, hr, tool, page]</td>\n",
              "      <td>[unable, access, hr, tool, page]</td>\n",
              "      <td>xbkucsvz gcpydteq</td>\n",
              "      <td>GRP_0</td>\n",
              "    </tr>\n",
              "    <tr>\n",
              "      <th>4</th>\n",
              "      <td>[skype, error]</td>\n",
              "      <td>[skype, error]</td>\n",
              "      <td>owlgqjme qhcozdfx</td>\n",
              "      <td>GRP_0</td>\n",
              "    </tr>\n",
              "  </tbody>\n",
              "</table>\n",
              "</div>"
            ],
            "text/plain": [
              "                  Short description  ... Assignment group\n",
              "0                    [login, issue]  ...            GRP_0\n",
              "1                         [outlook]  ...            GRP_0\n",
              "2                        [log, vpn]  ...            GRP_0\n",
              "3  [unable, access, hr, tool, page]  ...            GRP_0\n",
              "4                    [skype, error]  ...            GRP_0\n",
              "\n",
              "[5 rows x 4 columns]"
            ]
          },
          "metadata": {
            "tags": []
          },
          "execution_count": 147
        }
      ]
    },
    {
      "cell_type": "code",
      "metadata": {
        "id": "j4J_00UJsWP-",
        "colab_type": "code",
        "outputId": "c88a9526-53f0-4b25-b0b2-0f550a7ab1b6",
        "colab": {
          "base_uri": "https://localhost:8080/",
          "height": 208
        }
      },
      "source": [
        "df3['Desc_word_count'] = df3['Description'].str.split().map(len)\n",
        "df3['Short_desc_word_count'] = df3['Short description'].str.split().map(len)\n",
        "print(df3.describe())\n",
        "print(np.percentile(df3['Desc_word_count'],90))\n",
        "print(np.percentile(df3['Desc_word_count'],95))"
      ],
      "execution_count": 0,
      "outputs": [
        {
          "output_type": "stream",
          "text": [
            "       Desc_word_count  Short_desc_word_count\n",
            "count      7985.000000            7985.000000\n",
            "mean         18.384346               5.206137\n",
            "std          46.787108               2.774795\n",
            "min           1.000000               1.000000\n",
            "25%           5.000000               3.000000\n",
            "50%           8.000000               5.000000\n",
            "75%          19.000000               7.000000\n",
            "max        1136.000000              25.000000\n",
            "36.0\n",
            "59.0\n"
          ],
          "name": "stdout"
        }
      ]
    },
    {
      "cell_type": "code",
      "metadata": {
        "id": "xGvinjZSawl3",
        "colab_type": "code",
        "colab": {}
      },
      "source": [
        "df3['Desc_no_stp_wrd'] = df3['Description'].apply(lambda x: len([x for x in x.split() if x in stop_words]))\n",
        "df3['Short_no_stp_wrd'] = df3['Short description'].apply(lambda x: len([x for x in x.split() if x in stop_words]))\n",
        "df3['Desc_no_dgt'] = df3['Description'].apply(lambda x: len([x for x in x if x.isdigit()]))\n",
        "df3['Shrt_Desc_no_dgt'] = df3['Short description'].apply(lambda x: len([x for x in x if x.isdigit()]))"
      ],
      "execution_count": 0,
      "outputs": []
    },
    {
      "cell_type": "code",
      "metadata": {
        "id": "NwGVWq4pbCpd",
        "colab_type": "code",
        "outputId": "b64ff4fb-1067-4fa7-99fe-bc8cd0414618",
        "colab": {
          "base_uri": "https://localhost:8080/",
          "height": 121
        }
      },
      "source": [
        "print(df3['Desc_word_count'].sum())\n",
        "print(df3['Short_desc_word_count'].sum())\n",
        "\n",
        "print(df3['Desc_no_dgt'].sum())\n",
        "print(df3['Shrt_Desc_no_dgt'].sum()) # To be discussed with team\n",
        "\n",
        "print(df3['Desc_no_stp_wrd'].sum())\n",
        "print(df3['Short_no_stp_wrd'].sum())"
      ],
      "execution_count": 0,
      "outputs": [
        {
          "output_type": "stream",
          "text": [
            "146799\n",
            "41571\n",
            "8852\n",
            "1732\n",
            "0\n",
            "0\n"
          ],
          "name": "stdout"
        }
      ]
    },
    {
      "cell_type": "code",
      "metadata": {
        "id": "i8UhI67Adkb-",
        "colab_type": "code",
        "outputId": "154d4427-a12d-4bcf-e3ab-ef3aeafee909",
        "colab": {
          "base_uri": "https://localhost:8080/",
          "height": 447
        }
      },
      "source": [
        "df3.head()"
      ],
      "execution_count": 0,
      "outputs": [
        {
          "output_type": "execute_result",
          "data": {
            "text/html": [
              "<div>\n",
              "<style scoped>\n",
              "    .dataframe tbody tr th:only-of-type {\n",
              "        vertical-align: middle;\n",
              "    }\n",
              "\n",
              "    .dataframe tbody tr th {\n",
              "        vertical-align: top;\n",
              "    }\n",
              "\n",
              "    .dataframe thead th {\n",
              "        text-align: right;\n",
              "    }\n",
              "</style>\n",
              "<table border=\"1\" class=\"dataframe\">\n",
              "  <thead>\n",
              "    <tr style=\"text-align: right;\">\n",
              "      <th></th>\n",
              "      <th>Short description</th>\n",
              "      <th>Description</th>\n",
              "      <th>Caller</th>\n",
              "      <th>Assignment group</th>\n",
              "      <th>Desc_word_count</th>\n",
              "      <th>Short_desc_word_count</th>\n",
              "      <th>Desc_no_stp_wrd</th>\n",
              "      <th>Short_no_stp_wrd</th>\n",
              "      <th>Desc_no_dgt</th>\n",
              "      <th>Shrt_Desc_no_dgt</th>\n",
              "    </tr>\n",
              "  </thead>\n",
              "  <tbody>\n",
              "    <tr>\n",
              "      <th>0</th>\n",
              "      <td>['login', 'issue']</td>\n",
              "      <td>['verified', 'user', 'details', 'employee', 'm...</td>\n",
              "      <td>spxjnwir pjlcoqds</td>\n",
              "      <td>GRP_0</td>\n",
              "      <td>22</td>\n",
              "      <td>2</td>\n",
              "      <td>0</td>\n",
              "      <td>0</td>\n",
              "      <td>0</td>\n",
              "      <td>0</td>\n",
              "    </tr>\n",
              "    <tr>\n",
              "      <th>1</th>\n",
              "      <td>['outlook']</td>\n",
              "      <td>['received', 'hello', 'team', 'meetings', 'sky...</td>\n",
              "      <td>hmjdrvpb komuaywn</td>\n",
              "      <td>GRP_0</td>\n",
              "      <td>15</td>\n",
              "      <td>1</td>\n",
              "      <td>0</td>\n",
              "      <td>0</td>\n",
              "      <td>0</td>\n",
              "      <td>0</td>\n",
              "    </tr>\n",
              "    <tr>\n",
              "      <th>2</th>\n",
              "      <td>['log', 'vpn']</td>\n",
              "      <td>['received', 'hi', 'log', 'vpn', 'best']</td>\n",
              "      <td>eylqgodm ybqkwiam</td>\n",
              "      <td>GRP_0</td>\n",
              "      <td>5</td>\n",
              "      <td>2</td>\n",
              "      <td>0</td>\n",
              "      <td>0</td>\n",
              "      <td>0</td>\n",
              "      <td>0</td>\n",
              "    </tr>\n",
              "    <tr>\n",
              "      <th>3</th>\n",
              "      <td>['unable', 'access', 'hr', 'tool', 'page']</td>\n",
              "      <td>['unable', 'access', 'hr', 'tool', 'page']</td>\n",
              "      <td>xbkucsvz gcpydteq</td>\n",
              "      <td>GRP_0</td>\n",
              "      <td>5</td>\n",
              "      <td>5</td>\n",
              "      <td>0</td>\n",
              "      <td>0</td>\n",
              "      <td>0</td>\n",
              "      <td>0</td>\n",
              "    </tr>\n",
              "    <tr>\n",
              "      <th>4</th>\n",
              "      <td>['skype', 'error']</td>\n",
              "      <td>['skype', 'error']</td>\n",
              "      <td>owlgqjme qhcozdfx</td>\n",
              "      <td>GRP_0</td>\n",
              "      <td>2</td>\n",
              "      <td>2</td>\n",
              "      <td>0</td>\n",
              "      <td>0</td>\n",
              "      <td>0</td>\n",
              "      <td>0</td>\n",
              "    </tr>\n",
              "  </tbody>\n",
              "</table>\n",
              "</div>"
            ],
            "text/plain": [
              "                            Short description  ... Shrt_Desc_no_dgt\n",
              "0                          ['login', 'issue']  ...                0\n",
              "1                                 ['outlook']  ...                0\n",
              "2                              ['log', 'vpn']  ...                0\n",
              "3  ['unable', 'access', 'hr', 'tool', 'page']  ...                0\n",
              "4                          ['skype', 'error']  ...                0\n",
              "\n",
              "[5 rows x 10 columns]"
            ]
          },
          "metadata": {
            "tags": []
          },
          "execution_count": 153
        }
      ]
    },
    {
      "cell_type": "code",
      "metadata": {
        "id": "vPPl8rXpuYbj",
        "colab_type": "code",
        "outputId": "a6e2113c-5bbe-427f-a210-a6365bbed5a3",
        "colab": {
          "base_uri": "https://localhost:8080/",
          "height": 297
        }
      },
      "source": [
        "sns.boxplot(df3['Desc_word_count'])"
      ],
      "execution_count": 0,
      "outputs": [
        {
          "output_type": "execute_result",
          "data": {
            "text/plain": [
              "<matplotlib.axes._subplots.AxesSubplot at 0x7fcf28e97eb8>"
            ]
          },
          "metadata": {
            "tags": []
          },
          "execution_count": 154
        },
        {
          "output_type": "display_data",
          "data": {
            "image/png": "[encoded data removed]",
            "text/plain": [
              "<Figure size 432x288 with 1 Axes>"
            ]
          },
          "metadata": {
            "tags": []
          }
        }
      ]
    },
    {
      "cell_type": "code",
      "metadata": {
        "id": "3tSeLn6cub9t",
        "colab_type": "code",
        "outputId": "7344c57e-aa0d-4e2b-ecb2-299d2ec18d48",
        "colab": {
          "base_uri": "https://localhost:8080/",
          "height": 297
        }
      },
      "source": [
        "sns.boxplot(df3['Short_desc_word_count'])"
      ],
      "execution_count": 0,
      "outputs": [
        {
          "output_type": "execute_result",
          "data": {
            "text/plain": [
              "<matplotlib.axes._subplots.AxesSubplot at 0x7fcf28e8b5f8>"
            ]
          },
          "metadata": {
            "tags": []
          },
          "execution_count": 155
        },
        {
          "output_type": "display_data",
          "data": {
            "image/png": "[encoded data removed]",
            "text/plain": [
              "<Figure size 432x288 with 1 Axes>"
            ]
          },
          "metadata": {
            "tags": []
          }
        }
      ]
    },
    {
      "cell_type": "code",
      "metadata": {
        "id": "BrUZrh5Ww1zN",
        "colab_type": "code",
        "colab": {}
      },
      "source": [
        "df4 = df3.copy(deep=True)\n",
        "df5 = df3.copy(deep=True)"
      ],
      "execution_count": 0,
      "outputs": []
    },
    {
      "cell_type": "code",
      "metadata": {
        "id": "gmSaGT8DJ6EP",
        "colab_type": "code",
        "outputId": "99465164-f24a-476d-fcd2-d570d86a2739",
        "colab": {
          "base_uri": "https://localhost:8080/",
          "height": 277
        }
      },
      "source": [
        "df4.info()"
      ],
      "execution_count": 0,
      "outputs": [
        {
          "output_type": "stream",
          "text": [
            "<class 'pandas.core.frame.DataFrame'>\n",
            "Int64Index: 7985 entries, 0 to 8498\n",
            "Data columns (total 10 columns):\n",
            "Short description        7985 non-null object\n",
            "Description              7985 non-null object\n",
            "Caller                   7985 non-null object\n",
            "Assignment group         7985 non-null object\n",
            "Desc_word_count          7985 non-null int64\n",
            "Short_desc_word_count    7985 non-null int64\n",
            "Desc_no_stp_wrd          7985 non-null int64\n",
            "Short_no_stp_wrd         7985 non-null int64\n",
            "Desc_no_dgt              7985 non-null int64\n",
            "Shrt_Desc_no_dgt         7985 non-null int64\n",
            "dtypes: int64(6), object(4)\n",
            "memory usage: 686.2+ KB\n"
          ],
          "name": "stdout"
        }
      ]
    },
    {
      "cell_type": "code",
      "metadata": {
        "id": "woBSXhqTw1jU",
        "colab_type": "code",
        "colab": {}
      },
      "source": [
        "df4.drop(['Desc_word_count','Short_desc_word_count','Short description','Caller','Desc_no_stp_wrd','Short_no_stp_wrd','Desc_no_dgt','Shrt_Desc_no_dgt'],axis=1,inplace=True)\n",
        "df5.drop(['Desc_word_count','Description','Short_desc_word_count','Caller','Desc_no_stp_wrd','Short_no_stp_wrd','Desc_no_dgt','Shrt_Desc_no_dgt'],axis=1,inplace=True)"
      ],
      "execution_count": 0,
      "outputs": []
    },
    {
      "cell_type": "code",
      "metadata": {
        "id": "fwexY-ayw1d1",
        "colab_type": "code",
        "colab": {}
      },
      "source": [
        "from sklearn.feature_extraction.text import CountVectorizer"
      ],
      "execution_count": 0,
      "outputs": []
    },
    {
      "cell_type": "code",
      "metadata": {
        "id": "i-KWrGp2w1ZQ",
        "colab_type": "code",
        "colab": {}
      },
      "source": [
        "cv = CountVectorizer()\n",
        "x = cv.fit_transform(df4['Description'])\n",
        "y = df4['Assignment group']"
      ],
      "execution_count": 0,
      "outputs": []
    },
    {
      "cell_type": "code",
      "metadata": {
        "id": "AhMss_fLw1VW",
        "colab_type": "code",
        "colab": {}
      },
      "source": [
        "from sklearn.model_selection import train_test_split\n",
        "x_train, x_test, y_train, y_test = train_test_split(x, y, test_size = 0.2, random_state = 0)"
      ],
      "execution_count": 0,
      "outputs": []
    },
    {
      "cell_type": "code",
      "metadata": {
        "id": "FucQr6C0w1Sv",
        "colab_type": "code",
        "outputId": "04a07db7-0022-4d50-99bf-70841c1431f4",
        "colab": {
          "base_uri": "https://localhost:8080/",
          "height": 52
        }
      },
      "source": [
        "from sklearn.naive_bayes import MultinomialNB\n",
        "model = MultinomialNB()\n",
        "model.fit(x_train, y_train)\n",
        "print(model.score(x_train,y_train))\n",
        "print(model.score(x_test,y_test))\n",
        "y_pred = model.predict(x_test)"
      ],
      "execution_count": 0,
      "outputs": [
        {
          "output_type": "stream",
          "text": [
            "0.7014715090795242\n",
            "0.641202254226675\n"
          ],
          "name": "stdout"
        }
      ]
    },
    {
      "cell_type": "code",
      "metadata": {
        "id": "rH8--Ys90Zx6",
        "colab_type": "code",
        "outputId": "1de5d0dc-3a22-4d3b-e658-6b979fa08ff5",
        "colab": {
          "base_uri": "https://localhost:8080/",
          "height": 1000
        }
      },
      "source": [
        "from sklearn.metrics import classification_report\n",
        "print(classification_report(y_test,y_pred))"
      ],
      "execution_count": 0,
      "outputs": [
        {
          "output_type": "stream",
          "text": [
            "              precision    recall  f1-score   support\n",
            "\n",
            "       GRP_0       0.68      0.98      0.80       823\n",
            "       GRP_1       0.00      0.00      0.00         5\n",
            "      GRP_10       1.00      0.13      0.23        23\n",
            "      GRP_11       0.00      0.00      0.00         7\n",
            "      GRP_12       0.50      0.52      0.51        33\n",
            "      GRP_13       0.40      0.47      0.43        30\n",
            "      GRP_14       0.38      0.18      0.24        17\n",
            "      GRP_15       0.00      0.00      0.00        12\n",
            "      GRP_16       0.00      0.00      0.00        14\n",
            "      GRP_17       0.00      0.00      0.00        20\n",
            "      GRP_18       0.14      0.04      0.07        23\n",
            "      GRP_19       0.43      0.07      0.12        45\n",
            "       GRP_2       0.57      0.27      0.37        59\n",
            "      GRP_20       0.00      0.00      0.00        12\n",
            "      GRP_21       0.00      0.00      0.00         6\n",
            "      GRP_22       0.00      0.00      0.00         9\n",
            "      GRP_23       0.00      0.00      0.00         7\n",
            "      GRP_24       0.78      0.93      0.85        15\n",
            "      GRP_25       0.00      0.00      0.00        20\n",
            "      GRP_26       0.50      0.06      0.11        16\n",
            "      GRP_27       0.00      0.00      0.00         2\n",
            "      GRP_28       0.00      0.00      0.00         7\n",
            "      GRP_29       0.11      0.05      0.07        20\n",
            "       GRP_3       0.80      0.30      0.43        27\n",
            "      GRP_30       0.00      0.00      0.00         4\n",
            "      GRP_31       0.38      0.56      0.45         9\n",
            "      GRP_33       0.00      0.00      0.00         8\n",
            "      GRP_34       1.00      0.09      0.17        11\n",
            "      GRP_36       0.00      0.00      0.00         2\n",
            "      GRP_37       0.00      0.00      0.00         3\n",
            "      GRP_39       0.00      0.00      0.00         5\n",
            "       GRP_4       0.50      0.10      0.16        21\n",
            "      GRP_40       0.00      0.00      0.00         7\n",
            "      GRP_41       0.00      0.00      0.00         8\n",
            "      GRP_44       0.00      0.00      0.00         4\n",
            "      GRP_45       0.00      0.00      0.00         4\n",
            "      GRP_46       0.00      0.00      0.00         2\n",
            "      GRP_47       0.00      0.00      0.00         4\n",
            "      GRP_48       0.00      0.00      0.00         3\n",
            "       GRP_5       0.00      0.00      0.00        23\n",
            "      GRP_50       0.00      0.00      0.00         1\n",
            "      GRP_52       0.00      0.00      0.00         2\n",
            "      GRP_53       0.00      0.00      0.00         1\n",
            "      GRP_54       0.00      0.00      0.00         1\n",
            "      GRP_55       0.00      0.00      0.00         2\n",
            "      GRP_56       0.00      0.00      0.00         1\n",
            "      GRP_57       0.00      0.00      0.00         1\n",
            "      GRP_59       0.00      0.00      0.00         3\n",
            "       GRP_6       0.62      0.22      0.32        37\n",
            "      GRP_60       0.00      0.00      0.00         2\n",
            "      GRP_61       0.00      0.00      0.00         1\n",
            "      GRP_62       0.00      0.00      0.00         3\n",
            "      GRP_65       0.00      0.00      0.00         1\n",
            "      GRP_66       0.00      0.00      0.00         1\n",
            "      GRP_68       0.00      0.00      0.00         1\n",
            "       GRP_7       0.00      0.00      0.00        17\n",
            "      GRP_70       0.00      0.00      0.00         1\n",
            "      GRP_71       0.00      0.00      0.00         1\n",
            "       GRP_8       0.60      0.92      0.73       129\n",
            "       GRP_9       0.43      0.14      0.21        21\n",
            "\n",
            "    accuracy                           0.64      1597\n",
            "   macro avg       0.16      0.10      0.10      1597\n",
            "weighted avg       0.53      0.64      0.55      1597\n",
            "\n"
          ],
          "name": "stdout"
        },
        {
          "output_type": "stream",
          "text": [
            "/usr/local/lib/python3.6/dist-packages/sklearn/metrics/_classification.py:1272: UndefinedMetricWarning: Precision and F-score are ill-defined and being set to 0.0 in labels with no predicted samples. Use `zero_division` parameter to control this behavior.\n",
            "  _warn_prf(average, modifier, msg_start, len(result))\n"
          ],
          "name": "stderr"
        }
      ]
    },
    {
      "cell_type": "code",
      "metadata": {
        "id": "_Xa-iiQ0w1Oh",
        "colab_type": "code",
        "colab": {}
      },
      "source": [
        "cv = CountVectorizer()\n",
        "x1 = cv.fit_transform(df5['Short description'])\n",
        "y1 = df5['Assignment group']"
      ],
      "execution_count": 0,
      "outputs": []
    },
    {
      "cell_type": "code",
      "metadata": {
        "id": "tEs6Dooz0hRs",
        "colab_type": "code",
        "colab": {}
      },
      "source": [
        "from sklearn.model_selection import train_test_split\n",
        "x1_train, x1_test, y1_train, y1_test = train_test_split(x1, y1, test_size = 0.2, random_state = 0)"
      ],
      "execution_count": 0,
      "outputs": []
    },
    {
      "cell_type": "code",
      "metadata": {
        "id": "YU7GEtZn0hNs",
        "colab_type": "code",
        "outputId": "d400935c-1cb1-4f00-c009-687fef0008d3",
        "colab": {
          "base_uri": "https://localhost:8080/",
          "height": 52
        }
      },
      "source": [
        "from sklearn.naive_bayes import MultinomialNB\n",
        "model = MultinomialNB()\n",
        "model.fit(x1_train, y1_train)\n",
        "print(model.score(x1_train,y1_train))\n",
        "print(model.score(x1_test,y1_test))\n",
        "y_pred = model.predict(x1_test)"
      ],
      "execution_count": 0,
      "outputs": [
        {
          "output_type": "stream",
          "text": [
            "0.7055416405760802\n",
            "0.6537257357545397\n"
          ],
          "name": "stdout"
        }
      ]
    },
    {
      "cell_type": "code",
      "metadata": {
        "id": "FB8R4bvV0hLd",
        "colab_type": "code",
        "outputId": "fa1b6bbf-9c63-46da-a646-9d6bfce004ff",
        "colab": {
          "base_uri": "https://localhost:8080/",
          "height": 1000
        }
      },
      "source": [
        "from sklearn.metrics import classification_report\n",
        "print(classification_report(y1_test,y_pred))"
      ],
      "execution_count": 0,
      "outputs": [
        {
          "output_type": "stream",
          "text": [
            "              precision    recall  f1-score   support\n",
            "\n",
            "       GRP_0       0.70      0.97      0.81       823\n",
            "       GRP_1       0.00      0.00      0.00         5\n",
            "      GRP_10       1.00      0.04      0.08        23\n",
            "      GRP_11       0.00      0.00      0.00         7\n",
            "      GRP_12       0.45      0.52      0.48        33\n",
            "      GRP_13       0.54      0.43      0.48        30\n",
            "      GRP_14       0.38      0.18      0.24        17\n",
            "      GRP_15       1.00      0.08      0.15        12\n",
            "      GRP_16       0.00      0.00      0.00        14\n",
            "      GRP_17       0.95      1.00      0.98        20\n",
            "      GRP_18       0.00      0.00      0.00        23\n",
            "      GRP_19       0.44      0.09      0.15        45\n",
            "       GRP_2       0.50      0.22      0.31        59\n",
            "      GRP_20       1.00      0.08      0.15        12\n",
            "      GRP_21       0.00      0.00      0.00         6\n",
            "      GRP_22       0.00      0.00      0.00         9\n",
            "      GRP_23       0.00      0.00      0.00         7\n",
            "      GRP_24       0.79      1.00      0.88        15\n",
            "      GRP_25       0.40      0.10      0.16        20\n",
            "      GRP_26       1.00      0.06      0.12        16\n",
            "      GRP_27       0.00      0.00      0.00         2\n",
            "      GRP_28       0.00      0.00      0.00         7\n",
            "      GRP_29       0.40      0.20      0.27        20\n",
            "       GRP_3       0.32      0.26      0.29        27\n",
            "      GRP_30       0.00      0.00      0.00         4\n",
            "      GRP_31       0.43      0.67      0.52         9\n",
            "      GRP_33       0.00      0.00      0.00         8\n",
            "      GRP_34       0.00      0.00      0.00        11\n",
            "      GRP_36       0.00      0.00      0.00         2\n",
            "      GRP_37       0.00      0.00      0.00         3\n",
            "      GRP_39       0.00      0.00      0.00         5\n",
            "       GRP_4       0.50      0.05      0.09        21\n",
            "      GRP_40       0.00      0.00      0.00         7\n",
            "      GRP_41       1.00      0.12      0.22         8\n",
            "      GRP_44       0.00      0.00      0.00         4\n",
            "      GRP_45       0.00      0.00      0.00         4\n",
            "      GRP_46       0.00      0.00      0.00         2\n",
            "      GRP_47       0.00      0.00      0.00         4\n",
            "      GRP_48       0.00      0.00      0.00         3\n",
            "       GRP_5       0.00      0.00      0.00        23\n",
            "      GRP_50       0.00      0.00      0.00         1\n",
            "      GRP_52       0.00      0.00      0.00         2\n",
            "      GRP_53       0.00      0.00      0.00         1\n",
            "      GRP_54       0.00      0.00      0.00         1\n",
            "      GRP_55       0.00      0.00      0.00         2\n",
            "      GRP_56       0.00      0.00      0.00         1\n",
            "      GRP_57       0.00      0.00      0.00         1\n",
            "      GRP_59       0.00      0.00      0.00         3\n",
            "       GRP_6       0.44      0.22      0.29        37\n",
            "      GRP_60       0.00      0.00      0.00         2\n",
            "      GRP_61       0.00      0.00      0.00         1\n",
            "      GRP_62       1.00      0.33      0.50         3\n",
            "      GRP_65       0.00      0.00      0.00         1\n",
            "      GRP_66       0.00      0.00      0.00         1\n",
            "      GRP_68       0.00      0.00      0.00         1\n",
            "       GRP_7       0.50      0.18      0.26        17\n",
            "      GRP_70       0.00      0.00      0.00         1\n",
            "      GRP_71       0.00      0.00      0.00         1\n",
            "       GRP_8       0.58      0.95      0.72       129\n",
            "       GRP_9       0.33      0.05      0.08        21\n",
            "\n",
            "    accuracy                           0.65      1597\n",
            "   macro avg       0.24      0.13      0.14      1597\n",
            "weighted avg       0.57      0.65      0.56      1597\n",
            "\n"
          ],
          "name": "stdout"
        },
        {
          "output_type": "stream",
          "text": [
            "/usr/local/lib/python3.6/dist-packages/sklearn/metrics/_classification.py:1272: UndefinedMetricWarning: Precision and F-score are ill-defined and being set to 0.0 in labels with no predicted samples. Use `zero_division` parameter to control this behavior.\n",
            "  _warn_prf(average, modifier, msg_start, len(result))\n"
          ],
          "name": "stderr"
        }
      ]
    },
    {
      "cell_type": "code",
      "metadata": {
        "id": "ZRK86dqJK2SG",
        "colab_type": "code",
        "colab": {}
      },
      "source": [
        ""
      ],
      "execution_count": 0,
      "outputs": []
    },
    {
      "cell_type": "code",
      "metadata": {
        "id": "x75B1QJ0z_xX",
        "colab_type": "code",
        "colab": {}
      },
      "source": [
        "MAX_NB_WORDS = 20000"
      ],
      "execution_count": 0,
      "outputs": []
    },
    {
      "cell_type": "markdown",
      "metadata": {
        "id": "KQNhMLWyBnOZ",
        "colab_type": "text"
      },
      "source": [
        "Encoding the data using Tokenizer"
      ]
    },
    {
      "cell_type": "code",
      "metadata": {
        "id": "FnwevkKu0V-A",
        "colab_type": "code",
        "outputId": "14647706-1fde-479d-a30e-cc7697fa9bf1",
        "colab": {
          "base_uri": "https://localhost:8080/",
          "height": 81
        }
      },
      "source": [
        "from keras.preprocessing.text import Tokenizer\n",
        "tokenizer = Tokenizer(num_words=MAX_NB_WORDS,split=' ')\n",
        "Description_df = df2['Description']\n",
        "tokenizer.fit_on_texts(Description_df)"
      ],
      "execution_count": 0,
      "outputs": [
        {
          "output_type": "stream",
          "text": [
            "Using TensorFlow backend.\n"
          ],
          "name": "stderr"
        },
        {
          "output_type": "display_data",
          "data": {
            "text/html": [
              "<p style=\"color: red;\">\n",
              "The default version of TensorFlow in Colab will soon switch to TensorFlow 2.x.<br>\n",
              "We recommend you <a href=\"https://www.tensorflow.org/guide/migrate\" target=\"_blank\">upgrade</a> now \n",
              "or ensure your notebook will continue to use TensorFlow 1.x via the <code>%tensorflow_version 1.x</code> magic:\n",
              "<a href=\"https://colab.research.google.com/notebooks/tensorflow_version.ipynb\" target=\"_blank\">more info</a>.</p>\n"
            ],
            "text/plain": [
              "<IPython.core.display.HTML object>"
            ]
          },
          "metadata": {
            "tags": []
          }
        }
      ]
    },
    {
      "cell_type": "markdown",
      "metadata": {
        "id": "OaJqemupBupK",
        "colab_type": "text"
      },
      "source": [
        "Removing Stopwords from Description column"
      ]
    },
    {
      "cell_type": "code",
      "metadata": {
        "id": "bBJinY7qnas_",
        "colab_type": "code",
        "colab": {}
      },
      "source": [
        "Description = []\n",
        "for sentence in Description_df:\n",
        "  word_tokens = word_tokenize(sentence)\n",
        "  filtered_sentence = [w for w in word_tokens if not w in stop_words] \n",
        "  filtered_sentence = []\n",
        "  for w in word_tokens:\n",
        "      if w not in stop_words:\n",
        "        filtered_sentence.append(w)\n",
        "  Description.append(filtered_sentence)"
      ],
      "execution_count": 0,
      "outputs": []
    },
    {
      "cell_type": "code",
      "metadata": {
        "id": "QU563OpvnhWE",
        "colab_type": "code",
        "outputId": "27918b4e-4380-4619-952a-c84dc7564beb",
        "colab": {
          "base_uri": "https://localhost:8080/",
          "height": 55
        }
      },
      "source": [
        "print(Description[0])"
      ],
      "execution_count": 0,
      "outputs": [
        {
          "output_type": "stream",
          "text": [
            "['verified', 'user', 'details', 'employee', 'manager', 'name', 'checked', 'user', 'name', 'ad', 'reset', 'password', 'advised', 'user', 'login', 'check', 'caller', 'confirmed', 'able', 'login', 'issue', 'resolved']\n"
          ],
          "name": "stdout"
        }
      ]
    },
    {
      "cell_type": "code",
      "metadata": {
        "id": "AQF0p-Aos0xa",
        "colab_type": "code",
        "outputId": "e4d1691c-a443-4d0f-ef31-c0969c5ca014",
        "colab": {
          "base_uri": "https://localhost:8080/",
          "height": 35
        }
      },
      "source": [
        "len(Description[0])"
      ],
      "execution_count": 0,
      "outputs": [
        {
          "output_type": "execute_result",
          "data": {
            "text/plain": [
              "22"
            ]
          },
          "metadata": {
            "tags": []
          },
          "execution_count": 176
        }
      ]
    },
    {
      "cell_type": "markdown",
      "metadata": {
        "id": "5JNYKu96CDyJ",
        "colab_type": "text"
      },
      "source": [
        "Getting the maximun word count present in Description Column"
      ]
    },
    {
      "cell_type": "code",
      "metadata": {
        "id": "kZ5JpaNQxBfY",
        "colab_type": "code",
        "outputId": "07f4def2-84e1-45a0-f2bc-00c373714cd5",
        "colab": {
          "base_uri": "https://localhost:8080/",
          "height": 35
        }
      },
      "source": [
        "MAX_SENT_LENGTH=0\n",
        "for desc in Description:\n",
        "  if MAX_SENT_LENGTH < len(desc):\n",
        "    MAX_SENT_LENGTH = len(desc)\n",
        "print(MAX_SENT_LENGTH)      "
      ],
      "execution_count": 0,
      "outputs": [
        {
          "output_type": "stream",
          "text": [
            "1136\n"
          ],
          "name": "stdout"
        }
      ]
    },
    {
      "cell_type": "markdown",
      "metadata": {
        "id": "sPqRWWPWB5uS",
        "colab_type": "text"
      },
      "source": [
        "Creating Data array to hold word index values"
      ]
    },
    {
      "cell_type": "code",
      "metadata": {
        "id": "r4qs7knuy_Xc",
        "colab_type": "code",
        "outputId": "a7fa4851-1d21-43eb-a27c-50df7343f8c0",
        "colab": {
          "base_uri": "https://localhost:8080/",
          "height": 35
        }
      },
      "source": [
        "import numpy as np\n",
        "data = np.zeros((len(Description),25))\n",
        "data.shape"
      ],
      "execution_count": 0,
      "outputs": [
        {
          "output_type": "execute_result",
          "data": {
            "text/plain": [
              "(7985, 25)"
            ]
          },
          "metadata": {
            "tags": []
          },
          "execution_count": 178
        }
      ]
    },
    {
      "cell_type": "code",
      "metadata": {
        "id": "DAQ6pZXm9U4l",
        "colab_type": "code",
        "colab": {}
      },
      "source": [
        "data=data.astype('int32')"
      ],
      "execution_count": 0,
      "outputs": []
    },
    {
      "cell_type": "markdown",
      "metadata": {
        "id": "nq1muPw6COQ6",
        "colab_type": "text"
      },
      "source": [
        "Replacing dummy array with word index values for each Description"
      ]
    },
    {
      "cell_type": "code",
      "metadata": {
        "id": "wqhKivU61-GP",
        "colab_type": "code",
        "colab": {}
      },
      "source": [
        "from keras.preprocessing.text import text_to_word_sequence\n",
        "x=0\n",
        "for description in Description:\n",
        "  tkn = tokenizer.texts_to_sequences(description)#converting text to sequence\n",
        "  if(len(tkn)>0):\n",
        "    token_indexed = np.concatenate(tkn,axis=0).tolist()#converting array of array to single array\n",
        "    token_indexed = np.pad(token_indexed,(0,25))#appending max word count for each description\n",
        "    token_indexed = token_indexed[0:25]#get the first 822 values from each token\n",
        "    data[x]= token_indexed\n",
        "    x=x+1"
      ],
      "execution_count": 0,
      "outputs": []
    },
    {
      "cell_type": "code",
      "metadata": {
        "id": "27cXvKXs9PFr",
        "colab_type": "code",
        "outputId": "1f328491-d4ba-49db-a429-9b778a181c4e",
        "colab": {
          "base_uri": "https://localhost:8080/",
          "height": 52
        }
      },
      "source": [
        "print(data[0])"
      ],
      "execution_count": 0,
      "outputs": [
        {
          "output_type": "stream",
          "text": [
            "[202  21 210 259 114  46 367  21  46 277  34  20 508  21  62 104 358 296\n",
            "  90  62  35 280   0   0   0]\n"
          ],
          "name": "stdout"
        }
      ]
    },
    {
      "cell_type": "code",
      "metadata": {
        "id": "xMglI-Mz7Tl0",
        "colab_type": "code",
        "colab": {}
      },
      "source": [
        ""
      ],
      "execution_count": 0,
      "outputs": []
    },
    {
      "cell_type": "markdown",
      "metadata": {
        "id": "jVPtkjyOBIoK",
        "colab_type": "text"
      },
      "source": [
        "Convert labels into one-hot vectors"
      ]
    },
    {
      "cell_type": "code",
      "metadata": {
        "id": "7e6RcpthBLpa",
        "colab_type": "code",
        "colab": {}
      },
      "source": [
        "assignment_group = pd.DataFrame(df2['Assignment group'])\n",
        "group = pd.get_dummies(assignment_group,columns=['Assignment group'])"
      ],
      "execution_count": 0,
      "outputs": []
    },
    {
      "cell_type": "code",
      "metadata": {
        "id": "2zUBRXRiDHiQ",
        "colab_type": "code",
        "outputId": "f8583f10-7ec4-4c01-ca12-da5284cc023b",
        "colab": {
          "base_uri": "https://localhost:8080/",
          "height": 239
        }
      },
      "source": [
        "group.head()"
      ],
      "execution_count": 0,
      "outputs": [
        {
          "output_type": "execute_result",
          "data": {
            "text/html": [
              "<div>\n",
              "<style scoped>\n",
              "    .dataframe tbody tr th:only-of-type {\n",
              "        vertical-align: middle;\n",
              "    }\n",
              "\n",
              "    .dataframe tbody tr th {\n",
              "        vertical-align: top;\n",
              "    }\n",
              "\n",
              "    .dataframe thead th {\n",
              "        text-align: right;\n",
              "    }\n",
              "</style>\n",
              "<table border=\"1\" class=\"dataframe\">\n",
              "  <thead>\n",
              "    <tr style=\"text-align: right;\">\n",
              "      <th></th>\n",
              "      <th>Assignment group_GRP_0</th>\n",
              "      <th>Assignment group_GRP_1</th>\n",
              "      <th>Assignment group_GRP_10</th>\n",
              "      <th>Assignment group_GRP_11</th>\n",
              "      <th>Assignment group_GRP_12</th>\n",
              "      <th>Assignment group_GRP_13</th>\n",
              "      <th>Assignment group_GRP_14</th>\n",
              "      <th>Assignment group_GRP_15</th>\n",
              "      <th>Assignment group_GRP_16</th>\n",
              "      <th>Assignment group_GRP_17</th>\n",
              "      <th>Assignment group_GRP_18</th>\n",
              "      <th>Assignment group_GRP_19</th>\n",
              "      <th>Assignment group_GRP_2</th>\n",
              "      <th>Assignment group_GRP_20</th>\n",
              "      <th>Assignment group_GRP_21</th>\n",
              "      <th>Assignment group_GRP_22</th>\n",
              "      <th>Assignment group_GRP_23</th>\n",
              "      <th>Assignment group_GRP_24</th>\n",
              "      <th>Assignment group_GRP_25</th>\n",
              "      <th>Assignment group_GRP_26</th>\n",
              "      <th>Assignment group_GRP_27</th>\n",
              "      <th>Assignment group_GRP_28</th>\n",
              "      <th>Assignment group_GRP_29</th>\n",
              "      <th>Assignment group_GRP_3</th>\n",
              "      <th>Assignment group_GRP_30</th>\n",
              "      <th>Assignment group_GRP_31</th>\n",
              "      <th>Assignment group_GRP_32</th>\n",
              "      <th>Assignment group_GRP_33</th>\n",
              "      <th>Assignment group_GRP_34</th>\n",
              "      <th>Assignment group_GRP_35</th>\n",
              "      <th>Assignment group_GRP_36</th>\n",
              "      <th>Assignment group_GRP_37</th>\n",
              "      <th>Assignment group_GRP_38</th>\n",
              "      <th>Assignment group_GRP_39</th>\n",
              "      <th>Assignment group_GRP_4</th>\n",
              "      <th>Assignment group_GRP_40</th>\n",
              "      <th>Assignment group_GRP_41</th>\n",
              "      <th>Assignment group_GRP_42</th>\n",
              "      <th>Assignment group_GRP_43</th>\n",
              "      <th>Assignment group_GRP_44</th>\n",
              "      <th>Assignment group_GRP_45</th>\n",
              "      <th>Assignment group_GRP_46</th>\n",
              "      <th>Assignment group_GRP_47</th>\n",
              "      <th>Assignment group_GRP_48</th>\n",
              "      <th>Assignment group_GRP_49</th>\n",
              "      <th>Assignment group_GRP_5</th>\n",
              "      <th>Assignment group_GRP_50</th>\n",
              "      <th>Assignment group_GRP_51</th>\n",
              "      <th>Assignment group_GRP_52</th>\n",
              "      <th>Assignment group_GRP_53</th>\n",
              "      <th>Assignment group_GRP_54</th>\n",
              "      <th>Assignment group_GRP_55</th>\n",
              "      <th>Assignment group_GRP_56</th>\n",
              "      <th>Assignment group_GRP_57</th>\n",
              "      <th>Assignment group_GRP_58</th>\n",
              "      <th>Assignment group_GRP_59</th>\n",
              "      <th>Assignment group_GRP_6</th>\n",
              "      <th>Assignment group_GRP_60</th>\n",
              "      <th>Assignment group_GRP_61</th>\n",
              "      <th>Assignment group_GRP_62</th>\n",
              "      <th>Assignment group_GRP_63</th>\n",
              "      <th>Assignment group_GRP_64</th>\n",
              "      <th>Assignment group_GRP_65</th>\n",
              "      <th>Assignment group_GRP_66</th>\n",
              "      <th>Assignment group_GRP_67</th>\n",
              "      <th>Assignment group_GRP_68</th>\n",
              "      <th>Assignment group_GRP_69</th>\n",
              "      <th>Assignment group_GRP_7</th>\n",
              "      <th>Assignment group_GRP_70</th>\n",
              "      <th>Assignment group_GRP_71</th>\n",
              "      <th>Assignment group_GRP_72</th>\n",
              "      <th>Assignment group_GRP_73</th>\n",
              "      <th>Assignment group_GRP_8</th>\n",
              "      <th>Assignment group_GRP_9</th>\n",
              "    </tr>\n",
              "  </thead>\n",
              "  <tbody>\n",
              "    <tr>\n",
              "      <th>0</th>\n",
              "      <td>1</td>\n",
              "      <td>0</td>\n",
              "      <td>0</td>\n",
              "      <td>0</td>\n",
              "      <td>0</td>\n",
              "      <td>0</td>\n",
              "      <td>0</td>\n",
              "      <td>0</td>\n",
              "      <td>0</td>\n",
              "      <td>0</td>\n",
              "      <td>0</td>\n",
              "      <td>0</td>\n",
              "      <td>0</td>\n",
              "      <td>0</td>\n",
              "      <td>0</td>\n",
              "      <td>0</td>\n",
              "      <td>0</td>\n",
              "      <td>0</td>\n",
              "      <td>0</td>\n",
              "      <td>0</td>\n",
              "      <td>0</td>\n",
              "      <td>0</td>\n",
              "      <td>0</td>\n",
              "      <td>0</td>\n",
              "      <td>0</td>\n",
              "      <td>0</td>\n",
              "      <td>0</td>\n",
              "      <td>0</td>\n",
              "      <td>0</td>\n",
              "      <td>0</td>\n",
              "      <td>0</td>\n",
              "      <td>0</td>\n",
              "      <td>0</td>\n",
              "      <td>0</td>\n",
              "      <td>0</td>\n",
              "      <td>0</td>\n",
              "      <td>0</td>\n",
              "      <td>0</td>\n",
              "      <td>0</td>\n",
              "      <td>0</td>\n",
              "      <td>0</td>\n",
              "      <td>0</td>\n",
              "      <td>0</td>\n",
              "      <td>0</td>\n",
              "      <td>0</td>\n",
              "      <td>0</td>\n",
              "      <td>0</td>\n",
              "      <td>0</td>\n",
              "      <td>0</td>\n",
              "      <td>0</td>\n",
              "      <td>0</td>\n",
              "      <td>0</td>\n",
              "      <td>0</td>\n",
              "      <td>0</td>\n",
              "      <td>0</td>\n",
              "      <td>0</td>\n",
              "      <td>0</td>\n",
              "      <td>0</td>\n",
              "      <td>0</td>\n",
              "      <td>0</td>\n",
              "      <td>0</td>\n",
              "      <td>0</td>\n",
              "      <td>0</td>\n",
              "      <td>0</td>\n",
              "      <td>0</td>\n",
              "      <td>0</td>\n",
              "      <td>0</td>\n",
              "      <td>0</td>\n",
              "      <td>0</td>\n",
              "      <td>0</td>\n",
              "      <td>0</td>\n",
              "      <td>0</td>\n",
              "      <td>0</td>\n",
              "      <td>0</td>\n",
              "    </tr>\n",
              "    <tr>\n",
              "      <th>1</th>\n",
              "      <td>1</td>\n",
              "      <td>0</td>\n",
              "      <td>0</td>\n",
              "      <td>0</td>\n",
              "      <td>0</td>\n",
              "      <td>0</td>\n",
              "      <td>0</td>\n",
              "      <td>0</td>\n",
              "      <td>0</td>\n",
              "      <td>0</td>\n",
              "      <td>0</td>\n",
              "      <td>0</td>\n",
              "      <td>0</td>\n",
              "      <td>0</td>\n",
              "      <td>0</td>\n",
              "      <td>0</td>\n",
              "      <td>0</td>\n",
              "      <td>0</td>\n",
              "      <td>0</td>\n",
              "      <td>0</td>\n",
              "      <td>0</td>\n",
              "      <td>0</td>\n",
              "      <td>0</td>\n",
              "      <td>0</td>\n",
              "      <td>0</td>\n",
              "      <td>0</td>\n",
              "      <td>0</td>\n",
              "      <td>0</td>\n",
              "      <td>0</td>\n",
              "      <td>0</td>\n",
              "      <td>0</td>\n",
              "      <td>0</td>\n",
              "      <td>0</td>\n",
              "      <td>0</td>\n",
              "      <td>0</td>\n",
              "      <td>0</td>\n",
              "      <td>0</td>\n",
              "      <td>0</td>\n",
              "      <td>0</td>\n",
              "      <td>0</td>\n",
              "      <td>0</td>\n",
              "      <td>0</td>\n",
              "      <td>0</td>\n",
              "      <td>0</td>\n",
              "      <td>0</td>\n",
              "      <td>0</td>\n",
              "      <td>0</td>\n",
              "      <td>0</td>\n",
              "      <td>0</td>\n",
              "      <td>0</td>\n",
              "      <td>0</td>\n",
              "      <td>0</td>\n",
              "      <td>0</td>\n",
              "      <td>0</td>\n",
              "      <td>0</td>\n",
              "      <td>0</td>\n",
              "      <td>0</td>\n",
              "      <td>0</td>\n",
              "      <td>0</td>\n",
              "      <td>0</td>\n",
              "      <td>0</td>\n",
              "      <td>0</td>\n",
              "      <td>0</td>\n",
              "      <td>0</td>\n",
              "      <td>0</td>\n",
              "      <td>0</td>\n",
              "      <td>0</td>\n",
              "      <td>0</td>\n",
              "      <td>0</td>\n",
              "      <td>0</td>\n",
              "      <td>0</td>\n",
              "      <td>0</td>\n",
              "      <td>0</td>\n",
              "      <td>0</td>\n",
              "    </tr>\n",
              "    <tr>\n",
              "      <th>2</th>\n",
              "      <td>1</td>\n",
              "      <td>0</td>\n",
              "      <td>0</td>\n",
              "      <td>0</td>\n",
              "      <td>0</td>\n",
              "      <td>0</td>\n",
              "      <td>0</td>\n",
              "      <td>0</td>\n",
              "      <td>0</td>\n",
              "      <td>0</td>\n",
              "      <td>0</td>\n",
              "      <td>0</td>\n",
              "      <td>0</td>\n",
              "      <td>0</td>\n",
              "      <td>0</td>\n",
              "      <td>0</td>\n",
              "      <td>0</td>\n",
              "      <td>0</td>\n",
              "      <td>0</td>\n",
              "      <td>0</td>\n",
              "      <td>0</td>\n",
              "      <td>0</td>\n",
              "      <td>0</td>\n",
              "      <td>0</td>\n",
              "      <td>0</td>\n",
              "      <td>0</td>\n",
              "      <td>0</td>\n",
              "      <td>0</td>\n",
              "      <td>0</td>\n",
              "      <td>0</td>\n",
              "      <td>0</td>\n",
              "      <td>0</td>\n",
              "      <td>0</td>\n",
              "      <td>0</td>\n",
              "      <td>0</td>\n",
              "      <td>0</td>\n",
              "      <td>0</td>\n",
              "      <td>0</td>\n",
              "      <td>0</td>\n",
              "      <td>0</td>\n",
              "      <td>0</td>\n",
              "      <td>0</td>\n",
              "      <td>0</td>\n",
              "      <td>0</td>\n",
              "      <td>0</td>\n",
              "      <td>0</td>\n",
              "      <td>0</td>\n",
              "      <td>0</td>\n",
              "      <td>0</td>\n",
              "      <td>0</td>\n",
              "      <td>0</td>\n",
              "      <td>0</td>\n",
              "      <td>0</td>\n",
              "      <td>0</td>\n",
              "      <td>0</td>\n",
              "      <td>0</td>\n",
              "      <td>0</td>\n",
              "      <td>0</td>\n",
              "      <td>0</td>\n",
              "      <td>0</td>\n",
              "      <td>0</td>\n",
              "      <td>0</td>\n",
              "      <td>0</td>\n",
              "      <td>0</td>\n",
              "      <td>0</td>\n",
              "      <td>0</td>\n",
              "      <td>0</td>\n",
              "      <td>0</td>\n",
              "      <td>0</td>\n",
              "      <td>0</td>\n",
              "      <td>0</td>\n",
              "      <td>0</td>\n",
              "      <td>0</td>\n",
              "      <td>0</td>\n",
              "    </tr>\n",
              "    <tr>\n",
              "      <th>3</th>\n",
              "      <td>1</td>\n",
              "      <td>0</td>\n",
              "      <td>0</td>\n",
              "      <td>0</td>\n",
              "      <td>0</td>\n",
              "      <td>0</td>\n",
              "      <td>0</td>\n",
              "      <td>0</td>\n",
              "      <td>0</td>\n",
              "      <td>0</td>\n",
              "      <td>0</td>\n",
              "      <td>0</td>\n",
              "      <td>0</td>\n",
              "      <td>0</td>\n",
              "      <td>0</td>\n",
              "      <td>0</td>\n",
              "      <td>0</td>\n",
              "      <td>0</td>\n",
              "      <td>0</td>\n",
              "      <td>0</td>\n",
              "      <td>0</td>\n",
              "      <td>0</td>\n",
              "      <td>0</td>\n",
              "      <td>0</td>\n",
              "      <td>0</td>\n",
              "      <td>0</td>\n",
              "      <td>0</td>\n",
              "      <td>0</td>\n",
              "      <td>0</td>\n",
              "      <td>0</td>\n",
              "      <td>0</td>\n",
              "      <td>0</td>\n",
              "      <td>0</td>\n",
              "      <td>0</td>\n",
              "      <td>0</td>\n",
              "      <td>0</td>\n",
              "      <td>0</td>\n",
              "      <td>0</td>\n",
              "      <td>0</td>\n",
              "      <td>0</td>\n",
              "      <td>0</td>\n",
              "      <td>0</td>\n",
              "      <td>0</td>\n",
              "      <td>0</td>\n",
              "      <td>0</td>\n",
              "      <td>0</td>\n",
              "      <td>0</td>\n",
              "      <td>0</td>\n",
              "      <td>0</td>\n",
              "      <td>0</td>\n",
              "      <td>0</td>\n",
              "      <td>0</td>\n",
              "      <td>0</td>\n",
              "      <td>0</td>\n",
              "      <td>0</td>\n",
              "      <td>0</td>\n",
              "      <td>0</td>\n",
              "      <td>0</td>\n",
              "      <td>0</td>\n",
              "      <td>0</td>\n",
              "      <td>0</td>\n",
              "      <td>0</td>\n",
              "      <td>0</td>\n",
              "      <td>0</td>\n",
              "      <td>0</td>\n",
              "      <td>0</td>\n",
              "      <td>0</td>\n",
              "      <td>0</td>\n",
              "      <td>0</td>\n",
              "      <td>0</td>\n",
              "      <td>0</td>\n",
              "      <td>0</td>\n",
              "      <td>0</td>\n",
              "      <td>0</td>\n",
              "    </tr>\n",
              "    <tr>\n",
              "      <th>4</th>\n",
              "      <td>1</td>\n",
              "      <td>0</td>\n",
              "      <td>0</td>\n",
              "      <td>0</td>\n",
              "      <td>0</td>\n",
              "      <td>0</td>\n",
              "      <td>0</td>\n",
              "      <td>0</td>\n",
              "      <td>0</td>\n",
              "      <td>0</td>\n",
              "      <td>0</td>\n",
              "      <td>0</td>\n",
              "      <td>0</td>\n",
              "      <td>0</td>\n",
              "      <td>0</td>\n",
              "      <td>0</td>\n",
              "      <td>0</td>\n",
              "      <td>0</td>\n",
              "      <td>0</td>\n",
              "      <td>0</td>\n",
              "      <td>0</td>\n",
              "      <td>0</td>\n",
              "      <td>0</td>\n",
              "      <td>0</td>\n",
              "      <td>0</td>\n",
              "      <td>0</td>\n",
              "      <td>0</td>\n",
              "      <td>0</td>\n",
              "      <td>0</td>\n",
              "      <td>0</td>\n",
              "      <td>0</td>\n",
              "      <td>0</td>\n",
              "      <td>0</td>\n",
              "      <td>0</td>\n",
              "      <td>0</td>\n",
              "      <td>0</td>\n",
              "      <td>0</td>\n",
              "      <td>0</td>\n",
              "      <td>0</td>\n",
              "      <td>0</td>\n",
              "      <td>0</td>\n",
              "      <td>0</td>\n",
              "      <td>0</td>\n",
              "      <td>0</td>\n",
              "      <td>0</td>\n",
              "      <td>0</td>\n",
              "      <td>0</td>\n",
              "      <td>0</td>\n",
              "      <td>0</td>\n",
              "      <td>0</td>\n",
              "      <td>0</td>\n",
              "      <td>0</td>\n",
              "      <td>0</td>\n",
              "      <td>0</td>\n",
              "      <td>0</td>\n",
              "      <td>0</td>\n",
              "      <td>0</td>\n",
              "      <td>0</td>\n",
              "      <td>0</td>\n",
              "      <td>0</td>\n",
              "      <td>0</td>\n",
              "      <td>0</td>\n",
              "      <td>0</td>\n",
              "      <td>0</td>\n",
              "      <td>0</td>\n",
              "      <td>0</td>\n",
              "      <td>0</td>\n",
              "      <td>0</td>\n",
              "      <td>0</td>\n",
              "      <td>0</td>\n",
              "      <td>0</td>\n",
              "      <td>0</td>\n",
              "      <td>0</td>\n",
              "      <td>0</td>\n",
              "    </tr>\n",
              "  </tbody>\n",
              "</table>\n",
              "</div>"
            ],
            "text/plain": [
              "   Assignment group_GRP_0  ...  Assignment group_GRP_9\n",
              "0                       1  ...                       0\n",
              "1                       1  ...                       0\n",
              "2                       1  ...                       0\n",
              "3                       1  ...                       0\n",
              "4                       1  ...                       0\n",
              "\n",
              "[5 rows x 74 columns]"
            ]
          },
          "metadata": {
            "tags": []
          },
          "execution_count": 183
        }
      ]
    },
    {
      "cell_type": "code",
      "metadata": {
        "id": "fO-tuFwcCuhq",
        "colab_type": "code",
        "outputId": "8fc3aca0-daa7-4055-955c-5bba42d28c46",
        "colab": {
          "base_uri": "https://localhost:8080/",
          "height": 52
        }
      },
      "source": [
        "labels = np.array(group)\n",
        "print(labels[0])"
      ],
      "execution_count": 0,
      "outputs": [
        {
          "output_type": "stream",
          "text": [
            "[1 0 0 0 0 0 0 0 0 0 0 0 0 0 0 0 0 0 0 0 0 0 0 0 0 0 0 0 0 0 0 0 0 0 0 0 0\n",
            " 0 0 0 0 0 0 0 0 0 0 0 0 0 0 0 0 0 0 0 0 0 0 0 0 0 0 0 0 0 0 0 0 0 0 0 0 0]\n"
          ],
          "name": "stdout"
        }
      ]
    },
    {
      "cell_type": "markdown",
      "metadata": {
        "id": "T-uajKDYDoBx",
        "colab_type": "text"
      },
      "source": [
        "Check the shape of data and label arrays"
      ]
    },
    {
      "cell_type": "code",
      "metadata": {
        "id": "g4ScwphtDisn",
        "colab_type": "code",
        "outputId": "ebf22944-c3c6-464d-d8c8-e49084394790",
        "colab": {
          "base_uri": "https://localhost:8080/",
          "height": 52
        }
      },
      "source": [
        "print('Shape of data tensor:', data.shape)\n",
        "print('Shape of label tensor:', labels.shape)"
      ],
      "execution_count": 0,
      "outputs": [
        {
          "output_type": "stream",
          "text": [
            "Shape of data tensor: (7985, 25)\n",
            "Shape of label tensor: (7985, 74)\n"
          ],
          "name": "stdout"
        }
      ]
    },
    {
      "cell_type": "markdown",
      "metadata": {
        "id": "L2qJyX0vD2GJ",
        "colab_type": "text"
      },
      "source": [
        "Shuffling the data & labels"
      ]
    },
    {
      "cell_type": "code",
      "metadata": {
        "id": "oKs3tuQ9D45w",
        "colab_type": "code",
        "colab": {}
      },
      "source": [
        "indices = np.arange(data.shape[0])\n",
        "np.random.shuffle(indices)\n",
        "data = data[indices]\n",
        "labels = labels[indices]"
      ],
      "execution_count": 0,
      "outputs": []
    },
    {
      "cell_type": "markdown",
      "metadata": {
        "id": "xmu9cNdmEk1R",
        "colab_type": "text"
      },
      "source": [
        "Creating training and testing set"
      ]
    },
    {
      "cell_type": "code",
      "metadata": {
        "id": "KQoHm9cVEHZh",
        "colab_type": "code",
        "colab": {}
      },
      "source": [
        "from sklearn.model_selection import train_test_split\n",
        "X_train, X_val, Y_train, Y_val = train_test_split(data,labels, test_size = 0.20, random_state = 42)"
      ],
      "execution_count": 0,
      "outputs": []
    },
    {
      "cell_type": "code",
      "metadata": {
        "id": "GuFTxjz88Q36",
        "colab_type": "code",
        "outputId": "72488751-e37f-4a81-9048-bec08419a91d",
        "colab": {
          "base_uri": "https://localhost:8080/",
          "height": 69
        }
      },
      "source": [
        "X_train[0]"
      ],
      "execution_count": 0,
      "outputs": [
        {
          "output_type": "execute_result",
          "data": {
            "text/plain": [
              "array([   9,    7,   24, 1144,   33,    7,   30,    0,    0,    0,    0,\n",
              "          0,    0,    0,    0,    0,    0,    0,    0,    0,    0,    0,\n",
              "          0,    0,    0], dtype=int32)"
            ]
          },
          "metadata": {
            "tags": []
          },
          "execution_count": 188
        }
      ]
    },
    {
      "cell_type": "code",
      "metadata": {
        "id": "hPdlvzNBErgA",
        "colab_type": "code",
        "outputId": "c961d6bf-92ce-4ce8-8029-3d5ce5437a90",
        "colab": {
          "base_uri": "https://localhost:8080/",
          "height": 87
        }
      },
      "source": [
        "print(X_train.shape)\n",
        "print(Y_train.shape)\n",
        "print(X_val.shape)\n",
        "print(Y_val.shape)"
      ],
      "execution_count": 0,
      "outputs": [
        {
          "output_type": "stream",
          "text": [
            "(6388, 25)\n",
            "(6388, 74)\n",
            "(1597, 25)\n",
            "(1597, 74)\n"
          ],
          "name": "stdout"
        }
      ]
    },
    {
      "cell_type": "code",
      "metadata": {
        "id": "UB_QqeBDA8J-",
        "colab_type": "code",
        "outputId": "4b236464-132f-4943-feb0-1a3e3811044f",
        "colab": {
          "base_uri": "https://localhost:8080/",
          "height": 69
        }
      },
      "source": [
        "X_train[0]"
      ],
      "execution_count": 0,
      "outputs": [
        {
          "output_type": "execute_result",
          "data": {
            "text/plain": [
              "array([   9,    7,   24, 1144,   33,    7,   30,    0,    0,    0,    0,\n",
              "          0,    0,    0,    0,    0,    0,    0,    0,    0,    0,    0,\n",
              "          0,    0,    0], dtype=int32)"
            ]
          },
          "metadata": {
            "tags": []
          },
          "execution_count": 190
        }
      ]
    },
    {
      "cell_type": "code",
      "metadata": {
        "id": "jspxQrqph7eC",
        "colab_type": "code",
        "colab": {}
      },
      "source": [
        "from keras.datasets import imdb\n",
        "import numpy as np\n",
        "import pandas as pd\n",
        "from keras.models import Sequential\n",
        "from keras.layers import Dense\n",
        "from keras.layers import LSTM\n",
        "from keras.layers.embeddings import Embedding\n",
        "from keras.preprocessing import sequence\n",
        "# fix random seed for reproducibility\n",
        "np.random.seed(7)"
      ],
      "execution_count": 0,
      "outputs": []
    },
    {
      "cell_type": "code",
      "metadata": {
        "id": "JDC4v26LfLFT",
        "colab_type": "code",
        "outputId": "f40a59ce-677c-4195-f1c0-d7769eb33f93",
        "colab": {
          "base_uri": "https://localhost:8080/",
          "height": 939
        }
      },
      "source": [
        "from keras.layers import Bidirectional\n",
        "embedding_vecor_length = 32\n",
        "model = Sequential()\n",
        "model.add(Embedding(MAX_NB_WORDS, embedding_vecor_length, input_length=25))\n",
        "model.add(Bidirectional(LSTM(130)))\n",
        "model.add(Dense(74, activation='softmax'))\n",
        "model.compile(loss='binary_crossentropy', optimizer='adam', metrics=['accuracy'])\n",
        "print(model.summary())\n",
        "model.fit(X_train, Y_train, validation_data=(X_val, Y_val), epochs=3, batch_size=64)"
      ],
      "execution_count": 0,
      "outputs": [
        {
          "output_type": "stream",
          "text": [
            "WARNING:tensorflow:From /usr/local/lib/python3.6/dist-packages/keras/backend/tensorflow_backend.py:66: The name tf.get_default_graph is deprecated. Please use tf.compat.v1.get_default_graph instead.\n",
            "\n",
            "WARNING:tensorflow:From /usr/local/lib/python3.6/dist-packages/keras/backend/tensorflow_backend.py:541: The name tf.placeholder is deprecated. Please use tf.compat.v1.placeholder instead.\n",
            "\n",
            "WARNING:tensorflow:From /usr/local/lib/python3.6/dist-packages/keras/backend/tensorflow_backend.py:4432: The name tf.random_uniform is deprecated. Please use tf.random.uniform instead.\n",
            "\n",
            "WARNING:tensorflow:From /usr/local/lib/python3.6/dist-packages/keras/optimizers.py:793: The name tf.train.Optimizer is deprecated. Please use tf.compat.v1.train.Optimizer instead.\n",
            "\n",
            "WARNING:tensorflow:From /usr/local/lib/python3.6/dist-packages/keras/backend/tensorflow_backend.py:3657: The name tf.log is deprecated. Please use tf.math.log instead.\n",
            "\n",
            "WARNING:tensorflow:From /usr/local/lib/python3.6/dist-packages/tensorflow_core/python/ops/nn_impl.py:183: where (from tensorflow.python.ops.array_ops) is deprecated and will be removed in a future version.\n",
            "Instructions for updating:\n",
            "Use tf.where in 2.0, which has the same broadcast rule as np.where\n",
            "Model: \"sequential_1\"\n",
            "_________________________________________________________________\n",
            "Layer (type)                 Output Shape              Param #   \n",
            "=================================================================\n",
            "embedding_1 (Embedding)      (None, 25, 32)            640000    \n",
            "_________________________________________________________________\n",
            "bidirectional_1 (Bidirection (None, 260)               169520    \n",
            "_________________________________________________________________\n",
            "dense_1 (Dense)              (None, 74)                19314     \n",
            "=================================================================\n",
            "Total params: 828,834\n",
            "Trainable params: 828,834\n",
            "Non-trainable params: 0\n",
            "_________________________________________________________________\n",
            "None\n",
            "WARNING:tensorflow:From /usr/local/lib/python3.6/dist-packages/keras/backend/tensorflow_backend.py:1033: The name tf.assign_add is deprecated. Please use tf.compat.v1.assign_add instead.\n",
            "\n",
            "WARNING:tensorflow:From /usr/local/lib/python3.6/dist-packages/keras/backend/tensorflow_backend.py:1020: The name tf.assign is deprecated. Please use tf.compat.v1.assign instead.\n",
            "\n",
            "WARNING:tensorflow:From /usr/local/lib/python3.6/dist-packages/keras/backend/tensorflow_backend.py:3005: The name tf.Session is deprecated. Please use tf.compat.v1.Session instead.\n",
            "\n",
            "Train on 6388 samples, validate on 1597 samples\n",
            "Epoch 1/3\n",
            "WARNING:tensorflow:From /usr/local/lib/python3.6/dist-packages/keras/backend/tensorflow_backend.py:190: The name tf.get_default_session is deprecated. Please use tf.compat.v1.get_default_session instead.\n",
            "\n",
            "WARNING:tensorflow:From /usr/local/lib/python3.6/dist-packages/keras/backend/tensorflow_backend.py:197: The name tf.ConfigProto is deprecated. Please use tf.compat.v1.ConfigProto instead.\n",
            "\n",
            "WARNING:tensorflow:From /usr/local/lib/python3.6/dist-packages/keras/backend/tensorflow_backend.py:207: The name tf.global_variables is deprecated. Please use tf.compat.v1.global_variables instead.\n",
            "\n",
            "WARNING:tensorflow:From /usr/local/lib/python3.6/dist-packages/keras/backend/tensorflow_backend.py:216: The name tf.is_variable_initialized is deprecated. Please use tf.compat.v1.is_variable_initialized instead.\n",
            "\n",
            "WARNING:tensorflow:From /usr/local/lib/python3.6/dist-packages/keras/backend/tensorflow_backend.py:223: The name tf.variables_initializer is deprecated. Please use tf.compat.v1.variables_initializer instead.\n",
            "\n",
            "6388/6388 [==============================] - 14s 2ms/step - loss: 0.0495 - acc: 0.9862 - val_loss: 0.0440 - val_acc: 0.9865\n",
            "Epoch 2/3\n",
            "6388/6388 [==============================] - 12s 2ms/step - loss: 0.0450 - acc: 0.9868 - val_loss: 0.0440 - val_acc: 0.9868\n",
            "Epoch 3/3\n",
            "6388/6388 [==============================] - 12s 2ms/step - loss: 0.0445 - acc: 0.9873 - val_loss: 0.0440 - val_acc: 0.9871\n"
          ],
          "name": "stdout"
        },
        {
          "output_type": "execute_result",
          "data": {
            "text/plain": [
              "<keras.callbacks.History at 0x7fceee88d160>"
            ]
          },
          "metadata": {
            "tags": []
          },
          "execution_count": 192
        }
      ]
    },
    {
      "cell_type": "code",
      "metadata": {
        "id": "F8bkeoeRxI_9",
        "colab_type": "code",
        "colab": {}
      },
      "source": [
        "y_pred = model.predict(X_val)"
      ],
      "execution_count": 0,
      "outputs": []
    },
    {
      "cell_type": "code",
      "metadata": {
        "id": "Fy_42G3d3gup",
        "colab_type": "code",
        "outputId": "10cb0b4c-c6a4-4f58-84a7-2212df125b23",
        "colab": {
          "base_uri": "https://localhost:8080/",
          "height": 139
        }
      },
      "source": [
        "y_pred1 = np.where(y_pred > 0.5, 1, 0)\n",
        "y_pred1"
      ],
      "execution_count": 0,
      "outputs": [
        {
          "output_type": "execute_result",
          "data": {
            "text/plain": [
              "array([[0, 0, 0, ..., 0, 0, 0],\n",
              "       [0, 0, 0, ..., 0, 0, 0],\n",
              "       [0, 0, 0, ..., 0, 0, 0],\n",
              "       ...,\n",
              "       [0, 0, 0, ..., 0, 0, 0],\n",
              "       [0, 0, 0, ..., 0, 0, 0],\n",
              "       [0, 0, 0, ..., 0, 0, 0]])"
            ]
          },
          "metadata": {
            "tags": []
          },
          "execution_count": 194
        }
      ]
    },
    {
      "cell_type": "code",
      "metadata": {
        "id": "r6GAK8iJ3kSL",
        "colab_type": "code",
        "colab": {}
      },
      "source": [
        "from sklearn.metrics import precision_score, recall_score, f1_score, classification_report"
      ],
      "execution_count": 0,
      "outputs": []
    },
    {
      "cell_type": "code",
      "metadata": {
        "id": "OM-gngoC3p9Y",
        "colab_type": "code",
        "outputId": "44d3b650-cb83-46b0-e853-c9b8a53fcc8c",
        "colab": {
          "base_uri": "https://localhost:8080/",
          "height": 1000
        }
      },
      "source": [
        "from sklearn.metrics import classification_report\n",
        "print(classification_report(Y_val,y_pred1))"
      ],
      "execution_count": 0,
      "outputs": [
        {
          "output_type": "stream",
          "text": [
            "              precision    recall  f1-score   support\n",
            "\n",
            "           0       0.53      0.70      0.61       800\n",
            "           1       0.00      0.00      0.00         6\n",
            "           2       0.00      0.00      0.00        23\n",
            "           3       0.00      0.00      0.00         6\n",
            "           4       0.00      0.00      0.00        43\n",
            "           5       0.00      0.00      0.00        21\n",
            "           6       0.00      0.00      0.00        20\n",
            "           7       0.00      0.00      0.00         7\n",
            "           8       0.00      0.00      0.00        18\n",
            "           9       0.00      0.00      0.00        13\n",
            "          10       0.00      0.00      0.00        18\n",
            "          11       0.00      0.00      0.00        41\n",
            "          12       0.00      0.00      0.00        45\n",
            "          13       0.00      0.00      0.00         9\n",
            "          14       0.00      0.00      0.00         4\n",
            "          15       0.00      0.00      0.00         3\n",
            "          16       0.00      0.00      0.00         4\n",
            "          17       0.00      0.00      0.00        29\n",
            "          18       0.00      0.00      0.00        17\n",
            "          19       0.00      0.00      0.00         8\n",
            "          20       0.00      0.00      0.00         5\n",
            "          21       0.00      0.00      0.00         6\n",
            "          22       0.00      0.00      0.00        22\n",
            "          23       0.00      0.00      0.00        42\n",
            "          24       0.00      0.00      0.00         5\n",
            "          25       0.00      0.00      0.00        11\n",
            "          26       0.00      0.00      0.00         1\n",
            "          27       0.00      0.00      0.00         9\n",
            "          28       0.00      0.00      0.00        10\n",
            "          29       0.00      0.00      0.00         0\n",
            "          30       0.00      0.00      0.00         1\n",
            "          31       0.00      0.00      0.00         4\n",
            "          32       0.00      0.00      0.00         1\n",
            "          33       0.00      0.00      0.00         6\n",
            "          34       0.00      0.00      0.00        24\n",
            "          35       0.00      0.00      0.00         6\n",
            "          36       0.00      0.00      0.00         5\n",
            "          37       0.00      0.00      0.00         1\n",
            "          38       0.00      0.00      0.00         1\n",
            "          39       0.00      0.00      0.00         5\n",
            "          40       0.00      0.00      0.00         2\n",
            "          41       0.00      0.00      0.00         1\n",
            "          42       0.00      0.00      0.00        10\n",
            "          43       0.00      0.00      0.00         3\n",
            "          44       0.00      0.00      0.00         1\n",
            "          45       0.00      0.00      0.00        23\n",
            "          46       0.00      0.00      0.00         1\n",
            "          47       0.00      0.00      0.00         2\n",
            "          48       0.00      0.00      0.00         1\n",
            "          49       0.00      0.00      0.00         3\n",
            "          50       0.00      0.00      0.00         0\n",
            "          51       0.00      0.00      0.00         1\n",
            "          52       0.00      0.00      0.00         0\n",
            "          53       0.00      0.00      0.00         0\n",
            "          54       0.00      0.00      0.00         1\n",
            "          55       0.00      0.00      0.00         1\n",
            "          56       0.00      0.00      0.00        40\n",
            "          57       0.00      0.00      0.00         5\n",
            "          58       0.00      0.00      0.00         0\n",
            "          59       0.00      0.00      0.00         5\n",
            "          60       0.00      0.00      0.00         0\n",
            "          61       0.00      0.00      0.00         0\n",
            "          62       0.00      0.00      0.00         2\n",
            "          63       0.00      0.00      0.00         2\n",
            "          64       0.00      0.00      0.00         0\n",
            "          65       0.00      0.00      0.00         0\n",
            "          66       0.00      0.00      0.00         0\n",
            "          67       0.00      0.00      0.00        14\n",
            "          68       0.00      0.00      0.00         0\n",
            "          69       0.00      0.00      0.00         0\n",
            "          70       0.00      0.00      0.00         0\n",
            "          71       0.00      0.00      0.00         0\n",
            "          72       0.00      0.00      0.00       125\n",
            "          73       0.00      0.00      0.00        54\n",
            "\n",
            "   micro avg       0.53      0.35      0.42      1597\n",
            "   macro avg       0.01      0.01      0.01      1597\n",
            "weighted avg       0.27      0.35      0.30      1597\n",
            " samples avg       0.35      0.35      0.35      1597\n",
            "\n"
          ],
          "name": "stdout"
        },
        {
          "output_type": "stream",
          "text": [
            "/usr/local/lib/python3.6/dist-packages/sklearn/metrics/_classification.py:1272: UndefinedMetricWarning: Precision and F-score are ill-defined and being set to 0.0 in labels with no predicted samples. Use `zero_division` parameter to control this behavior.\n",
            "  _warn_prf(average, modifier, msg_start, len(result))\n",
            "/usr/local/lib/python3.6/dist-packages/sklearn/metrics/_classification.py:1272: UndefinedMetricWarning: Recall and F-score are ill-defined and being set to 0.0 in labels with no true samples. Use `zero_division` parameter to control this behavior.\n",
            "  _warn_prf(average, modifier, msg_start, len(result))\n",
            "/usr/local/lib/python3.6/dist-packages/sklearn/metrics/_classification.py:1272: UndefinedMetricWarning: Precision and F-score are ill-defined and being set to 0.0 in samples with no predicted labels. Use `zero_division` parameter to control this behavior.\n",
            "  _warn_prf(average, modifier, msg_start, len(result))\n"
          ],
          "name": "stderr"
        }
      ]
    },
    {
      "cell_type": "code",
      "metadata": {
        "id": "LHN0SUrU3rmj",
        "colab_type": "code",
        "colab": {}
      },
      "source": [
        ""
      ],
      "execution_count": 0,
      "outputs": []
    }
  ]
}