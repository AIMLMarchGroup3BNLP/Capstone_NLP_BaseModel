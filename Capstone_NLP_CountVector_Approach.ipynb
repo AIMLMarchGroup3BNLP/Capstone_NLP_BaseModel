{
  "nbformat": 4,
  "nbformat_minor": 0,
  "metadata": {
    "colab": {
      "name": "NLP.ipynb",
      "provenance": [],
      "collapsed_sections": []
    },
    "kernelspec": {
      "name": "python3",
      "display_name": "Python 3"
    }
  },
  "cells": [
    {
      "cell_type": "code",
      "metadata": {
        "id": "iak7MPOOT2BS",
        "colab_type": "code",
        "outputId": "8a7babdb-3b81-4ba7-d11c-0fa2811bb2a7",
        "colab": {
          "base_uri": "https://localhost:8080/",
          "height": 35
        }
      },
      "source": [
        "from google.colab import drive\n",
        "drive.mount('/content/drive')"
      ],
      "execution_count": 0,
      "outputs": [
        {
          "output_type": "stream",
          "text": [
            "Drive already mounted at /content/drive; to attempt to forcibly remount, call drive.mount(\"/content/drive\", force_remount=True).\n"
          ],
          "name": "stdout"
        }
      ]
    },
    {
      "cell_type": "code",
      "metadata": {
        "id": "x6ZyBsy_T3U_",
        "colab_type": "code",
        "colab": {}
      },
      "source": [
        "import numpy as np\n",
        "import pandas as pd\n",
        "import seaborn as sns\n",
        "import matplotlib.pyplot as plt\n",
        "% matplotlib inline\n",
        "import nltk"
      ],
      "execution_count": 0,
      "outputs": []
    },
    {
      "cell_type": "code",
      "metadata": {
        "id": "LjJ5f8kOW3vf",
        "colab_type": "code",
        "colab": {}
      },
      "source": [
        "df = pd.read_excel('/content/drive/My Drive/Capstone Project/Input_Data.xlsx')"
      ],
      "execution_count": 0,
      "outputs": []
    },
    {
      "cell_type": "code",
      "metadata": {
        "id": "K39OY4zLaBeV",
        "colab_type": "code",
        "outputId": "9270973a-2e01-4c58-db5b-7da296df21a9",
        "colab": {
          "base_uri": "https://localhost:8080/",
          "height": 202
        }
      },
      "source": [
        "df.head()"
      ],
      "execution_count": 0,
      "outputs": [
        {
          "output_type": "execute_result",
          "data": {
            "text/html": [
              "<div>\n",
              "<style scoped>\n",
              "    .dataframe tbody tr th:only-of-type {\n",
              "        vertical-align: middle;\n",
              "    }\n",
              "\n",
              "    .dataframe tbody tr th {\n",
              "        vertical-align: top;\n",
              "    }\n",
              "\n",
              "    .dataframe thead th {\n",
              "        text-align: right;\n",
              "    }\n",
              "</style>\n",
              "<table border=\"1\" class=\"dataframe\">\n",
              "  <thead>\n",
              "    <tr style=\"text-align: right;\">\n",
              "      <th></th>\n",
              "      <th>Short description</th>\n",
              "      <th>Description</th>\n",
              "      <th>Caller</th>\n",
              "      <th>Assignment group</th>\n",
              "    </tr>\n",
              "  </thead>\n",
              "  <tbody>\n",
              "    <tr>\n",
              "      <th>0</th>\n",
              "      <td>login issue</td>\n",
              "      <td>-verified user details.(employee# &amp; manager na...</td>\n",
              "      <td>spxjnwir pjlcoqds</td>\n",
              "      <td>GRP_0</td>\n",
              "    </tr>\n",
              "    <tr>\n",
              "      <th>1</th>\n",
              "      <td>outlook</td>\n",
              "      <td>\\r\\n\\r\\nreceived from: hmjdrvpb.komuaywn@gmail...</td>\n",
              "      <td>hmjdrvpb komuaywn</td>\n",
              "      <td>GRP_0</td>\n",
              "    </tr>\n",
              "    <tr>\n",
              "      <th>2</th>\n",
              "      <td>cant log in to vpn</td>\n",
              "      <td>\\r\\n\\r\\nreceived from: eylqgodm.ybqkwiam@gmail...</td>\n",
              "      <td>eylqgodm ybqkwiam</td>\n",
              "      <td>GRP_0</td>\n",
              "    </tr>\n",
              "    <tr>\n",
              "      <th>3</th>\n",
              "      <td>unable to access hr_tool page</td>\n",
              "      <td>unable to access hr_tool page</td>\n",
              "      <td>xbkucsvz gcpydteq</td>\n",
              "      <td>GRP_0</td>\n",
              "    </tr>\n",
              "    <tr>\n",
              "      <th>4</th>\n",
              "      <td>skype error</td>\n",
              "      <td>skype error</td>\n",
              "      <td>owlgqjme qhcozdfx</td>\n",
              "      <td>GRP_0</td>\n",
              "    </tr>\n",
              "  </tbody>\n",
              "</table>\n",
              "</div>"
            ],
            "text/plain": [
              "               Short description  ... Assignment group\n",
              "0                    login issue  ...            GRP_0\n",
              "1                        outlook  ...            GRP_0\n",
              "2             cant log in to vpn  ...            GRP_0\n",
              "3  unable to access hr_tool page  ...            GRP_0\n",
              "4                   skype error   ...            GRP_0\n",
              "\n",
              "[5 rows x 4 columns]"
            ]
          },
          "metadata": {
            "tags": []
          },
          "execution_count": 59
        }
      ]
    },
    {
      "cell_type": "code",
      "metadata": {
        "id": "qr-9GU--aIid",
        "colab_type": "code",
        "outputId": "2b35b7ca-ad16-4dfd-974e-0af9154f15ba",
        "colab": {
          "base_uri": "https://localhost:8080/",
          "height": 225
        }
      },
      "source": [
        "print(df.shape)\n",
        "print(df.size)\n",
        "print(df.info())"
      ],
      "execution_count": 0,
      "outputs": [
        {
          "output_type": "stream",
          "text": [
            "(8500, 4)\n",
            "34000\n",
            "<class 'pandas.core.frame.DataFrame'>\n",
            "RangeIndex: 8500 entries, 0 to 8499\n",
            "Data columns (total 4 columns):\n",
            "Short description    8492 non-null object\n",
            "Description          8499 non-null object\n",
            "Caller               8500 non-null object\n",
            "Assignment group     8500 non-null object\n",
            "dtypes: object(4)\n",
            "memory usage: 265.8+ KB\n",
            "None\n"
          ],
          "name": "stdout"
        }
      ]
    },
    {
      "cell_type": "code",
      "metadata": {
        "id": "t2gHuxpm_fiC",
        "colab_type": "code",
        "outputId": "db0c03a9-4f9f-49d4-bb90-e6ffab7b28cf",
        "colab": {
          "base_uri": "https://localhost:8080/",
          "height": 477
        }
      },
      "source": [
        "df.groupby('Assignment group').describe()"
      ],
      "execution_count": 0,
      "outputs": [
        {
          "output_type": "execute_result",
          "data": {
            "text/html": [
              "<div>\n",
              "<style scoped>\n",
              "    .dataframe tbody tr th:only-of-type {\n",
              "        vertical-align: middle;\n",
              "    }\n",
              "\n",
              "    .dataframe tbody tr th {\n",
              "        vertical-align: top;\n",
              "    }\n",
              "\n",
              "    .dataframe thead tr th {\n",
              "        text-align: left;\n",
              "    }\n",
              "\n",
              "    .dataframe thead tr:last-of-type th {\n",
              "        text-align: right;\n",
              "    }\n",
              "</style>\n",
              "<table border=\"1\" class=\"dataframe\">\n",
              "  <thead>\n",
              "    <tr>\n",
              "      <th></th>\n",
              "      <th colspan=\"8\" halign=\"left\">Desc_word_count</th>\n",
              "      <th colspan=\"8\" halign=\"left\">Short_desc_word_count</th>\n",
              "    </tr>\n",
              "    <tr>\n",
              "      <th></th>\n",
              "      <th>count</th>\n",
              "      <th>mean</th>\n",
              "      <th>std</th>\n",
              "      <th>min</th>\n",
              "      <th>25%</th>\n",
              "      <th>50%</th>\n",
              "      <th>75%</th>\n",
              "      <th>max</th>\n",
              "      <th>count</th>\n",
              "      <th>mean</th>\n",
              "      <th>std</th>\n",
              "      <th>min</th>\n",
              "      <th>25%</th>\n",
              "      <th>50%</th>\n",
              "      <th>75%</th>\n",
              "      <th>max</th>\n",
              "    </tr>\n",
              "    <tr>\n",
              "      <th>Assignment group</th>\n",
              "      <th></th>\n",
              "      <th></th>\n",
              "      <th></th>\n",
              "      <th></th>\n",
              "      <th></th>\n",
              "      <th></th>\n",
              "      <th></th>\n",
              "      <th></th>\n",
              "      <th></th>\n",
              "      <th></th>\n",
              "      <th></th>\n",
              "      <th></th>\n",
              "      <th></th>\n",
              "      <th></th>\n",
              "      <th></th>\n",
              "      <th></th>\n",
              "    </tr>\n",
              "  </thead>\n",
              "  <tbody>\n",
              "    <tr>\n",
              "      <th>GRP_0</th>\n",
              "      <td>3976.0</td>\n",
              "      <td>18.286720</td>\n",
              "      <td>28.387787</td>\n",
              "      <td>0.0</td>\n",
              "      <td>4.0</td>\n",
              "      <td>8.0</td>\n",
              "      <td>23.00</td>\n",
              "      <td>479.0</td>\n",
              "      <td>3976.0</td>\n",
              "      <td>5.645372</td>\n",
              "      <td>3.560863</td>\n",
              "      <td>1.0</td>\n",
              "      <td>3.00</td>\n",
              "      <td>5.0</td>\n",
              "      <td>7.0</td>\n",
              "      <td>28.0</td>\n",
              "    </tr>\n",
              "    <tr>\n",
              "      <th>GRP_1</th>\n",
              "      <td>31.0</td>\n",
              "      <td>27.838710</td>\n",
              "      <td>26.991476</td>\n",
              "      <td>8.0</td>\n",
              "      <td>11.0</td>\n",
              "      <td>15.0</td>\n",
              "      <td>27.00</td>\n",
              "      <td>97.0</td>\n",
              "      <td>31.0</td>\n",
              "      <td>9.806452</td>\n",
              "      <td>3.156151</td>\n",
              "      <td>5.0</td>\n",
              "      <td>8.00</td>\n",
              "      <td>9.0</td>\n",
              "      <td>12.0</td>\n",
              "      <td>17.0</td>\n",
              "    </tr>\n",
              "    <tr>\n",
              "      <th>GRP_10</th>\n",
              "      <td>140.0</td>\n",
              "      <td>26.442857</td>\n",
              "      <td>25.934414</td>\n",
              "      <td>3.0</td>\n",
              "      <td>11.0</td>\n",
              "      <td>11.0</td>\n",
              "      <td>35.00</td>\n",
              "      <td>162.0</td>\n",
              "      <td>140.0</td>\n",
              "      <td>8.264286</td>\n",
              "      <td>3.021769</td>\n",
              "      <td>2.0</td>\n",
              "      <td>7.00</td>\n",
              "      <td>8.0</td>\n",
              "      <td>9.0</td>\n",
              "      <td>18.0</td>\n",
              "    </tr>\n",
              "    <tr>\n",
              "      <th>GRP_11</th>\n",
              "      <td>30.0</td>\n",
              "      <td>46.200000</td>\n",
              "      <td>50.419208</td>\n",
              "      <td>6.0</td>\n",
              "      <td>18.0</td>\n",
              "      <td>30.0</td>\n",
              "      <td>52.75</td>\n",
              "      <td>239.0</td>\n",
              "      <td>30.0</td>\n",
              "      <td>6.800000</td>\n",
              "      <td>3.144782</td>\n",
              "      <td>2.0</td>\n",
              "      <td>5.00</td>\n",
              "      <td>6.0</td>\n",
              "      <td>8.0</td>\n",
              "      <td>14.0</td>\n",
              "    </tr>\n",
              "    <tr>\n",
              "      <th>GRP_12</th>\n",
              "      <td>257.0</td>\n",
              "      <td>38.361868</td>\n",
              "      <td>98.900229</td>\n",
              "      <td>2.0</td>\n",
              "      <td>12.0</td>\n",
              "      <td>18.0</td>\n",
              "      <td>33.00</td>\n",
              "      <td>1137.0</td>\n",
              "      <td>257.0</td>\n",
              "      <td>9.272374</td>\n",
              "      <td>4.759421</td>\n",
              "      <td>1.0</td>\n",
              "      <td>5.00</td>\n",
              "      <td>9.0</td>\n",
              "      <td>12.0</td>\n",
              "      <td>23.0</td>\n",
              "    </tr>\n",
              "    <tr>\n",
              "      <th>...</th>\n",
              "      <td>...</td>\n",
              "      <td>...</td>\n",
              "      <td>...</td>\n",
              "      <td>...</td>\n",
              "      <td>...</td>\n",
              "      <td>...</td>\n",
              "      <td>...</td>\n",
              "      <td>...</td>\n",
              "      <td>...</td>\n",
              "      <td>...</td>\n",
              "      <td>...</td>\n",
              "      <td>...</td>\n",
              "      <td>...</td>\n",
              "      <td>...</td>\n",
              "      <td>...</td>\n",
              "      <td>...</td>\n",
              "    </tr>\n",
              "    <tr>\n",
              "      <th>GRP_71</th>\n",
              "      <td>2.0</td>\n",
              "      <td>36.000000</td>\n",
              "      <td>21.213203</td>\n",
              "      <td>21.0</td>\n",
              "      <td>28.5</td>\n",
              "      <td>36.0</td>\n",
              "      <td>43.50</td>\n",
              "      <td>51.0</td>\n",
              "      <td>2.0</td>\n",
              "      <td>12.000000</td>\n",
              "      <td>9.899495</td>\n",
              "      <td>5.0</td>\n",
              "      <td>8.50</td>\n",
              "      <td>12.0</td>\n",
              "      <td>15.5</td>\n",
              "      <td>19.0</td>\n",
              "    </tr>\n",
              "    <tr>\n",
              "      <th>GRP_72</th>\n",
              "      <td>2.0</td>\n",
              "      <td>4.000000</td>\n",
              "      <td>2.828427</td>\n",
              "      <td>2.0</td>\n",
              "      <td>3.0</td>\n",
              "      <td>4.0</td>\n",
              "      <td>5.00</td>\n",
              "      <td>6.0</td>\n",
              "      <td>2.0</td>\n",
              "      <td>4.000000</td>\n",
              "      <td>2.828427</td>\n",
              "      <td>2.0</td>\n",
              "      <td>3.00</td>\n",
              "      <td>4.0</td>\n",
              "      <td>5.0</td>\n",
              "      <td>6.0</td>\n",
              "    </tr>\n",
              "    <tr>\n",
              "      <th>GRP_73</th>\n",
              "      <td>1.0</td>\n",
              "      <td>55.000000</td>\n",
              "      <td>NaN</td>\n",
              "      <td>55.0</td>\n",
              "      <td>55.0</td>\n",
              "      <td>55.0</td>\n",
              "      <td>55.00</td>\n",
              "      <td>55.0</td>\n",
              "      <td>1.0</td>\n",
              "      <td>4.000000</td>\n",
              "      <td>NaN</td>\n",
              "      <td>4.0</td>\n",
              "      <td>4.00</td>\n",
              "      <td>4.0</td>\n",
              "      <td>4.0</td>\n",
              "      <td>4.0</td>\n",
              "    </tr>\n",
              "    <tr>\n",
              "      <th>GRP_8</th>\n",
              "      <td>661.0</td>\n",
              "      <td>37.804841</td>\n",
              "      <td>49.181603</td>\n",
              "      <td>2.0</td>\n",
              "      <td>11.0</td>\n",
              "      <td>11.0</td>\n",
              "      <td>22.00</td>\n",
              "      <td>287.0</td>\n",
              "      <td>661.0</td>\n",
              "      <td>9.698941</td>\n",
              "      <td>3.854767</td>\n",
              "      <td>3.0</td>\n",
              "      <td>8.00</td>\n",
              "      <td>8.0</td>\n",
              "      <td>12.0</td>\n",
              "      <td>24.0</td>\n",
              "    </tr>\n",
              "    <tr>\n",
              "      <th>GRP_9</th>\n",
              "      <td>252.0</td>\n",
              "      <td>20.857143</td>\n",
              "      <td>28.617609</td>\n",
              "      <td>4.0</td>\n",
              "      <td>11.0</td>\n",
              "      <td>11.0</td>\n",
              "      <td>11.00</td>\n",
              "      <td>255.0</td>\n",
              "      <td>252.0</td>\n",
              "      <td>7.436508</td>\n",
              "      <td>2.762861</td>\n",
              "      <td>1.0</td>\n",
              "      <td>5.75</td>\n",
              "      <td>8.0</td>\n",
              "      <td>8.0</td>\n",
              "      <td>23.0</td>\n",
              "    </tr>\n",
              "  </tbody>\n",
              "</table>\n",
              "<p>74 rows × 16 columns</p>\n",
              "</div>"
            ],
            "text/plain": [
              "                 Desc_word_count                        ... Short_desc_word_count            \n",
              "                           count       mean        std  ...                   50%   75%   max\n",
              "Assignment group                                        ...                                  \n",
              "GRP_0                     3976.0  18.286720  28.387787  ...                   5.0   7.0  28.0\n",
              "GRP_1                       31.0  27.838710  26.991476  ...                   9.0  12.0  17.0\n",
              "GRP_10                     140.0  26.442857  25.934414  ...                   8.0   9.0  18.0\n",
              "GRP_11                      30.0  46.200000  50.419208  ...                   6.0   8.0  14.0\n",
              "GRP_12                     257.0  38.361868  98.900229  ...                   9.0  12.0  23.0\n",
              "...                          ...        ...        ...  ...                   ...   ...   ...\n",
              "GRP_71                       2.0  36.000000  21.213203  ...                  12.0  15.5  19.0\n",
              "GRP_72                       2.0   4.000000   2.828427  ...                   4.0   5.0   6.0\n",
              "GRP_73                       1.0  55.000000        NaN  ...                   4.0   4.0   4.0\n",
              "GRP_8                      661.0  37.804841  49.181603  ...                   8.0  12.0  24.0\n",
              "GRP_9                      252.0  20.857143  28.617609  ...                   8.0   8.0  23.0\n",
              "\n",
              "[74 rows x 16 columns]"
            ]
          },
          "metadata": {
            "tags": []
          },
          "execution_count": 333
        }
      ]
    },
    {
      "cell_type": "code",
      "metadata": {
        "id": "KaCDzMRjcK1B",
        "colab_type": "code",
        "colab": {}
      },
      "source": [
        ""
      ],
      "execution_count": 0,
      "outputs": []
    },
    {
      "cell_type": "code",
      "metadata": {
        "id": "hhUAan0FcQ14",
        "colab_type": "code",
        "outputId": "7de4c3a5-763a-4aae-8a70-f69b0d8b71a0",
        "colab": {
          "base_uri": "https://localhost:8080/",
          "height": 69
        }
      },
      "source": [
        "print(len(df['Short description']))\n",
        "print(len(set(df['Short description'])))\n",
        "len(df['Short description'].unique())"
      ],
      "execution_count": 0,
      "outputs": [
        {
          "output_type": "stream",
          "text": [
            "8500\n",
            "7482\n"
          ],
          "name": "stdout"
        },
        {
          "output_type": "execute_result",
          "data": {
            "text/plain": [
              "7482"
            ]
          },
          "metadata": {
            "tags": []
          },
          "execution_count": 61
        }
      ]
    },
    {
      "cell_type": "code",
      "metadata": {
        "id": "3ST_7Rf7ey2f",
        "colab_type": "code",
        "outputId": "e5a02008-6c0c-4880-970d-808ee50bba48",
        "colab": {
          "base_uri": "https://localhost:8080/",
          "height": 69
        }
      },
      "source": [
        "print(len(df['Description']))\n",
        "print(len(set(df['Description'])))\n",
        "len(df['Description'].unique())"
      ],
      "execution_count": 0,
      "outputs": [
        {
          "output_type": "stream",
          "text": [
            "8500\n",
            "7818\n"
          ],
          "name": "stdout"
        },
        {
          "output_type": "execute_result",
          "data": {
            "text/plain": [
              "7818"
            ]
          },
          "metadata": {
            "tags": []
          },
          "execution_count": 62
        }
      ]
    },
    {
      "cell_type": "code",
      "metadata": {
        "id": "D-DDLI3Shqsk",
        "colab_type": "code",
        "outputId": "d9a72bdb-963a-449f-b85b-707f7bb99e7b",
        "colab": {
          "base_uri": "https://localhost:8080/",
          "height": 69
        }
      },
      "source": [
        "print(len(df['Caller']))\n",
        "print(len(set(df['Caller'])))\n",
        "len(df['Caller'].unique())"
      ],
      "execution_count": 0,
      "outputs": [
        {
          "output_type": "stream",
          "text": [
            "8500\n",
            "2950\n"
          ],
          "name": "stdout"
        },
        {
          "output_type": "execute_result",
          "data": {
            "text/plain": [
              "2950"
            ]
          },
          "metadata": {
            "tags": []
          },
          "execution_count": 63
        }
      ]
    },
    {
      "cell_type": "code",
      "metadata": {
        "id": "4rL2KticfFyI",
        "colab_type": "code",
        "outputId": "97d58673-c3f4-4b5e-9493-0cef8a11d9bf",
        "colab": {
          "base_uri": "https://localhost:8080/",
          "height": 243
        }
      },
      "source": [
        "df['Assignment group'].unique()"
      ],
      "execution_count": 0,
      "outputs": [
        {
          "output_type": "execute_result",
          "data": {
            "text/plain": [
              "array(['GRP_0', 'GRP_1', 'GRP_3', 'GRP_4', 'GRP_5', 'GRP_6', 'GRP_7',\n",
              "       'GRP_8', 'GRP_9', 'GRP_10', 'GRP_11', 'GRP_12', 'GRP_13', 'GRP_14',\n",
              "       'GRP_15', 'GRP_16', 'GRP_17', 'GRP_18', 'GRP_19', 'GRP_2',\n",
              "       'GRP_20', 'GRP_21', 'GRP_22', 'GRP_23', 'GRP_24', 'GRP_25',\n",
              "       'GRP_26', 'GRP_27', 'GRP_28', 'GRP_29', 'GRP_30', 'GRP_31',\n",
              "       'GRP_33', 'GRP_34', 'GRP_35', 'GRP_36', 'GRP_37', 'GRP_38',\n",
              "       'GRP_39', 'GRP_40', 'GRP_41', 'GRP_42', 'GRP_43', 'GRP_44',\n",
              "       'GRP_45', 'GRP_46', 'GRP_47', 'GRP_48', 'GRP_49', 'GRP_50',\n",
              "       'GRP_51', 'GRP_52', 'GRP_53', 'GRP_54', 'GRP_55', 'GRP_56',\n",
              "       'GRP_57', 'GRP_58', 'GRP_59', 'GRP_60', 'GRP_61', 'GRP_32',\n",
              "       'GRP_62', 'GRP_63', 'GRP_64', 'GRP_65', 'GRP_66', 'GRP_67',\n",
              "       'GRP_68', 'GRP_69', 'GRP_70', 'GRP_71', 'GRP_72', 'GRP_73'],\n",
              "      dtype=object)"
            ]
          },
          "metadata": {
            "tags": []
          },
          "execution_count": 64
        }
      ]
    },
    {
      "cell_type": "code",
      "metadata": {
        "id": "grnAwDAch-X-",
        "colab_type": "code",
        "outputId": "0325db83-7844-4bf4-d6c2-a1755d2e56bf",
        "colab": {
          "base_uri": "https://localhost:8080/",
          "height": 104
        }
      },
      "source": [
        "null_value = (df.isna().sum()/df.count().round(2))*100\n",
        "print(null_value)"
      ],
      "execution_count": 0,
      "outputs": [
        {
          "output_type": "stream",
          "text": [
            "Short description    0.094206\n",
            "Description          0.011766\n",
            "Caller               0.000000\n",
            "Assignment group     0.000000\n",
            "dtype: float64\n"
          ],
          "name": "stdout"
        }
      ]
    },
    {
      "cell_type": "code",
      "metadata": {
        "id": "xktd515LjgEv",
        "colab_type": "code",
        "outputId": "7c34b8fb-d0fd-41dd-c7e4-83cef78ce29b",
        "colab": {
          "base_uri": "https://localhost:8080/",
          "height": 395
        }
      },
      "source": [
        "null_value.plot(kind='bar')\n",
        "plt.title('% of Null Values')\n",
        "plt.ylabel('%')\n",
        "plt.xlabel('Table Features')\n"
      ],
      "execution_count": 0,
      "outputs": [
        {
          "output_type": "execute_result",
          "data": {
            "text/plain": [
              "Text(0.5, 0, 'Table Features')"
            ]
          },
          "metadata": {
            "tags": []
          },
          "execution_count": 66
        },
        {
          "output_type": "display_data",
          "data": {
            "image/png": "[encoded data removed]",
            "text/plain": [
              "<Figure size 432x288 with 1 Axes>"
            ]
          },
          "metadata": {
            "tags": []
          }
        }
      ]
    },
    {
      "cell_type": "code",
      "metadata": {
        "id": "enVce4fOkjH_",
        "colab_type": "code",
        "outputId": "314b3063-d510-4719-8046-8f8035e1ad12",
        "colab": {
          "base_uri": "https://localhost:8080/",
          "height": 243
        }
      },
      "source": [
        "group_freq = df.groupby(df['Assignment group'])['Assignment group'].count().sort_values(ascending=False)\n",
        "print(group_freq)"
      ],
      "execution_count": 0,
      "outputs": [
        {
          "output_type": "stream",
          "text": [
            "Assignment group\n",
            "GRP_0     3976\n",
            "GRP_8      661\n",
            "GRP_24     289\n",
            "GRP_12     257\n",
            "GRP_9      252\n",
            "          ... \n",
            "GRP_67       1\n",
            "GRP_61       1\n",
            "GRP_73       1\n",
            "GRP_35       1\n",
            "GRP_70       1\n",
            "Name: Assignment group, Length: 74, dtype: int64\n"
          ],
          "name": "stdout"
        }
      ]
    },
    {
      "cell_type": "code",
      "metadata": {
        "id": "r6nWj2svfQ4j",
        "colab_type": "code",
        "colab": {}
      },
      "source": [
        "group_freq = (df.groupby(df['Assignment group'])['Assignment group'].count().sort_values(ascending=False).round(2)/df['Assignment group'].count())*100"
      ],
      "execution_count": 0,
      "outputs": []
    },
    {
      "cell_type": "code",
      "metadata": {
        "id": "MTAm6rdGi9H6",
        "colab_type": "code",
        "outputId": "8b87d492-05fc-4a3e-ae07-0aaad0522779",
        "colab": {
          "base_uri": "https://localhost:8080/",
          "height": 667
        }
      },
      "source": [
        "group_freq.plot(kind='bar',figsize=(14,10))\n",
        "plt.title('Group Wise: % Contribution')\n",
        "plt.ylabel('%')\n",
        "plt.xlabel('Group')"
      ],
      "execution_count": 0,
      "outputs": [
        {
          "output_type": "execute_result",
          "data": {
            "text/plain": [
              "Text(0.5, 0, 'Group')"
            ]
          },
          "metadata": {
            "tags": []
          },
          "execution_count": 69
        },
        {
          "output_type": "display_data",
          "data": {
            "image/png": "[encoded data removed]",
            "text/plain": [
              "<Figure size 1008x720 with 1 Axes>"
            ]
          },
          "metadata": {
            "tags": []
          }
        }
      ]
    },
    {
      "cell_type": "code",
      "metadata": {
        "id": "kk9oqgFZjVCN",
        "colab_type": "code",
        "outputId": "ac5abce8-461a-4021-90ca-15011e047f5b",
        "colab": {
          "base_uri": "https://localhost:8080/",
          "height": 243
        }
      },
      "source": [
        "caller_freq = (df.groupby(df['Caller'])['Caller'].count().sort_values(ascending=False).round(2)/df['Caller'].count()).round(3)*100\n",
        "print(caller_freq)"
      ],
      "execution_count": 0,
      "outputs": [
        {
          "output_type": "stream",
          "text": [
            "Caller\n",
            "bpctwhsn kzqsbmtp    9.5\n",
            "ZkBogxib QsEJzdZO    1.8\n",
            "fumkcsji sarmtlhy    1.6\n",
            "rbozivdq gmlhrtvp    1.0\n",
            "rkupnshb gsmzfojw    0.8\n",
            "                    ... \n",
            "kcldufqe xghvrzoi    0.0\n",
            "kclhqspo xvugztyc    0.0\n",
            "tbloeczi gxlmeyph    0.0\n",
            "kcqzrgef awnjdlyr    0.0\n",
            "nhixruet elnjqdwg    0.0\n",
            "Name: Caller, Length: 2950, dtype: float64\n"
          ],
          "name": "stdout"
        }
      ]
    },
    {
      "cell_type": "code",
      "metadata": {
        "id": "bXlD2SmldHn0",
        "colab_type": "code",
        "colab": {}
      },
      "source": [
        "df['Description'] = df['Description'].astype(str)\n",
        "df['Short description'] = df['Short description'].astype(str)\n",
        "df['Caller'] = df['Caller'].astype(str)"
      ],
      "execution_count": 0,
      "outputs": []
    },
    {
      "cell_type": "code",
      "metadata": {
        "id": "dUxso6sHbipj",
        "colab_type": "code",
        "outputId": "05e9f161-d338-4df0-b352-e60ba27bcf50",
        "colab": {
          "base_uri": "https://localhost:8080/",
          "height": 219
        }
      },
      "source": [
        "df['Desc_word_count'] = df['Description'].str.split().map(len)\n",
        "df['Short_desc_word_count'] = df['Short description'].str.split().map(len)\n",
        "df.head()"
      ],
      "execution_count": 0,
      "outputs": [
        {
          "output_type": "execute_result",
          "data": {
            "text/html": [
              "<div>\n",
              "<style scoped>\n",
              "    .dataframe tbody tr th:only-of-type {\n",
              "        vertical-align: middle;\n",
              "    }\n",
              "\n",
              "    .dataframe tbody tr th {\n",
              "        vertical-align: top;\n",
              "    }\n",
              "\n",
              "    .dataframe thead th {\n",
              "        text-align: right;\n",
              "    }\n",
              "</style>\n",
              "<table border=\"1\" class=\"dataframe\">\n",
              "  <thead>\n",
              "    <tr style=\"text-align: right;\">\n",
              "      <th></th>\n",
              "      <th>Short description</th>\n",
              "      <th>Description</th>\n",
              "      <th>Caller</th>\n",
              "      <th>Assignment group</th>\n",
              "      <th>Desc_word_count</th>\n",
              "      <th>Short_desc_word_count</th>\n",
              "    </tr>\n",
              "  </thead>\n",
              "  <tbody>\n",
              "    <tr>\n",
              "      <th>0</th>\n",
              "      <td>login issue</td>\n",
              "      <td>-verified user details.(employee# &amp; manager na...</td>\n",
              "      <td>spxjnwir pjlcoqds</td>\n",
              "      <td>GRP_0</td>\n",
              "      <td>33</td>\n",
              "      <td>2</td>\n",
              "    </tr>\n",
              "    <tr>\n",
              "      <th>1</th>\n",
              "      <td>outlook</td>\n",
              "      <td>\\r\\n\\r\\nreceived from: hmjdrvpb.komuaywn@gmail...</td>\n",
              "      <td>hmjdrvpb komuaywn</td>\n",
              "      <td>GRP_0</td>\n",
              "      <td>25</td>\n",
              "      <td>1</td>\n",
              "    </tr>\n",
              "    <tr>\n",
              "      <th>2</th>\n",
              "      <td>cant log in to vpn</td>\n",
              "      <td>\\r\\n\\r\\nreceived from: eylqgodm.ybqkwiam@gmail...</td>\n",
              "      <td>eylqgodm ybqkwiam</td>\n",
              "      <td>GRP_0</td>\n",
              "      <td>11</td>\n",
              "      <td>5</td>\n",
              "    </tr>\n",
              "    <tr>\n",
              "      <th>3</th>\n",
              "      <td>unable to access hr_tool page</td>\n",
              "      <td>unable to access hr_tool page</td>\n",
              "      <td>xbkucsvz gcpydteq</td>\n",
              "      <td>GRP_0</td>\n",
              "      <td>5</td>\n",
              "      <td>5</td>\n",
              "    </tr>\n",
              "    <tr>\n",
              "      <th>4</th>\n",
              "      <td>skype error</td>\n",
              "      <td>skype error</td>\n",
              "      <td>owlgqjme qhcozdfx</td>\n",
              "      <td>GRP_0</td>\n",
              "      <td>2</td>\n",
              "      <td>2</td>\n",
              "    </tr>\n",
              "  </tbody>\n",
              "</table>\n",
              "</div>"
            ],
            "text/plain": [
              "               Short description  ... Short_desc_word_count\n",
              "0                    login issue  ...                     2\n",
              "1                        outlook  ...                     1\n",
              "2             cant log in to vpn  ...                     5\n",
              "3  unable to access hr_tool page  ...                     5\n",
              "4                   skype error   ...                     2\n",
              "\n",
              "[5 rows x 6 columns]"
            ]
          },
          "metadata": {
            "tags": []
          },
          "execution_count": 72
        }
      ]
    },
    {
      "cell_type": "code",
      "metadata": {
        "id": "1dB9okejfDzD",
        "colab_type": "code",
        "outputId": "4207e6b2-126e-440f-c57c-9fe90eaf1e86",
        "colab": {
          "base_uri": "https://localhost:8080/",
          "height": 173
        }
      },
      "source": [
        "df['Desc_word_count'].describe()"
      ],
      "execution_count": 0,
      "outputs": [
        {
          "output_type": "execute_result",
          "data": {
            "text/plain": [
              "count    8500.000000\n",
              "mean       27.274235\n",
              "std        65.041809\n",
              "min         0.000000\n",
              "25%         6.000000\n",
              "50%        11.000000\n",
              "75%        28.000000\n",
              "max      1625.000000\n",
              "Name: Desc_word_count, dtype: float64"
            ]
          },
          "metadata": {
            "tags": []
          },
          "execution_count": 123
        }
      ]
    },
    {
      "cell_type": "code",
      "metadata": {
        "id": "eC-uR26jfc7S",
        "colab_type": "code",
        "outputId": "a41b8edb-16f2-48fa-c132-d05f686496a8",
        "colab": {
          "base_uri": "https://localhost:8080/",
          "height": 173
        }
      },
      "source": [
        "df['Short_desc_word_count'].describe()"
      ],
      "execution_count": 0,
      "outputs": [
        {
          "output_type": "execute_result",
          "data": {
            "text/plain": [
              "count    8500.000000\n",
              "mean        6.928235\n",
              "std         4.121496\n",
              "min         1.000000\n",
              "25%         4.000000\n",
              "50%         6.000000\n",
              "75%         9.000000\n",
              "max        28.000000\n",
              "Name: Short_desc_word_count, dtype: float64"
            ]
          },
          "metadata": {
            "tags": []
          },
          "execution_count": 124
        }
      ]
    },
    {
      "cell_type": "code",
      "metadata": {
        "id": "LxXMKhQh_Wkk",
        "colab_type": "code",
        "colab": {}
      },
      "source": [
        "import re"
      ],
      "execution_count": 0,
      "outputs": []
    },
    {
      "cell_type": "code",
      "metadata": {
        "id": "GD7ya7kVnkRh",
        "colab_type": "code",
        "colab": {}
      },
      "source": [
        "df1 = df.copy(deep=True)"
      ],
      "execution_count": 0,
      "outputs": []
    },
    {
      "cell_type": "code",
      "metadata": {
        "id": "a2Any25fdiDW",
        "colab_type": "code",
        "colab": {}
      },
      "source": [
        "df1.drop(['Desc_word_count','Short_desc_word_count'],axis=1,inplace=True)"
      ],
      "execution_count": 0,
      "outputs": []
    },
    {
      "cell_type": "code",
      "metadata": {
        "id": "JiXHeweqFyjP",
        "colab_type": "code",
        "colab": {}
      },
      "source": [
        "df1['Description'] = df1['Description'].astype(str)\n",
        "df1['Short description'] = df1['Short description'].astype(str)\n",
        "df1['Caller'] = df1['Caller'].astype(str)"
      ],
      "execution_count": 0,
      "outputs": []
    },
    {
      "cell_type": "code",
      "metadata": {
        "id": "7y24U0p3GPNk",
        "colab_type": "code",
        "outputId": "c525af25-ed12-4a68-82ce-b17d81588152",
        "colab": {
          "base_uri": "https://localhost:8080/",
          "height": 173
        }
      },
      "source": [
        "df1.info()"
      ],
      "execution_count": 0,
      "outputs": [
        {
          "output_type": "stream",
          "text": [
            "<class 'pandas.core.frame.DataFrame'>\n",
            "RangeIndex: 8500 entries, 0 to 8499\n",
            "Data columns (total 4 columns):\n",
            "Short description    8500 non-null object\n",
            "Description          8500 non-null object\n",
            "Caller               8500 non-null object\n",
            "Assignment group     8500 non-null object\n",
            "dtypes: object(4)\n",
            "memory usage: 265.8+ KB\n"
          ],
          "name": "stdout"
        }
      ]
    },
    {
      "cell_type": "code",
      "metadata": {
        "id": "bmbM7UYQHWQ6",
        "colab_type": "code",
        "colab": {}
      },
      "source": [
        "df1['Description'] = df1['Description'].apply(lambda x: re.sub(r\"\\W\", ' ', x)) # Removed all punctuations or non word characters marks\n",
        "df1['Description'] = df1['Description'].apply(lambda x: x.lower()) #Converted to lower case\n",
        "df1['Description'] = df1['Description'].apply(lambda x: re.sub(r'\\s+[a-z]\\s+', ' ', x)) # Removed all single characters\n",
        "df1['Description'] = df1['Description'].apply(lambda x: re.sub(r\"^[a-z]\\s+\", ' ', x)) # Removed all single characters from start of the sentence\n",
        "df1['Description'] = df1['Description'].apply(lambda x: re.sub(r\"[!';:@#$%^&*()~?<>,\\.:+-=`\"\"'\\'_]\", ' ', x)) # Removed all the special characters\n",
        "df1['Description'] = df1['Description'].apply(lambda x: re.sub(r\"\\s+\", ' ', x))# Removed extra (one or more) spaces\n",
        "df1['Description'] = df1['Description'].apply(lambda x: re.sub(r\"\\d\", '', x)) # Removed digits\n",
        "df1['Description'] = df1['Description'].apply(lambda x: re.sub(r\"\\s+[a-zA-Z]\\s+\", '', x))\n",
        "df1['Description'] = df1['Description'].apply(lambda x: re.sub(r\"^\\s\", '', x)) # Removed all the space at starta and end of sentences\n",
        "df1['Description'] = df1['Description'].apply(lambda x: re.sub(r\"\\s$\", '', x)) ## Removed all the space at starta and end of sentences"
      ],
      "execution_count": 0,
      "outputs": []
    },
    {
      "cell_type": "code",
      "metadata": {
        "id": "J1t_KXakZlu3",
        "colab_type": "code",
        "colab": {}
      },
      "source": [
        "df1['Description'] = df1['Description'].apply(lambda x: re.sub(r\"that's\",\"that is\",x))\n",
        "df1['Description'] = df1['Description'].apply(lambda x: re.sub(r\"there's\",\"there is\",x))\n",
        "df1['Description'] = df1['Description'].apply(lambda x: re.sub(r\"what's\",\"what is\",x))\n",
        "df1['Description'] = df1['Description'].apply(lambda x: re.sub(r\"where's\",\"where is\",x))\n",
        "df1['Description'] = df1['Description'].apply(lambda x: re.sub(r\"it's\",\"it is\",x))\n",
        "df1['Description'] = df1['Description'].apply(lambda x: re.sub(r\"who's\",\"who is\",x))\n",
        "df1['Description'] = df1['Description'].apply(lambda x: re.sub(r\"i'm\",\"i am\",x))\n",
        "df1['Description'] = df1['Description'].apply(lambda x: re.sub(r\"she's\",\"she is\",x))\n",
        "df1['Description'] = df1['Description'].apply(lambda x: re.sub(r\"he's\",\"he is\",x))\n",
        "df1['Description'] = df1['Description'].apply(lambda x: re.sub(r\"they're\",\"they are\",x))\n",
        "df1['Description'] = df1['Description'].apply(lambda x: re.sub(r\"who're\",\"who are\", x))\n",
        "df1['Description'] = df1['Description'].apply(lambda x: re.sub(r\"ain't\",\"am not\", x))\n",
        "df1['Description'] = df1['Description'].apply(lambda x: re.sub(r\"wouldn't\",\"would not\",x))\n",
        "df1['Description'] = df1['Description'].apply(lambda x: re.sub(r\"can't\",\"can not\",x))\n",
        "df1['Description'] = df1['Description'].apply(lambda x: re.sub(r\"shouldn't\",\"should not\",x))\n",
        "df1['Description'] = df1['Description'].apply(lambda x: re.sub(r\"couldn't\",\"could not\",x))\n",
        "df1['Description'] = df1['Description'].apply(lambda x: re.sub(r\"won't\",\"will not\",x))\n",
        "df1['Description'] = df1['Description'].apply(lambda x: re.sub(r\"isn't\",\"is not\",x))"
      ],
      "execution_count": 0,
      "outputs": []
    },
    {
      "cell_type": "code",
      "metadata": {
        "id": "NOrZmB9mLS1e",
        "colab_type": "code",
        "outputId": "150f42e6-ee6b-4657-b53f-ebafc67cc9bd",
        "colab": {
          "base_uri": "https://localhost:8080/",
          "height": 415
        }
      },
      "source": [
        "df1.head(100)"
      ],
      "execution_count": 0,
      "outputs": [
        {
          "output_type": "execute_result",
          "data": {
            "text/html": [
              "<div>\n",
              "<style scoped>\n",
              "    .dataframe tbody tr th:only-of-type {\n",
              "        vertical-align: middle;\n",
              "    }\n",
              "\n",
              "    .dataframe tbody tr th {\n",
              "        vertical-align: top;\n",
              "    }\n",
              "\n",
              "    .dataframe thead th {\n",
              "        text-align: right;\n",
              "    }\n",
              "</style>\n",
              "<table border=\"1\" class=\"dataframe\">\n",
              "  <thead>\n",
              "    <tr style=\"text-align: right;\">\n",
              "      <th></th>\n",
              "      <th>Short description</th>\n",
              "      <th>Description</th>\n",
              "      <th>Caller</th>\n",
              "      <th>Assignment group</th>\n",
              "    </tr>\n",
              "  </thead>\n",
              "  <tbody>\n",
              "    <tr>\n",
              "      <th>0</th>\n",
              "      <td>login issue</td>\n",
              "      <td>verified user details employee manager name ch...</td>\n",
              "      <td>spxjnwir pjlcoqds</td>\n",
              "      <td>GRP_0</td>\n",
              "    </tr>\n",
              "    <tr>\n",
              "      <th>1</th>\n",
              "      <td>outlook</td>\n",
              "      <td>received from hmjdrvpb komuaywn gmail com hell...</td>\n",
              "      <td>hmjdrvpb komuaywn</td>\n",
              "      <td>GRP_0</td>\n",
              "    </tr>\n",
              "    <tr>\n",
              "      <th>2</th>\n",
              "      <td>cant log in to vpn</td>\n",
              "      <td>received from eylqgodm ybqkwiam gmail com hi c...</td>\n",
              "      <td>eylqgodm ybqkwiam</td>\n",
              "      <td>GRP_0</td>\n",
              "    </tr>\n",
              "    <tr>\n",
              "      <th>3</th>\n",
              "      <td>unable to access hr_tool page</td>\n",
              "      <td>unable to access hr tool page</td>\n",
              "      <td>xbkucsvz gcpydteq</td>\n",
              "      <td>GRP_0</td>\n",
              "    </tr>\n",
              "    <tr>\n",
              "      <th>4</th>\n",
              "      <td>skype error</td>\n",
              "      <td>skype error</td>\n",
              "      <td>owlgqjme qhcozdfx</td>\n",
              "      <td>GRP_0</td>\n",
              "    </tr>\n",
              "    <tr>\n",
              "      <th>...</th>\n",
              "      <td>...</td>\n",
              "      <td>...</td>\n",
              "      <td>...</td>\n",
              "      <td>...</td>\n",
              "    </tr>\n",
              "    <tr>\n",
              "      <th>95</th>\n",
              "      <td>job SID_26cold failed in job_scheduler at: 10/...</td>\n",
              "      <td>received from monitoring tool company com job ...</td>\n",
              "      <td>bpctwhsn kzqsbmtp</td>\n",
              "      <td>GRP_5</td>\n",
              "    </tr>\n",
              "    <tr>\n",
              "      <th>96</th>\n",
              "      <td>job SID_35cold failed in job_scheduler at: 10/...</td>\n",
              "      <td>received from monitoring tool company com job ...</td>\n",
              "      <td>bpctwhsn kzqsbmtp</td>\n",
              "      <td>GRP_5</td>\n",
              "    </tr>\n",
              "    <tr>\n",
              "      <th>97</th>\n",
              "      <td>amssm00345: c:\\ label:sys-amssm00345 94ef9088 ...</td>\n",
              "      <td>amssm label sys amssm ef on server is over spa...</td>\n",
              "      <td>jyoqwxhz clhxsoqy</td>\n",
              "      <td>GRP_12</td>\n",
              "    </tr>\n",
              "    <tr>\n",
              "      <th>98</th>\n",
              "      <td>unable to view payslips from hr_tool e time</td>\n",
              "      <td>unable to view payslips from hr tool time</td>\n",
              "      <td>vzrbocfl wxtpoyez</td>\n",
              "      <td>GRP_0</td>\n",
              "    </tr>\n",
              "    <tr>\n",
              "      <th>99</th>\n",
              "      <td>password expiry tomorrow</td>\n",
              "      <td>received from ecprjbod litmjwsy gmail com my s...</td>\n",
              "      <td>ecprjbod litmjwsy</td>\n",
              "      <td>GRP_0</td>\n",
              "    </tr>\n",
              "  </tbody>\n",
              "</table>\n",
              "<p>100 rows × 4 columns</p>\n",
              "</div>"
            ],
            "text/plain": [
              "                                    Short description  ... Assignment group\n",
              "0                                         login issue  ...            GRP_0\n",
              "1                                             outlook  ...            GRP_0\n",
              "2                                  cant log in to vpn  ...            GRP_0\n",
              "3                       unable to access hr_tool page  ...            GRP_0\n",
              "4                                        skype error   ...            GRP_0\n",
              "..                                                ...  ...              ...\n",
              "95  job SID_26cold failed in job_scheduler at: 10/...  ...            GRP_5\n",
              "96  job SID_35cold failed in job_scheduler at: 10/...  ...            GRP_5\n",
              "97  amssm00345: c:\\ label:sys-amssm00345 94ef9088 ...  ...           GRP_12\n",
              "98        unable to view payslips from hr_tool e time  ...            GRP_0\n",
              "99                           password expiry tomorrow  ...            GRP_0\n",
              "\n",
              "[100 rows x 4 columns]"
            ]
          },
          "metadata": {
            "tags": []
          },
          "execution_count": 152
        }
      ]
    },
    {
      "cell_type": "code",
      "metadata": {
        "id": "64X35M7oHpgI",
        "colab_type": "code",
        "outputId": "d3d90769-3074-4fe4-a06c-4a1cfaf5127f",
        "colab": {
          "base_uri": "https://localhost:8080/",
          "height": 55
        }
      },
      "source": [
        "  df1['Description'][1]"
      ],
      "execution_count": 0,
      "outputs": [
        {
          "output_type": "execute_result",
          "data": {
            "text/plain": [
              "'received from hmjdrvpb komuaywn gmail com hello team my meetings skype meetings etc are not appearing in my outlook calendar can somebody please advise how to correct this kind'"
            ]
          },
          "metadata": {
            "tags": []
          },
          "execution_count": 153
        }
      ]
    },
    {
      "cell_type": "code",
      "metadata": {
        "id": "5yJJGYxvHWpC",
        "colab_type": "code",
        "outputId": "bf81eaa5-b64c-4e02-8b79-fc8f8fdb553b",
        "colab": {
          "base_uri": "https://localhost:8080/",
          "height": 55
        }
      },
      "source": [
        "df['Description'][1]"
      ],
      "execution_count": 0,
      "outputs": [
        {
          "output_type": "execute_result",
          "data": {
            "text/plain": [
              "'\\r\\n\\r\\nreceived from: hmjdrvpb.komuaywn@gmail.com\\r\\n\\r\\nhello team,\\r\\n\\r\\nmy meetings/skype meetings etc are not appearing in my outlook calendar, can somebody please advise how to correct this?\\r\\n\\r\\nkind '"
            ]
          },
          "metadata": {
            "tags": []
          },
          "execution_count": 154
        }
      ]
    },
    {
      "cell_type": "code",
      "metadata": {
        "id": "O14uUjVFG7-Z",
        "colab_type": "code",
        "colab": {}
      },
      "source": [
        "df1['Short description'] = df1['Short description'].apply(lambda x: re.sub(r\"\\W\", ' ', x)) # Removed all punctuations or non word characters marks\n",
        "df1['Short description'] = df1['Short description'].apply(lambda x: x.lower()) #Converted to lower case\n",
        "df1['Short description'] = df1['Short description'].apply(lambda x: re.sub(r'\\s+[a-z]\\s+', ' ', x)) # Removed all single characters\n",
        "df1['Short description'] = df1['Short description'].apply(lambda x: re.sub(r\"^[a-z]\\s+\", ' ', x)) # Removed all single characters from start of the sentence\n",
        "df1['Short description'] = df1['Short description'].apply(lambda x: re.sub(r\"[!';:@#$%^&*()~?<>,\\.:+-=`\"\"'\\'_]\", ' ', x)) # Removed all the special characters\n",
        "df1['Short description'] = df1['Short description'].apply(lambda x: re.sub(r\"\\s+\", ' ', x))# Removed extra (one or more) spaces\n",
        "df1['Short description'] = df1['Short description'].apply(lambda x: re.sub(r\"\\d\", '', x)) # Removed digits\n",
        "df1['Short description'] = df1['Short description'].apply(lambda x: re.sub(r\"\\s+[a-zA-Z]\\s+\", '', x))\n",
        "df1['Short description'] = df1['Short description'].apply(lambda x: re.sub(r\"^\\s\", '', x)) # Removed all the space at starta and end of sentences\n",
        "df1['Short description'] = df1['Short description'].apply(lambda x: re.sub(r\"\\s$\", '', x)) ## Removed all the space at starta and end of sentences"
      ],
      "execution_count": 0,
      "outputs": []
    },
    {
      "cell_type": "code",
      "metadata": {
        "id": "6GhrcK3vfwuF",
        "colab_type": "code",
        "colab": {}
      },
      "source": [
        "df1['Short description'] = df1['Short description'].apply(lambda x: re.sub(r\"that's\",\"that is\",x))\n",
        "df1['Short description'] = df1['Short description'].apply(lambda x: re.sub(r\"there's\",\"there is\",x))\n",
        "df1['Short description'] = df1['Short description'].apply(lambda x: re.sub(r\"what's\",\"what is\",x))\n",
        "df1['Short description'] = df1['Short description'].apply(lambda x: re.sub(r\"where's\",\"where is\",x))\n",
        "df1['Short description'] = df1['Short description'].apply(lambda x: re.sub(r\"it's\",\"it is\",x))\n",
        "df1['Short description'] = df1['Short description'].apply(lambda x: re.sub(r\"who's\",\"who is\",x))\n",
        "df1['Short description'] = df1['Short description'].apply(lambda x: re.sub(r\"i'm\",\"i am\",x))\n",
        "df1['Short description'] = df1['Short description'].apply(lambda x: re.sub(r\"she's\",\"she is\",x))\n",
        "df1['Short description'] = df1['Short description'].apply(lambda x: re.sub(r\"he's\",\"he is\",x))\n",
        "df1['Short description'] = df1['Short description'].apply(lambda x: re.sub(r\"they're\",\"they are\",x))\n",
        "df1['Short description'] = df1['Short description'].apply(lambda x: re.sub(r\"who're\",\"who are\", x))\n",
        "df1['Short description'] = df1['Short description'].apply(lambda x: re.sub(r\"ain't\",\"am not\", x))\n",
        "df1['Short description'] = df1['Short description'].apply(lambda x: re.sub(r\"wouldn't\",\"would not\",x))\n",
        "df1['Short description'] = df1['Short description'].apply(lambda x: re.sub(r\"can't\",\"can not\",x))\n",
        "df1['Short description'] = df1['Short description'].apply(lambda x: re.sub(r\"shouldn't\",\"should not\",x))\n",
        "df1['Short description'] = df1['Short description'].apply(lambda x: re.sub(r\"couldn't\",\"could not\",x))\n",
        "df1['Short description'] = df1['Short description'].apply(lambda x: re.sub(r\"won't\",\"will not\",x))\n",
        "df1['Short description'] = df1['Short description'].apply(lambda x: re.sub(r\"isn't\",\"is not\",x))"
      ],
      "execution_count": 0,
      "outputs": []
    },
    {
      "cell_type": "code",
      "metadata": {
        "id": "Xy6GNmXlgTl4",
        "colab_type": "code",
        "outputId": "a7b4a16b-4894-45e7-a903-fdeb9a9ca58f",
        "colab": {
          "base_uri": "https://localhost:8080/",
          "height": 415
        }
      },
      "source": [
        "df1.head(100)"
      ],
      "execution_count": 0,
      "outputs": [
        {
          "output_type": "execute_result",
          "data": {
            "text/html": [
              "<div>\n",
              "<style scoped>\n",
              "    .dataframe tbody tr th:only-of-type {\n",
              "        vertical-align: middle;\n",
              "    }\n",
              "\n",
              "    .dataframe tbody tr th {\n",
              "        vertical-align: top;\n",
              "    }\n",
              "\n",
              "    .dataframe thead th {\n",
              "        text-align: right;\n",
              "    }\n",
              "</style>\n",
              "<table border=\"1\" class=\"dataframe\">\n",
              "  <thead>\n",
              "    <tr style=\"text-align: right;\">\n",
              "      <th></th>\n",
              "      <th>Short description</th>\n",
              "      <th>Description</th>\n",
              "      <th>Caller</th>\n",
              "      <th>Assignment group</th>\n",
              "    </tr>\n",
              "  </thead>\n",
              "  <tbody>\n",
              "    <tr>\n",
              "      <th>0</th>\n",
              "      <td>login issue</td>\n",
              "      <td>verified user details employee manager name ch...</td>\n",
              "      <td>spxjnwir pjlcoqds</td>\n",
              "      <td>GRP_0</td>\n",
              "    </tr>\n",
              "    <tr>\n",
              "      <th>1</th>\n",
              "      <td>outlook</td>\n",
              "      <td>received from hmjdrvpb komuaywn gmail com hell...</td>\n",
              "      <td>hmjdrvpb komuaywn</td>\n",
              "      <td>GRP_0</td>\n",
              "    </tr>\n",
              "    <tr>\n",
              "      <th>2</th>\n",
              "      <td>cant log in to vpn</td>\n",
              "      <td>received from eylqgodm ybqkwiam gmail com hi c...</td>\n",
              "      <td>eylqgodm ybqkwiam</td>\n",
              "      <td>GRP_0</td>\n",
              "    </tr>\n",
              "    <tr>\n",
              "      <th>3</th>\n",
              "      <td>unable to access hr tool page</td>\n",
              "      <td>unable to access hr tool page</td>\n",
              "      <td>xbkucsvz gcpydteq</td>\n",
              "      <td>GRP_0</td>\n",
              "    </tr>\n",
              "    <tr>\n",
              "      <th>4</th>\n",
              "      <td>skype error</td>\n",
              "      <td>skype error</td>\n",
              "      <td>owlgqjme qhcozdfx</td>\n",
              "      <td>GRP_0</td>\n",
              "    </tr>\n",
              "    <tr>\n",
              "      <th>...</th>\n",
              "      <td>...</td>\n",
              "      <td>...</td>\n",
              "      <td>...</td>\n",
              "      <td>...</td>\n",
              "    </tr>\n",
              "    <tr>\n",
              "      <th>95</th>\n",
              "      <td>job sid cold failed in job scheduler at</td>\n",
              "      <td>received from monitoring tool company com job ...</td>\n",
              "      <td>bpctwhsn kzqsbmtp</td>\n",
              "      <td>GRP_5</td>\n",
              "    </tr>\n",
              "    <tr>\n",
              "      <th>96</th>\n",
              "      <td>job sid cold failed in job scheduler at</td>\n",
              "      <td>received from monitoring tool company com job ...</td>\n",
              "      <td>bpctwhsn kzqsbmtp</td>\n",
              "      <td>GRP_5</td>\n",
              "    </tr>\n",
              "    <tr>\n",
              "      <th>97</th>\n",
              "      <td>amssm label sys amssm ef on server is over spa...</td>\n",
              "      <td>amssm label sys amssm ef on server is over spa...</td>\n",
              "      <td>jyoqwxhz clhxsoqy</td>\n",
              "      <td>GRP_12</td>\n",
              "    </tr>\n",
              "    <tr>\n",
              "      <th>98</th>\n",
              "      <td>unable to view payslips from hr tool time</td>\n",
              "      <td>unable to view payslips from hr tool time</td>\n",
              "      <td>vzrbocfl wxtpoyez</td>\n",
              "      <td>GRP_0</td>\n",
              "    </tr>\n",
              "    <tr>\n",
              "      <th>99</th>\n",
              "      <td>password expiry tomorrow</td>\n",
              "      <td>received from ecprjbod litmjwsy gmail com my s...</td>\n",
              "      <td>ecprjbod litmjwsy</td>\n",
              "      <td>GRP_0</td>\n",
              "    </tr>\n",
              "  </tbody>\n",
              "</table>\n",
              "<p>100 rows × 4 columns</p>\n",
              "</div>"
            ],
            "text/plain": [
              "                                    Short description  ... Assignment group\n",
              "0                                         login issue  ...            GRP_0\n",
              "1                                             outlook  ...            GRP_0\n",
              "2                                  cant log in to vpn  ...            GRP_0\n",
              "3                       unable to access hr tool page  ...            GRP_0\n",
              "4                                         skype error  ...            GRP_0\n",
              "..                                                ...  ...              ...\n",
              "95            job sid cold failed in job scheduler at  ...            GRP_5\n",
              "96            job sid cold failed in job scheduler at  ...            GRP_5\n",
              "97  amssm label sys amssm ef on server is over spa...  ...           GRP_12\n",
              "98          unable to view payslips from hr tool time  ...            GRP_0\n",
              "99                           password expiry tomorrow  ...            GRP_0\n",
              "\n",
              "[100 rows x 4 columns]"
            ]
          },
          "metadata": {
            "tags": []
          },
          "execution_count": 157
        }
      ]
    },
    {
      "cell_type": "code",
      "metadata": {
        "id": "om4eSS43gXBi",
        "colab_type": "code",
        "outputId": "a3247e7f-a6f7-4fd0-b70d-b6ab8e20a8e7",
        "colab": {
          "base_uri": "https://localhost:8080/",
          "height": 104
        }
      },
      "source": [
        "from nltk.corpus import stopwords\n",
        "from nltk.tokenize import word_tokenize\n",
        "nltk.download('stopwords')\n",
        "nltk.download('punkt')"
      ],
      "execution_count": 0,
      "outputs": [
        {
          "output_type": "stream",
          "text": [
            "[nltk_data] Downloading package stopwords to /root/nltk_data...\n",
            "[nltk_data]   Package stopwords is already up-to-date!\n",
            "[nltk_data] Downloading package punkt to /root/nltk_data...\n",
            "[nltk_data]   Package punkt is already up-to-date!\n"
          ],
          "name": "stdout"
        },
        {
          "output_type": "execute_result",
          "data": {
            "text/plain": [
              "True"
            ]
          },
          "metadata": {
            "tags": []
          },
          "execution_count": 163
        }
      ]
    },
    {
      "cell_type": "code",
      "metadata": {
        "id": "5zSdk6uZiaub",
        "colab_type": "code",
        "colab": {}
      },
      "source": [
        "stop_words = set(stopwords.words('english'))#stop words stored in 'a'"
      ],
      "execution_count": 0,
      "outputs": []
    },
    {
      "cell_type": "code",
      "metadata": {
        "id": "QtebkOrYisbC",
        "colab_type": "code",
        "colab": {}
      },
      "source": [
        "from nltk.tokenize import word_tokenize\n",
        "df1['Description'] = [word_tokenize(i) for i in df1['Description']]\n",
        "df1['Short description'] = [word_tokenize(i) for i in df1['Short description']]"
      ],
      "execution_count": 0,
      "outputs": []
    },
    {
      "cell_type": "code",
      "metadata": {
        "id": "jpvnny8KjKH2",
        "colab_type": "code",
        "outputId": "71b1a2d5-83c7-4e3c-c88e-935faf1bf5ec",
        "colab": {
          "base_uri": "https://localhost:8080/",
          "height": 202
        }
      },
      "source": [
        "df1.head()"
      ],
      "execution_count": 0,
      "outputs": [
        {
          "output_type": "execute_result",
          "data": {
            "text/html": [
              "<div>\n",
              "<style scoped>\n",
              "    .dataframe tbody tr th:only-of-type {\n",
              "        vertical-align: middle;\n",
              "    }\n",
              "\n",
              "    .dataframe tbody tr th {\n",
              "        vertical-align: top;\n",
              "    }\n",
              "\n",
              "    .dataframe thead th {\n",
              "        text-align: right;\n",
              "    }\n",
              "</style>\n",
              "<table border=\"1\" class=\"dataframe\">\n",
              "  <thead>\n",
              "    <tr style=\"text-align: right;\">\n",
              "      <th></th>\n",
              "      <th>Short description</th>\n",
              "      <th>Description</th>\n",
              "      <th>Caller</th>\n",
              "      <th>Assignment group</th>\n",
              "    </tr>\n",
              "  </thead>\n",
              "  <tbody>\n",
              "    <tr>\n",
              "      <th>0</th>\n",
              "      <td>[login, issue]</td>\n",
              "      <td>[verified, user, details, employee, manager, n...</td>\n",
              "      <td>spxjnwir pjlcoqds</td>\n",
              "      <td>GRP_0</td>\n",
              "    </tr>\n",
              "    <tr>\n",
              "      <th>1</th>\n",
              "      <td>[outlook]</td>\n",
              "      <td>[received, from, hmjdrvpb, komuaywn, gmail, co...</td>\n",
              "      <td>hmjdrvpb komuaywn</td>\n",
              "      <td>GRP_0</td>\n",
              "    </tr>\n",
              "    <tr>\n",
              "      <th>2</th>\n",
              "      <td>[cant, log, in, to, vpn]</td>\n",
              "      <td>[received, from, eylqgodm, ybqkwiam, gmail, co...</td>\n",
              "      <td>eylqgodm ybqkwiam</td>\n",
              "      <td>GRP_0</td>\n",
              "    </tr>\n",
              "    <tr>\n",
              "      <th>3</th>\n",
              "      <td>[unable, to, access, hr, tool, page]</td>\n",
              "      <td>[unable, to, access, hr, tool, page]</td>\n",
              "      <td>xbkucsvz gcpydteq</td>\n",
              "      <td>GRP_0</td>\n",
              "    </tr>\n",
              "    <tr>\n",
              "      <th>4</th>\n",
              "      <td>[skype, error]</td>\n",
              "      <td>[skype, error]</td>\n",
              "      <td>owlgqjme qhcozdfx</td>\n",
              "      <td>GRP_0</td>\n",
              "    </tr>\n",
              "  </tbody>\n",
              "</table>\n",
              "</div>"
            ],
            "text/plain": [
              "                      Short description  ... Assignment group\n",
              "0                        [login, issue]  ...            GRP_0\n",
              "1                             [outlook]  ...            GRP_0\n",
              "2              [cant, log, in, to, vpn]  ...            GRP_0\n",
              "3  [unable, to, access, hr, tool, page]  ...            GRP_0\n",
              "4                        [skype, error]  ...            GRP_0\n",
              "\n",
              "[5 rows x 4 columns]"
            ]
          },
          "metadata": {
            "tags": []
          },
          "execution_count": 161
        }
      ]
    },
    {
      "cell_type": "code",
      "metadata": {
        "id": "9DN2LTOcmu2Q",
        "colab_type": "code",
        "colab": {}
      },
      "source": [
        "df1['Description']= df1['Description'].apply(lambda x: [item for item in x if item not in stop_words])\n",
        "df1['Short description']= df1['Short description'].apply(lambda x: [item for item in x if item not in stop_words])  "
      ],
      "execution_count": 0,
      "outputs": []
    },
    {
      "cell_type": "code",
      "metadata": {
        "id": "IHm76PwenrO5",
        "colab_type": "code",
        "outputId": "0360de80-5527-4440-fadc-650be7a82481",
        "colab": {
          "base_uri": "https://localhost:8080/",
          "height": 202
        }
      },
      "source": [
        "df1.head()"
      ],
      "execution_count": 0,
      "outputs": [
        {
          "output_type": "execute_result",
          "data": {
            "text/html": [
              "<div>\n",
              "<style scoped>\n",
              "    .dataframe tbody tr th:only-of-type {\n",
              "        vertical-align: middle;\n",
              "    }\n",
              "\n",
              "    .dataframe tbody tr th {\n",
              "        vertical-align: top;\n",
              "    }\n",
              "\n",
              "    .dataframe thead th {\n",
              "        text-align: right;\n",
              "    }\n",
              "</style>\n",
              "<table border=\"1\" class=\"dataframe\">\n",
              "  <thead>\n",
              "    <tr style=\"text-align: right;\">\n",
              "      <th></th>\n",
              "      <th>Short description</th>\n",
              "      <th>Description</th>\n",
              "      <th>Caller</th>\n",
              "      <th>Assignment group</th>\n",
              "    </tr>\n",
              "  </thead>\n",
              "  <tbody>\n",
              "    <tr>\n",
              "      <th>0</th>\n",
              "      <td>[login, issue]</td>\n",
              "      <td>[verified, user, details, employee, manager, n...</td>\n",
              "      <td>spxjnwir pjlcoqds</td>\n",
              "      <td>GRP_0</td>\n",
              "    </tr>\n",
              "    <tr>\n",
              "      <th>1</th>\n",
              "      <td>[outlook]</td>\n",
              "      <td>[received, hmjdrvpb, komuaywn, gmail, com, hel...</td>\n",
              "      <td>hmjdrvpb komuaywn</td>\n",
              "      <td>GRP_0</td>\n",
              "    </tr>\n",
              "    <tr>\n",
              "      <th>2</th>\n",
              "      <td>[cant, log, vpn]</td>\n",
              "      <td>[received, eylqgodm, ybqkwiam, gmail, com, hi,...</td>\n",
              "      <td>eylqgodm ybqkwiam</td>\n",
              "      <td>GRP_0</td>\n",
              "    </tr>\n",
              "    <tr>\n",
              "      <th>3</th>\n",
              "      <td>[unable, access, hr, tool, page]</td>\n",
              "      <td>[unable, access, hr, tool, page]</td>\n",
              "      <td>xbkucsvz gcpydteq</td>\n",
              "      <td>GRP_0</td>\n",
              "    </tr>\n",
              "    <tr>\n",
              "      <th>4</th>\n",
              "      <td>[skype, error]</td>\n",
              "      <td>[skype, error]</td>\n",
              "      <td>owlgqjme qhcozdfx</td>\n",
              "      <td>GRP_0</td>\n",
              "    </tr>\n",
              "  </tbody>\n",
              "</table>\n",
              "</div>"
            ],
            "text/plain": [
              "                  Short description  ... Assignment group\n",
              "0                    [login, issue]  ...            GRP_0\n",
              "1                         [outlook]  ...            GRP_0\n",
              "2                  [cant, log, vpn]  ...            GRP_0\n",
              "3  [unable, access, hr, tool, page]  ...            GRP_0\n",
              "4                    [skype, error]  ...            GRP_0\n",
              "\n",
              "[5 rows x 4 columns]"
            ]
          },
          "metadata": {
            "tags": []
          },
          "execution_count": 192
        }
      ]
    },
    {
      "cell_type": "code",
      "metadata": {
        "id": "j6bDvxXepSfn",
        "colab_type": "code",
        "outputId": "cfb03db4-eb72-4ec5-a618-388f2cb50028",
        "colab": {
          "base_uri": "https://localhost:8080/",
          "height": 202
        }
      },
      "source": [
        "df1['Desc_word_count'] = df1['Description'].str.split().map(len)\n",
        "df1['Short_desc_word_count'] = df1['Short description'].str.split().map(len)\n",
        "df1.head()"
      ],
      "execution_count": 0,
      "outputs": [
        {
          "output_type": "execute_result",
          "data": {
            "text/html": [
              "<div>\n",
              "<style scoped>\n",
              "    .dataframe tbody tr th:only-of-type {\n",
              "        vertical-align: middle;\n",
              "    }\n",
              "\n",
              "    .dataframe tbody tr th {\n",
              "        vertical-align: top;\n",
              "    }\n",
              "\n",
              "    .dataframe thead th {\n",
              "        text-align: right;\n",
              "    }\n",
              "</style>\n",
              "<table border=\"1\" class=\"dataframe\">\n",
              "  <thead>\n",
              "    <tr style=\"text-align: right;\">\n",
              "      <th></th>\n",
              "      <th>Short description</th>\n",
              "      <th>Description</th>\n",
              "      <th>Caller</th>\n",
              "      <th>Assignment group</th>\n",
              "      <th>Desc_word_count</th>\n",
              "      <th>Short_desc_word_count</th>\n",
              "    </tr>\n",
              "  </thead>\n",
              "  <tbody>\n",
              "    <tr>\n",
              "      <th>0</th>\n",
              "      <td>['login', 'issue']</td>\n",
              "      <td>['verified', 'user', 'details', 'employee', 'm...</td>\n",
              "      <td>spxjnwir pjlcoqds</td>\n",
              "      <td>GRP_0</td>\n",
              "      <td>22</td>\n",
              "      <td>2</td>\n",
              "    </tr>\n",
              "    <tr>\n",
              "      <th>1</th>\n",
              "      <td>['outlook']</td>\n",
              "      <td>['received', 'hmjdrvpb', 'komuaywn', 'gmail', ...</td>\n",
              "      <td>hmjdrvpb komuaywn</td>\n",
              "      <td>GRP_0</td>\n",
              "      <td>19</td>\n",
              "      <td>1</td>\n",
              "    </tr>\n",
              "    <tr>\n",
              "      <th>2</th>\n",
              "      <td>['cant', 'log', 'vpn']</td>\n",
              "      <td>['received', 'eylqgodm', 'ybqkwiam', 'gmail', ...</td>\n",
              "      <td>eylqgodm ybqkwiam</td>\n",
              "      <td>GRP_0</td>\n",
              "      <td>9</td>\n",
              "      <td>3</td>\n",
              "    </tr>\n",
              "    <tr>\n",
              "      <th>3</th>\n",
              "      <td>['unable', 'access', 'hr', 'tool', 'page']</td>\n",
              "      <td>['unable', 'access', 'hr', 'tool', 'page']</td>\n",
              "      <td>xbkucsvz gcpydteq</td>\n",
              "      <td>GRP_0</td>\n",
              "      <td>5</td>\n",
              "      <td>5</td>\n",
              "    </tr>\n",
              "    <tr>\n",
              "      <th>4</th>\n",
              "      <td>['skype', 'error']</td>\n",
              "      <td>['skype', 'error']</td>\n",
              "      <td>owlgqjme qhcozdfx</td>\n",
              "      <td>GRP_0</td>\n",
              "      <td>2</td>\n",
              "      <td>2</td>\n",
              "    </tr>\n",
              "  </tbody>\n",
              "</table>\n",
              "</div>"
            ],
            "text/plain": [
              "                            Short description  ... Short_desc_word_count\n",
              "0                          ['login', 'issue']  ...                     2\n",
              "1                                 ['outlook']  ...                     1\n",
              "2                      ['cant', 'log', 'vpn']  ...                     3\n",
              "3  ['unable', 'access', 'hr', 'tool', 'page']  ...                     5\n",
              "4                          ['skype', 'error']  ...                     2\n",
              "\n",
              "[5 rows x 6 columns]"
            ]
          },
          "metadata": {
            "tags": []
          },
          "execution_count": 195
        }
      ]
    },
    {
      "cell_type": "code",
      "metadata": {
        "id": "dFFHWwPp-7Nn",
        "colab_type": "code",
        "outputId": "53f00dcf-aaf3-49e4-8903-6320cfc27c34",
        "colab": {
          "base_uri": "https://localhost:8080/",
          "height": 294
        }
      },
      "source": [
        "df1.describe()"
      ],
      "execution_count": 0,
      "outputs": [
        {
          "output_type": "execute_result",
          "data": {
            "text/html": [
              "<div>\n",
              "<style scoped>\n",
              "    .dataframe tbody tr th:only-of-type {\n",
              "        vertical-align: middle;\n",
              "    }\n",
              "\n",
              "    .dataframe tbody tr th {\n",
              "        vertical-align: top;\n",
              "    }\n",
              "\n",
              "    .dataframe thead th {\n",
              "        text-align: right;\n",
              "    }\n",
              "</style>\n",
              "<table border=\"1\" class=\"dataframe\">\n",
              "  <thead>\n",
              "    <tr style=\"text-align: right;\">\n",
              "      <th></th>\n",
              "      <th>Desc_word_count</th>\n",
              "      <th>Short_desc_word_count</th>\n",
              "    </tr>\n",
              "  </thead>\n",
              "  <tbody>\n",
              "    <tr>\n",
              "      <th>count</th>\n",
              "      <td>8500.000000</td>\n",
              "      <td>8500.000000</td>\n",
              "    </tr>\n",
              "    <tr>\n",
              "      <th>mean</th>\n",
              "      <td>19.553294</td>\n",
              "      <td>5.316235</td>\n",
              "    </tr>\n",
              "    <tr>\n",
              "      <th>std</th>\n",
              "      <td>40.073017</td>\n",
              "      <td>2.909425</td>\n",
              "    </tr>\n",
              "    <tr>\n",
              "      <th>min</th>\n",
              "      <td>1.000000</td>\n",
              "      <td>1.000000</td>\n",
              "    </tr>\n",
              "    <tr>\n",
              "      <th>25%</th>\n",
              "      <td>5.000000</td>\n",
              "      <td>3.000000</td>\n",
              "    </tr>\n",
              "    <tr>\n",
              "      <th>50%</th>\n",
              "      <td>10.000000</td>\n",
              "      <td>5.000000</td>\n",
              "    </tr>\n",
              "    <tr>\n",
              "      <th>75%</th>\n",
              "      <td>21.000000</td>\n",
              "      <td>7.000000</td>\n",
              "    </tr>\n",
              "    <tr>\n",
              "      <th>max</th>\n",
              "      <td>822.000000</td>\n",
              "      <td>33.000000</td>\n",
              "    </tr>\n",
              "  </tbody>\n",
              "</table>\n",
              "</div>"
            ],
            "text/plain": [
              "       Desc_word_count  Short_desc_word_count\n",
              "count      8500.000000            8500.000000\n",
              "mean         19.553294               5.316235\n",
              "std          40.073017               2.909425\n",
              "min           1.000000               1.000000\n",
              "25%           5.000000               3.000000\n",
              "50%          10.000000               5.000000\n",
              "75%          21.000000               7.000000\n",
              "max         822.000000              33.000000"
            ]
          },
          "metadata": {
            "tags": []
          },
          "execution_count": 332
        }
      ]
    },
    {
      "cell_type": "code",
      "metadata": {
        "id": "zKfKF3tvoSWw",
        "colab_type": "code",
        "colab": {}
      },
      "source": [
        "df2 = df1.copy(deep=True)"
      ],
      "execution_count": 0,
      "outputs": []
    },
    {
      "cell_type": "code",
      "metadata": {
        "id": "USpyFUiCp04b",
        "colab_type": "code",
        "colab": {}
      },
      "source": [
        "df2.drop(['Desc_word_count','Short_desc_word_count','Short description','Caller'],axis=1,inplace=True)"
      ],
      "execution_count": 0,
      "outputs": []
    },
    {
      "cell_type": "code",
      "metadata": {
        "id": "qTxauuaRp_Gz",
        "colab_type": "code",
        "outputId": "58d564aa-d734-4f4a-9db7-2711f63dbc10",
        "colab": {
          "base_uri": "https://localhost:8080/",
          "height": 202
        }
      },
      "source": [
        "df2.head()"
      ],
      "execution_count": 0,
      "outputs": [
        {
          "output_type": "execute_result",
          "data": {
            "text/html": [
              "<div>\n",
              "<style scoped>\n",
              "    .dataframe tbody tr th:only-of-type {\n",
              "        vertical-align: middle;\n",
              "    }\n",
              "\n",
              "    .dataframe tbody tr th {\n",
              "        vertical-align: top;\n",
              "    }\n",
              "\n",
              "    .dataframe thead th {\n",
              "        text-align: right;\n",
              "    }\n",
              "</style>\n",
              "<table border=\"1\" class=\"dataframe\">\n",
              "  <thead>\n",
              "    <tr style=\"text-align: right;\">\n",
              "      <th></th>\n",
              "      <th>Description</th>\n",
              "      <th>Assignment group</th>\n",
              "    </tr>\n",
              "  </thead>\n",
              "  <tbody>\n",
              "    <tr>\n",
              "      <th>0</th>\n",
              "      <td>['verified', 'user', 'details', 'employee', 'm...</td>\n",
              "      <td>GRP_0</td>\n",
              "    </tr>\n",
              "    <tr>\n",
              "      <th>1</th>\n",
              "      <td>['received', 'hmjdrvpb', 'komuaywn', 'gmail', ...</td>\n",
              "      <td>GRP_0</td>\n",
              "    </tr>\n",
              "    <tr>\n",
              "      <th>2</th>\n",
              "      <td>['received', 'eylqgodm', 'ybqkwiam', 'gmail', ...</td>\n",
              "      <td>GRP_0</td>\n",
              "    </tr>\n",
              "    <tr>\n",
              "      <th>3</th>\n",
              "      <td>['unable', 'access', 'hr', 'tool', 'page']</td>\n",
              "      <td>GRP_0</td>\n",
              "    </tr>\n",
              "    <tr>\n",
              "      <th>4</th>\n",
              "      <td>['skype', 'error']</td>\n",
              "      <td>GRP_0</td>\n",
              "    </tr>\n",
              "  </tbody>\n",
              "</table>\n",
              "</div>"
            ],
            "text/plain": [
              "                                         Description Assignment group\n",
              "0  ['verified', 'user', 'details', 'employee', 'm...            GRP_0\n",
              "1  ['received', 'hmjdrvpb', 'komuaywn', 'gmail', ...            GRP_0\n",
              "2  ['received', 'eylqgodm', 'ybqkwiam', 'gmail', ...            GRP_0\n",
              "3         ['unable', 'access', 'hr', 'tool', 'page']            GRP_0\n",
              "4                                 ['skype', 'error']            GRP_0"
            ]
          },
          "metadata": {
            "tags": []
          },
          "execution_count": 298
        }
      ]
    },
    {
      "cell_type": "code",
      "metadata": {
        "id": "tXcfQZ4i2USN",
        "colab_type": "code",
        "colab": {}
      },
      "source": [
        "from sklearn.feature_extraction.text import CountVectorizer"
      ],
      "execution_count": 0,
      "outputs": []
    },
    {
      "cell_type": "code",
      "metadata": {
        "id": "jjhDaR-w2Qjj",
        "colab_type": "code",
        "colab": {}
      },
      "source": [
        "cv = CountVectorizer()"
      ],
      "execution_count": 0,
      "outputs": []
    },
    {
      "cell_type": "code",
      "metadata": {
        "id": "e3Gl8U7P2X6z",
        "colab_type": "code",
        "colab": {}
      },
      "source": [
        "x = cv.fit_transform(df2['Description'])\n",
        "y = df2['Assignment group']"
      ],
      "execution_count": 0,
      "outputs": []
    },
    {
      "cell_type": "code",
      "metadata": {
        "id": "I94-7I3V2YFk",
        "colab_type": "code",
        "outputId": "58f5887b-dd7b-438d-e274-66120e825493",
        "colab": {
          "base_uri": "https://localhost:8080/",
          "height": 35
        }
      },
      "source": [
        "x.shape"
      ],
      "execution_count": 0,
      "outputs": [
        {
          "output_type": "execute_result",
          "data": {
            "text/plain": [
              "(8500, 15953)"
            ]
          },
          "metadata": {
            "tags": []
          },
          "execution_count": 302
        }
      ]
    },
    {
      "cell_type": "code",
      "metadata": {
        "id": "Ubq-XX_-stm5",
        "colab_type": "code",
        "colab": {}
      },
      "source": [
        "from sklearn.model_selection import train_test_split\n",
        "x_train, x_test, y_train, y_test = train_test_split(x, y, test_size = 0.2, random_state = 0)"
      ],
      "execution_count": 0,
      "outputs": []
    },
    {
      "cell_type": "code",
      "metadata": {
        "id": "A6xb0hEQtM-B",
        "colab_type": "code",
        "colab": {}
      },
      "source": [
        "from sklearn.naive_bayes import MultinomialNB"
      ],
      "execution_count": 0,
      "outputs": []
    },
    {
      "cell_type": "code",
      "metadata": {
        "id": "ILbPrHBWqAQn",
        "colab_type": "code",
        "outputId": "2d448f48-72df-4857-e804-07fdb7049e97",
        "colab": {
          "base_uri": "https://localhost:8080/",
          "height": 35
        }
      },
      "source": [
        "model = MultinomialNB()\n",
        "model.fit(x_train, y_train)"
      ],
      "execution_count": 0,
      "outputs": [
        {
          "output_type": "execute_result",
          "data": {
            "text/plain": [
              "MultinomialNB(alpha=1.0, class_prior=None, fit_prior=True)"
            ]
          },
          "metadata": {
            "tags": []
          },
          "execution_count": 306
        }
      ]
    },
    {
      "cell_type": "code",
      "metadata": {
        "id": "9QonZ1NE32Xx",
        "colab_type": "code",
        "outputId": "d347c663-25f5-430e-ed52-6d500c6ce2ea",
        "colab": {
          "base_uri": "https://localhost:8080/",
          "height": 52
        }
      },
      "source": [
        "print(model.score(x_train,y_train))\n",
        "print(model.score(x_test,y_test))"
      ],
      "execution_count": 0,
      "outputs": [
        {
          "output_type": "stream",
          "text": [
            "0.6951470588235295\n",
            "0.6423529411764706\n"
          ],
          "name": "stdout"
        }
      ]
    },
    {
      "cell_type": "code",
      "metadata": {
        "id": "YTue4K5jsFnL",
        "colab_type": "code",
        "colab": {}
      },
      "source": [
        "y_pred = model.predict(x_test)"
      ],
      "execution_count": 0,
      "outputs": []
    },
    {
      "cell_type": "code",
      "metadata": {
        "id": "Z9NnYFK64zm-",
        "colab_type": "code",
        "outputId": "a33837a6-c5d6-40a3-81c9-a64164d597ed",
        "colab": {
          "base_uri": "https://localhost:8080/",
          "height": 1000
        }
      },
      "source": [
        "from sklearn.metrics import classification_report\n",
        "print(classification_report(y_test,y_pred))"
      ],
      "execution_count": 0,
      "outputs": [
        {
          "output_type": "stream",
          "text": [
            "              precision    recall  f1-score   support\n",
            "\n",
            "       GRP_0       0.69      0.98      0.81       825\n",
            "       GRP_1       0.00      0.00      0.00         3\n",
            "      GRP_10       0.00      0.00      0.00        27\n",
            "      GRP_11       0.00      0.00      0.00         3\n",
            "      GRP_12       0.40      0.37      0.38        46\n",
            "      GRP_13       0.31      0.39      0.34        28\n",
            "      GRP_14       0.80      0.17      0.28        24\n",
            "      GRP_15       0.00      0.00      0.00         5\n",
            "      GRP_16       0.00      0.00      0.00        17\n",
            "      GRP_17       0.00      0.00      0.00        12\n",
            "      GRP_18       0.67      0.10      0.17        20\n",
            "      GRP_19       0.83      0.14      0.23        37\n",
            "       GRP_2       0.67      0.43      0.52        47\n",
            "      GRP_20       0.00      0.00      0.00         6\n",
            "      GRP_21       0.00      0.00      0.00         9\n",
            "      GRP_22       0.00      0.00      0.00         4\n",
            "      GRP_23       0.00      0.00      0.00         9\n",
            "      GRP_24       0.71      0.93      0.81        59\n",
            "      GRP_25       0.60      0.10      0.18        29\n",
            "      GRP_26       1.00      0.12      0.22         8\n",
            "      GRP_27       0.00      0.00      0.00         4\n",
            "      GRP_28       0.00      0.00      0.00        11\n",
            "      GRP_29       1.00      0.19      0.32        21\n",
            "       GRP_3       0.38      0.18      0.24        34\n",
            "      GRP_30       0.60      0.43      0.50         7\n",
            "      GRP_31       0.44      0.54      0.48        13\n",
            "      GRP_33       0.50      0.24      0.32        21\n",
            "      GRP_34       0.00      0.00      0.00        11\n",
            "      GRP_36       0.00      0.00      0.00         1\n",
            "      GRP_37       0.00      0.00      0.00         3\n",
            "      GRP_38       0.00      0.00      0.00         1\n",
            "      GRP_39       0.00      0.00      0.00         6\n",
            "       GRP_4       1.00      0.06      0.11        17\n",
            "      GRP_40       0.00      0.00      0.00         6\n",
            "      GRP_41       0.00      0.00      0.00         6\n",
            "      GRP_42       0.00      0.00      0.00         9\n",
            "      GRP_44       1.00      0.20      0.33         5\n",
            "      GRP_45       0.00      0.00      0.00         5\n",
            "      GRP_46       0.00      0.00      0.00         1\n",
            "      GRP_47       0.00      0.00      0.00         8\n",
            "      GRP_48       1.00      0.17      0.29         6\n",
            "      GRP_49       0.00      0.00      0.00         2\n",
            "       GRP_5       0.00      0.00      0.00        27\n",
            "      GRP_50       0.00      0.00      0.00         3\n",
            "      GRP_52       0.00      0.00      0.00         1\n",
            "      GRP_53       0.00      0.00      0.00         2\n",
            "      GRP_54       0.00      0.00      0.00         1\n",
            "      GRP_55       0.00      0.00      0.00         4\n",
            "      GRP_59       0.00      0.00      0.00         1\n",
            "       GRP_6       0.50      0.07      0.12        28\n",
            "      GRP_60       0.00      0.00      0.00         6\n",
            "      GRP_62       1.00      1.00      1.00         2\n",
            "      GRP_65       0.00      0.00      0.00         3\n",
            "      GRP_66       0.00      0.00      0.00         2\n",
            "      GRP_69       0.00      0.00      0.00         2\n",
            "       GRP_7       0.00      0.00      0.00        20\n",
            "       GRP_8       0.53      0.94      0.68       139\n",
            "       GRP_9       0.33      0.02      0.04        43\n",
            "\n",
            "    accuracy                           0.64      1700\n",
            "   macro avg       0.26      0.13      0.14      1700\n",
            "weighted avg       0.55      0.64      0.55      1700\n",
            "\n"
          ],
          "name": "stdout"
        },
        {
          "output_type": "stream",
          "text": [
            "/usr/local/lib/python3.6/dist-packages/sklearn/metrics/_classification.py:1272: UndefinedMetricWarning: Precision and F-score are ill-defined and being set to 0.0 in labels with no predicted samples. Use `zero_division` parameter to control this behavior.\n",
            "  _warn_prf(average, modifier, msg_start, len(result))\n"
          ],
          "name": "stderr"
        }
      ]
    },
    {
      "cell_type": "code",
      "metadata": {
        "id": "z-LOFh3O41r2",
        "colab_type": "code",
        "outputId": "106ac80b-d1fa-4a9b-9bf4-d9a05b2563f5",
        "colab": {
          "base_uri": "https://localhost:8080/",
          "height": 52
        }
      },
      "source": [
        "from sklearn.svm import SVC\n",
        "svc = SVC()\n",
        "svc.fit(x_train,y_train)\n",
        "print(svc.score(x_train,y_train))\n",
        "print(svc.score(x_test,y_test))\n",
        "y_pred1 = svc.predict(x_test)"
      ],
      "execution_count": 0,
      "outputs": [
        {
          "output_type": "stream",
          "text": [
            "0.673235294117647\n",
            "0.6241176470588236\n"
          ],
          "name": "stdout"
        }
      ]
    },
    {
      "cell_type": "code",
      "metadata": {
        "id": "BWWFQ_n85X1h",
        "colab_type": "code",
        "outputId": "87e04ba7-1f19-44de-ace0-0bc78be35e45",
        "colab": {
          "base_uri": "https://localhost:8080/",
          "height": 52
        }
      },
      "source": [
        "from sklearn.tree import DecisionTreeClassifier\n",
        "DT = DecisionTreeClassifier()\n",
        "DT.fit(x_train,y_train)\n",
        "print(DT.score(x_train,y_train))\n",
        "print(DT.score(x_test,y_test))\n",
        "y_pred2 = DT.predict(x_test)"
      ],
      "execution_count": 0,
      "outputs": [
        {
          "output_type": "stream",
          "text": [
            "0.9523529411764706\n",
            "0.6011764705882353\n"
          ],
          "name": "stdout"
        }
      ]
    },
    {
      "cell_type": "code",
      "metadata": {
        "id": "N5NEn0TU61JW",
        "colab_type": "code",
        "outputId": "0a109cf1-184b-4d2a-d00d-add6aba4a36e",
        "colab": {
          "base_uri": "https://localhost:8080/",
          "height": 52
        }
      },
      "source": [
        "from sklearn.ensemble import RandomForestClassifier\n",
        "RF = RandomForestClassifier()\n",
        "RF.fit(x_train,y_train)\n",
        "print(RF.score(x_train,y_train))\n",
        "print(RF.score(x_test,y_test))\n",
        "y_pred2 = RF.predict(x_test)"
      ],
      "execution_count": 0,
      "outputs": [
        {
          "output_type": "stream",
          "text": [
            "0.9523529411764706\n",
            "0.6588235294117647\n"
          ],
          "name": "stdout"
        }
      ]
    },
    {
      "cell_type": "code",
      "metadata": {
        "id": "O5MSlmwD7TKl",
        "colab_type": "code",
        "outputId": "de42f6df-943f-49be-f07f-d0b7213f370c",
        "colab": {
          "base_uri": "https://localhost:8080/",
          "height": 52
        }
      },
      "source": [
        "from sklearn.ensemble import BaggingClassifier\n",
        "BC = BaggingClassifier()\n",
        "BC.fit(x_train,y_train)\n",
        "print(BC.score(x_train,y_train))\n",
        "print(BC.score(x_test,y_test))\n",
        "y_pred2 = BC.predict(x_test)"
      ],
      "execution_count": 0,
      "outputs": [
        {
          "output_type": "stream",
          "text": [
            "0.9286764705882353\n",
            "0.6488235294117647\n"
          ],
          "name": "stdout"
        }
      ]
    },
    {
      "cell_type": "code",
      "metadata": {
        "id": "eXBhfPx170rs",
        "colab_type": "code",
        "outputId": "a2b1a647-cd69-4aa6-b31c-5fb16d15425a",
        "colab": {
          "base_uri": "https://localhost:8080/",
          "height": 52
        }
      },
      "source": [
        "from sklearn.ensemble import AdaBoostClassifier\n",
        "ABC = AdaBoostClassifier()\n",
        "ABC.fit(x_train,y_train)\n",
        "print(ABC.score(x_train,y_train))\n",
        "print(ABC.score(x_test,y_test))\n",
        "y_pred2 = ABC.predict(x_test)"
      ],
      "execution_count": 0,
      "outputs": [
        {
          "output_type": "stream",
          "text": [
            "0.5129411764705882\n",
            "0.5370588235294118\n"
          ],
          "name": "stdout"
        }
      ]
    },
    {
      "cell_type": "code",
      "metadata": {
        "id": "Ar65nViD8FSF",
        "colab_type": "code",
        "colab": {}
      },
      "source": [
        "from sklearn.feature_extraction.text import TfidfVectorizer\n",
        "tfd = TfidfVectorizer()"
      ],
      "execution_count": 0,
      "outputs": []
    },
    {
      "cell_type": "code",
      "metadata": {
        "id": "gwUUUOJi8TUj",
        "colab_type": "code",
        "colab": {}
      },
      "source": [
        "x1 = tfd.fit_transform(df2['Description'])\n",
        "y1 = df2['Assignment group']"
      ],
      "execution_count": 0,
      "outputs": []
    },
    {
      "cell_type": "code",
      "metadata": {
        "id": "nz5MdHF391kk",
        "colab_type": "code",
        "colab": {}
      },
      "source": [
        "from sklearn.model_selection import train_test_split\n",
        "x1_train, x1_test, y1_train, y1_test = train_test_split(x1, y1, test_size = 0.2, random_state = 0)"
      ],
      "execution_count": 0,
      "outputs": []
    },
    {
      "cell_type": "code",
      "metadata": {
        "id": "W-Lncx9T98ub",
        "colab_type": "code",
        "outputId": "f2cd1c77-d682-4b7c-e232-af27a5340929",
        "colab": {
          "base_uri": "https://localhost:8080/",
          "height": 52
        }
      },
      "source": [
        "model1 = MultinomialNB()\n",
        "model1.fit(x1_train, y1_train)\n",
        "print(model1.score(x1_train,y1_train))\n",
        "print(model1.score(x1_test,y1_test))\n",
        "y_pred = model1.predict(x1_test)"
      ],
      "execution_count": 0,
      "outputs": [
        {
          "output_type": "stream",
          "text": [
            "0.5614705882352942\n",
            "0.5794117647058824\n"
          ],
          "name": "stdout"
        }
      ]
    },
    {
      "cell_type": "code",
      "metadata": {
        "id": "RDvSQzx2-TUx",
        "colab_type": "code",
        "outputId": "2682a7be-6999-4567-fd5b-c8442c189818",
        "colab": {
          "base_uri": "https://localhost:8080/",
          "height": 52
        }
      },
      "source": [
        "from sklearn.ensemble import RandomForestClassifier\n",
        "RF = RandomForestClassifier()\n",
        "RF.fit(x1_train,y1_train)\n",
        "print(RF.score(x1_train,y1_train))\n",
        "print(RF.score(x1_test,y1_test))\n",
        "y_pred2 = RF.predict(x1_test)"
      ],
      "execution_count": 0,
      "outputs": [
        {
          "output_type": "stream",
          "text": [
            "0.9523529411764706\n",
            "0.6623529411764706\n"
          ],
          "name": "stdout"
        }
      ]
    },
    {
      "cell_type": "code",
      "metadata": {
        "id": "mvGK5g2l-WJE",
        "colab_type": "code",
        "outputId": "8b1de7aa-ed86-4341-ee83-30183d91111d",
        "colab": {
          "base_uri": "https://localhost:8080/",
          "height": 52
        }
      },
      "source": [
        "from sklearn.tree import DecisionTreeClassifier\n",
        "DT = DecisionTreeClassifier()\n",
        "DT.fit(x1_train,y1_train)\n",
        "print(DT.score(x1_train,y1_train))\n",
        "print(DT.score(x1_test,y1_test))\n",
        "y_pred2 = DT.predict(x1_test)"
      ],
      "execution_count": 0,
      "outputs": [
        {
          "output_type": "stream",
          "text": [
            "0.9523529411764706\n",
            "0.5970588235294118\n"
          ],
          "name": "stdout"
        }
      ]
    },
    {
      "cell_type": "code",
      "metadata": {
        "id": "928xOb2V__iN",
        "colab_type": "code",
        "colab": {}
      },
      "source": [
        ""
      ],
      "execution_count": 0,
      "outputs": []
    }
  ]
}